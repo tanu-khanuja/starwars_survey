{
 "cells": [
  {
   "cell_type": "markdown",
   "metadata": {},
   "source": [
    "# Starwars movie analysis\n",
    "- This project focuses on data cleaning, so that we have a dataset ready for further analysis.\n",
    "- The data is explored from FiveThirtyEight's Starwars survey data.\n",
    "- The data is in csv file, let's explore and clean our data."
   ]
  },
  {
   "cell_type": "markdown",
   "metadata": {},
   "source": [
    "## Data Cleaning"
   ]
  },
  {
   "cell_type": "code",
   "execution_count": 1,
   "metadata": {},
   "outputs": [],
   "source": [
    "# Read csv\n",
    "import pandas as pd\n",
    "star_wars = pd.read_csv('StarWars.csv', encoding='ISO-8859-1')  # file not encoded in UTF-8, \n",
    "                                                                # which is the default encoding for pd.read_csv() in pandas"
   ]
  },
  {
   "cell_type": "code",
   "execution_count": 2,
   "metadata": {
    "scrolled": true
   },
   "outputs": [
    {
     "data": {
      "text/html": [
       "<div>\n",
       "<style scoped>\n",
       "    .dataframe tbody tr th:only-of-type {\n",
       "        vertical-align: middle;\n",
       "    }\n",
       "\n",
       "    .dataframe tbody tr th {\n",
       "        vertical-align: top;\n",
       "    }\n",
       "\n",
       "    .dataframe thead th {\n",
       "        text-align: right;\n",
       "    }\n",
       "</style>\n",
       "<table border=\"1\" class=\"dataframe\">\n",
       "  <thead>\n",
       "    <tr style=\"text-align: right;\">\n",
       "      <th></th>\n",
       "      <th>RespondentID</th>\n",
       "      <th>Have you seen any of the 6 films in the Star Wars franchise?</th>\n",
       "      <th>Do you consider yourself to be a fan of the Star Wars film franchise?</th>\n",
       "      <th>Which of the following Star Wars films have you seen? Please select all that apply.</th>\n",
       "      <th>Unnamed: 4</th>\n",
       "      <th>Unnamed: 5</th>\n",
       "      <th>Unnamed: 6</th>\n",
       "      <th>Unnamed: 7</th>\n",
       "      <th>Unnamed: 8</th>\n",
       "      <th>Please rank the Star Wars films in order of preference with 1 being your favorite film in the franchise and 6 being your least favorite film.</th>\n",
       "      <th>...</th>\n",
       "      <th>Unnamed: 28</th>\n",
       "      <th>Which character shot first?</th>\n",
       "      <th>Are you familiar with the Expanded Universe?</th>\n",
       "      <th>Do you consider yourself to be a fan of the Expanded Universe?æ</th>\n",
       "      <th>Do you consider yourself to be a fan of the Star Trek franchise?</th>\n",
       "      <th>Gender</th>\n",
       "      <th>Age</th>\n",
       "      <th>Household Income</th>\n",
       "      <th>Education</th>\n",
       "      <th>Location (Census Region)</th>\n",
       "    </tr>\n",
       "  </thead>\n",
       "  <tbody>\n",
       "    <tr>\n",
       "      <th>0</th>\n",
       "      <td>NaN</td>\n",
       "      <td>Response</td>\n",
       "      <td>Response</td>\n",
       "      <td>Star Wars: Episode I  The Phantom Menace</td>\n",
       "      <td>Star Wars: Episode II  Attack of the Clones</td>\n",
       "      <td>Star Wars: Episode III  Revenge of the Sith</td>\n",
       "      <td>Star Wars: Episode IV  A New Hope</td>\n",
       "      <td>Star Wars: Episode V The Empire Strikes Back</td>\n",
       "      <td>Star Wars: Episode VI Return of the Jedi</td>\n",
       "      <td>Star Wars: Episode I  The Phantom Menace</td>\n",
       "      <td>...</td>\n",
       "      <td>Yoda</td>\n",
       "      <td>Response</td>\n",
       "      <td>Response</td>\n",
       "      <td>Response</td>\n",
       "      <td>Response</td>\n",
       "      <td>Response</td>\n",
       "      <td>Response</td>\n",
       "      <td>Response</td>\n",
       "      <td>Response</td>\n",
       "      <td>Response</td>\n",
       "    </tr>\n",
       "    <tr>\n",
       "      <th>1</th>\n",
       "      <td>3.292880e+09</td>\n",
       "      <td>Yes</td>\n",
       "      <td>Yes</td>\n",
       "      <td>Star Wars: Episode I  The Phantom Menace</td>\n",
       "      <td>Star Wars: Episode II  Attack of the Clones</td>\n",
       "      <td>Star Wars: Episode III  Revenge of the Sith</td>\n",
       "      <td>Star Wars: Episode IV  A New Hope</td>\n",
       "      <td>Star Wars: Episode V The Empire Strikes Back</td>\n",
       "      <td>Star Wars: Episode VI Return of the Jedi</td>\n",
       "      <td>3</td>\n",
       "      <td>...</td>\n",
       "      <td>Very favorably</td>\n",
       "      <td>I don't understand this question</td>\n",
       "      <td>Yes</td>\n",
       "      <td>No</td>\n",
       "      <td>No</td>\n",
       "      <td>Male</td>\n",
       "      <td>18-29</td>\n",
       "      <td>NaN</td>\n",
       "      <td>High school degree</td>\n",
       "      <td>South Atlantic</td>\n",
       "    </tr>\n",
       "    <tr>\n",
       "      <th>2</th>\n",
       "      <td>3.292880e+09</td>\n",
       "      <td>No</td>\n",
       "      <td>NaN</td>\n",
       "      <td>NaN</td>\n",
       "      <td>NaN</td>\n",
       "      <td>NaN</td>\n",
       "      <td>NaN</td>\n",
       "      <td>NaN</td>\n",
       "      <td>NaN</td>\n",
       "      <td>NaN</td>\n",
       "      <td>...</td>\n",
       "      <td>NaN</td>\n",
       "      <td>NaN</td>\n",
       "      <td>NaN</td>\n",
       "      <td>NaN</td>\n",
       "      <td>Yes</td>\n",
       "      <td>Male</td>\n",
       "      <td>18-29</td>\n",
       "      <td>$0 - $24,999</td>\n",
       "      <td>Bachelor degree</td>\n",
       "      <td>West South Central</td>\n",
       "    </tr>\n",
       "    <tr>\n",
       "      <th>3</th>\n",
       "      <td>3.292765e+09</td>\n",
       "      <td>Yes</td>\n",
       "      <td>No</td>\n",
       "      <td>Star Wars: Episode I  The Phantom Menace</td>\n",
       "      <td>Star Wars: Episode II  Attack of the Clones</td>\n",
       "      <td>Star Wars: Episode III  Revenge of the Sith</td>\n",
       "      <td>NaN</td>\n",
       "      <td>NaN</td>\n",
       "      <td>NaN</td>\n",
       "      <td>1</td>\n",
       "      <td>...</td>\n",
       "      <td>Unfamiliar (N/A)</td>\n",
       "      <td>I don't understand this question</td>\n",
       "      <td>No</td>\n",
       "      <td>NaN</td>\n",
       "      <td>No</td>\n",
       "      <td>Male</td>\n",
       "      <td>18-29</td>\n",
       "      <td>$0 - $24,999</td>\n",
       "      <td>High school degree</td>\n",
       "      <td>West North Central</td>\n",
       "    </tr>\n",
       "  </tbody>\n",
       "</table>\n",
       "<p>4 rows × 38 columns</p>\n",
       "</div>"
      ],
      "text/plain": [
       "   RespondentID Have you seen any of the 6 films in the Star Wars franchise?  \\\n",
       "0           NaN                                           Response             \n",
       "1  3.292880e+09                                                Yes             \n",
       "2  3.292880e+09                                                 No             \n",
       "3  3.292765e+09                                                Yes             \n",
       "\n",
       "  Do you consider yourself to be a fan of the Star Wars film franchise?  \\\n",
       "0                                           Response                      \n",
       "1                                                Yes                      \n",
       "2                                                NaN                      \n",
       "3                                                 No                      \n",
       "\n",
       "  Which of the following Star Wars films have you seen? Please select all that apply.  \\\n",
       "0           Star Wars: Episode I  The Phantom Menace                                    \n",
       "1           Star Wars: Episode I  The Phantom Menace                                    \n",
       "2                                                NaN                                    \n",
       "3           Star Wars: Episode I  The Phantom Menace                                    \n",
       "\n",
       "                                    Unnamed: 4  \\\n",
       "0  Star Wars: Episode II  Attack of the Clones   \n",
       "1  Star Wars: Episode II  Attack of the Clones   \n",
       "2                                          NaN   \n",
       "3  Star Wars: Episode II  Attack of the Clones   \n",
       "\n",
       "                                    Unnamed: 5  \\\n",
       "0  Star Wars: Episode III  Revenge of the Sith   \n",
       "1  Star Wars: Episode III  Revenge of the Sith   \n",
       "2                                          NaN   \n",
       "3  Star Wars: Episode III  Revenge of the Sith   \n",
       "\n",
       "                          Unnamed: 6  \\\n",
       "0  Star Wars: Episode IV  A New Hope   \n",
       "1  Star Wars: Episode IV  A New Hope   \n",
       "2                                NaN   \n",
       "3                                NaN   \n",
       "\n",
       "                                     Unnamed: 7  \\\n",
       "0  Star Wars: Episode V The Empire Strikes Back   \n",
       "1  Star Wars: Episode V The Empire Strikes Back   \n",
       "2                                           NaN   \n",
       "3                                           NaN   \n",
       "\n",
       "                                 Unnamed: 8  \\\n",
       "0  Star Wars: Episode VI Return of the Jedi   \n",
       "1  Star Wars: Episode VI Return of the Jedi   \n",
       "2                                       NaN   \n",
       "3                                       NaN   \n",
       "\n",
       "  Please rank the Star Wars films in order of preference with 1 being your favorite film in the franchise and 6 being your least favorite film.  \\\n",
       "0           Star Wars: Episode I  The Phantom Menace                                                                                              \n",
       "1                                                  3                                                                                              \n",
       "2                                                NaN                                                                                              \n",
       "3                                                  1                                                                                              \n",
       "\n",
       "   ...       Unnamed: 28       Which character shot first?  \\\n",
       "0  ...              Yoda                          Response   \n",
       "1  ...    Very favorably  I don't understand this question   \n",
       "2  ...               NaN                               NaN   \n",
       "3  ...  Unfamiliar (N/A)  I don't understand this question   \n",
       "\n",
       "  Are you familiar with the Expanded Universe?  \\\n",
       "0                                     Response   \n",
       "1                                          Yes   \n",
       "2                                          NaN   \n",
       "3                                           No   \n",
       "\n",
       "  Do you consider yourself to be a fan of the Expanded Universe?æ  \\\n",
       "0                                           Response                 \n",
       "1                                                 No                 \n",
       "2                                                NaN                 \n",
       "3                                                NaN                 \n",
       "\n",
       "  Do you consider yourself to be a fan of the Star Trek franchise?    Gender  \\\n",
       "0                                           Response                Response   \n",
       "1                                                 No                    Male   \n",
       "2                                                Yes                    Male   \n",
       "3                                                 No                    Male   \n",
       "\n",
       "        Age Household Income           Education Location (Census Region)  \n",
       "0  Response         Response            Response                 Response  \n",
       "1     18-29              NaN  High school degree           South Atlantic  \n",
       "2     18-29     $0 - $24,999     Bachelor degree       West South Central  \n",
       "3     18-29     $0 - $24,999  High school degree       West North Central  \n",
       "\n",
       "[4 rows x 38 columns]"
      ]
     },
     "execution_count": 2,
     "metadata": {},
     "output_type": "execute_result"
    }
   ],
   "source": [
    "star_wars.head(4)"
   ]
  },
  {
   "cell_type": "code",
   "execution_count": 3,
   "metadata": {},
   "outputs": [
    {
     "name": "stdout",
     "output_type": "stream",
     "text": [
      "<class 'pandas.core.frame.DataFrame'>\n",
      "RangeIndex: 1187 entries, 0 to 1186\n",
      "Data columns (total 38 columns):\n",
      " #   Column                                                                                                                                         Non-Null Count  Dtype  \n",
      "---  ------                                                                                                                                         --------------  -----  \n",
      " 0   RespondentID                                                                                                                                   1186 non-null   float64\n",
      " 1   Have you seen any of the 6 films in the Star Wars franchise?                                                                                   1187 non-null   object \n",
      " 2   Do you consider yourself to be a fan of the Star Wars film franchise?                                                                          837 non-null    object \n",
      " 3   Which of the following Star Wars films have you seen? Please select all that apply.                                                            674 non-null    object \n",
      " 4   Unnamed: 4                                                                                                                                     572 non-null    object \n",
      " 5   Unnamed: 5                                                                                                                                     551 non-null    object \n",
      " 6   Unnamed: 6                                                                                                                                     608 non-null    object \n",
      " 7   Unnamed: 7                                                                                                                                     759 non-null    object \n",
      " 8   Unnamed: 8                                                                                                                                     739 non-null    object \n",
      " 9   Please rank the Star Wars films in order of preference with 1 being your favorite film in the franchise and 6 being your least favorite film.  836 non-null    object \n",
      " 10  Unnamed: 10                                                                                                                                    837 non-null    object \n",
      " 11  Unnamed: 11                                                                                                                                    836 non-null    object \n",
      " 12  Unnamed: 12                                                                                                                                    837 non-null    object \n",
      " 13  Unnamed: 13                                                                                                                                    837 non-null    object \n",
      " 14  Unnamed: 14                                                                                                                                    837 non-null    object \n",
      " 15  Please state whether you view the following characters favorably, unfavorably, or are unfamiliar with him/her.                                 830 non-null    object \n",
      " 16  Unnamed: 16                                                                                                                                    832 non-null    object \n",
      " 17  Unnamed: 17                                                                                                                                    832 non-null    object \n",
      " 18  Unnamed: 18                                                                                                                                    824 non-null    object \n",
      " 19  Unnamed: 19                                                                                                                                    826 non-null    object \n",
      " 20  Unnamed: 20                                                                                                                                    815 non-null    object \n",
      " 21  Unnamed: 21                                                                                                                                    827 non-null    object \n",
      " 22  Unnamed: 22                                                                                                                                    821 non-null    object \n",
      " 23  Unnamed: 23                                                                                                                                    813 non-null    object \n",
      " 24  Unnamed: 24                                                                                                                                    828 non-null    object \n",
      " 25  Unnamed: 25                                                                                                                                    831 non-null    object \n",
      " 26  Unnamed: 26                                                                                                                                    822 non-null    object \n",
      " 27  Unnamed: 27                                                                                                                                    815 non-null    object \n",
      " 28  Unnamed: 28                                                                                                                                    827 non-null    object \n",
      " 29  Which character shot first?                                                                                                                    829 non-null    object \n",
      " 30  Are you familiar with the Expanded Universe?                                                                                                   829 non-null    object \n",
      " 31  Do you consider yourself to be a fan of the Expanded Universe?æ                                                                               214 non-null    object \n",
      " 32  Do you consider yourself to be a fan of the Star Trek franchise?                                                                               1069 non-null   object \n",
      " 33  Gender                                                                                                                                         1047 non-null   object \n",
      " 34  Age                                                                                                                                            1047 non-null   object \n",
      " 35  Household Income                                                                                                                               859 non-null    object \n",
      " 36  Education                                                                                                                                      1037 non-null   object \n",
      " 37  Location (Census Region)                                                                                                                       1044 non-null   object \n",
      "dtypes: float64(1), object(37)\n",
      "memory usage: 352.5+ KB\n"
     ]
    }
   ],
   "source": [
    "star_wars.info()"
   ]
  },
  {
   "cell_type": "code",
   "execution_count": 4,
   "metadata": {},
   "outputs": [
    {
     "data": {
      "text/html": [
       "<div>\n",
       "<style scoped>\n",
       "    .dataframe tbody tr th:only-of-type {\n",
       "        vertical-align: middle;\n",
       "    }\n",
       "\n",
       "    .dataframe tbody tr th {\n",
       "        vertical-align: top;\n",
       "    }\n",
       "\n",
       "    .dataframe thead th {\n",
       "        text-align: right;\n",
       "    }\n",
       "</style>\n",
       "<table border=\"1\" class=\"dataframe\">\n",
       "  <thead>\n",
       "    <tr style=\"text-align: right;\">\n",
       "      <th></th>\n",
       "      <th>index</th>\n",
       "      <th>RespondentID</th>\n",
       "      <th>Have you seen any of the 6 films in the Star Wars franchise?</th>\n",
       "      <th>Do you consider yourself to be a fan of the Star Wars film franchise?</th>\n",
       "      <th>Which of the following Star Wars films have you seen? Please select all that apply.</th>\n",
       "      <th>Unnamed: 4</th>\n",
       "      <th>Unnamed: 5</th>\n",
       "      <th>Unnamed: 6</th>\n",
       "      <th>Unnamed: 7</th>\n",
       "      <th>Unnamed: 8</th>\n",
       "      <th>...</th>\n",
       "      <th>Unnamed: 28</th>\n",
       "      <th>Which character shot first?</th>\n",
       "      <th>Are you familiar with the Expanded Universe?</th>\n",
       "      <th>Do you consider yourself to be a fan of the Expanded Universe?æ</th>\n",
       "      <th>Do you consider yourself to be a fan of the Star Trek franchise?</th>\n",
       "      <th>Gender</th>\n",
       "      <th>Age</th>\n",
       "      <th>Household Income</th>\n",
       "      <th>Education</th>\n",
       "      <th>Location (Census Region)</th>\n",
       "    </tr>\n",
       "  </thead>\n",
       "  <tbody>\n",
       "    <tr>\n",
       "      <th>0</th>\n",
       "      <td>0</td>\n",
       "      <td>NaN</td>\n",
       "      <td>Response</td>\n",
       "      <td>Response</td>\n",
       "      <td>Star Wars: Episode I  The Phantom Menace</td>\n",
       "      <td>Star Wars: Episode II  Attack of the Clones</td>\n",
       "      <td>Star Wars: Episode III  Revenge of the Sith</td>\n",
       "      <td>Star Wars: Episode IV  A New Hope</td>\n",
       "      <td>Star Wars: Episode V The Empire Strikes Back</td>\n",
       "      <td>Star Wars: Episode VI Return of the Jedi</td>\n",
       "      <td>...</td>\n",
       "      <td>Yoda</td>\n",
       "      <td>Response</td>\n",
       "      <td>Response</td>\n",
       "      <td>Response</td>\n",
       "      <td>Response</td>\n",
       "      <td>Response</td>\n",
       "      <td>Response</td>\n",
       "      <td>Response</td>\n",
       "      <td>Response</td>\n",
       "      <td>Response</td>\n",
       "    </tr>\n",
       "    <tr>\n",
       "      <th>1</th>\n",
       "      <td>1</td>\n",
       "      <td>3.292880e+09</td>\n",
       "      <td>Yes</td>\n",
       "      <td>Yes</td>\n",
       "      <td>Star Wars: Episode I  The Phantom Menace</td>\n",
       "      <td>Star Wars: Episode II  Attack of the Clones</td>\n",
       "      <td>Star Wars: Episode III  Revenge of the Sith</td>\n",
       "      <td>Star Wars: Episode IV  A New Hope</td>\n",
       "      <td>Star Wars: Episode V The Empire Strikes Back</td>\n",
       "      <td>Star Wars: Episode VI Return of the Jedi</td>\n",
       "      <td>...</td>\n",
       "      <td>Very favorably</td>\n",
       "      <td>I don't understand this question</td>\n",
       "      <td>Yes</td>\n",
       "      <td>No</td>\n",
       "      <td>No</td>\n",
       "      <td>Male</td>\n",
       "      <td>18-29</td>\n",
       "      <td>NaN</td>\n",
       "      <td>High school degree</td>\n",
       "      <td>South Atlantic</td>\n",
       "    </tr>\n",
       "    <tr>\n",
       "      <th>2</th>\n",
       "      <td>2</td>\n",
       "      <td>3.292880e+09</td>\n",
       "      <td>No</td>\n",
       "      <td>NaN</td>\n",
       "      <td>NaN</td>\n",
       "      <td>NaN</td>\n",
       "      <td>NaN</td>\n",
       "      <td>NaN</td>\n",
       "      <td>NaN</td>\n",
       "      <td>NaN</td>\n",
       "      <td>...</td>\n",
       "      <td>NaN</td>\n",
       "      <td>NaN</td>\n",
       "      <td>NaN</td>\n",
       "      <td>NaN</td>\n",
       "      <td>Yes</td>\n",
       "      <td>Male</td>\n",
       "      <td>18-29</td>\n",
       "      <td>$0 - $24,999</td>\n",
       "      <td>Bachelor degree</td>\n",
       "      <td>West South Central</td>\n",
       "    </tr>\n",
       "  </tbody>\n",
       "</table>\n",
       "<p>3 rows × 39 columns</p>\n",
       "</div>"
      ],
      "text/plain": [
       "   index  RespondentID  \\\n",
       "0      0           NaN   \n",
       "1      1  3.292880e+09   \n",
       "2      2  3.292880e+09   \n",
       "\n",
       "  Have you seen any of the 6 films in the Star Wars franchise?  \\\n",
       "0                                           Response             \n",
       "1                                                Yes             \n",
       "2                                                 No             \n",
       "\n",
       "  Do you consider yourself to be a fan of the Star Wars film franchise?  \\\n",
       "0                                           Response                      \n",
       "1                                                Yes                      \n",
       "2                                                NaN                      \n",
       "\n",
       "  Which of the following Star Wars films have you seen? Please select all that apply.  \\\n",
       "0           Star Wars: Episode I  The Phantom Menace                                    \n",
       "1           Star Wars: Episode I  The Phantom Menace                                    \n",
       "2                                                NaN                                    \n",
       "\n",
       "                                    Unnamed: 4  \\\n",
       "0  Star Wars: Episode II  Attack of the Clones   \n",
       "1  Star Wars: Episode II  Attack of the Clones   \n",
       "2                                          NaN   \n",
       "\n",
       "                                    Unnamed: 5  \\\n",
       "0  Star Wars: Episode III  Revenge of the Sith   \n",
       "1  Star Wars: Episode III  Revenge of the Sith   \n",
       "2                                          NaN   \n",
       "\n",
       "                          Unnamed: 6  \\\n",
       "0  Star Wars: Episode IV  A New Hope   \n",
       "1  Star Wars: Episode IV  A New Hope   \n",
       "2                                NaN   \n",
       "\n",
       "                                     Unnamed: 7  \\\n",
       "0  Star Wars: Episode V The Empire Strikes Back   \n",
       "1  Star Wars: Episode V The Empire Strikes Back   \n",
       "2                                           NaN   \n",
       "\n",
       "                                 Unnamed: 8  ...     Unnamed: 28  \\\n",
       "0  Star Wars: Episode VI Return of the Jedi  ...            Yoda   \n",
       "1  Star Wars: Episode VI Return of the Jedi  ...  Very favorably   \n",
       "2                                       NaN  ...             NaN   \n",
       "\n",
       "        Which character shot first?  \\\n",
       "0                          Response   \n",
       "1  I don't understand this question   \n",
       "2                               NaN   \n",
       "\n",
       "  Are you familiar with the Expanded Universe?  \\\n",
       "0                                     Response   \n",
       "1                                          Yes   \n",
       "2                                          NaN   \n",
       "\n",
       "  Do you consider yourself to be a fan of the Expanded Universe?æ  \\\n",
       "0                                           Response                 \n",
       "1                                                 No                 \n",
       "2                                                NaN                 \n",
       "\n",
       "  Do you consider yourself to be a fan of the Star Trek franchise?    Gender  \\\n",
       "0                                           Response                Response   \n",
       "1                                                 No                    Male   \n",
       "2                                                Yes                    Male   \n",
       "\n",
       "        Age Household Income           Education Location (Census Region)  \n",
       "0  Response         Response            Response                 Response  \n",
       "1     18-29              NaN  High school degree           South Atlantic  \n",
       "2     18-29     $0 - $24,999     Bachelor degree       West South Central  \n",
       "\n",
       "[3 rows x 39 columns]"
      ]
     },
     "execution_count": 4,
     "metadata": {},
     "output_type": "execute_result"
    }
   ],
   "source": [
    "star_wars.reset_index().head(3)"
   ]
  },
  {
   "cell_type": "markdown",
   "metadata": {},
   "source": [
    "- We can see that 0th row has subtitles of first row, and respondent data is actually starting from row 1.\n",
    "- We will copy this subtitles for unnamed column names, and drop 0th row.\n",
    "- Abd reset index again with 0th row as first respondent's response."
   ]
  },
  {
   "cell_type": "code",
   "execution_count": 5,
   "metadata": {},
   "outputs": [
    {
     "data": {
      "text/html": [
       "<div>\n",
       "<style scoped>\n",
       "    .dataframe tbody tr th:only-of-type {\n",
       "        vertical-align: middle;\n",
       "    }\n",
       "\n",
       "    .dataframe tbody tr th {\n",
       "        vertical-align: top;\n",
       "    }\n",
       "\n",
       "    .dataframe thead th {\n",
       "        text-align: right;\n",
       "    }\n",
       "</style>\n",
       "<table border=\"1\" class=\"dataframe\">\n",
       "  <thead>\n",
       "    <tr style=\"text-align: right;\">\n",
       "      <th></th>\n",
       "      <th>index</th>\n",
       "      <th>0</th>\n",
       "    </tr>\n",
       "  </thead>\n",
       "  <tbody>\n",
       "    <tr>\n",
       "      <th>0</th>\n",
       "      <td>RespondentID</td>\n",
       "      <td>NaN</td>\n",
       "    </tr>\n",
       "    <tr>\n",
       "      <th>1</th>\n",
       "      <td>Have you seen any of the 6 films in the Star W...</td>\n",
       "      <td>Response</td>\n",
       "    </tr>\n",
       "    <tr>\n",
       "      <th>2</th>\n",
       "      <td>Do you consider yourself to be a fan of the St...</td>\n",
       "      <td>Response</td>\n",
       "    </tr>\n",
       "    <tr>\n",
       "      <th>3</th>\n",
       "      <td>Which of the following Star Wars films have yo...</td>\n",
       "      <td>Star Wars: Episode I  The Phantom Menace</td>\n",
       "    </tr>\n",
       "    <tr>\n",
       "      <th>4</th>\n",
       "      <td>Unnamed: 4</td>\n",
       "      <td>Star Wars: Episode II  Attack of the Clones</td>\n",
       "    </tr>\n",
       "    <tr>\n",
       "      <th>5</th>\n",
       "      <td>Unnamed: 5</td>\n",
       "      <td>Star Wars: Episode III  Revenge of the Sith</td>\n",
       "    </tr>\n",
       "    <tr>\n",
       "      <th>6</th>\n",
       "      <td>Unnamed: 6</td>\n",
       "      <td>Star Wars: Episode IV  A New Hope</td>\n",
       "    </tr>\n",
       "    <tr>\n",
       "      <th>7</th>\n",
       "      <td>Unnamed: 7</td>\n",
       "      <td>Star Wars: Episode V The Empire Strikes Back</td>\n",
       "    </tr>\n",
       "    <tr>\n",
       "      <th>8</th>\n",
       "      <td>Unnamed: 8</td>\n",
       "      <td>Star Wars: Episode VI Return of the Jedi</td>\n",
       "    </tr>\n",
       "    <tr>\n",
       "      <th>9</th>\n",
       "      <td>Please rank the Star Wars films in order of pr...</td>\n",
       "      <td>Star Wars: Episode I  The Phantom Menace</td>\n",
       "    </tr>\n",
       "    <tr>\n",
       "      <th>10</th>\n",
       "      <td>Unnamed: 10</td>\n",
       "      <td>Star Wars: Episode II  Attack of the Clones</td>\n",
       "    </tr>\n",
       "    <tr>\n",
       "      <th>11</th>\n",
       "      <td>Unnamed: 11</td>\n",
       "      <td>Star Wars: Episode III  Revenge of the Sith</td>\n",
       "    </tr>\n",
       "    <tr>\n",
       "      <th>12</th>\n",
       "      <td>Unnamed: 12</td>\n",
       "      <td>Star Wars: Episode IV  A New Hope</td>\n",
       "    </tr>\n",
       "    <tr>\n",
       "      <th>13</th>\n",
       "      <td>Unnamed: 13</td>\n",
       "      <td>Star Wars: Episode V The Empire Strikes Back</td>\n",
       "    </tr>\n",
       "    <tr>\n",
       "      <th>14</th>\n",
       "      <td>Unnamed: 14</td>\n",
       "      <td>Star Wars: Episode VI Return of the Jedi</td>\n",
       "    </tr>\n",
       "    <tr>\n",
       "      <th>15</th>\n",
       "      <td>Please state whether you view the following ch...</td>\n",
       "      <td>Han Solo</td>\n",
       "    </tr>\n",
       "    <tr>\n",
       "      <th>16</th>\n",
       "      <td>Unnamed: 16</td>\n",
       "      <td>Luke Skywalker</td>\n",
       "    </tr>\n",
       "    <tr>\n",
       "      <th>17</th>\n",
       "      <td>Unnamed: 17</td>\n",
       "      <td>Princess Leia Organa</td>\n",
       "    </tr>\n",
       "    <tr>\n",
       "      <th>18</th>\n",
       "      <td>Unnamed: 18</td>\n",
       "      <td>Anakin Skywalker</td>\n",
       "    </tr>\n",
       "    <tr>\n",
       "      <th>19</th>\n",
       "      <td>Unnamed: 19</td>\n",
       "      <td>Obi Wan Kenobi</td>\n",
       "    </tr>\n",
       "    <tr>\n",
       "      <th>20</th>\n",
       "      <td>Unnamed: 20</td>\n",
       "      <td>Emperor Palpatine</td>\n",
       "    </tr>\n",
       "    <tr>\n",
       "      <th>21</th>\n",
       "      <td>Unnamed: 21</td>\n",
       "      <td>Darth Vader</td>\n",
       "    </tr>\n",
       "    <tr>\n",
       "      <th>22</th>\n",
       "      <td>Unnamed: 22</td>\n",
       "      <td>Lando Calrissian</td>\n",
       "    </tr>\n",
       "    <tr>\n",
       "      <th>23</th>\n",
       "      <td>Unnamed: 23</td>\n",
       "      <td>Boba Fett</td>\n",
       "    </tr>\n",
       "    <tr>\n",
       "      <th>24</th>\n",
       "      <td>Unnamed: 24</td>\n",
       "      <td>C-3P0</td>\n",
       "    </tr>\n",
       "    <tr>\n",
       "      <th>25</th>\n",
       "      <td>Unnamed: 25</td>\n",
       "      <td>R2 D2</td>\n",
       "    </tr>\n",
       "    <tr>\n",
       "      <th>26</th>\n",
       "      <td>Unnamed: 26</td>\n",
       "      <td>Jar Jar Binks</td>\n",
       "    </tr>\n",
       "    <tr>\n",
       "      <th>27</th>\n",
       "      <td>Unnamed: 27</td>\n",
       "      <td>Padme Amidala</td>\n",
       "    </tr>\n",
       "    <tr>\n",
       "      <th>28</th>\n",
       "      <td>Unnamed: 28</td>\n",
       "      <td>Yoda</td>\n",
       "    </tr>\n",
       "    <tr>\n",
       "      <th>29</th>\n",
       "      <td>Which character shot first?</td>\n",
       "      <td>Response</td>\n",
       "    </tr>\n",
       "    <tr>\n",
       "      <th>30</th>\n",
       "      <td>Are you familiar with the Expanded Universe?</td>\n",
       "      <td>Response</td>\n",
       "    </tr>\n",
       "    <tr>\n",
       "      <th>31</th>\n",
       "      <td>Do you consider yourself to be a fan of the Ex...</td>\n",
       "      <td>Response</td>\n",
       "    </tr>\n",
       "    <tr>\n",
       "      <th>32</th>\n",
       "      <td>Do you consider yourself to be a fan of the St...</td>\n",
       "      <td>Response</td>\n",
       "    </tr>\n",
       "    <tr>\n",
       "      <th>33</th>\n",
       "      <td>Gender</td>\n",
       "      <td>Response</td>\n",
       "    </tr>\n",
       "    <tr>\n",
       "      <th>34</th>\n",
       "      <td>Age</td>\n",
       "      <td>Response</td>\n",
       "    </tr>\n",
       "    <tr>\n",
       "      <th>35</th>\n",
       "      <td>Household Income</td>\n",
       "      <td>Response</td>\n",
       "    </tr>\n",
       "    <tr>\n",
       "      <th>36</th>\n",
       "      <td>Education</td>\n",
       "      <td>Response</td>\n",
       "    </tr>\n",
       "    <tr>\n",
       "      <th>37</th>\n",
       "      <td>Location (Census Region)</td>\n",
       "      <td>Response</td>\n",
       "    </tr>\n",
       "  </tbody>\n",
       "</table>\n",
       "</div>"
      ],
      "text/plain": [
       "                                                index  \\\n",
       "0                                        RespondentID   \n",
       "1   Have you seen any of the 6 films in the Star W...   \n",
       "2   Do you consider yourself to be a fan of the St...   \n",
       "3   Which of the following Star Wars films have yo...   \n",
       "4                                          Unnamed: 4   \n",
       "5                                          Unnamed: 5   \n",
       "6                                          Unnamed: 6   \n",
       "7                                          Unnamed: 7   \n",
       "8                                          Unnamed: 8   \n",
       "9   Please rank the Star Wars films in order of pr...   \n",
       "10                                        Unnamed: 10   \n",
       "11                                        Unnamed: 11   \n",
       "12                                        Unnamed: 12   \n",
       "13                                        Unnamed: 13   \n",
       "14                                        Unnamed: 14   \n",
       "15  Please state whether you view the following ch...   \n",
       "16                                        Unnamed: 16   \n",
       "17                                        Unnamed: 17   \n",
       "18                                        Unnamed: 18   \n",
       "19                                        Unnamed: 19   \n",
       "20                                        Unnamed: 20   \n",
       "21                                        Unnamed: 21   \n",
       "22                                        Unnamed: 22   \n",
       "23                                        Unnamed: 23   \n",
       "24                                        Unnamed: 24   \n",
       "25                                        Unnamed: 25   \n",
       "26                                        Unnamed: 26   \n",
       "27                                        Unnamed: 27   \n",
       "28                                        Unnamed: 28   \n",
       "29                        Which character shot first?   \n",
       "30       Are you familiar with the Expanded Universe?   \n",
       "31  Do you consider yourself to be a fan of the Ex...   \n",
       "32  Do you consider yourself to be a fan of the St...   \n",
       "33                                             Gender   \n",
       "34                                                Age   \n",
       "35                                   Household Income   \n",
       "36                                          Education   \n",
       "37                           Location (Census Region)   \n",
       "\n",
       "                                               0  \n",
       "0                                            NaN  \n",
       "1                                       Response  \n",
       "2                                       Response  \n",
       "3       Star Wars: Episode I  The Phantom Menace  \n",
       "4    Star Wars: Episode II  Attack of the Clones  \n",
       "5    Star Wars: Episode III  Revenge of the Sith  \n",
       "6              Star Wars: Episode IV  A New Hope  \n",
       "7   Star Wars: Episode V The Empire Strikes Back  \n",
       "8       Star Wars: Episode VI Return of the Jedi  \n",
       "9       Star Wars: Episode I  The Phantom Menace  \n",
       "10   Star Wars: Episode II  Attack of the Clones  \n",
       "11   Star Wars: Episode III  Revenge of the Sith  \n",
       "12             Star Wars: Episode IV  A New Hope  \n",
       "13  Star Wars: Episode V The Empire Strikes Back  \n",
       "14      Star Wars: Episode VI Return of the Jedi  \n",
       "15                                      Han Solo  \n",
       "16                                Luke Skywalker  \n",
       "17                          Princess Leia Organa  \n",
       "18                              Anakin Skywalker  \n",
       "19                                Obi Wan Kenobi  \n",
       "20                             Emperor Palpatine  \n",
       "21                                   Darth Vader  \n",
       "22                              Lando Calrissian  \n",
       "23                                     Boba Fett  \n",
       "24                                         C-3P0  \n",
       "25                                         R2 D2  \n",
       "26                                 Jar Jar Binks  \n",
       "27                                 Padme Amidala  \n",
       "28                                          Yoda  \n",
       "29                                      Response  \n",
       "30                                      Response  \n",
       "31                                      Response  \n",
       "32                                      Response  \n",
       "33                                      Response  \n",
       "34                                      Response  \n",
       "35                                      Response  \n",
       "36                                      Response  \n",
       "37                                      Response  "
      ]
     },
     "execution_count": 5,
     "metadata": {},
     "output_type": "execute_result"
    }
   ],
   "source": [
    "# Access 0th row \n",
    "row_zero = star_wars.loc[0]\n",
    "row_zero.reset_index()"
   ]
  },
  {
   "cell_type": "code",
   "execution_count": 6,
   "metadata": {},
   "outputs": [],
   "source": [
    "# Drop 0th row  with subtitles\n",
    "star_wars = star_wars.drop(0)"
   ]
  },
  {
   "cell_type": "code",
   "execution_count": 7,
   "metadata": {},
   "outputs": [
    {
     "data": {
      "text/html": [
       "<div>\n",
       "<style scoped>\n",
       "    .dataframe tbody tr th:only-of-type {\n",
       "        vertical-align: middle;\n",
       "    }\n",
       "\n",
       "    .dataframe tbody tr th {\n",
       "        vertical-align: top;\n",
       "    }\n",
       "\n",
       "    .dataframe thead th {\n",
       "        text-align: right;\n",
       "    }\n",
       "</style>\n",
       "<table border=\"1\" class=\"dataframe\">\n",
       "  <thead>\n",
       "    <tr style=\"text-align: right;\">\n",
       "      <th></th>\n",
       "      <th>index</th>\n",
       "      <th>RespondentID</th>\n",
       "      <th>Have you seen any of the 6 films in the Star Wars franchise?</th>\n",
       "      <th>Do you consider yourself to be a fan of the Star Wars film franchise?</th>\n",
       "      <th>Which of the following Star Wars films have you seen? Please select all that apply.</th>\n",
       "      <th>Unnamed: 4</th>\n",
       "      <th>Unnamed: 5</th>\n",
       "      <th>Unnamed: 6</th>\n",
       "      <th>Unnamed: 7</th>\n",
       "      <th>Unnamed: 8</th>\n",
       "      <th>...</th>\n",
       "      <th>Unnamed: 28</th>\n",
       "      <th>Which character shot first?</th>\n",
       "      <th>Are you familiar with the Expanded Universe?</th>\n",
       "      <th>Do you consider yourself to be a fan of the Expanded Universe?æ</th>\n",
       "      <th>Do you consider yourself to be a fan of the Star Trek franchise?</th>\n",
       "      <th>Gender</th>\n",
       "      <th>Age</th>\n",
       "      <th>Household Income</th>\n",
       "      <th>Education</th>\n",
       "      <th>Location (Census Region)</th>\n",
       "    </tr>\n",
       "  </thead>\n",
       "  <tbody>\n",
       "    <tr>\n",
       "      <th>0</th>\n",
       "      <td>1</td>\n",
       "      <td>3.292880e+09</td>\n",
       "      <td>Yes</td>\n",
       "      <td>Yes</td>\n",
       "      <td>Star Wars: Episode I  The Phantom Menace</td>\n",
       "      <td>Star Wars: Episode II  Attack of the Clones</td>\n",
       "      <td>Star Wars: Episode III  Revenge of the Sith</td>\n",
       "      <td>Star Wars: Episode IV  A New Hope</td>\n",
       "      <td>Star Wars: Episode V The Empire Strikes Back</td>\n",
       "      <td>Star Wars: Episode VI Return of the Jedi</td>\n",
       "      <td>...</td>\n",
       "      <td>Very favorably</td>\n",
       "      <td>I don't understand this question</td>\n",
       "      <td>Yes</td>\n",
       "      <td>No</td>\n",
       "      <td>No</td>\n",
       "      <td>Male</td>\n",
       "      <td>18-29</td>\n",
       "      <td>NaN</td>\n",
       "      <td>High school degree</td>\n",
       "      <td>South Atlantic</td>\n",
       "    </tr>\n",
       "    <tr>\n",
       "      <th>1</th>\n",
       "      <td>2</td>\n",
       "      <td>3.292880e+09</td>\n",
       "      <td>No</td>\n",
       "      <td>NaN</td>\n",
       "      <td>NaN</td>\n",
       "      <td>NaN</td>\n",
       "      <td>NaN</td>\n",
       "      <td>NaN</td>\n",
       "      <td>NaN</td>\n",
       "      <td>NaN</td>\n",
       "      <td>...</td>\n",
       "      <td>NaN</td>\n",
       "      <td>NaN</td>\n",
       "      <td>NaN</td>\n",
       "      <td>NaN</td>\n",
       "      <td>Yes</td>\n",
       "      <td>Male</td>\n",
       "      <td>18-29</td>\n",
       "      <td>$0 - $24,999</td>\n",
       "      <td>Bachelor degree</td>\n",
       "      <td>West South Central</td>\n",
       "    </tr>\n",
       "    <tr>\n",
       "      <th>2</th>\n",
       "      <td>3</td>\n",
       "      <td>3.292765e+09</td>\n",
       "      <td>Yes</td>\n",
       "      <td>No</td>\n",
       "      <td>Star Wars: Episode I  The Phantom Menace</td>\n",
       "      <td>Star Wars: Episode II  Attack of the Clones</td>\n",
       "      <td>Star Wars: Episode III  Revenge of the Sith</td>\n",
       "      <td>NaN</td>\n",
       "      <td>NaN</td>\n",
       "      <td>NaN</td>\n",
       "      <td>...</td>\n",
       "      <td>Unfamiliar (N/A)</td>\n",
       "      <td>I don't understand this question</td>\n",
       "      <td>No</td>\n",
       "      <td>NaN</td>\n",
       "      <td>No</td>\n",
       "      <td>Male</td>\n",
       "      <td>18-29</td>\n",
       "      <td>$0 - $24,999</td>\n",
       "      <td>High school degree</td>\n",
       "      <td>West North Central</td>\n",
       "    </tr>\n",
       "    <tr>\n",
       "      <th>3</th>\n",
       "      <td>4</td>\n",
       "      <td>3.292763e+09</td>\n",
       "      <td>Yes</td>\n",
       "      <td>Yes</td>\n",
       "      <td>Star Wars: Episode I  The Phantom Menace</td>\n",
       "      <td>Star Wars: Episode II  Attack of the Clones</td>\n",
       "      <td>Star Wars: Episode III  Revenge of the Sith</td>\n",
       "      <td>Star Wars: Episode IV  A New Hope</td>\n",
       "      <td>Star Wars: Episode V The Empire Strikes Back</td>\n",
       "      <td>Star Wars: Episode VI Return of the Jedi</td>\n",
       "      <td>...</td>\n",
       "      <td>Very favorably</td>\n",
       "      <td>I don't understand this question</td>\n",
       "      <td>No</td>\n",
       "      <td>NaN</td>\n",
       "      <td>Yes</td>\n",
       "      <td>Male</td>\n",
       "      <td>18-29</td>\n",
       "      <td>$100,000 - $149,999</td>\n",
       "      <td>Some college or Associate degree</td>\n",
       "      <td>West North Central</td>\n",
       "    </tr>\n",
       "    <tr>\n",
       "      <th>4</th>\n",
       "      <td>5</td>\n",
       "      <td>3.292731e+09</td>\n",
       "      <td>Yes</td>\n",
       "      <td>Yes</td>\n",
       "      <td>Star Wars: Episode I  The Phantom Menace</td>\n",
       "      <td>Star Wars: Episode II  Attack of the Clones</td>\n",
       "      <td>Star Wars: Episode III  Revenge of the Sith</td>\n",
       "      <td>Star Wars: Episode IV  A New Hope</td>\n",
       "      <td>Star Wars: Episode V The Empire Strikes Back</td>\n",
       "      <td>Star Wars: Episode VI Return of the Jedi</td>\n",
       "      <td>...</td>\n",
       "      <td>Somewhat favorably</td>\n",
       "      <td>Greedo</td>\n",
       "      <td>Yes</td>\n",
       "      <td>No</td>\n",
       "      <td>No</td>\n",
       "      <td>Male</td>\n",
       "      <td>18-29</td>\n",
       "      <td>$100,000 - $149,999</td>\n",
       "      <td>Some college or Associate degree</td>\n",
       "      <td>West North Central</td>\n",
       "    </tr>\n",
       "  </tbody>\n",
       "</table>\n",
       "<p>5 rows × 39 columns</p>\n",
       "</div>"
      ],
      "text/plain": [
       "   index  RespondentID  \\\n",
       "0      1  3.292880e+09   \n",
       "1      2  3.292880e+09   \n",
       "2      3  3.292765e+09   \n",
       "3      4  3.292763e+09   \n",
       "4      5  3.292731e+09   \n",
       "\n",
       "  Have you seen any of the 6 films in the Star Wars franchise?  \\\n",
       "0                                                Yes             \n",
       "1                                                 No             \n",
       "2                                                Yes             \n",
       "3                                                Yes             \n",
       "4                                                Yes             \n",
       "\n",
       "  Do you consider yourself to be a fan of the Star Wars film franchise?  \\\n",
       "0                                                Yes                      \n",
       "1                                                NaN                      \n",
       "2                                                 No                      \n",
       "3                                                Yes                      \n",
       "4                                                Yes                      \n",
       "\n",
       "  Which of the following Star Wars films have you seen? Please select all that apply.  \\\n",
       "0           Star Wars: Episode I  The Phantom Menace                                    \n",
       "1                                                NaN                                    \n",
       "2           Star Wars: Episode I  The Phantom Menace                                    \n",
       "3           Star Wars: Episode I  The Phantom Menace                                    \n",
       "4           Star Wars: Episode I  The Phantom Menace                                    \n",
       "\n",
       "                                    Unnamed: 4  \\\n",
       "0  Star Wars: Episode II  Attack of the Clones   \n",
       "1                                          NaN   \n",
       "2  Star Wars: Episode II  Attack of the Clones   \n",
       "3  Star Wars: Episode II  Attack of the Clones   \n",
       "4  Star Wars: Episode II  Attack of the Clones   \n",
       "\n",
       "                                    Unnamed: 5  \\\n",
       "0  Star Wars: Episode III  Revenge of the Sith   \n",
       "1                                          NaN   \n",
       "2  Star Wars: Episode III  Revenge of the Sith   \n",
       "3  Star Wars: Episode III  Revenge of the Sith   \n",
       "4  Star Wars: Episode III  Revenge of the Sith   \n",
       "\n",
       "                          Unnamed: 6  \\\n",
       "0  Star Wars: Episode IV  A New Hope   \n",
       "1                                NaN   \n",
       "2                                NaN   \n",
       "3  Star Wars: Episode IV  A New Hope   \n",
       "4  Star Wars: Episode IV  A New Hope   \n",
       "\n",
       "                                     Unnamed: 7  \\\n",
       "0  Star Wars: Episode V The Empire Strikes Back   \n",
       "1                                           NaN   \n",
       "2                                           NaN   \n",
       "3  Star Wars: Episode V The Empire Strikes Back   \n",
       "4  Star Wars: Episode V The Empire Strikes Back   \n",
       "\n",
       "                                 Unnamed: 8  ...         Unnamed: 28  \\\n",
       "0  Star Wars: Episode VI Return of the Jedi  ...      Very favorably   \n",
       "1                                       NaN  ...                 NaN   \n",
       "2                                       NaN  ...    Unfamiliar (N/A)   \n",
       "3  Star Wars: Episode VI Return of the Jedi  ...      Very favorably   \n",
       "4  Star Wars: Episode VI Return of the Jedi  ...  Somewhat favorably   \n",
       "\n",
       "        Which character shot first?  \\\n",
       "0  I don't understand this question   \n",
       "1                               NaN   \n",
       "2  I don't understand this question   \n",
       "3  I don't understand this question   \n",
       "4                            Greedo   \n",
       "\n",
       "  Are you familiar with the Expanded Universe?  \\\n",
       "0                                          Yes   \n",
       "1                                          NaN   \n",
       "2                                           No   \n",
       "3                                           No   \n",
       "4                                          Yes   \n",
       "\n",
       "  Do you consider yourself to be a fan of the Expanded Universe?æ  \\\n",
       "0                                                 No                 \n",
       "1                                                NaN                 \n",
       "2                                                NaN                 \n",
       "3                                                NaN                 \n",
       "4                                                 No                 \n",
       "\n",
       "  Do you consider yourself to be a fan of the Star Trek franchise? Gender  \\\n",
       "0                                                 No                 Male   \n",
       "1                                                Yes                 Male   \n",
       "2                                                 No                 Male   \n",
       "3                                                Yes                 Male   \n",
       "4                                                 No                 Male   \n",
       "\n",
       "     Age     Household Income                         Education  \\\n",
       "0  18-29                  NaN                High school degree   \n",
       "1  18-29         $0 - $24,999                   Bachelor degree   \n",
       "2  18-29         $0 - $24,999                High school degree   \n",
       "3  18-29  $100,000 - $149,999  Some college or Associate degree   \n",
       "4  18-29  $100,000 - $149,999  Some college or Associate degree   \n",
       "\n",
       "  Location (Census Region)  \n",
       "0           South Atlantic  \n",
       "1       West South Central  \n",
       "2       West North Central  \n",
       "3       West North Central  \n",
       "4       West North Central  \n",
       "\n",
       "[5 rows x 39 columns]"
      ]
     },
     "execution_count": 7,
     "metadata": {},
     "output_type": "execute_result"
    }
   ],
   "source": [
    "# Reset index \n",
    "star_wars = star_wars.reset_index()\n",
    "star_wars.head()"
   ]
  },
  {
   "cell_type": "code",
   "execution_count": 8,
   "metadata": {},
   "outputs": [
    {
     "data": {
      "text/plain": [
       "Index(['index', 'RespondentID',\n",
       "       'Have you seen any of the 6 films in the Star Wars franchise?',\n",
       "       'Do you consider yourself to be a fan of the Star Wars film franchise?',\n",
       "       'seen_1', 'seen_2', 'seen_3', 'seen_4', 'seen_5', 'seen_6', 'ranking_1',\n",
       "       'ranking_2', 'ranking_3', 'ranking_4', 'ranking_5', 'ranking_6',\n",
       "       'Please state whether you view the following characters favorably, unfavorably, or are unfamiliar with him/her.',\n",
       "       'Unnamed: 16', 'Unnamed: 17', 'Unnamed: 18', 'Unnamed: 19',\n",
       "       'Unnamed: 20', 'Unnamed: 21', 'Unnamed: 22', 'Unnamed: 23',\n",
       "       'Unnamed: 24', 'Unnamed: 25', 'Unnamed: 26', 'Unnamed: 27',\n",
       "       'Unnamed: 28', 'Which character shot first?',\n",
       "       'Are you familiar with the Expanded Universe?',\n",
       "       'Do you consider yourself to be a fan of the Expanded Universe?æ',\n",
       "       'Do you consider yourself to be a fan of the Star Trek franchise?',\n",
       "       'Gender', 'Age', 'Household Income', 'Education',\n",
       "       'Location (Census Region)'],\n",
       "      dtype='object')"
      ]
     },
     "execution_count": 8,
     "metadata": {},
     "output_type": "execute_result"
    }
   ],
   "source": [
    "# Rename columns for seen movies for clarity\n",
    "star_wars = star_wars.rename(columns={\"Which of the following Star Wars films have you seen? Please select all that apply.\": \"seen_1\",\n",
    "                                      'Unnamed: 4':\"seen_2\", 'Unnamed: 5':\"seen_3\", 'Unnamed: 6':\"seen_4\", 'Unnamed: 7':\"seen_5\", 'Unnamed: 8':\"seen_6\",})\n",
    "\n",
    "# Rename columns for movie ranking for clarity\n",
    "star_wars = star_wars.rename(columns={'Please rank the Star Wars films in order of preference with 1 being your favorite film in the franchise and 6 being your least favorite film.':\"ranking_1\",\n",
    "       'Unnamed: 10':\"ranking_2\", 'Unnamed: 11':\"ranking_3\", 'Unnamed: 12':\"ranking_4\", 'Unnamed: 13':\"ranking_5\",'Unnamed: 14':\"ranking_6\"})\n",
    "                 \n",
    "star_wars.columns  # renamed columns"
   ]
  },
  {
   "cell_type": "code",
   "execution_count": 9,
   "metadata": {},
   "outputs": [],
   "source": [
    "# Replace column names from index 15 to 28 by their subtitle names\n",
    "for col in star_wars.iloc[:, 16:30]:\n",
    "    # print(col)\n",
    "    star_wars = star_wars.rename(columns = {col:row_zero[col]})"
   ]
  },
  {
   "cell_type": "code",
   "execution_count": 10,
   "metadata": {},
   "outputs": [
    {
     "data": {
      "text/plain": [
       "Index(['index', 'RespondentID',\n",
       "       'Have you seen any of the 6 films in the Star Wars franchise?',\n",
       "       'Do you consider yourself to be a fan of the Star Wars film franchise?',\n",
       "       'seen_1', 'seen_2', 'seen_3', 'seen_4', 'seen_5', 'seen_6', 'ranking_1',\n",
       "       'ranking_2', 'ranking_3', 'ranking_4', 'ranking_5', 'ranking_6',\n",
       "       'Han Solo', 'Luke Skywalker', 'Princess Leia Organa',\n",
       "       'Anakin Skywalker', 'Obi Wan Kenobi', 'Emperor Palpatine',\n",
       "       'Darth Vader', 'Lando Calrissian', 'Boba Fett', 'C-3P0', 'R2 D2',\n",
       "       'Jar Jar Binks', 'Padme Amidala', 'Yoda', 'Which character shot first?',\n",
       "       'Are you familiar with the Expanded Universe?',\n",
       "       'Do you consider yourself to be a fan of the Expanded Universe?æ',\n",
       "       'Do you consider yourself to be a fan of the Star Trek franchise?',\n",
       "       'Gender', 'Age', 'Household Income', 'Education',\n",
       "       'Location (Census Region)'],\n",
       "      dtype='object')"
      ]
     },
     "execution_count": 10,
     "metadata": {},
     "output_type": "execute_result"
    }
   ],
   "source": [
    "star_wars.columns  # All renamed columns"
   ]
  },
  {
   "cell_type": "code",
   "execution_count": 11,
   "metadata": {},
   "outputs": [
    {
     "data": {
      "text/html": [
       "<div>\n",
       "<style scoped>\n",
       "    .dataframe tbody tr th:only-of-type {\n",
       "        vertical-align: middle;\n",
       "    }\n",
       "\n",
       "    .dataframe tbody tr th {\n",
       "        vertical-align: top;\n",
       "    }\n",
       "\n",
       "    .dataframe thead th {\n",
       "        text-align: right;\n",
       "    }\n",
       "</style>\n",
       "<table border=\"1\" class=\"dataframe\">\n",
       "  <thead>\n",
       "    <tr style=\"text-align: right;\">\n",
       "      <th></th>\n",
       "      <th>index</th>\n",
       "      <th>RespondentID</th>\n",
       "      <th>Have you seen any of the 6 films in the Star Wars franchise?</th>\n",
       "      <th>Do you consider yourself to be a fan of the Star Wars film franchise?</th>\n",
       "      <th>seen_1</th>\n",
       "      <th>seen_2</th>\n",
       "      <th>seen_3</th>\n",
       "      <th>seen_4</th>\n",
       "      <th>seen_5</th>\n",
       "      <th>seen_6</th>\n",
       "      <th>...</th>\n",
       "      <th>Yoda</th>\n",
       "      <th>Which character shot first?</th>\n",
       "      <th>Are you familiar with the Expanded Universe?</th>\n",
       "      <th>Do you consider yourself to be a fan of the Expanded Universe?æ</th>\n",
       "      <th>Do you consider yourself to be a fan of the Star Trek franchise?</th>\n",
       "      <th>Gender</th>\n",
       "      <th>Age</th>\n",
       "      <th>Household Income</th>\n",
       "      <th>Education</th>\n",
       "      <th>Location (Census Region)</th>\n",
       "    </tr>\n",
       "  </thead>\n",
       "  <tbody>\n",
       "    <tr>\n",
       "      <th>0</th>\n",
       "      <td>1</td>\n",
       "      <td>3.292880e+09</td>\n",
       "      <td>Yes</td>\n",
       "      <td>Yes</td>\n",
       "      <td>Star Wars: Episode I  The Phantom Menace</td>\n",
       "      <td>Star Wars: Episode II  Attack of the Clones</td>\n",
       "      <td>Star Wars: Episode III  Revenge of the Sith</td>\n",
       "      <td>Star Wars: Episode IV  A New Hope</td>\n",
       "      <td>Star Wars: Episode V The Empire Strikes Back</td>\n",
       "      <td>Star Wars: Episode VI Return of the Jedi</td>\n",
       "      <td>...</td>\n",
       "      <td>Very favorably</td>\n",
       "      <td>I don't understand this question</td>\n",
       "      <td>Yes</td>\n",
       "      <td>No</td>\n",
       "      <td>No</td>\n",
       "      <td>Male</td>\n",
       "      <td>18-29</td>\n",
       "      <td>NaN</td>\n",
       "      <td>High school degree</td>\n",
       "      <td>South Atlantic</td>\n",
       "    </tr>\n",
       "    <tr>\n",
       "      <th>1</th>\n",
       "      <td>2</td>\n",
       "      <td>3.292880e+09</td>\n",
       "      <td>No</td>\n",
       "      <td>NaN</td>\n",
       "      <td>NaN</td>\n",
       "      <td>NaN</td>\n",
       "      <td>NaN</td>\n",
       "      <td>NaN</td>\n",
       "      <td>NaN</td>\n",
       "      <td>NaN</td>\n",
       "      <td>...</td>\n",
       "      <td>NaN</td>\n",
       "      <td>NaN</td>\n",
       "      <td>NaN</td>\n",
       "      <td>NaN</td>\n",
       "      <td>Yes</td>\n",
       "      <td>Male</td>\n",
       "      <td>18-29</td>\n",
       "      <td>$0 - $24,999</td>\n",
       "      <td>Bachelor degree</td>\n",
       "      <td>West South Central</td>\n",
       "    </tr>\n",
       "  </tbody>\n",
       "</table>\n",
       "<p>2 rows × 39 columns</p>\n",
       "</div>"
      ],
      "text/plain": [
       "   index  RespondentID  \\\n",
       "0      1  3.292880e+09   \n",
       "1      2  3.292880e+09   \n",
       "\n",
       "  Have you seen any of the 6 films in the Star Wars franchise?  \\\n",
       "0                                                Yes             \n",
       "1                                                 No             \n",
       "\n",
       "  Do you consider yourself to be a fan of the Star Wars film franchise?  \\\n",
       "0                                                Yes                      \n",
       "1                                                NaN                      \n",
       "\n",
       "                                     seen_1  \\\n",
       "0  Star Wars: Episode I  The Phantom Menace   \n",
       "1                                       NaN   \n",
       "\n",
       "                                        seen_2  \\\n",
       "0  Star Wars: Episode II  Attack of the Clones   \n",
       "1                                          NaN   \n",
       "\n",
       "                                        seen_3  \\\n",
       "0  Star Wars: Episode III  Revenge of the Sith   \n",
       "1                                          NaN   \n",
       "\n",
       "                              seen_4  \\\n",
       "0  Star Wars: Episode IV  A New Hope   \n",
       "1                                NaN   \n",
       "\n",
       "                                         seen_5  \\\n",
       "0  Star Wars: Episode V The Empire Strikes Back   \n",
       "1                                           NaN   \n",
       "\n",
       "                                     seen_6  ...            Yoda  \\\n",
       "0  Star Wars: Episode VI Return of the Jedi  ...  Very favorably   \n",
       "1                                       NaN  ...             NaN   \n",
       "\n",
       "        Which character shot first?  \\\n",
       "0  I don't understand this question   \n",
       "1                               NaN   \n",
       "\n",
       "  Are you familiar with the Expanded Universe?  \\\n",
       "0                                          Yes   \n",
       "1                                          NaN   \n",
       "\n",
       "  Do you consider yourself to be a fan of the Expanded Universe?æ  \\\n",
       "0                                                 No                 \n",
       "1                                                NaN                 \n",
       "\n",
       "  Do you consider yourself to be a fan of the Star Trek franchise? Gender  \\\n",
       "0                                                 No                 Male   \n",
       "1                                                Yes                 Male   \n",
       "\n",
       "     Age Household Income           Education Location (Census Region)  \n",
       "0  18-29              NaN  High school degree           South Atlantic  \n",
       "1  18-29     $0 - $24,999     Bachelor degree       West South Central  \n",
       "\n",
       "[2 rows x 39 columns]"
      ]
     },
     "execution_count": 11,
     "metadata": {},
     "output_type": "execute_result"
    }
   ],
   "source": [
    "star_wars.head(2)"
   ]
  },
  {
   "cell_type": "code",
   "execution_count": 12,
   "metadata": {},
   "outputs": [
    {
     "data": {
      "text/html": [
       "<div>\n",
       "<style scoped>\n",
       "    .dataframe tbody tr th:only-of-type {\n",
       "        vertical-align: middle;\n",
       "    }\n",
       "\n",
       "    .dataframe tbody tr th {\n",
       "        vertical-align: top;\n",
       "    }\n",
       "\n",
       "    .dataframe thead th {\n",
       "        text-align: right;\n",
       "    }\n",
       "</style>\n",
       "<table border=\"1\" class=\"dataframe\">\n",
       "  <thead>\n",
       "    <tr style=\"text-align: right;\">\n",
       "      <th></th>\n",
       "      <th>index</th>\n",
       "      <th>RespondentID</th>\n",
       "      <th>Have you seen any of the 6 films in the Star Wars franchise?</th>\n",
       "      <th>Do you consider yourself to be a fan of the Star Wars film franchise?</th>\n",
       "      <th>seen_1</th>\n",
       "      <th>seen_2</th>\n",
       "      <th>seen_3</th>\n",
       "      <th>seen_4</th>\n",
       "      <th>seen_5</th>\n",
       "      <th>seen_6</th>\n",
       "      <th>...</th>\n",
       "      <th>Yoda</th>\n",
       "      <th>Which character shot first?</th>\n",
       "      <th>Are you familiar with the Expanded Universe?</th>\n",
       "      <th>Do you consider yourself to be a fan of the Expanded Universe?æ</th>\n",
       "      <th>Do you consider yourself to be a fan of the Star Trek franchise?</th>\n",
       "      <th>Gender</th>\n",
       "      <th>Age</th>\n",
       "      <th>Household Income</th>\n",
       "      <th>Education</th>\n",
       "      <th>Location (Census Region)</th>\n",
       "    </tr>\n",
       "  </thead>\n",
       "  <tbody>\n",
       "    <tr>\n",
       "      <th>0</th>\n",
       "      <td>1</td>\n",
       "      <td>3.292880e+09</td>\n",
       "      <td>True</td>\n",
       "      <td>True</td>\n",
       "      <td>Star Wars: Episode I  The Phantom Menace</td>\n",
       "      <td>Star Wars: Episode II  Attack of the Clones</td>\n",
       "      <td>Star Wars: Episode III  Revenge of the Sith</td>\n",
       "      <td>Star Wars: Episode IV  A New Hope</td>\n",
       "      <td>Star Wars: Episode V The Empire Strikes Back</td>\n",
       "      <td>Star Wars: Episode VI Return of the Jedi</td>\n",
       "      <td>...</td>\n",
       "      <td>Very favorably</td>\n",
       "      <td>I don't understand this question</td>\n",
       "      <td>Yes</td>\n",
       "      <td>No</td>\n",
       "      <td>No</td>\n",
       "      <td>Male</td>\n",
       "      <td>18-29</td>\n",
       "      <td>NaN</td>\n",
       "      <td>High school degree</td>\n",
       "      <td>South Atlantic</td>\n",
       "    </tr>\n",
       "    <tr>\n",
       "      <th>1</th>\n",
       "      <td>2</td>\n",
       "      <td>3.292880e+09</td>\n",
       "      <td>False</td>\n",
       "      <td>NaN</td>\n",
       "      <td>NaN</td>\n",
       "      <td>NaN</td>\n",
       "      <td>NaN</td>\n",
       "      <td>NaN</td>\n",
       "      <td>NaN</td>\n",
       "      <td>NaN</td>\n",
       "      <td>...</td>\n",
       "      <td>NaN</td>\n",
       "      <td>NaN</td>\n",
       "      <td>NaN</td>\n",
       "      <td>NaN</td>\n",
       "      <td>Yes</td>\n",
       "      <td>Male</td>\n",
       "      <td>18-29</td>\n",
       "      <td>$0 - $24,999</td>\n",
       "      <td>Bachelor degree</td>\n",
       "      <td>West South Central</td>\n",
       "    </tr>\n",
       "    <tr>\n",
       "      <th>2</th>\n",
       "      <td>3</td>\n",
       "      <td>3.292765e+09</td>\n",
       "      <td>True</td>\n",
       "      <td>False</td>\n",
       "      <td>Star Wars: Episode I  The Phantom Menace</td>\n",
       "      <td>Star Wars: Episode II  Attack of the Clones</td>\n",
       "      <td>Star Wars: Episode III  Revenge of the Sith</td>\n",
       "      <td>NaN</td>\n",
       "      <td>NaN</td>\n",
       "      <td>NaN</td>\n",
       "      <td>...</td>\n",
       "      <td>Unfamiliar (N/A)</td>\n",
       "      <td>I don't understand this question</td>\n",
       "      <td>No</td>\n",
       "      <td>NaN</td>\n",
       "      <td>No</td>\n",
       "      <td>Male</td>\n",
       "      <td>18-29</td>\n",
       "      <td>$0 - $24,999</td>\n",
       "      <td>High school degree</td>\n",
       "      <td>West North Central</td>\n",
       "    </tr>\n",
       "  </tbody>\n",
       "</table>\n",
       "<p>3 rows × 39 columns</p>\n",
       "</div>"
      ],
      "text/plain": [
       "   index  RespondentID  \\\n",
       "0      1  3.292880e+09   \n",
       "1      2  3.292880e+09   \n",
       "2      3  3.292765e+09   \n",
       "\n",
       "   Have you seen any of the 6 films in the Star Wars franchise?  \\\n",
       "0                                               True              \n",
       "1                                              False              \n",
       "2                                               True              \n",
       "\n",
       "  Do you consider yourself to be a fan of the Star Wars film franchise?  \\\n",
       "0                                               True                      \n",
       "1                                                NaN                      \n",
       "2                                              False                      \n",
       "\n",
       "                                     seen_1  \\\n",
       "0  Star Wars: Episode I  The Phantom Menace   \n",
       "1                                       NaN   \n",
       "2  Star Wars: Episode I  The Phantom Menace   \n",
       "\n",
       "                                        seen_2  \\\n",
       "0  Star Wars: Episode II  Attack of the Clones   \n",
       "1                                          NaN   \n",
       "2  Star Wars: Episode II  Attack of the Clones   \n",
       "\n",
       "                                        seen_3  \\\n",
       "0  Star Wars: Episode III  Revenge of the Sith   \n",
       "1                                          NaN   \n",
       "2  Star Wars: Episode III  Revenge of the Sith   \n",
       "\n",
       "                              seen_4  \\\n",
       "0  Star Wars: Episode IV  A New Hope   \n",
       "1                                NaN   \n",
       "2                                NaN   \n",
       "\n",
       "                                         seen_5  \\\n",
       "0  Star Wars: Episode V The Empire Strikes Back   \n",
       "1                                           NaN   \n",
       "2                                           NaN   \n",
       "\n",
       "                                     seen_6  ...              Yoda  \\\n",
       "0  Star Wars: Episode VI Return of the Jedi  ...    Very favorably   \n",
       "1                                       NaN  ...               NaN   \n",
       "2                                       NaN  ...  Unfamiliar (N/A)   \n",
       "\n",
       "        Which character shot first?  \\\n",
       "0  I don't understand this question   \n",
       "1                               NaN   \n",
       "2  I don't understand this question   \n",
       "\n",
       "  Are you familiar with the Expanded Universe?  \\\n",
       "0                                          Yes   \n",
       "1                                          NaN   \n",
       "2                                           No   \n",
       "\n",
       "  Do you consider yourself to be a fan of the Expanded Universe?æ  \\\n",
       "0                                                 No                 \n",
       "1                                                NaN                 \n",
       "2                                                NaN                 \n",
       "\n",
       "  Do you consider yourself to be a fan of the Star Trek franchise? Gender  \\\n",
       "0                                                 No                 Male   \n",
       "1                                                Yes                 Male   \n",
       "2                                                 No                 Male   \n",
       "\n",
       "     Age Household Income           Education Location (Census Region)  \n",
       "0  18-29              NaN  High school degree           South Atlantic  \n",
       "1  18-29     $0 - $24,999     Bachelor degree       West South Central  \n",
       "2  18-29     $0 - $24,999  High school degree       West North Central  \n",
       "\n",
       "[3 rows x 39 columns]"
      ]
     },
     "execution_count": 12,
     "metadata": {},
     "output_type": "execute_result"
    }
   ],
   "source": [
    "# Map yes/no of columns 1 and 2 with true/false\n",
    "\n",
    "yes_no = {\"Yes\": True, \"No\": False}\n",
    "\n",
    "for col in ['Have you seen any of the 6 films in the Star Wars franchise?',\n",
    "            'Do you consider yourself to be a fan of the Star Wars film franchise?']:\n",
    "        star_wars[col] = star_wars[col].map(yes_no)\n",
    "\n",
    "star_wars.head(3)"
   ]
  },
  {
   "cell_type": "code",
   "execution_count": 13,
   "metadata": {},
   "outputs": [],
   "source": [
    "# Change Respondent ID to int for clarity\n",
    "star_wars['RespondentID']  = star_wars['RespondentID'].astype('int') "
   ]
  },
  {
   "cell_type": "code",
   "execution_count": 14,
   "metadata": {},
   "outputs": [
    {
     "data": {
      "text/html": [
       "<div>\n",
       "<style scoped>\n",
       "    .dataframe tbody tr th:only-of-type {\n",
       "        vertical-align: middle;\n",
       "    }\n",
       "\n",
       "    .dataframe tbody tr th {\n",
       "        vertical-align: top;\n",
       "    }\n",
       "\n",
       "    .dataframe thead th {\n",
       "        text-align: right;\n",
       "    }\n",
       "</style>\n",
       "<table border=\"1\" class=\"dataframe\">\n",
       "  <thead>\n",
       "    <tr style=\"text-align: right;\">\n",
       "      <th></th>\n",
       "      <th>index</th>\n",
       "      <th>RespondentID</th>\n",
       "      <th>Have you seen any of the 6 films in the Star Wars franchise?</th>\n",
       "      <th>Do you consider yourself to be a fan of the Star Wars film franchise?</th>\n",
       "      <th>seen_1</th>\n",
       "      <th>seen_2</th>\n",
       "      <th>seen_3</th>\n",
       "      <th>seen_4</th>\n",
       "      <th>seen_5</th>\n",
       "      <th>seen_6</th>\n",
       "      <th>...</th>\n",
       "      <th>Yoda</th>\n",
       "      <th>Which character shot first?</th>\n",
       "      <th>Are you familiar with the Expanded Universe?</th>\n",
       "      <th>Do you consider yourself to be a fan of the Expanded Universe?æ</th>\n",
       "      <th>Do you consider yourself to be a fan of the Star Trek franchise?</th>\n",
       "      <th>Gender</th>\n",
       "      <th>Age</th>\n",
       "      <th>Household Income</th>\n",
       "      <th>Education</th>\n",
       "      <th>Location (Census Region)</th>\n",
       "    </tr>\n",
       "  </thead>\n",
       "  <tbody>\n",
       "    <tr>\n",
       "      <th>0</th>\n",
       "      <td>1</td>\n",
       "      <td>3292879998</td>\n",
       "      <td>True</td>\n",
       "      <td>True</td>\n",
       "      <td>Star Wars: Episode I  The Phantom Menace</td>\n",
       "      <td>Star Wars: Episode II  Attack of the Clones</td>\n",
       "      <td>Star Wars: Episode III  Revenge of the Sith</td>\n",
       "      <td>Star Wars: Episode IV  A New Hope</td>\n",
       "      <td>Star Wars: Episode V The Empire Strikes Back</td>\n",
       "      <td>Star Wars: Episode VI Return of the Jedi</td>\n",
       "      <td>...</td>\n",
       "      <td>Very favorably</td>\n",
       "      <td>I don't understand this question</td>\n",
       "      <td>Yes</td>\n",
       "      <td>No</td>\n",
       "      <td>No</td>\n",
       "      <td>Male</td>\n",
       "      <td>18-29</td>\n",
       "      <td>NaN</td>\n",
       "      <td>High school degree</td>\n",
       "      <td>South Atlantic</td>\n",
       "    </tr>\n",
       "    <tr>\n",
       "      <th>1</th>\n",
       "      <td>2</td>\n",
       "      <td>3292879538</td>\n",
       "      <td>False</td>\n",
       "      <td>NaN</td>\n",
       "      <td>NaN</td>\n",
       "      <td>NaN</td>\n",
       "      <td>NaN</td>\n",
       "      <td>NaN</td>\n",
       "      <td>NaN</td>\n",
       "      <td>NaN</td>\n",
       "      <td>...</td>\n",
       "      <td>NaN</td>\n",
       "      <td>NaN</td>\n",
       "      <td>NaN</td>\n",
       "      <td>NaN</td>\n",
       "      <td>Yes</td>\n",
       "      <td>Male</td>\n",
       "      <td>18-29</td>\n",
       "      <td>$0 - $24,999</td>\n",
       "      <td>Bachelor degree</td>\n",
       "      <td>West South Central</td>\n",
       "    </tr>\n",
       "    <tr>\n",
       "      <th>2</th>\n",
       "      <td>3</td>\n",
       "      <td>3292765271</td>\n",
       "      <td>True</td>\n",
       "      <td>False</td>\n",
       "      <td>Star Wars: Episode I  The Phantom Menace</td>\n",
       "      <td>Star Wars: Episode II  Attack of the Clones</td>\n",
       "      <td>Star Wars: Episode III  Revenge of the Sith</td>\n",
       "      <td>NaN</td>\n",
       "      <td>NaN</td>\n",
       "      <td>NaN</td>\n",
       "      <td>...</td>\n",
       "      <td>Unfamiliar (N/A)</td>\n",
       "      <td>I don't understand this question</td>\n",
       "      <td>No</td>\n",
       "      <td>NaN</td>\n",
       "      <td>No</td>\n",
       "      <td>Male</td>\n",
       "      <td>18-29</td>\n",
       "      <td>$0 - $24,999</td>\n",
       "      <td>High school degree</td>\n",
       "      <td>West North Central</td>\n",
       "    </tr>\n",
       "  </tbody>\n",
       "</table>\n",
       "<p>3 rows × 39 columns</p>\n",
       "</div>"
      ],
      "text/plain": [
       "   index  RespondentID  \\\n",
       "0      1    3292879998   \n",
       "1      2    3292879538   \n",
       "2      3    3292765271   \n",
       "\n",
       "   Have you seen any of the 6 films in the Star Wars franchise?  \\\n",
       "0                                               True              \n",
       "1                                              False              \n",
       "2                                               True              \n",
       "\n",
       "  Do you consider yourself to be a fan of the Star Wars film franchise?  \\\n",
       "0                                               True                      \n",
       "1                                                NaN                      \n",
       "2                                              False                      \n",
       "\n",
       "                                     seen_1  \\\n",
       "0  Star Wars: Episode I  The Phantom Menace   \n",
       "1                                       NaN   \n",
       "2  Star Wars: Episode I  The Phantom Menace   \n",
       "\n",
       "                                        seen_2  \\\n",
       "0  Star Wars: Episode II  Attack of the Clones   \n",
       "1                                          NaN   \n",
       "2  Star Wars: Episode II  Attack of the Clones   \n",
       "\n",
       "                                        seen_3  \\\n",
       "0  Star Wars: Episode III  Revenge of the Sith   \n",
       "1                                          NaN   \n",
       "2  Star Wars: Episode III  Revenge of the Sith   \n",
       "\n",
       "                              seen_4  \\\n",
       "0  Star Wars: Episode IV  A New Hope   \n",
       "1                                NaN   \n",
       "2                                NaN   \n",
       "\n",
       "                                         seen_5  \\\n",
       "0  Star Wars: Episode V The Empire Strikes Back   \n",
       "1                                           NaN   \n",
       "2                                           NaN   \n",
       "\n",
       "                                     seen_6  ...              Yoda  \\\n",
       "0  Star Wars: Episode VI Return of the Jedi  ...    Very favorably   \n",
       "1                                       NaN  ...               NaN   \n",
       "2                                       NaN  ...  Unfamiliar (N/A)   \n",
       "\n",
       "        Which character shot first?  \\\n",
       "0  I don't understand this question   \n",
       "1                               NaN   \n",
       "2  I don't understand this question   \n",
       "\n",
       "  Are you familiar with the Expanded Universe?  \\\n",
       "0                                          Yes   \n",
       "1                                          NaN   \n",
       "2                                           No   \n",
       "\n",
       "  Do you consider yourself to be a fan of the Expanded Universe?æ  \\\n",
       "0                                                 No                 \n",
       "1                                                NaN                 \n",
       "2                                                NaN                 \n",
       "\n",
       "  Do you consider yourself to be a fan of the Star Trek franchise? Gender  \\\n",
       "0                                                 No                 Male   \n",
       "1                                                Yes                 Male   \n",
       "2                                                 No                 Male   \n",
       "\n",
       "     Age Household Income           Education Location (Census Region)  \n",
       "0  18-29              NaN  High school degree           South Atlantic  \n",
       "1  18-29     $0 - $24,999     Bachelor degree       West South Central  \n",
       "2  18-29     $0 - $24,999  High school degree       West North Central  \n",
       "\n",
       "[3 rows x 39 columns]"
      ]
     },
     "execution_count": 14,
     "metadata": {},
     "output_type": "execute_result"
    }
   ],
   "source": [
    "star_wars.head(3)"
   ]
  },
  {
   "cell_type": "code",
   "execution_count": 15,
   "metadata": {},
   "outputs": [],
   "source": [
    "# Replace seen movie names with true/false from seen_1 to seen_6 columns\n",
    "# Pay attention to correct string names\n",
    "\n",
    "import numpy as np \n",
    "\n",
    "movie_mapping = {\n",
    "                 \"Star Wars: Episode I  The Phantom Menace\": True,\n",
    "                 \"Star Wars: Episode II  Attack of the Clones\":True,\t\n",
    "                 \"Star Wars: Episode III  Revenge of the Sith\": True,\n",
    "                 \"Star Wars: Episode IV  A New Hope\":True, \n",
    "                 \"Star Wars: Episode V The Empire Strikes Back\":True,\t\n",
    "                 \"Star Wars: Episode VI Return of the Jedi\": True,\n",
    "                 np.nan : False\n",
    "                }\n",
    "for col in star_wars.iloc[:,4:10]:\n",
    "    # print(col)\n",
    "    star_wars[col] = star_wars[col].map(movie_mapping)"
   ]
  },
  {
   "cell_type": "code",
   "execution_count": 16,
   "metadata": {},
   "outputs": [
    {
     "data": {
      "text/html": [
       "<div>\n",
       "<style scoped>\n",
       "    .dataframe tbody tr th:only-of-type {\n",
       "        vertical-align: middle;\n",
       "    }\n",
       "\n",
       "    .dataframe tbody tr th {\n",
       "        vertical-align: top;\n",
       "    }\n",
       "\n",
       "    .dataframe thead th {\n",
       "        text-align: right;\n",
       "    }\n",
       "</style>\n",
       "<table border=\"1\" class=\"dataframe\">\n",
       "  <thead>\n",
       "    <tr style=\"text-align: right;\">\n",
       "      <th></th>\n",
       "      <th>index</th>\n",
       "      <th>RespondentID</th>\n",
       "      <th>Have you seen any of the 6 films in the Star Wars franchise?</th>\n",
       "      <th>Do you consider yourself to be a fan of the Star Wars film franchise?</th>\n",
       "      <th>seen_1</th>\n",
       "      <th>seen_2</th>\n",
       "      <th>seen_3</th>\n",
       "      <th>seen_4</th>\n",
       "      <th>seen_5</th>\n",
       "      <th>seen_6</th>\n",
       "      <th>...</th>\n",
       "      <th>Yoda</th>\n",
       "      <th>Which character shot first?</th>\n",
       "      <th>Are you familiar with the Expanded Universe?</th>\n",
       "      <th>Do you consider yourself to be a fan of the Expanded Universe?æ</th>\n",
       "      <th>Do you consider yourself to be a fan of the Star Trek franchise?</th>\n",
       "      <th>Gender</th>\n",
       "      <th>Age</th>\n",
       "      <th>Household Income</th>\n",
       "      <th>Education</th>\n",
       "      <th>Location (Census Region)</th>\n",
       "    </tr>\n",
       "  </thead>\n",
       "  <tbody>\n",
       "    <tr>\n",
       "      <th>0</th>\n",
       "      <td>1</td>\n",
       "      <td>3292879998</td>\n",
       "      <td>True</td>\n",
       "      <td>True</td>\n",
       "      <td>True</td>\n",
       "      <td>True</td>\n",
       "      <td>True</td>\n",
       "      <td>True</td>\n",
       "      <td>True</td>\n",
       "      <td>True</td>\n",
       "      <td>...</td>\n",
       "      <td>Very favorably</td>\n",
       "      <td>I don't understand this question</td>\n",
       "      <td>Yes</td>\n",
       "      <td>No</td>\n",
       "      <td>No</td>\n",
       "      <td>Male</td>\n",
       "      <td>18-29</td>\n",
       "      <td>NaN</td>\n",
       "      <td>High school degree</td>\n",
       "      <td>South Atlantic</td>\n",
       "    </tr>\n",
       "    <tr>\n",
       "      <th>1</th>\n",
       "      <td>2</td>\n",
       "      <td>3292879538</td>\n",
       "      <td>False</td>\n",
       "      <td>NaN</td>\n",
       "      <td>False</td>\n",
       "      <td>False</td>\n",
       "      <td>False</td>\n",
       "      <td>False</td>\n",
       "      <td>False</td>\n",
       "      <td>False</td>\n",
       "      <td>...</td>\n",
       "      <td>NaN</td>\n",
       "      <td>NaN</td>\n",
       "      <td>NaN</td>\n",
       "      <td>NaN</td>\n",
       "      <td>Yes</td>\n",
       "      <td>Male</td>\n",
       "      <td>18-29</td>\n",
       "      <td>$0 - $24,999</td>\n",
       "      <td>Bachelor degree</td>\n",
       "      <td>West South Central</td>\n",
       "    </tr>\n",
       "    <tr>\n",
       "      <th>2</th>\n",
       "      <td>3</td>\n",
       "      <td>3292765271</td>\n",
       "      <td>True</td>\n",
       "      <td>False</td>\n",
       "      <td>True</td>\n",
       "      <td>True</td>\n",
       "      <td>True</td>\n",
       "      <td>False</td>\n",
       "      <td>False</td>\n",
       "      <td>False</td>\n",
       "      <td>...</td>\n",
       "      <td>Unfamiliar (N/A)</td>\n",
       "      <td>I don't understand this question</td>\n",
       "      <td>No</td>\n",
       "      <td>NaN</td>\n",
       "      <td>No</td>\n",
       "      <td>Male</td>\n",
       "      <td>18-29</td>\n",
       "      <td>$0 - $24,999</td>\n",
       "      <td>High school degree</td>\n",
       "      <td>West North Central</td>\n",
       "    </tr>\n",
       "  </tbody>\n",
       "</table>\n",
       "<p>3 rows × 39 columns</p>\n",
       "</div>"
      ],
      "text/plain": [
       "   index  RespondentID  \\\n",
       "0      1    3292879998   \n",
       "1      2    3292879538   \n",
       "2      3    3292765271   \n",
       "\n",
       "   Have you seen any of the 6 films in the Star Wars franchise?  \\\n",
       "0                                               True              \n",
       "1                                              False              \n",
       "2                                               True              \n",
       "\n",
       "  Do you consider yourself to be a fan of the Star Wars film franchise?  \\\n",
       "0                                               True                      \n",
       "1                                                NaN                      \n",
       "2                                              False                      \n",
       "\n",
       "   seen_1  seen_2  seen_3  seen_4  seen_5  seen_6  ...              Yoda  \\\n",
       "0    True    True    True    True    True    True  ...    Very favorably   \n",
       "1   False   False   False   False   False   False  ...               NaN   \n",
       "2    True    True    True   False   False   False  ...  Unfamiliar (N/A)   \n",
       "\n",
       "        Which character shot first?  \\\n",
       "0  I don't understand this question   \n",
       "1                               NaN   \n",
       "2  I don't understand this question   \n",
       "\n",
       "  Are you familiar with the Expanded Universe?  \\\n",
       "0                                          Yes   \n",
       "1                                          NaN   \n",
       "2                                           No   \n",
       "\n",
       "  Do you consider yourself to be a fan of the Expanded Universe?æ  \\\n",
       "0                                                 No                 \n",
       "1                                                NaN                 \n",
       "2                                                NaN                 \n",
       "\n",
       "  Do you consider yourself to be a fan of the Star Trek franchise? Gender  \\\n",
       "0                                                 No                 Male   \n",
       "1                                                Yes                 Male   \n",
       "2                                                 No                 Male   \n",
       "\n",
       "     Age Household Income           Education Location (Census Region)  \n",
       "0  18-29              NaN  High school degree           South Atlantic  \n",
       "1  18-29     $0 - $24,999     Bachelor degree       West South Central  \n",
       "2  18-29     $0 - $24,999  High school degree       West North Central  \n",
       "\n",
       "[3 rows x 39 columns]"
      ]
     },
     "execution_count": 16,
     "metadata": {},
     "output_type": "execute_result"
    }
   ],
   "source": [
    "star_wars.head(3)"
   ]
  },
  {
   "cell_type": "code",
   "execution_count": 17,
   "metadata": {},
   "outputs": [
    {
     "name": "stdout",
     "output_type": "stream",
     "text": [
      "0 index\n",
      "1 RespondentID\n",
      "2 Have you seen any of the 6 films in the Star Wars franchise?\n",
      "3 Do you consider yourself to be a fan of the Star Wars film franchise?\n",
      "4 seen_1\n",
      "5 seen_2\n",
      "6 seen_3\n",
      "7 seen_4\n",
      "8 seen_5\n",
      "9 seen_6\n",
      "10 ranking_1\n",
      "11 ranking_2\n",
      "12 ranking_3\n",
      "13 ranking_4\n",
      "14 ranking_5\n",
      "15 ranking_6\n",
      "16 Han Solo\n",
      "17 Luke Skywalker\n",
      "18 Princess Leia Organa\n",
      "19 Anakin Skywalker\n",
      "20 Obi Wan Kenobi\n",
      "21 Emperor Palpatine\n",
      "22 Darth Vader\n",
      "23 Lando Calrissian\n",
      "24 Boba Fett\n",
      "25 C-3P0\n",
      "26 R2 D2\n",
      "27 Jar Jar Binks\n",
      "28 Padme Amidala\n",
      "29 Yoda\n",
      "30 Which character shot first?\n",
      "31 Are you familiar with the Expanded Universe?\n",
      "32 Do you consider yourself to be a fan of the Expanded Universe?æ\n",
      "33 Do you consider yourself to be a fan of the Star Trek franchise?\n",
      "34 Gender\n",
      "35 Age\n",
      "36 Household Income\n",
      "37 Education\n",
      "38 Location (Census Region)\n"
     ]
    }
   ],
   "source": [
    "# Get index of all columns\n",
    "for col_index, col in enumerate(star_wars.columns):\n",
    "    print(col_index, col)"
   ]
  },
  {
   "cell_type": "code",
   "execution_count": 18,
   "metadata": {},
   "outputs": [],
   "source": [
    "# Make ranking columns float to find average values \n",
    "\n",
    "star_wars[star_wars.columns[10:16]] = star_wars[star_wars.columns[10:16]].astype(float)\n"
   ]
  },
  {
   "cell_type": "code",
   "execution_count": 19,
   "metadata": {},
   "outputs": [
    {
     "name": "stdout",
     "output_type": "stream",
     "text": [
      "<class 'pandas.core.frame.DataFrame'>\n",
      "RangeIndex: 1186 entries, 0 to 1185\n",
      "Data columns (total 39 columns):\n",
      " #   Column                                                                 Non-Null Count  Dtype  \n",
      "---  ------                                                                 --------------  -----  \n",
      " 0   index                                                                  1186 non-null   int64  \n",
      " 1   RespondentID                                                           1186 non-null   int64  \n",
      " 2   Have you seen any of the 6 films in the Star Wars franchise?           1186 non-null   bool   \n",
      " 3   Do you consider yourself to be a fan of the Star Wars film franchise?  836 non-null    object \n",
      " 4   seen_1                                                                 1186 non-null   bool   \n",
      " 5   seen_2                                                                 1186 non-null   bool   \n",
      " 6   seen_3                                                                 1186 non-null   bool   \n",
      " 7   seen_4                                                                 1186 non-null   bool   \n",
      " 8   seen_5                                                                 1186 non-null   bool   \n",
      " 9   seen_6                                                                 1186 non-null   bool   \n",
      " 10  ranking_1                                                              835 non-null    float64\n",
      " 11  ranking_2                                                              836 non-null    float64\n",
      " 12  ranking_3                                                              835 non-null    float64\n",
      " 13  ranking_4                                                              836 non-null    float64\n",
      " 14  ranking_5                                                              836 non-null    float64\n",
      " 15  ranking_6                                                              836 non-null    float64\n",
      " 16  Han Solo                                                               829 non-null    object \n",
      " 17  Luke Skywalker                                                         831 non-null    object \n",
      " 18  Princess Leia Organa                                                   831 non-null    object \n",
      " 19  Anakin Skywalker                                                       823 non-null    object \n",
      " 20  Obi Wan Kenobi                                                         825 non-null    object \n",
      " 21  Emperor Palpatine                                                      814 non-null    object \n",
      " 22  Darth Vader                                                            826 non-null    object \n",
      " 23  Lando Calrissian                                                       820 non-null    object \n",
      " 24  Boba Fett                                                              812 non-null    object \n",
      " 25  C-3P0                                                                  827 non-null    object \n",
      " 26  R2 D2                                                                  830 non-null    object \n",
      " 27  Jar Jar Binks                                                          821 non-null    object \n",
      " 28  Padme Amidala                                                          814 non-null    object \n",
      " 29  Yoda                                                                   826 non-null    object \n",
      " 30  Which character shot first?                                            828 non-null    object \n",
      " 31  Are you familiar with the Expanded Universe?                           828 non-null    object \n",
      " 32  Do you consider yourself to be a fan of the Expanded Universe?æ       213 non-null    object \n",
      " 33  Do you consider yourself to be a fan of the Star Trek franchise?       1068 non-null   object \n",
      " 34  Gender                                                                 1046 non-null   object \n",
      " 35  Age                                                                    1046 non-null   object \n",
      " 36  Household Income                                                       858 non-null    object \n",
      " 37  Education                                                              1036 non-null   object \n",
      " 38  Location (Census Region)                                               1043 non-null   object \n",
      "dtypes: bool(7), float64(6), int64(2), object(24)\n",
      "memory usage: 304.7+ KB\n"
     ]
    }
   ],
   "source": [
    "star_wars.info()"
   ]
  },
  {
   "cell_type": "markdown",
   "metadata": {},
   "source": [
    "## Data Analysis\n",
    "After cleaning the data, we can now use it for further analysis.\n",
    "\n",
    "- We will analyse: \n",
    "1. Average ranking of movies.\n",
    "2. Total view counts of movies.\n",
    "3. Gender wise average ranking of movies.\n",
    "4. Gender wise view counts of movies\n",
    "5. Most pupular characters"
   ]
  },
  {
   "cell_type": "markdown",
   "metadata": {},
   "source": [
    "### 1. Average ranking of starwars episdoes"
   ]
  },
  {
   "cell_type": "code",
   "execution_count": 20,
   "metadata": {},
   "outputs": [],
   "source": [
    "starwars_ranking_cols = star_wars.iloc[:, 10:16]\n",
    "starwars_ranking_cols = starwars_ranking_cols.dropna()\n"
   ]
  },
  {
   "cell_type": "code",
   "execution_count": 21,
   "metadata": {},
   "outputs": [],
   "source": [
    "# Change column names of ranking\n",
    "new_names = {\n",
    "    'ranking_1': 'Episode I',\n",
    "    'ranking_2': 'Episode II',\n",
    "    'ranking_3': 'Episode III',\n",
    "    'ranking_4': 'Episode IV',\n",
    "    'ranking_5': 'Episode V',\n",
    "    'ranking_6': 'Episode VI',\n",
    "    'seen_1': 'Episode I',\n",
    "    'seen_2': 'Episode II',\n",
    "    'seen_3': 'Episode III',\n",
    "    'seen_4': 'Episode IV',\n",
    "    'seen_5': 'Episode V',\n",
    "    'seen_6': 'Episode VI'\n",
    "}\n",
    "starwars_ranking_cols = starwars_ranking_cols.rename(columns=new_names)\n",
    "\n",
    "mean_rankings = starwars_ranking_cols.mean()\n",
    "\n",
    "# mean_rankings = mean_rankings.rename(new_names)"
   ]
  },
  {
   "cell_type": "code",
   "execution_count": 22,
   "metadata": {},
   "outputs": [
    {
     "data": {
      "text/plain": [
       "np.int64(0)"
      ]
     },
     "execution_count": 22,
     "metadata": {},
     "output_type": "execute_result"
    }
   ],
   "source": [
    "(starwars_ranking_cols.values>6).sum()"
   ]
  },
  {
   "cell_type": "code",
   "execution_count": 23,
   "metadata": {},
   "outputs": [
    {
     "data": {
      "text/plain": [
       "Episode I      3.736211\n",
       "Episode II     4.091127\n",
       "Episode III    4.344125\n",
       "Episode IV     3.269784\n",
       "Episode V      2.511990\n",
       "Episode VI     3.046763\n",
       "dtype: float64"
      ]
     },
     "execution_count": 23,
     "metadata": {},
     "output_type": "execute_result"
    }
   ],
   "source": [
    "mean_rankings"
   ]
  },
  {
   "cell_type": "code",
   "execution_count": 24,
   "metadata": {},
   "outputs": [
    {
     "data": {
      "application/vnd.plotly.v1+json": {
       "config": {
        "plotlyServerURL": "https://plot.ly"
       },
       "data": [
        {
         "bandwidth": 0.4,
         "box": {
          "visible": true
         },
         "meanline": {
          "visible": true
         },
         "name": "Episode I",
         "type": "violin",
         "y": [
          3,
          1,
          5,
          5,
          1,
          6,
          4,
          5,
          1,
          3,
          4,
          4,
          4,
          4,
          1,
          6,
          6,
          6,
          3,
          6,
          6,
          1,
          4,
          6,
          6,
          4,
          4,
          6,
          6,
          6,
          6,
          3,
          2,
          6,
          4,
          5,
          6,
          5,
          6,
          5,
          6,
          5,
          6,
          4,
          6,
          4,
          5,
          6,
          4,
          6,
          6,
          5,
          5,
          1,
          4,
          6,
          1,
          6,
          6,
          6,
          5,
          4,
          6,
          6,
          5,
          4,
          4,
          3,
          3,
          6,
          5,
          6,
          6,
          6,
          6,
          6,
          1,
          5,
          6,
          1,
          6,
          1,
          6,
          3,
          1,
          2,
          6,
          5,
          4,
          6,
          2,
          3,
          3,
          1,
          1,
          4,
          3,
          3,
          3,
          4,
          6,
          4,
          4,
          2,
          6,
          3,
          4,
          3,
          5,
          1,
          2,
          4,
          4,
          6,
          1,
          4,
          4,
          4,
          4,
          4,
          4,
          4,
          3,
          4,
          6,
          4,
          2,
          1,
          4,
          3,
          3,
          6,
          1,
          2,
          5,
          6,
          5,
          4,
          5,
          5,
          5,
          6,
          4,
          3,
          6,
          4,
          6,
          6,
          6,
          4,
          1,
          6,
          5,
          3,
          2,
          4,
          5,
          4,
          6,
          2,
          3,
          1,
          5,
          4,
          5,
          2,
          5,
          3,
          1,
          5,
          3,
          4,
          4,
          1,
          4,
          4,
          1,
          4,
          5,
          5,
          4,
          4,
          3,
          4,
          3,
          1,
          4,
          3,
          4,
          4,
          1,
          4,
          6,
          2,
          3,
          4,
          4,
          4,
          6,
          6,
          5,
          5,
          6,
          3,
          6,
          4,
          5,
          6,
          2,
          4,
          1,
          3,
          1,
          4,
          5,
          4,
          4,
          2,
          1,
          6,
          3,
          3,
          3,
          6,
          1,
          4,
          1,
          4,
          1,
          4,
          2,
          6,
          4,
          3,
          5,
          1,
          3,
          2,
          1,
          6,
          4,
          2,
          4,
          5,
          5,
          4,
          4,
          4,
          5,
          4,
          2,
          3,
          4,
          4,
          4,
          2,
          3,
          4,
          4,
          1,
          2,
          6,
          6,
          4,
          4,
          3,
          4,
          3,
          3,
          6,
          3,
          1,
          1,
          4,
          2,
          2,
          4,
          1,
          4,
          4,
          6,
          1,
          1,
          6,
          4,
          4,
          3,
          5,
          4,
          1,
          4,
          4,
          6,
          6,
          4,
          6,
          4,
          4,
          4,
          6,
          6,
          6,
          6,
          4,
          1,
          4,
          4,
          4,
          6,
          2,
          3,
          4,
          6,
          4,
          3,
          4,
          1,
          6,
          6,
          3,
          3,
          5,
          6,
          5,
          4,
          6,
          5,
          4,
          6,
          4,
          5,
          4,
          4,
          4,
          4,
          1,
          4,
          6,
          1,
          3,
          6,
          6,
          4,
          1,
          3,
          6,
          1,
          6,
          4,
          6,
          5,
          2,
          3,
          1,
          3,
          4,
          5,
          1,
          1,
          2,
          5,
          4,
          5,
          3,
          3,
          3,
          3,
          4,
          4,
          5,
          2,
          1,
          4,
          4,
          2,
          3,
          3,
          4,
          6,
          6,
          4,
          4,
          1,
          3,
          1,
          2,
          4,
          6,
          4,
          6,
          1,
          4,
          2,
          2,
          1,
          4,
          6,
          4,
          6,
          4,
          4,
          1,
          4,
          5,
          2,
          1,
          3,
          3,
          5,
          2,
          5,
          4,
          4,
          6,
          6,
          6,
          2,
          3,
          2,
          4,
          2,
          1,
          4,
          1,
          6,
          3,
          2,
          5,
          3,
          4,
          4,
          1,
          3,
          1,
          2,
          5,
          6,
          6,
          2,
          4,
          4,
          4,
          3,
          3,
          6,
          1,
          6,
          4,
          4,
          2,
          2,
          4,
          5,
          6,
          2,
          6,
          3,
          3,
          3,
          3,
          2,
          4,
          4,
          2,
          4,
          3,
          3,
          1,
          2,
          4,
          6,
          4,
          6,
          2,
          3,
          2,
          2,
          3,
          1,
          4,
          5,
          3,
          4,
          4,
          5,
          4,
          3,
          4,
          5,
          4,
          1,
          4,
          3,
          6,
          5,
          1,
          2,
          4,
          1,
          5,
          4,
          1,
          1,
          6,
          6,
          2,
          5,
          5,
          5,
          6,
          6,
          6,
          3,
          6,
          4,
          6,
          4,
          3,
          3,
          3,
          3,
          4,
          4,
          6,
          4,
          5,
          1,
          5,
          6,
          6,
          3,
          6,
          3,
          1,
          6,
          3,
          1,
          4,
          1,
          5,
          5,
          4,
          1,
          4,
          5,
          6,
          3,
          3,
          2,
          6,
          3,
          5,
          4,
          4,
          2,
          4,
          1,
          1,
          4,
          4,
          6,
          4,
          1,
          6,
          3,
          4,
          5,
          4,
          5,
          4,
          1,
          1,
          6,
          3,
          3,
          1,
          6,
          3,
          2,
          1,
          4,
          3,
          4,
          1,
          1,
          4,
          4,
          1,
          1,
          4,
          3,
          4,
          1,
          6,
          3,
          4,
          6,
          1,
          5,
          6,
          4,
          6,
          6,
          1,
          4,
          6,
          6,
          4,
          4,
          1,
          1,
          4,
          6,
          1,
          5,
          4,
          4,
          4,
          4,
          1,
          2,
          3,
          5,
          3,
          3,
          3,
          1,
          1,
          4,
          4,
          1,
          5,
          1,
          6,
          3,
          4,
          2,
          4,
          6,
          6,
          5,
          4,
          6,
          2,
          5,
          5,
          1,
          4,
          3,
          6,
          1,
          6,
          5,
          6,
          6,
          1,
          5,
          1,
          4,
          2,
          1,
          4,
          3,
          6,
          4,
          1,
          5,
          2,
          6,
          6,
          1,
          1,
          4,
          1,
          4,
          3,
          1,
          1,
          3,
          4,
          3,
          1,
          1,
          4,
          5,
          6,
          3,
          2,
          4,
          4,
          3,
          4,
          4,
          3,
          5,
          4,
          1,
          6,
          6,
          2,
          1,
          1,
          4,
          1,
          3,
          5,
          6,
          3,
          2,
          3,
          4,
          1,
          6,
          5,
          2,
          5,
          6,
          2,
          4,
          1,
          3,
          6,
          2,
          4,
          2,
          5,
          2,
          1,
          3,
          3,
          2,
          5,
          4,
          3,
          4,
          5,
          6,
          2,
          6,
          3,
          4,
          5,
          5,
          4,
          6,
          4,
          6,
          6,
          4,
          5,
          4,
          4,
          6,
          2,
          5,
          4,
          6,
          4,
          1,
          4,
          6,
          4,
          3,
          3,
          3,
          4,
          4,
          2,
          4,
          6,
          4,
          5,
          6,
          1,
          3,
          4,
          4,
          3,
          6,
          1,
          3,
          5,
          4,
          6,
          1,
          4,
          3,
          1,
          1,
          1,
          3,
          3,
          4,
          5,
          1,
          4,
          1,
          6,
          4,
          1,
          4,
          1,
          3,
          4,
          6,
          5,
          3,
          6,
          6,
          4,
          3,
          2,
          3,
          3,
          4,
          5,
          5,
          5,
          6,
          3,
          4,
          6,
          2,
          5,
          1,
          1,
          2,
          1,
          3,
          3,
          5,
          4,
          4,
          6
         ]
        },
        {
         "bandwidth": 0.4,
         "box": {
          "visible": true
         },
         "meanline": {
          "visible": true
         },
         "name": "Episode II",
         "type": "violin",
         "y": [
          2,
          2,
          6,
          4,
          4,
          5,
          5,
          4,
          2,
          4,
          5,
          2,
          6,
          1,
          2,
          5,
          5,
          5,
          4,
          5,
          1,
          2,
          6,
          5,
          5,
          6,
          3,
          5,
          1,
          1,
          3,
          2,
          4,
          3,
          5,
          6,
          5,
          6,
          5,
          6,
          5,
          4,
          5,
          6,
          4,
          5,
          6,
          5,
          6,
          4,
          4,
          4,
          6,
          2,
          5,
          5,
          2,
          5,
          1,
          5,
          6,
          5,
          4,
          5,
          6,
          5,
          5,
          4,
          4,
          5,
          4,
          5,
          5,
          4,
          5,
          5,
          4,
          4,
          5,
          2,
          5,
          4,
          5,
          5,
          2,
          3,
          5,
          3,
          5,
          5,
          3,
          4,
          5,
          4,
          2,
          5,
          4,
          4,
          6,
          5,
          4,
          5,
          5,
          3,
          5,
          4,
          5,
          6,
          6,
          2,
          3,
          3,
          5,
          5,
          2,
          5,
          2,
          5,
          5,
          6,
          5,
          3,
          1,
          5,
          5,
          5,
          3,
          2,
          5,
          5,
          1,
          4,
          3,
          1,
          6,
          5,
          6,
          5,
          6,
          6,
          6,
          5,
          5,
          4,
          5,
          5,
          5,
          5,
          2,
          3,
          5,
          3,
          6,
          4,
          3,
          5,
          3,
          5,
          2,
          3,
          4,
          2,
          4,
          5,
          6,
          1,
          1,
          4,
          2,
          2,
          1,
          5,
          5,
          6,
          5,
          5,
          2,
          5,
          6,
          6,
          5,
          3,
          6,
          5,
          4,
          3,
          5,
          4,
          6,
          5,
          2,
          6,
          5,
          3,
          4,
          5,
          5,
          5,
          2,
          4,
          6,
          6,
          5,
          4,
          4,
          3,
          6,
          5,
          3,
          5,
          2,
          4,
          6,
          5,
          4,
          5,
          5,
          3,
          2,
          4,
          4,
          5,
          4,
          5,
          2,
          5,
          2,
          2,
          2,
          3,
          4,
          5,
          5,
          1,
          6,
          5,
          4,
          3,
          3,
          4,
          3,
          3,
          5,
          4,
          3,
          1,
          5,
          5,
          3,
          6,
          3,
          4,
          5,
          5,
          5,
          3,
          4,
          6,
          5,
          2,
          3,
          5,
          5,
          5,
          5,
          2,
          3,
          4,
          4,
          3,
          4,
          2,
          2,
          5,
          3,
          4,
          3,
          2,
          5,
          6,
          5,
          2,
          2,
          5,
          5,
          5,
          4,
          4,
          5,
          2,
          5,
          5,
          4,
          5,
          6,
          5,
          5,
          5,
          5,
          5,
          4,
          3,
          1,
          5,
          2,
          5,
          6,
          5,
          2,
          3,
          4,
          5,
          4,
          5,
          4,
          5,
          2,
          5,
          5,
          4,
          4,
          6,
          4,
          6,
          5,
          5,
          2,
          5,
          5,
          5,
          6,
          5,
          5,
          6,
          5,
          2,
          2,
          4,
          2,
          1,
          3,
          1,
          5,
          2,
          4,
          4,
          2,
          1,
          5,
          4,
          4,
          3,
          5,
          2,
          4,
          6,
          4,
          4,
          2,
          4,
          3,
          5,
          6,
          4,
          4,
          4,
          6,
          5,
          3,
          3,
          5,
          5,
          5,
          3,
          3,
          1,
          4,
          5,
          3,
          4,
          6,
          5,
          5,
          4,
          3,
          1,
          5,
          4,
          5,
          4,
          2,
          5,
          5,
          3,
          4,
          2,
          5,
          5,
          4,
          6,
          2,
          5,
          5,
          3,
          3,
          4,
          4,
          4,
          3,
          3,
          6,
          5,
          5,
          4,
          5,
          4,
          3,
          4,
          1,
          5,
          5,
          3,
          1,
          2,
          5,
          4,
          1,
          4,
          4,
          6,
          6,
          2,
          4,
          2,
          3,
          6,
          1,
          4,
          3,
          5,
          5,
          5,
          4,
          4,
          4,
          2,
          4,
          6,
          5,
          3,
          3,
          5,
          4,
          5,
          3,
          5,
          4,
          4,
          2,
          4,
          3,
          5,
          5,
          4,
          6,
          4,
          4,
          2,
          6,
          5,
          3,
          3,
          4,
          3,
          4,
          3,
          3,
          4,
          2,
          5,
          6,
          2,
          5,
          5,
          2,
          5,
          4,
          5,
          6,
          5,
          2,
          5,
          4,
          5,
          4,
          2,
          3,
          5,
          2,
          6,
          6,
          4,
          2,
          5,
          5,
          3,
          6,
          4,
          4,
          5,
          5,
          4,
          4,
          4,
          5,
          5,
          5,
          4,
          4,
          5,
          4,
          5,
          5,
          5,
          6,
          4,
          5,
          2,
          3,
          3,
          6,
          5,
          4,
          2,
          4,
          4,
          4,
          5,
          4,
          6,
          4,
          5,
          4,
          5,
          6,
          4,
          4,
          4,
          4,
          2,
          4,
          6,
          5,
          5,
          3,
          5,
          2,
          2,
          5,
          5,
          5,
          5,
          3,
          5,
          6,
          5,
          6,
          5,
          6,
          5,
          2,
          6,
          3,
          4,
          4,
          2,
          4,
          6,
          1,
          2,
          5,
          4,
          5,
          4,
          2,
          5,
          5,
          2,
          2,
          2,
          4,
          6,
          2,
          2,
          4,
          5,
          5,
          2,
          6,
          5,
          5,
          5,
          4,
          2,
          5,
          4,
          5,
          5,
          5,
          2,
          2,
          5,
          5,
          2,
          2,
          5,
          5,
          5,
          5,
          3,
          3,
          6,
          6,
          4,
          4,
          4,
          2,
          5,
          5,
          5,
          3,
          6,
          3,
          2,
          5,
          5,
          1,
          6,
          5,
          5,
          6,
          6,
          5,
          3,
          6,
          6,
          2,
          5,
          4,
          4,
          4,
          1,
          3,
          4,
          1,
          2,
          6,
          3,
          5,
          3,
          2,
          6,
          5,
          5,
          5,
          3,
          6,
          5,
          4,
          3,
          2,
          2,
          5,
          2,
          5,
          4,
          4,
          2,
          5,
          5,
          5,
          3,
          5,
          5,
          6,
          5,
          2,
          1,
          5,
          5,
          5,
          5,
          5,
          4,
          4,
          6,
          2,
          4,
          4,
          3,
          2,
          2,
          5,
          2,
          5,
          6,
          2,
          4,
          3,
          5,
          5,
          2,
          3,
          6,
          6,
          6,
          5,
          5,
          5,
          2,
          1,
          4,
          4,
          5,
          3,
          6,
          4,
          2,
          6,
          4,
          5,
          3,
          5,
          4,
          6,
          4,
          5,
          3,
          3,
          2,
          3,
          6,
          2,
          5,
          5,
          5,
          5,
          5,
          6,
          4,
          5,
          6,
          5,
          3,
          6,
          5,
          5,
          5,
          2,
          5,
          5,
          1,
          4,
          4,
          4,
          5,
          5,
          3,
          3,
          5,
          5,
          6,
          5,
          4,
          4,
          5,
          5,
          4,
          5,
          2,
          5,
          3,
          6,
          5,
          2,
          5,
          2,
          4,
          5,
          5,
          4,
          4,
          5,
          6,
          2,
          5,
          5,
          4,
          5,
          4,
          5,
          2,
          5,
          5,
          4,
          3,
          2,
          5,
          4,
          5,
          4,
          3,
          4,
          4,
          5,
          6,
          4,
          6,
          5,
          4,
          5,
          2,
          3,
          3,
          2,
          3,
          1,
          2,
          4,
          4,
          4,
          5,
          3,
          1
         ]
        },
        {
         "bandwidth": 0.4,
         "box": {
          "visible": true
         },
         "meanline": {
          "visible": true
         },
         "name": "Episode III",
         "type": "violin",
         "y": [
          1,
          3,
          1,
          6,
          3,
          4,
          6,
          6,
          3,
          5,
          6,
          5,
          5,
          2,
          3,
          2,
          1,
          4,
          5,
          4,
          4,
          6,
          5,
          4,
          4,
          5,
          5,
          4,
          2,
          2,
          4,
          1,
          5,
          5,
          6,
          2,
          4,
          4,
          4,
          4,
          4,
          6,
          4,
          5,
          5,
          1,
          4,
          4,
          5,
          5,
          5,
          6,
          2,
          3,
          6,
          4,
          3,
          4,
          5,
          2,
          4,
          3,
          5,
          4,
          2,
          6,
          6,
          5,
          5,
          2,
          6,
          4,
          4,
          5,
          4,
          3,
          3,
          6,
          4,
          3,
          4,
          5,
          4,
          6,
          3,
          6,
          4,
          4,
          6,
          4,
          4,
          5,
          6,
          5,
          3,
          2,
          5,
          5,
          4,
          3,
          5,
          6,
          6,
          4,
          4,
          5,
          6,
          4,
          3,
          3,
          4,
          6,
          6,
          4,
          4,
          6,
          3,
          6,
          6,
          5,
          6,
          5,
          2,
          6,
          4,
          6,
          4,
          3,
          6,
          6,
          2,
          2,
          4,
          4,
          4,
          4,
          4,
          6,
          4,
          4,
          4,
          4,
          6,
          5,
          4,
          6,
          4,
          4,
          1,
          6,
          2,
          4,
          4,
          5,
          4,
          6,
          6,
          6,
          4,
          4,
          5,
          3,
          6,
          6,
          4,
          3,
          6,
          5,
          3,
          1,
          2,
          6,
          6,
          5,
          6,
          6,
          3,
          6,
          4,
          4,
          6,
          5,
          5,
          6,
          5,
          6,
          6,
          5,
          5,
          6,
          3,
          5,
          3,
          4,
          5,
          6,
          6,
          6,
          3,
          5,
          2,
          4,
          3,
          6,
          3,
          5,
          4,
          4,
          4,
          6,
          3,
          1,
          5,
          6,
          6,
          6,
          6,
          4,
          3,
          5,
          5,
          4,
          5,
          4,
          3,
          6,
          3,
          3,
          3,
          1,
          5,
          4,
          6,
          2,
          3,
          4,
          5,
          4,
          4,
          5,
          5,
          4,
          6,
          3,
          6,
          2,
          6,
          6,
          4,
          3,
          4,
          5,
          6,
          6,
          6,
          4,
          5,
          5,
          6,
          3,
          4,
          4,
          1,
          6,
          3,
          1,
          5,
          5,
          5,
          5,
          5,
          3,
          3,
          3,
          4,
          6,
          6,
          3,
          3,
          3,
          4,
          3,
          3,
          4,
          6,
          6,
          5,
          6,
          3,
          3,
          6,
          6,
          5,
          4,
          5,
          4,
          6,
          6,
          6,
          4,
          5,
          4,
          5,
          6,
          3,
          6,
          5,
          2,
          3,
          1,
          5,
          6,
          3,
          6,
          5,
          6,
          3,
          2,
          3,
          5,
          5,
          4,
          1,
          4,
          6,
          3,
          6,
          6,
          4,
          6,
          3,
          6,
          6,
          5,
          6,
          3,
          3,
          5,
          3,
          2,
          5,
          2,
          6,
          3,
          5,
          5,
          3,
          5,
          6,
          1,
          6,
          4,
          6,
          3,
          5,
          5,
          6,
          5,
          3,
          5,
          4,
          6,
          4,
          5,
          5,
          5,
          5,
          6,
          6,
          6,
          6,
          2,
          6,
          5,
          4,
          2,
          5,
          3,
          4,
          5,
          3,
          6,
          3,
          5,
          4,
          3,
          6,
          5,
          6,
          5,
          3,
          6,
          3,
          4,
          5,
          3,
          2,
          6,
          5,
          5,
          3,
          6,
          6,
          6,
          6,
          5,
          6,
          5,
          6,
          5,
          4,
          6,
          6,
          5,
          4,
          5,
          4,
          5,
          3,
          1,
          6,
          4,
          5,
          3,
          4,
          5,
          3,
          6,
          1,
          5,
          1,
          3,
          5,
          3,
          4,
          3,
          3,
          5,
          4,
          3,
          6,
          6,
          5,
          5,
          5,
          3,
          5,
          5,
          6,
          4,
          1,
          6,
          2,
          3,
          4,
          4,
          5,
          5,
          4,
          5,
          4,
          6,
          6,
          5,
          5,
          5,
          5,
          3,
          3,
          6,
          4,
          5,
          5,
          4,
          5,
          4,
          4,
          5,
          5,
          3,
          3,
          4,
          6,
          6,
          3,
          6,
          5,
          6,
          1,
          6,
          3,
          6,
          5,
          4,
          6,
          4,
          1,
          6,
          3,
          4,
          5,
          5,
          3,
          2,
          4,
          4,
          3,
          6,
          6,
          4,
          1,
          5,
          5,
          5,
          6,
          3,
          6,
          5,
          5,
          6,
          5,
          6,
          6,
          4,
          5,
          3,
          6,
          1,
          4,
          2,
          5,
          4,
          5,
          3,
          5,
          5,
          5,
          6,
          5,
          4,
          1,
          6,
          5,
          6,
          1,
          5,
          5,
          5,
          6,
          3,
          5,
          4,
          6,
          6,
          6,
          6,
          3,
          3,
          6,
          6,
          4,
          6,
          2,
          4,
          5,
          6,
          1,
          6,
          4,
          3,
          3,
          4,
          4,
          5,
          5,
          3,
          5,
          4,
          3,
          3,
          3,
          5,
          6,
          6,
          3,
          3,
          6,
          3,
          3,
          5,
          5,
          5,
          3,
          5,
          5,
          6,
          4,
          4,
          3,
          4,
          6,
          4,
          5,
          3,
          2,
          5,
          3,
          6,
          6,
          3,
          3,
          3,
          4,
          3,
          4,
          6,
          6,
          6,
          6,
          4,
          4,
          4,
          4,
          5,
          5,
          5,
          3,
          2,
          6,
          3,
          2,
          4,
          2,
          1,
          6,
          6,
          3,
          5,
          4,
          2,
          4,
          5,
          4,
          4,
          4,
          4,
          3,
          3,
          5,
          5,
          5,
          2,
          6,
          5,
          3,
          3,
          4,
          5,
          6,
          4,
          3,
          5,
          2,
          4,
          6,
          2,
          2,
          6,
          5,
          5,
          3,
          3,
          6,
          3,
          6,
          5,
          5,
          3,
          4,
          6,
          6,
          4,
          4,
          6,
          4,
          4,
          1,
          3,
          6,
          6,
          6,
          6,
          6,
          5,
          6,
          5,
          3,
          3,
          5,
          4,
          3,
          3,
          6,
          5,
          6,
          2,
          3,
          5,
          4,
          6,
          6,
          3,
          2,
          4,
          5,
          3,
          4,
          6,
          6,
          3,
          2,
          5,
          5,
          6,
          4,
          1,
          3,
          3,
          5,
          5,
          6,
          4,
          6,
          5,
          5,
          6,
          4,
          4,
          1,
          1,
          5,
          3,
          3,
          6,
          4,
          6,
          4,
          4,
          5,
          3,
          6,
          5,
          4,
          4,
          4,
          6,
          4,
          6,
          3,
          6,
          4,
          2,
          5,
          5,
          5,
          6,
          6,
          4,
          5,
          4,
          6,
          4,
          4,
          5,
          5,
          6,
          1,
          5,
          4,
          3,
          4,
          6,
          5,
          3,
          3,
          6,
          1,
          5,
          6,
          3,
          5,
          5,
          6,
          4,
          3,
          6,
          2,
          5,
          1,
          5,
          6,
          3,
          6,
          3,
          5,
          4,
          1,
          4,
          5,
          6,
          5,
          4,
          2,
          5,
          6,
          2,
          3,
          4,
          1,
          5,
          6,
          1,
          4,
          6,
          3,
          4,
          3,
          3,
          5,
          5,
          6,
          6,
          6,
          2
         ]
        },
        {
         "bandwidth": 0.4,
         "box": {
          "visible": true
         },
         "meanline": {
          "visible": true
         },
         "name": "Episode IV",
         "type": "violin",
         "y": [
          4,
          4,
          2,
          2,
          6,
          3,
          3,
          2,
          4,
          6,
          2,
          3,
          3,
          3,
          4,
          3,
          4,
          1,
          1,
          3,
          2,
          3,
          2,
          2,
          2,
          2,
          6,
          2,
          3,
          3,
          1,
          4,
          1,
          1,
          3,
          3,
          2,
          2,
          2,
          3,
          2,
          3,
          1,
          3,
          3,
          6,
          2,
          2,
          2,
          3,
          3,
          1,
          3,
          4,
          2,
          2,
          4,
          2,
          3,
          4,
          2,
          6,
          2,
          3,
          4,
          1,
          2,
          6,
          6,
          3,
          1,
          1,
          3,
          1,
          2,
          2,
          6,
          2,
          1,
          4,
          3,
          2,
          1,
          2,
          4,
          5,
          1,
          6,
          1,
          1,
          5,
          6,
          2,
          6,
          4,
          1,
          6,
          6,
          1,
          6,
          1,
          3,
          2,
          1,
          2,
          6,
          3,
          5,
          4,
          4,
          5,
          2,
          1,
          2,
          5,
          2,
          5,
          2,
          1,
          1,
          3,
          6,
          4,
          2,
          3,
          3,
          5,
          6,
          1,
          4,
          4,
          5,
          5,
          3,
          2,
          2,
          1,
          1,
          1,
          1,
          2,
          1,
          1,
          6,
          2,
          1,
          2,
          2,
          4,
          5,
          3,
          5,
          1,
          2,
          5,
          2,
          1,
          2,
          3,
          5,
          6,
          4,
          2,
          1,
          3,
          4,
          2,
          6,
          5,
          4,
          4,
          3,
          3,
          3,
          1,
          1,
          4,
          3,
          2,
          2,
          1,
          2,
          1,
          1,
          6,
          2,
          2,
          6,
          1,
          2,
          4,
          2,
          1,
          5,
          6,
          1,
          1,
          1,
          4,
          1,
          4,
          1,
          4,
          5,
          1,
          2,
          1,
          3,
          5,
          3,
          4,
          5,
          2,
          1,
          1,
          2,
          2,
          5,
          4,
          1,
          6,
          6,
          6,
          1,
          4,
          3,
          4,
          5,
          4,
          6,
          6,
          3,
          3,
          6,
          1,
          6,
          6,
          5,
          5,
          2,
          6,
          5,
          1,
          6,
          4,
          3,
          1,
          3,
          6,
          2,
          5,
          6,
          1,
          3,
          1,
          5,
          6,
          3,
          1,
          4,
          5,
          3,
          4,
          3,
          6,
          6,
          6,
          1,
          6,
          4,
          6,
          4,
          4,
          6,
          5,
          3,
          5,
          4,
          2,
          5,
          1,
          4,
          4,
          2,
          1,
          1,
          6,
          1,
          6,
          4,
          3,
          1,
          2,
          1,
          2,
          3,
          3,
          1,
          2,
          3,
          3,
          1,
          3,
          3,
          4,
          1,
          3,
          6,
          5,
          4,
          2,
          1,
          5,
          1,
          6,
          2,
          4,
          3,
          2,
          6,
          6,
          1,
          3,
          3,
          2,
          1,
          1,
          1,
          1,
          1,
          1,
          1,
          1,
          1,
          1,
          4,
          5,
          3,
          4,
          6,
          2,
          3,
          1,
          4,
          6,
          2,
          4,
          2,
          1,
          3,
          1,
          5,
          1,
          4,
          6,
          1,
          3,
          6,
          4,
          6,
          6,
          1,
          3,
          6,
          6,
          6,
          2,
          2,
          5,
          4,
          3,
          6,
          3,
          6,
          5,
          4,
          6,
          6,
          5,
          3,
          2,
          1,
          4,
          6,
          5,
          6,
          2,
          1,
          1,
          3,
          4,
          1,
          4,
          1,
          6,
          1,
          1,
          3,
          3,
          1,
          6,
          3,
          3,
          4,
          1,
          6,
          5,
          6,
          4,
          4,
          2,
          1,
          3,
          3,
          2,
          3,
          6,
          6,
          4,
          6,
          4,
          5,
          6,
          4,
          2,
          1,
          4,
          3,
          5,
          1,
          2,
          6,
          6,
          4,
          5,
          2,
          2,
          1,
          1,
          6,
          1,
          2,
          6,
          6,
          3,
          4,
          2,
          3,
          1,
          5,
          4,
          1,
          1,
          4,
          5,
          3,
          6,
          6,
          5,
          6,
          1,
          1,
          1,
          6,
          3,
          6,
          6,
          5,
          1,
          1,
          5,
          2,
          3,
          5,
          6,
          5,
          1,
          6,
          6,
          6,
          4,
          5,
          1,
          2,
          4,
          3,
          6,
          2,
          2,
          2,
          4,
          1,
          6,
          2,
          1,
          5,
          4,
          2,
          4,
          3,
          1,
          6,
          4,
          4,
          3,
          5,
          1,
          2,
          3,
          3,
          2,
          2,
          6,
          1,
          1,
          2,
          1,
          6,
          6,
          1,
          6,
          2,
          3,
          3,
          1,
          6,
          4,
          6,
          5,
          5,
          4,
          1,
          6,
          4,
          1,
          6,
          6,
          2,
          6,
          1,
          2,
          1,
          6,
          1,
          2,
          1,
          6,
          6,
          5,
          1,
          6,
          1,
          1,
          1,
          5,
          1,
          4,
          4,
          1,
          2,
          1,
          1,
          4,
          1,
          2,
          1,
          2,
          1,
          2,
          6,
          6,
          5,
          2,
          6,
          6,
          4,
          1,
          5,
          6,
          4,
          6,
          6,
          1,
          5,
          4,
          6,
          1,
          4,
          4,
          6,
          6,
          1,
          4,
          3,
          6,
          1,
          2,
          5,
          4,
          2,
          1,
          1,
          1,
          4,
          1,
          1,
          2,
          1,
          1,
          4,
          4,
          6,
          3,
          4,
          6,
          2,
          3,
          1,
          1,
          5,
          6,
          5,
          2,
          6,
          2,
          6,
          4,
          3,
          3,
          6,
          4,
          1,
          4,
          3,
          1,
          2,
          4,
          2,
          3,
          3,
          1,
          1,
          1,
          5,
          1,
          2,
          4,
          6,
          6,
          2,
          2,
          3,
          4,
          3,
          5,
          4,
          3,
          6,
          1,
          5,
          4,
          1,
          1,
          1,
          1,
          6,
          3,
          1,
          2,
          1,
          4,
          4,
          3,
          4,
          1,
          1,
          3,
          4,
          6,
          1,
          4,
          5,
          2,
          3,
          1,
          1,
          6,
          4,
          1,
          1,
          1,
          1,
          2,
          1,
          3,
          1,
          4,
          2,
          2,
          5,
          4,
          4,
          1,
          6,
          4,
          3,
          4,
          6,
          6,
          1,
          3,
          4,
          1,
          1,
          4,
          4,
          1,
          4,
          3,
          5,
          6,
          1,
          6,
          3,
          5,
          2,
          5,
          4,
          1,
          6,
          1,
          6,
          3,
          6,
          1,
          2,
          2,
          6,
          2,
          4,
          6,
          2,
          6,
          2,
          3,
          3,
          3,
          1,
          3,
          6,
          3,
          2,
          3,
          5,
          3,
          2,
          1,
          1,
          4,
          1,
          3,
          5,
          6,
          6,
          6,
          1,
          1,
          5,
          6,
          1,
          1,
          1,
          2,
          6,
          6,
          1,
          6,
          6,
          3,
          4,
          6,
          1,
          2,
          4,
          4,
          3,
          5,
          3,
          2,
          6,
          6,
          6,
          2,
          1,
          4,
          3,
          6,
          2,
          6,
          6,
          1,
          4,
          4,
          6,
          3,
          6,
          5,
          1,
          1,
          1,
          6,
          5,
          5,
          6,
          1,
          1,
          6,
          3,
          4,
          6,
          3,
          5,
          1,
          4,
          4,
          6,
          4,
          4,
          6,
          2,
          3,
          2,
          5,
          3
         ]
        },
        {
         "bandwidth": 0.4,
         "box": {
          "visible": true
         },
         "meanline": {
          "visible": true
         },
         "name": "Episode V",
         "type": "violin",
         "y": [
          5,
          5,
          4,
          1,
          5,
          1,
          2,
          1,
          5,
          1,
          3,
          1,
          1,
          5,
          5,
          1,
          3,
          2,
          2,
          1,
          3,
          4,
          3,
          3,
          1,
          1,
          2,
          1,
          4,
          4,
          2,
          6,
          6,
          4,
          2,
          4,
          1,
          1,
          1,
          2,
          1,
          1,
          2,
          1,
          1,
          2,
          1,
          1,
          1,
          1,
          1,
          3,
          1,
          5,
          1,
          1,
          5,
          1,
          4,
          3,
          1,
          2,
          1,
          2,
          1,
          2,
          3,
          1,
          1,
          4,
          2,
          2,
          2,
          2,
          3,
          1,
          5,
          3,
          3,
          5,
          2,
          3,
          3,
          1,
          5,
          1,
          3,
          2,
          2,
          3,
          1,
          2,
          4,
          2,
          5,
          3,
          1,
          2,
          2,
          1,
          2,
          2,
          3,
          5,
          3,
          1,
          2,
          1,
          1,
          5,
          6,
          5,
          2,
          3,
          6,
          3,
          1,
          3,
          3,
          2,
          1,
          1,
          5,
          1,
          1,
          1,
          6,
          5,
          3,
          1,
          5,
          3,
          6,
          5,
          1,
          1,
          2,
          3,
          2,
          2,
          1,
          3,
          2,
          1,
          1,
          2,
          1,
          1,
          5,
          1,
          4,
          2,
          2,
          6,
          1,
          1,
          2,
          1,
          1,
          6,
          1,
          5,
          3,
          3,
          1,
          5,
          3,
          1,
          6,
          3,
          5,
          2,
          2,
          2,
          2,
          2,
          5,
          2,
          3,
          1,
          2,
          6,
          4,
          3,
          1,
          4,
          3,
          1,
          2,
          1,
          5,
          3,
          4,
          6,
          1,
          2,
          2,
          2,
          1,
          2,
          1,
          3,
          1,
          1,
          2,
          1,
          2,
          1,
          1,
          1,
          5,
          6,
          4,
          2,
          3,
          1,
          1,
          1,
          5,
          2,
          1,
          1,
          1,
          2,
          5,
          1,
          5,
          6,
          5,
          5,
          3,
          1,
          1,
          5,
          4,
          2,
          2,
          6,
          2,
          1,
          2,
          1,
          2,
          1,
          2,
          5,
          2,
          1,
          2,
          5,
          1,
          1,
          2,
          2,
          3,
          6,
          1,
          2,
          2,
          5,
          1,
          1,
          3,
          1,
          1,
          4,
          1,
          2,
          1,
          1,
          1,
          5,
          5,
          1,
          1,
          5,
          1,
          5,
          6,
          1,
          2,
          5,
          5,
          1,
          2,
          2,
          2,
          3,
          1,
          5,
          2,
          2,
          1,
          2,
          1,
          1,
          1,
          2,
          1,
          1,
          1,
          2,
          4,
          1,
          5,
          2,
          1,
          3,
          4,
          5,
          1,
          3,
          2,
          2,
          1,
          3,
          5,
          1,
          1,
          1,
          1,
          2,
          2,
          1,
          1,
          4,
          3,
          2,
          2,
          2,
          2,
          2,
          2,
          3,
          2,
          5,
          6,
          2,
          5,
          5,
          4,
          4,
          2,
          5,
          1,
          3,
          5,
          4,
          2,
          5,
          2,
          1,
          2,
          5,
          1,
          2,
          1,
          3,
          5,
          3,
          1,
          2,
          1,
          2,
          1,
          1,
          4,
          1,
          1,
          1,
          1,
          3,
          2,
          2,
          1,
          5,
          1,
          2,
          1,
          2,
          1,
          2,
          6,
          1,
          2,
          4,
          1,
          2,
          2,
          1,
          5,
          2,
          6,
          5,
          2,
          5,
          4,
          1,
          1,
          2,
          5,
          2,
          1,
          1,
          4,
          2,
          1,
          2,
          1,
          1,
          1,
          2,
          1,
          2,
          1,
          1,
          5,
          2,
          5,
          2,
          1,
          2,
          3,
          5,
          1,
          2,
          5,
          2,
          6,
          2,
          5,
          4,
          1,
          5,
          1,
          1,
          4,
          2,
          5,
          1,
          2,
          1,
          1,
          2,
          2,
          5,
          1,
          2,
          2,
          1,
          5,
          2,
          3,
          1,
          6,
          2,
          1,
          1,
          6,
          1,
          5,
          2,
          2,
          1,
          1,
          1,
          1,
          6,
          5,
          2,
          1,
          6,
          2,
          1,
          1,
          1,
          5,
          1,
          4,
          2,
          2,
          6,
          3,
          3,
          6,
          1,
          1,
          3,
          4,
          3,
          5,
          2,
          1,
          1,
          2,
          6,
          5,
          1,
          5,
          2,
          2,
          3,
          5,
          3,
          2,
          1,
          4,
          1,
          1,
          1,
          3,
          1,
          1,
          2,
          2,
          1,
          2,
          1,
          2,
          2,
          2,
          1,
          1,
          2,
          2,
          1,
          2,
          3,
          1,
          1,
          1,
          3,
          1,
          5,
          2,
          1,
          2,
          1,
          2,
          2,
          3,
          2,
          2,
          2,
          3,
          2,
          1,
          1,
          3,
          4,
          2,
          2,
          2,
          2,
          1,
          2,
          5,
          5,
          2,
          3,
          2,
          2,
          6,
          2,
          1,
          3,
          3,
          3,
          1,
          1,
          5,
          2,
          1,
          2,
          2,
          5,
          2,
          1,
          4,
          5,
          2,
          1,
          3,
          2,
          5,
          1,
          2,
          5,
          5,
          3,
          1,
          3,
          6,
          1,
          1,
          3,
          1,
          6,
          1,
          1,
          3,
          2,
          3,
          5,
          6,
          2,
          1,
          2,
          3,
          5,
          5,
          1,
          1,
          5,
          1,
          3,
          1,
          2,
          3,
          2,
          5,
          1,
          3,
          1,
          1,
          1,
          5,
          4,
          1,
          1,
          5,
          3,
          5,
          4,
          2,
          3,
          5,
          1,
          1,
          1,
          2,
          2,
          2,
          6,
          2,
          1,
          5,
          2,
          1,
          3,
          6,
          4,
          1,
          1,
          4,
          5,
          1,
          2,
          2,
          1,
          5,
          2,
          4,
          3,
          2,
          4,
          1,
          3,
          1,
          2,
          5,
          5,
          1,
          5,
          2,
          2,
          2,
          5,
          1,
          3,
          1,
          2,
          6,
          2,
          3,
          3,
          4,
          5,
          2,
          3,
          2,
          3,
          1,
          2,
          2,
          2,
          5,
          1,
          1,
          1,
          5,
          5,
          2,
          3,
          1,
          1,
          1,
          1,
          5,
          4,
          2,
          5,
          5,
          2,
          3,
          1,
          2,
          1,
          2,
          6,
          5,
          2,
          3,
          1,
          1,
          3,
          6,
          5,
          2,
          1,
          3,
          1,
          1,
          2,
          2,
          1,
          3,
          1,
          4,
          5,
          1,
          1,
          1,
          3,
          2,
          2,
          2,
          2,
          2,
          2,
          1,
          3,
          2,
          6,
          1,
          3,
          2,
          3,
          5,
          2,
          2,
          6,
          1,
          1,
          1,
          3,
          3,
          1,
          1,
          3,
          2,
          3,
          1,
          2,
          1,
          2,
          2,
          1,
          2,
          5,
          1,
          2,
          3,
          1,
          5,
          1,
          6,
          2,
          4,
          2,
          1,
          1,
          3,
          2,
          5,
          1,
          4,
          1,
          2,
          2,
          2,
          5,
          1,
          1,
          1,
          1,
          4,
          2,
          2,
          2,
          2,
          1,
          6,
          1,
          2,
          4,
          1,
          1,
          3,
          1,
          1,
          3,
          6,
          2,
          5,
          2,
          5,
          5,
          1,
          1,
          2,
          3,
          2,
          4
         ]
        },
        {
         "bandwidth": 0.4,
         "box": {
          "visible": true
         },
         "meanline": {
          "visible": true
         },
         "name": "Episode VI",
         "type": "violin",
         "y": [
          6,
          6,
          3,
          3,
          2,
          2,
          1,
          3,
          6,
          2,
          1,
          6,
          2,
          6,
          6,
          4,
          2,
          3,
          6,
          2,
          5,
          5,
          1,
          1,
          3,
          3,
          1,
          3,
          5,
          5,
          5,
          5,
          3,
          2,
          1,
          1,
          3,
          3,
          3,
          1,
          3,
          2,
          3,
          2,
          2,
          3,
          3,
          3,
          3,
          2,
          2,
          2,
          4,
          6,
          3,
          3,
          6,
          3,
          2,
          1,
          3,
          1,
          3,
          1,
          3,
          3,
          1,
          2,
          2,
          1,
          3,
          3,
          1,
          3,
          1,
          4,
          2,
          1,
          2,
          6,
          1,
          6,
          2,
          4,
          6,
          4,
          2,
          1,
          3,
          2,
          6,
          1,
          1,
          3,
          6,
          6,
          2,
          1,
          5,
          2,
          3,
          1,
          1,
          6,
          1,
          2,
          1,
          2,
          2,
          6,
          1,
          1,
          3,
          1,
          3,
          1,
          6,
          1,
          2,
          3,
          2,
          2,
          6,
          3,
          2,
          2,
          1,
          4,
          2,
          2,
          6,
          1,
          2,
          6,
          3,
          3,
          3,
          2,
          3,
          3,
          3,
          2,
          3,
          2,
          3,
          3,
          3,
          3,
          3,
          2,
          6,
          1,
          3,
          1,
          6,
          3,
          4,
          3,
          5,
          1,
          2,
          6,
          1,
          2,
          2,
          6,
          4,
          2,
          4,
          6,
          6,
          1,
          1,
          4,
          3,
          3,
          6,
          1,
          1,
          3,
          3,
          1,
          2,
          2,
          2,
          5,
          1,
          2,
          3,
          3,
          6,
          1,
          2,
          1,
          2,
          3,
          3,
          3,
          5,
          3,
          3,
          2,
          2,
          2,
          5,
          6,
          3,
          2,
          6,
          2,
          6,
          2,
          3,
          3,
          2,
          3,
          3,
          6,
          6,
          3,
          2,
          2,
          2,
          3,
          6,
          2,
          6,
          1,
          6,
          2,
          1,
          2,
          2,
          4,
          2,
          3,
          1,
          1,
          6,
          3,
          1,
          6,
          3,
          2,
          1,
          6,
          3,
          2,
          1,
          1,
          6,
          2,
          3,
          1,
          2,
          1,
          2,
          1,
          3,
          6,
          6,
          2,
          2,
          2,
          2,
          5,
          2,
          6,
          2,
          2,
          2,
          6,
          6,
          2,
          6,
          1,
          2,
          6,
          1,
          2,
          3,
          6,
          6,
          3,
          3,
          3,
          1,
          2,
          2,
          6,
          1,
          3,
          3,
          3,
          3,
          2,
          2,
          3,
          3,
          2,
          2,
          5,
          2,
          2,
          6,
          3,
          2,
          1,
          1,
          6,
          6,
          2,
          1,
          3,
          2,
          1,
          6,
          4,
          4,
          2,
          2,
          3,
          5,
          2,
          3,
          2,
          4,
          3,
          3,
          3,
          4,
          3,
          3,
          2,
          3,
          6,
          1,
          1,
          6,
          4,
          1,
          5,
          3,
          6,
          2,
          1,
          6,
          3,
          3,
          2,
          3,
          6,
          4,
          6,
          2,
          3,
          2,
          2,
          6,
          1,
          2,
          3,
          2,
          1,
          2,
          2,
          1,
          3,
          2,
          2,
          4,
          4,
          1,
          1,
          6,
          6,
          2,
          1,
          2,
          1,
          5,
          3,
          2,
          2,
          6,
          5,
          3,
          3,
          3,
          2,
          6,
          3,
          1,
          6,
          3,
          6,
          3,
          2,
          2,
          3,
          1,
          4,
          2,
          2,
          5,
          3,
          2,
          1,
          2,
          6,
          3,
          3,
          2,
          1,
          3,
          2,
          1,
          1,
          6,
          3,
          3,
          6,
          2,
          6,
          3,
          6,
          6,
          1,
          2,
          3,
          3,
          5,
          2,
          6,
          6,
          4,
          5,
          3,
          6,
          2,
          3,
          3,
          2,
          1,
          1,
          6,
          3,
          1,
          3,
          6,
          6,
          3,
          6,
          2,
          1,
          1,
          2,
          2,
          1,
          2,
          6,
          3,
          3,
          3,
          2,
          2,
          2,
          4,
          4,
          3,
          2,
          1,
          1,
          6,
          2,
          6,
          6,
          2,
          3,
          1,
          1,
          1,
          2,
          1,
          1,
          2,
          2,
          1,
          3,
          1,
          6,
          3,
          2,
          3,
          3,
          3,
          6,
          3,
          6,
          1,
          3,
          2,
          6,
          1,
          1,
          6,
          2,
          3,
          2,
          2,
          4,
          3,
          2,
          3,
          3,
          4,
          3,
          2,
          1,
          4,
          1,
          3,
          2,
          1,
          3,
          2,
          3,
          4,
          2,
          4,
          2,
          2,
          2,
          6,
          3,
          2,
          3,
          3,
          3,
          3,
          6,
          3,
          3,
          3,
          4,
          3,
          2,
          2,
          1,
          5,
          1,
          3,
          3,
          3,
          4,
          3,
          6,
          6,
          3,
          1,
          3,
          3,
          5,
          3,
          4,
          2,
          4,
          2,
          3,
          2,
          4,
          3,
          5,
          1,
          1,
          6,
          3,
          2,
          5,
          6,
          1,
          2,
          2,
          3,
          6,
          2,
          3,
          6,
          6,
          1,
          2,
          2,
          5,
          4,
          2,
          2,
          3,
          3,
          2,
          3,
          2,
          3,
          2,
          6,
          3,
          3,
          4,
          3,
          2,
          6,
          6,
          2,
          2,
          6,
          3,
          1,
          2,
          3,
          2,
          6,
          1,
          2,
          1,
          2,
          6,
          2,
          6,
          6,
          2,
          2,
          6,
          2,
          6,
          5,
          4,
          1,
          6,
          3,
          2,
          4,
          3,
          3,
          3,
          1,
          3,
          3,
          6,
          1,
          2,
          1,
          3,
          5,
          2,
          2,
          2,
          6,
          2,
          4,
          3,
          6,
          6,
          3,
          6,
          2,
          3,
          5,
          4,
          4,
          3,
          4,
          6,
          6,
          2,
          6,
          3,
          6,
          6,
          6,
          2,
          2,
          2,
          6,
          3,
          1,
          2,
          2,
          5,
          6,
          3,
          2,
          4,
          2,
          3,
          6,
          1,
          3,
          6,
          5,
          3,
          6,
          6,
          6,
          3,
          4,
          2,
          4,
          5,
          2,
          1,
          2,
          1,
          6,
          4,
          3,
          1,
          2,
          3,
          3,
          1,
          4,
          4,
          3,
          1,
          2,
          6,
          4,
          1,
          6,
          4,
          2,
          4,
          2,
          2,
          1,
          3,
          3,
          1,
          5,
          5,
          6,
          2,
          4,
          4,
          1,
          1,
          1,
          1,
          3,
          1,
          1,
          2,
          1,
          1,
          1,
          2,
          1,
          3,
          2,
          6,
          3,
          1,
          3,
          2,
          2,
          2,
          2,
          2,
          6,
          2,
          2,
          3,
          2,
          3,
          3,
          2,
          3,
          3,
          2,
          1,
          6,
          2,
          4,
          1,
          2,
          6,
          2,
          4,
          6,
          3,
          4,
          2,
          2,
          1,
          3,
          6,
          2,
          3,
          3,
          3,
          3,
          3,
          6,
          2,
          2,
          2,
          2,
          6,
          3,
          3,
          3,
          1,
          6,
          1,
          2,
          3,
          3,
          2,
          2,
          2,
          2,
          2,
          4,
          5,
          1,
          6,
          5,
          6,
          6,
          2,
          6,
          1,
          1,
          1,
          5
         ]
        },
        {
         "marker": {
          "color": "black",
          "size": 7,
          "symbol": "x"
         },
         "mode": "markers",
         "name": "Mean Rankings",
         "type": "scatter",
         "x": [
          "Episode I",
          "Episode II",
          "Episode III",
          "Episode IV",
          "Episode V",
          "Episode VI"
         ],
         "y": [
          3.73621103117506,
          4.091127098321343,
          4.344124700239808,
          3.2697841726618706,
          2.511990407673861,
          3.0467625899280577
         ]
        }
       ],
       "layout": {
        "template": {
         "data": {
          "bar": [
           {
            "error_x": {
             "color": "#2a3f5f"
            },
            "error_y": {
             "color": "#2a3f5f"
            },
            "marker": {
             "line": {
              "color": "#E5ECF6",
              "width": 0.5
             },
             "pattern": {
              "fillmode": "overlay",
              "size": 10,
              "solidity": 0.2
             }
            },
            "type": "bar"
           }
          ],
          "barpolar": [
           {
            "marker": {
             "line": {
              "color": "#E5ECF6",
              "width": 0.5
             },
             "pattern": {
              "fillmode": "overlay",
              "size": 10,
              "solidity": 0.2
             }
            },
            "type": "barpolar"
           }
          ],
          "carpet": [
           {
            "aaxis": {
             "endlinecolor": "#2a3f5f",
             "gridcolor": "white",
             "linecolor": "white",
             "minorgridcolor": "white",
             "startlinecolor": "#2a3f5f"
            },
            "baxis": {
             "endlinecolor": "#2a3f5f",
             "gridcolor": "white",
             "linecolor": "white",
             "minorgridcolor": "white",
             "startlinecolor": "#2a3f5f"
            },
            "type": "carpet"
           }
          ],
          "choropleth": [
           {
            "colorbar": {
             "outlinewidth": 0,
             "ticks": ""
            },
            "type": "choropleth"
           }
          ],
          "contour": [
           {
            "colorbar": {
             "outlinewidth": 0,
             "ticks": ""
            },
            "colorscale": [
             [
              0,
              "#0d0887"
             ],
             [
              0.1111111111111111,
              "#46039f"
             ],
             [
              0.2222222222222222,
              "#7201a8"
             ],
             [
              0.3333333333333333,
              "#9c179e"
             ],
             [
              0.4444444444444444,
              "#bd3786"
             ],
             [
              0.5555555555555556,
              "#d8576b"
             ],
             [
              0.6666666666666666,
              "#ed7953"
             ],
             [
              0.7777777777777778,
              "#fb9f3a"
             ],
             [
              0.8888888888888888,
              "#fdca26"
             ],
             [
              1,
              "#f0f921"
             ]
            ],
            "type": "contour"
           }
          ],
          "contourcarpet": [
           {
            "colorbar": {
             "outlinewidth": 0,
             "ticks": ""
            },
            "type": "contourcarpet"
           }
          ],
          "heatmap": [
           {
            "colorbar": {
             "outlinewidth": 0,
             "ticks": ""
            },
            "colorscale": [
             [
              0,
              "#0d0887"
             ],
             [
              0.1111111111111111,
              "#46039f"
             ],
             [
              0.2222222222222222,
              "#7201a8"
             ],
             [
              0.3333333333333333,
              "#9c179e"
             ],
             [
              0.4444444444444444,
              "#bd3786"
             ],
             [
              0.5555555555555556,
              "#d8576b"
             ],
             [
              0.6666666666666666,
              "#ed7953"
             ],
             [
              0.7777777777777778,
              "#fb9f3a"
             ],
             [
              0.8888888888888888,
              "#fdca26"
             ],
             [
              1,
              "#f0f921"
             ]
            ],
            "type": "heatmap"
           }
          ],
          "heatmapgl": [
           {
            "colorbar": {
             "outlinewidth": 0,
             "ticks": ""
            },
            "colorscale": [
             [
              0,
              "#0d0887"
             ],
             [
              0.1111111111111111,
              "#46039f"
             ],
             [
              0.2222222222222222,
              "#7201a8"
             ],
             [
              0.3333333333333333,
              "#9c179e"
             ],
             [
              0.4444444444444444,
              "#bd3786"
             ],
             [
              0.5555555555555556,
              "#d8576b"
             ],
             [
              0.6666666666666666,
              "#ed7953"
             ],
             [
              0.7777777777777778,
              "#fb9f3a"
             ],
             [
              0.8888888888888888,
              "#fdca26"
             ],
             [
              1,
              "#f0f921"
             ]
            ],
            "type": "heatmapgl"
           }
          ],
          "histogram": [
           {
            "marker": {
             "pattern": {
              "fillmode": "overlay",
              "size": 10,
              "solidity": 0.2
             }
            },
            "type": "histogram"
           }
          ],
          "histogram2d": [
           {
            "colorbar": {
             "outlinewidth": 0,
             "ticks": ""
            },
            "colorscale": [
             [
              0,
              "#0d0887"
             ],
             [
              0.1111111111111111,
              "#46039f"
             ],
             [
              0.2222222222222222,
              "#7201a8"
             ],
             [
              0.3333333333333333,
              "#9c179e"
             ],
             [
              0.4444444444444444,
              "#bd3786"
             ],
             [
              0.5555555555555556,
              "#d8576b"
             ],
             [
              0.6666666666666666,
              "#ed7953"
             ],
             [
              0.7777777777777778,
              "#fb9f3a"
             ],
             [
              0.8888888888888888,
              "#fdca26"
             ],
             [
              1,
              "#f0f921"
             ]
            ],
            "type": "histogram2d"
           }
          ],
          "histogram2dcontour": [
           {
            "colorbar": {
             "outlinewidth": 0,
             "ticks": ""
            },
            "colorscale": [
             [
              0,
              "#0d0887"
             ],
             [
              0.1111111111111111,
              "#46039f"
             ],
             [
              0.2222222222222222,
              "#7201a8"
             ],
             [
              0.3333333333333333,
              "#9c179e"
             ],
             [
              0.4444444444444444,
              "#bd3786"
             ],
             [
              0.5555555555555556,
              "#d8576b"
             ],
             [
              0.6666666666666666,
              "#ed7953"
             ],
             [
              0.7777777777777778,
              "#fb9f3a"
             ],
             [
              0.8888888888888888,
              "#fdca26"
             ],
             [
              1,
              "#f0f921"
             ]
            ],
            "type": "histogram2dcontour"
           }
          ],
          "mesh3d": [
           {
            "colorbar": {
             "outlinewidth": 0,
             "ticks": ""
            },
            "type": "mesh3d"
           }
          ],
          "parcoords": [
           {
            "line": {
             "colorbar": {
              "outlinewidth": 0,
              "ticks": ""
             }
            },
            "type": "parcoords"
           }
          ],
          "pie": [
           {
            "automargin": true,
            "type": "pie"
           }
          ],
          "scatter": [
           {
            "fillpattern": {
             "fillmode": "overlay",
             "size": 10,
             "solidity": 0.2
            },
            "type": "scatter"
           }
          ],
          "scatter3d": [
           {
            "line": {
             "colorbar": {
              "outlinewidth": 0,
              "ticks": ""
             }
            },
            "marker": {
             "colorbar": {
              "outlinewidth": 0,
              "ticks": ""
             }
            },
            "type": "scatter3d"
           }
          ],
          "scattercarpet": [
           {
            "marker": {
             "colorbar": {
              "outlinewidth": 0,
              "ticks": ""
             }
            },
            "type": "scattercarpet"
           }
          ],
          "scattergeo": [
           {
            "marker": {
             "colorbar": {
              "outlinewidth": 0,
              "ticks": ""
             }
            },
            "type": "scattergeo"
           }
          ],
          "scattergl": [
           {
            "marker": {
             "colorbar": {
              "outlinewidth": 0,
              "ticks": ""
             }
            },
            "type": "scattergl"
           }
          ],
          "scattermapbox": [
           {
            "marker": {
             "colorbar": {
              "outlinewidth": 0,
              "ticks": ""
             }
            },
            "type": "scattermapbox"
           }
          ],
          "scatterpolar": [
           {
            "marker": {
             "colorbar": {
              "outlinewidth": 0,
              "ticks": ""
             }
            },
            "type": "scatterpolar"
           }
          ],
          "scatterpolargl": [
           {
            "marker": {
             "colorbar": {
              "outlinewidth": 0,
              "ticks": ""
             }
            },
            "type": "scatterpolargl"
           }
          ],
          "scatterternary": [
           {
            "marker": {
             "colorbar": {
              "outlinewidth": 0,
              "ticks": ""
             }
            },
            "type": "scatterternary"
           }
          ],
          "surface": [
           {
            "colorbar": {
             "outlinewidth": 0,
             "ticks": ""
            },
            "colorscale": [
             [
              0,
              "#0d0887"
             ],
             [
              0.1111111111111111,
              "#46039f"
             ],
             [
              0.2222222222222222,
              "#7201a8"
             ],
             [
              0.3333333333333333,
              "#9c179e"
             ],
             [
              0.4444444444444444,
              "#bd3786"
             ],
             [
              0.5555555555555556,
              "#d8576b"
             ],
             [
              0.6666666666666666,
              "#ed7953"
             ],
             [
              0.7777777777777778,
              "#fb9f3a"
             ],
             [
              0.8888888888888888,
              "#fdca26"
             ],
             [
              1,
              "#f0f921"
             ]
            ],
            "type": "surface"
           }
          ],
          "table": [
           {
            "cells": {
             "fill": {
              "color": "#EBF0F8"
             },
             "line": {
              "color": "white"
             }
            },
            "header": {
             "fill": {
              "color": "#C8D4E3"
             },
             "line": {
              "color": "white"
             }
            },
            "type": "table"
           }
          ]
         },
         "layout": {
          "annotationdefaults": {
           "arrowcolor": "#2a3f5f",
           "arrowhead": 0,
           "arrowwidth": 1
          },
          "autotypenumbers": "strict",
          "coloraxis": {
           "colorbar": {
            "outlinewidth": 0,
            "ticks": ""
           }
          },
          "colorscale": {
           "diverging": [
            [
             0,
             "#8e0152"
            ],
            [
             0.1,
             "#c51b7d"
            ],
            [
             0.2,
             "#de77ae"
            ],
            [
             0.3,
             "#f1b6da"
            ],
            [
             0.4,
             "#fde0ef"
            ],
            [
             0.5,
             "#f7f7f7"
            ],
            [
             0.6,
             "#e6f5d0"
            ],
            [
             0.7,
             "#b8e186"
            ],
            [
             0.8,
             "#7fbc41"
            ],
            [
             0.9,
             "#4d9221"
            ],
            [
             1,
             "#276419"
            ]
           ],
           "sequential": [
            [
             0,
             "#0d0887"
            ],
            [
             0.1111111111111111,
             "#46039f"
            ],
            [
             0.2222222222222222,
             "#7201a8"
            ],
            [
             0.3333333333333333,
             "#9c179e"
            ],
            [
             0.4444444444444444,
             "#bd3786"
            ],
            [
             0.5555555555555556,
             "#d8576b"
            ],
            [
             0.6666666666666666,
             "#ed7953"
            ],
            [
             0.7777777777777778,
             "#fb9f3a"
            ],
            [
             0.8888888888888888,
             "#fdca26"
            ],
            [
             1,
             "#f0f921"
            ]
           ],
           "sequentialminus": [
            [
             0,
             "#0d0887"
            ],
            [
             0.1111111111111111,
             "#46039f"
            ],
            [
             0.2222222222222222,
             "#7201a8"
            ],
            [
             0.3333333333333333,
             "#9c179e"
            ],
            [
             0.4444444444444444,
             "#bd3786"
            ],
            [
             0.5555555555555556,
             "#d8576b"
            ],
            [
             0.6666666666666666,
             "#ed7953"
            ],
            [
             0.7777777777777778,
             "#fb9f3a"
            ],
            [
             0.8888888888888888,
             "#fdca26"
            ],
            [
             1,
             "#f0f921"
            ]
           ]
          },
          "colorway": [
           "#636efa",
           "#EF553B",
           "#00cc96",
           "#ab63fa",
           "#FFA15A",
           "#19d3f3",
           "#FF6692",
           "#B6E880",
           "#FF97FF",
           "#FECB52"
          ],
          "font": {
           "color": "#2a3f5f"
          },
          "geo": {
           "bgcolor": "white",
           "lakecolor": "white",
           "landcolor": "#E5ECF6",
           "showlakes": true,
           "showland": true,
           "subunitcolor": "white"
          },
          "hoverlabel": {
           "align": "left"
          },
          "hovermode": "closest",
          "mapbox": {
           "style": "light"
          },
          "paper_bgcolor": "white",
          "plot_bgcolor": "#E5ECF6",
          "polar": {
           "angularaxis": {
            "gridcolor": "white",
            "linecolor": "white",
            "ticks": ""
           },
           "bgcolor": "#E5ECF6",
           "radialaxis": {
            "gridcolor": "white",
            "linecolor": "white",
            "ticks": ""
           }
          },
          "scene": {
           "xaxis": {
            "backgroundcolor": "#E5ECF6",
            "gridcolor": "white",
            "gridwidth": 2,
            "linecolor": "white",
            "showbackground": true,
            "ticks": "",
            "zerolinecolor": "white"
           },
           "yaxis": {
            "backgroundcolor": "#E5ECF6",
            "gridcolor": "white",
            "gridwidth": 2,
            "linecolor": "white",
            "showbackground": true,
            "ticks": "",
            "zerolinecolor": "white"
           },
           "zaxis": {
            "backgroundcolor": "#E5ECF6",
            "gridcolor": "white",
            "gridwidth": 2,
            "linecolor": "white",
            "showbackground": true,
            "ticks": "",
            "zerolinecolor": "white"
           }
          },
          "shapedefaults": {
           "line": {
            "color": "#2a3f5f"
           }
          },
          "ternary": {
           "aaxis": {
            "gridcolor": "white",
            "linecolor": "white",
            "ticks": ""
           },
           "baxis": {
            "gridcolor": "white",
            "linecolor": "white",
            "ticks": ""
           },
           "bgcolor": "#E5ECF6",
           "caxis": {
            "gridcolor": "white",
            "linecolor": "white",
            "ticks": ""
           }
          },
          "title": {
           "x": 0.05
          },
          "xaxis": {
           "automargin": true,
           "gridcolor": "white",
           "linecolor": "white",
           "ticks": "",
           "title": {
            "standoff": 15
           },
           "zerolinecolor": "white",
           "zerolinewidth": 2
          },
          "yaxis": {
           "automargin": true,
           "gridcolor": "white",
           "linecolor": "white",
           "ticks": "",
           "title": {
            "standoff": 15
           },
           "zerolinecolor": "white",
           "zerolinewidth": 2
          }
         }
        },
        "title": {
         "text": "Distribution of Movie Rankings"
        },
        "violingap": 0.1,
        "width": 1000,
        "xaxis": {
         "title": {
          "text": "Movie Episode"
         }
        },
        "yaxis": {
         "title": {
          "text": "Ranking"
         }
        }
       }
      }
     },
     "metadata": {},
     "output_type": "display_data"
    }
   ],
   "source": [
    "import plotly.graph_objects as go\n",
    "\n",
    "fig = go.Figure()\n",
    "\n",
    "for col in starwars_ranking_cols.columns:\n",
    "    fig.add_trace(go.Violin(\n",
    "        y=starwars_ranking_cols[col],\n",
    "        name= col,  # Name of episode\n",
    "        box_visible = True,  # To show box plot inside violin\n",
    "        meanline_visible=True, # To show mean line\n",
    "        bandwidth=0.4\n",
    "))\n",
    "    # Add the mean values as a separate trace (optional, to highlight the mean rankings)\n",
    "fig.add_trace(go.Scatter(\n",
    "    x=mean_rankings.index,\n",
    "    y=mean_rankings.values,\n",
    "    mode='markers',\n",
    "    name='Mean Rankings',\n",
    "    marker=dict(color='black', size=7, symbol='x')\n",
    "))\n",
    "\n",
    "fig.update_layout(\n",
    "    title = 'Distribution of Movie Rankings',\n",
    "    xaxis_title= 'Movie Episode',\n",
    "    yaxis_title = 'Ranking',\n",
    "    violingap=0.1,\n",
    "    width= 1000\n",
    ")\n",
    "fig.show()\n"
   ]
  },
  {
   "cell_type": "markdown",
   "metadata": {},
   "source": [
    "From this plot we can say that the earlier second and third episodes got the larger number of higher rankings, thus their mean ranking exceeds 4 out of maximum 6 rating. This indiactes that Episodes II and III are generally viewed as more favotably than others. While the first episode has the most average reviews with mean ranking of 3.7 but median of 4. We can say that the Episode I is not the favorite of most audience but can be seen as impactful or enjoyable. But the last two episodes are ranked lowest with mean ranking of 3 or less. \n",
    "\n",
    "But the higher Intequartile range of Episode III and and IV indicates higher variablity in rankings given by respondents compared to all other episodes. In terms of IQR the Episode I and II have received more consistent rankings, with median near 3.7 and 4 respectively.\n",
    "\n",
    "Overall, Episodes II and III are liked the most, but Episodes III and IV have more varied opinions, while Episodes I and II have more consistent ratings."
   ]
  },
  {
   "cell_type": "markdown",
   "metadata": {},
   "source": [
    "### 2. Total view Counts of starwars movies"
   ]
  },
  {
   "cell_type": "code",
   "execution_count": 25,
   "metadata": {},
   "outputs": [
    {
     "name": "stdout",
     "output_type": "stream",
     "text": [
      "<class 'pandas.core.frame.DataFrame'>\n",
      "RangeIndex: 1186 entries, 0 to 1185\n",
      "Data columns (total 39 columns):\n",
      " #   Column                                                                 Non-Null Count  Dtype  \n",
      "---  ------                                                                 --------------  -----  \n",
      " 0   index                                                                  1186 non-null   int64  \n",
      " 1   RespondentID                                                           1186 non-null   int64  \n",
      " 2   Have you seen any of the 6 films in the Star Wars franchise?           1186 non-null   bool   \n",
      " 3   Do you consider yourself to be a fan of the Star Wars film franchise?  836 non-null    object \n",
      " 4   seen_1                                                                 1186 non-null   bool   \n",
      " 5   seen_2                                                                 1186 non-null   bool   \n",
      " 6   seen_3                                                                 1186 non-null   bool   \n",
      " 7   seen_4                                                                 1186 non-null   bool   \n",
      " 8   seen_5                                                                 1186 non-null   bool   \n",
      " 9   seen_6                                                                 1186 non-null   bool   \n",
      " 10  ranking_1                                                              835 non-null    float64\n",
      " 11  ranking_2                                                              836 non-null    float64\n",
      " 12  ranking_3                                                              835 non-null    float64\n",
      " 13  ranking_4                                                              836 non-null    float64\n",
      " 14  ranking_5                                                              836 non-null    float64\n",
      " 15  ranking_6                                                              836 non-null    float64\n",
      " 16  Han Solo                                                               829 non-null    object \n",
      " 17  Luke Skywalker                                                         831 non-null    object \n",
      " 18  Princess Leia Organa                                                   831 non-null    object \n",
      " 19  Anakin Skywalker                                                       823 non-null    object \n",
      " 20  Obi Wan Kenobi                                                         825 non-null    object \n",
      " 21  Emperor Palpatine                                                      814 non-null    object \n",
      " 22  Darth Vader                                                            826 non-null    object \n",
      " 23  Lando Calrissian                                                       820 non-null    object \n",
      " 24  Boba Fett                                                              812 non-null    object \n",
      " 25  C-3P0                                                                  827 non-null    object \n",
      " 26  R2 D2                                                                  830 non-null    object \n",
      " 27  Jar Jar Binks                                                          821 non-null    object \n",
      " 28  Padme Amidala                                                          814 non-null    object \n",
      " 29  Yoda                                                                   826 non-null    object \n",
      " 30  Which character shot first?                                            828 non-null    object \n",
      " 31  Are you familiar with the Expanded Universe?                           828 non-null    object \n",
      " 32  Do you consider yourself to be a fan of the Expanded Universe?æ       213 non-null    object \n",
      " 33  Do you consider yourself to be a fan of the Star Trek franchise?       1068 non-null   object \n",
      " 34  Gender                                                                 1046 non-null   object \n",
      " 35  Age                                                                    1046 non-null   object \n",
      " 36  Household Income                                                       858 non-null    object \n",
      " 37  Education                                                              1036 non-null   object \n",
      " 38  Location (Census Region)                                               1043 non-null   object \n",
      "dtypes: bool(7), float64(6), int64(2), object(24)\n",
      "memory usage: 304.7+ KB\n"
     ]
    }
   ],
   "source": [
    "star_wars.info()"
   ]
  },
  {
   "cell_type": "code",
   "execution_count": 26,
   "metadata": {},
   "outputs": [
    {
     "data": {
      "text/plain": [
       "array([False, False, False, False, False, False])"
      ]
     },
     "execution_count": 26,
     "metadata": {},
     "output_type": "execute_result"
    }
   ],
   "source": [
    "star_wars.columns[4:10].isnull()"
   ]
  },
  {
   "cell_type": "markdown",
   "metadata": {},
   "source": [
    "- Seen columns have no NaN values, beacuse we already mapped NaN values in this columns as False i.e. not seen."
   ]
  },
  {
   "cell_type": "code",
   "execution_count": 27,
   "metadata": {},
   "outputs": [
    {
     "data": {
      "text/plain": [
       "seen_1    673\n",
       "seen_2    571\n",
       "seen_3    550\n",
       "seen_4    607\n",
       "seen_5    758\n",
       "seen_6    738\n",
       "dtype: int64"
      ]
     },
     "execution_count": 27,
     "metadata": {},
     "output_type": "execute_result"
    }
   ],
   "source": [
    "# View Counts\n",
    "\n",
    "counts = star_wars[star_wars.columns[4:10]].sum()\n",
    "# counts = counts.rename(new_names)\n",
    "counts"
   ]
  },
  {
   "cell_type": "code",
   "execution_count": 28,
   "metadata": {},
   "outputs": [],
   "source": [
    "counts= counts.rename(new_names)"
   ]
  },
  {
   "cell_type": "code",
   "execution_count": 29,
   "metadata": {},
   "outputs": [
    {
     "data": {
      "application/vnd.plotly.v1+json": {
       "config": {
        "plotlyServerURL": "https://plot.ly"
       },
       "data": [
        {
         "name": "Total View Counts of Different Episodes",
         "text": [
          "673",
          "571",
          "550",
          "607",
          "758",
          "738"
         ],
         "textposition": "inside",
         "type": "bar",
         "width": 0.5,
         "x": [
          "Episode I",
          "Episode II",
          "Episode III",
          "Episode IV",
          "Episode V",
          "Episode VI"
         ],
         "y": [
          673,
          571,
          550,
          607,
          758,
          738
         ]
        }
       ],
       "layout": {
        "template": {
         "data": {
          "bar": [
           {
            "error_x": {
             "color": "#2a3f5f"
            },
            "error_y": {
             "color": "#2a3f5f"
            },
            "marker": {
             "line": {
              "color": "#E5ECF6",
              "width": 0.5
             },
             "pattern": {
              "fillmode": "overlay",
              "size": 10,
              "solidity": 0.2
             }
            },
            "type": "bar"
           }
          ],
          "barpolar": [
           {
            "marker": {
             "line": {
              "color": "#E5ECF6",
              "width": 0.5
             },
             "pattern": {
              "fillmode": "overlay",
              "size": 10,
              "solidity": 0.2
             }
            },
            "type": "barpolar"
           }
          ],
          "carpet": [
           {
            "aaxis": {
             "endlinecolor": "#2a3f5f",
             "gridcolor": "white",
             "linecolor": "white",
             "minorgridcolor": "white",
             "startlinecolor": "#2a3f5f"
            },
            "baxis": {
             "endlinecolor": "#2a3f5f",
             "gridcolor": "white",
             "linecolor": "white",
             "minorgridcolor": "white",
             "startlinecolor": "#2a3f5f"
            },
            "type": "carpet"
           }
          ],
          "choropleth": [
           {
            "colorbar": {
             "outlinewidth": 0,
             "ticks": ""
            },
            "type": "choropleth"
           }
          ],
          "contour": [
           {
            "colorbar": {
             "outlinewidth": 0,
             "ticks": ""
            },
            "colorscale": [
             [
              0,
              "#0d0887"
             ],
             [
              0.1111111111111111,
              "#46039f"
             ],
             [
              0.2222222222222222,
              "#7201a8"
             ],
             [
              0.3333333333333333,
              "#9c179e"
             ],
             [
              0.4444444444444444,
              "#bd3786"
             ],
             [
              0.5555555555555556,
              "#d8576b"
             ],
             [
              0.6666666666666666,
              "#ed7953"
             ],
             [
              0.7777777777777778,
              "#fb9f3a"
             ],
             [
              0.8888888888888888,
              "#fdca26"
             ],
             [
              1,
              "#f0f921"
             ]
            ],
            "type": "contour"
           }
          ],
          "contourcarpet": [
           {
            "colorbar": {
             "outlinewidth": 0,
             "ticks": ""
            },
            "type": "contourcarpet"
           }
          ],
          "heatmap": [
           {
            "colorbar": {
             "outlinewidth": 0,
             "ticks": ""
            },
            "colorscale": [
             [
              0,
              "#0d0887"
             ],
             [
              0.1111111111111111,
              "#46039f"
             ],
             [
              0.2222222222222222,
              "#7201a8"
             ],
             [
              0.3333333333333333,
              "#9c179e"
             ],
             [
              0.4444444444444444,
              "#bd3786"
             ],
             [
              0.5555555555555556,
              "#d8576b"
             ],
             [
              0.6666666666666666,
              "#ed7953"
             ],
             [
              0.7777777777777778,
              "#fb9f3a"
             ],
             [
              0.8888888888888888,
              "#fdca26"
             ],
             [
              1,
              "#f0f921"
             ]
            ],
            "type": "heatmap"
           }
          ],
          "heatmapgl": [
           {
            "colorbar": {
             "outlinewidth": 0,
             "ticks": ""
            },
            "colorscale": [
             [
              0,
              "#0d0887"
             ],
             [
              0.1111111111111111,
              "#46039f"
             ],
             [
              0.2222222222222222,
              "#7201a8"
             ],
             [
              0.3333333333333333,
              "#9c179e"
             ],
             [
              0.4444444444444444,
              "#bd3786"
             ],
             [
              0.5555555555555556,
              "#d8576b"
             ],
             [
              0.6666666666666666,
              "#ed7953"
             ],
             [
              0.7777777777777778,
              "#fb9f3a"
             ],
             [
              0.8888888888888888,
              "#fdca26"
             ],
             [
              1,
              "#f0f921"
             ]
            ],
            "type": "heatmapgl"
           }
          ],
          "histogram": [
           {
            "marker": {
             "pattern": {
              "fillmode": "overlay",
              "size": 10,
              "solidity": 0.2
             }
            },
            "type": "histogram"
           }
          ],
          "histogram2d": [
           {
            "colorbar": {
             "outlinewidth": 0,
             "ticks": ""
            },
            "colorscale": [
             [
              0,
              "#0d0887"
             ],
             [
              0.1111111111111111,
              "#46039f"
             ],
             [
              0.2222222222222222,
              "#7201a8"
             ],
             [
              0.3333333333333333,
              "#9c179e"
             ],
             [
              0.4444444444444444,
              "#bd3786"
             ],
             [
              0.5555555555555556,
              "#d8576b"
             ],
             [
              0.6666666666666666,
              "#ed7953"
             ],
             [
              0.7777777777777778,
              "#fb9f3a"
             ],
             [
              0.8888888888888888,
              "#fdca26"
             ],
             [
              1,
              "#f0f921"
             ]
            ],
            "type": "histogram2d"
           }
          ],
          "histogram2dcontour": [
           {
            "colorbar": {
             "outlinewidth": 0,
             "ticks": ""
            },
            "colorscale": [
             [
              0,
              "#0d0887"
             ],
             [
              0.1111111111111111,
              "#46039f"
             ],
             [
              0.2222222222222222,
              "#7201a8"
             ],
             [
              0.3333333333333333,
              "#9c179e"
             ],
             [
              0.4444444444444444,
              "#bd3786"
             ],
             [
              0.5555555555555556,
              "#d8576b"
             ],
             [
              0.6666666666666666,
              "#ed7953"
             ],
             [
              0.7777777777777778,
              "#fb9f3a"
             ],
             [
              0.8888888888888888,
              "#fdca26"
             ],
             [
              1,
              "#f0f921"
             ]
            ],
            "type": "histogram2dcontour"
           }
          ],
          "mesh3d": [
           {
            "colorbar": {
             "outlinewidth": 0,
             "ticks": ""
            },
            "type": "mesh3d"
           }
          ],
          "parcoords": [
           {
            "line": {
             "colorbar": {
              "outlinewidth": 0,
              "ticks": ""
             }
            },
            "type": "parcoords"
           }
          ],
          "pie": [
           {
            "automargin": true,
            "type": "pie"
           }
          ],
          "scatter": [
           {
            "fillpattern": {
             "fillmode": "overlay",
             "size": 10,
             "solidity": 0.2
            },
            "type": "scatter"
           }
          ],
          "scatter3d": [
           {
            "line": {
             "colorbar": {
              "outlinewidth": 0,
              "ticks": ""
             }
            },
            "marker": {
             "colorbar": {
              "outlinewidth": 0,
              "ticks": ""
             }
            },
            "type": "scatter3d"
           }
          ],
          "scattercarpet": [
           {
            "marker": {
             "colorbar": {
              "outlinewidth": 0,
              "ticks": ""
             }
            },
            "type": "scattercarpet"
           }
          ],
          "scattergeo": [
           {
            "marker": {
             "colorbar": {
              "outlinewidth": 0,
              "ticks": ""
             }
            },
            "type": "scattergeo"
           }
          ],
          "scattergl": [
           {
            "marker": {
             "colorbar": {
              "outlinewidth": 0,
              "ticks": ""
             }
            },
            "type": "scattergl"
           }
          ],
          "scattermapbox": [
           {
            "marker": {
             "colorbar": {
              "outlinewidth": 0,
              "ticks": ""
             }
            },
            "type": "scattermapbox"
           }
          ],
          "scatterpolar": [
           {
            "marker": {
             "colorbar": {
              "outlinewidth": 0,
              "ticks": ""
             }
            },
            "type": "scatterpolar"
           }
          ],
          "scatterpolargl": [
           {
            "marker": {
             "colorbar": {
              "outlinewidth": 0,
              "ticks": ""
             }
            },
            "type": "scatterpolargl"
           }
          ],
          "scatterternary": [
           {
            "marker": {
             "colorbar": {
              "outlinewidth": 0,
              "ticks": ""
             }
            },
            "type": "scatterternary"
           }
          ],
          "surface": [
           {
            "colorbar": {
             "outlinewidth": 0,
             "ticks": ""
            },
            "colorscale": [
             [
              0,
              "#0d0887"
             ],
             [
              0.1111111111111111,
              "#46039f"
             ],
             [
              0.2222222222222222,
              "#7201a8"
             ],
             [
              0.3333333333333333,
              "#9c179e"
             ],
             [
              0.4444444444444444,
              "#bd3786"
             ],
             [
              0.5555555555555556,
              "#d8576b"
             ],
             [
              0.6666666666666666,
              "#ed7953"
             ],
             [
              0.7777777777777778,
              "#fb9f3a"
             ],
             [
              0.8888888888888888,
              "#fdca26"
             ],
             [
              1,
              "#f0f921"
             ]
            ],
            "type": "surface"
           }
          ],
          "table": [
           {
            "cells": {
             "fill": {
              "color": "#EBF0F8"
             },
             "line": {
              "color": "white"
             }
            },
            "header": {
             "fill": {
              "color": "#C8D4E3"
             },
             "line": {
              "color": "white"
             }
            },
            "type": "table"
           }
          ]
         },
         "layout": {
          "annotationdefaults": {
           "arrowcolor": "#2a3f5f",
           "arrowhead": 0,
           "arrowwidth": 1
          },
          "autotypenumbers": "strict",
          "coloraxis": {
           "colorbar": {
            "outlinewidth": 0,
            "ticks": ""
           }
          },
          "colorscale": {
           "diverging": [
            [
             0,
             "#8e0152"
            ],
            [
             0.1,
             "#c51b7d"
            ],
            [
             0.2,
             "#de77ae"
            ],
            [
             0.3,
             "#f1b6da"
            ],
            [
             0.4,
             "#fde0ef"
            ],
            [
             0.5,
             "#f7f7f7"
            ],
            [
             0.6,
             "#e6f5d0"
            ],
            [
             0.7,
             "#b8e186"
            ],
            [
             0.8,
             "#7fbc41"
            ],
            [
             0.9,
             "#4d9221"
            ],
            [
             1,
             "#276419"
            ]
           ],
           "sequential": [
            [
             0,
             "#0d0887"
            ],
            [
             0.1111111111111111,
             "#46039f"
            ],
            [
             0.2222222222222222,
             "#7201a8"
            ],
            [
             0.3333333333333333,
             "#9c179e"
            ],
            [
             0.4444444444444444,
             "#bd3786"
            ],
            [
             0.5555555555555556,
             "#d8576b"
            ],
            [
             0.6666666666666666,
             "#ed7953"
            ],
            [
             0.7777777777777778,
             "#fb9f3a"
            ],
            [
             0.8888888888888888,
             "#fdca26"
            ],
            [
             1,
             "#f0f921"
            ]
           ],
           "sequentialminus": [
            [
             0,
             "#0d0887"
            ],
            [
             0.1111111111111111,
             "#46039f"
            ],
            [
             0.2222222222222222,
             "#7201a8"
            ],
            [
             0.3333333333333333,
             "#9c179e"
            ],
            [
             0.4444444444444444,
             "#bd3786"
            ],
            [
             0.5555555555555556,
             "#d8576b"
            ],
            [
             0.6666666666666666,
             "#ed7953"
            ],
            [
             0.7777777777777778,
             "#fb9f3a"
            ],
            [
             0.8888888888888888,
             "#fdca26"
            ],
            [
             1,
             "#f0f921"
            ]
           ]
          },
          "colorway": [
           "#636efa",
           "#EF553B",
           "#00cc96",
           "#ab63fa",
           "#FFA15A",
           "#19d3f3",
           "#FF6692",
           "#B6E880",
           "#FF97FF",
           "#FECB52"
          ],
          "font": {
           "color": "#2a3f5f"
          },
          "geo": {
           "bgcolor": "white",
           "lakecolor": "white",
           "landcolor": "#E5ECF6",
           "showlakes": true,
           "showland": true,
           "subunitcolor": "white"
          },
          "hoverlabel": {
           "align": "left"
          },
          "hovermode": "closest",
          "mapbox": {
           "style": "light"
          },
          "paper_bgcolor": "white",
          "plot_bgcolor": "#E5ECF6",
          "polar": {
           "angularaxis": {
            "gridcolor": "white",
            "linecolor": "white",
            "ticks": ""
           },
           "bgcolor": "#E5ECF6",
           "radialaxis": {
            "gridcolor": "white",
            "linecolor": "white",
            "ticks": ""
           }
          },
          "scene": {
           "xaxis": {
            "backgroundcolor": "#E5ECF6",
            "gridcolor": "white",
            "gridwidth": 2,
            "linecolor": "white",
            "showbackground": true,
            "ticks": "",
            "zerolinecolor": "white"
           },
           "yaxis": {
            "backgroundcolor": "#E5ECF6",
            "gridcolor": "white",
            "gridwidth": 2,
            "linecolor": "white",
            "showbackground": true,
            "ticks": "",
            "zerolinecolor": "white"
           },
           "zaxis": {
            "backgroundcolor": "#E5ECF6",
            "gridcolor": "white",
            "gridwidth": 2,
            "linecolor": "white",
            "showbackground": true,
            "ticks": "",
            "zerolinecolor": "white"
           }
          },
          "shapedefaults": {
           "line": {
            "color": "#2a3f5f"
           }
          },
          "ternary": {
           "aaxis": {
            "gridcolor": "white",
            "linecolor": "white",
            "ticks": ""
           },
           "baxis": {
            "gridcolor": "white",
            "linecolor": "white",
            "ticks": ""
           },
           "bgcolor": "#E5ECF6",
           "caxis": {
            "gridcolor": "white",
            "linecolor": "white",
            "ticks": ""
           }
          },
          "title": {
           "x": 0.05
          },
          "xaxis": {
           "automargin": true,
           "gridcolor": "white",
           "linecolor": "white",
           "ticks": "",
           "title": {
            "standoff": 15
           },
           "zerolinecolor": "white",
           "zerolinewidth": 2
          },
          "yaxis": {
           "automargin": true,
           "gridcolor": "white",
           "linecolor": "white",
           "ticks": "",
           "title": {
            "standoff": 15
           },
           "zerolinecolor": "white",
           "zerolinewidth": 2
          }
         }
        },
        "title": {
         "text": "Total View Counts of Different Episodes"
        },
        "width": 1000,
        "xaxis": {
         "title": {
          "text": "Movie Episode"
         }
        },
        "yaxis": {
         "title": {
          "text": "View Counts"
         }
        }
       }
      }
     },
     "metadata": {},
     "output_type": "display_data"
    }
   ],
   "source": [
    "fig = go.Figure()\n",
    "fig.add_trace(go.Bar(\n",
    "    x=counts.index,\n",
    "    y= counts.values, \n",
    "    width= 0.5, \n",
    "    name='Total View Counts of Different Episodes',\n",
    "    text=list(counts.values),\n",
    "    textposition='inside'\n",
    "))\n",
    "fig.update_layout(\n",
    "     xaxis_title='Movie Episode', \n",
    "     yaxis_title = 'View Counts',\n",
    "     width = 1000, \n",
    "     title='Total View Counts of Different Episodes'\n",
    "     \n",
    ")"
   ]
  },
  {
   "cell_type": "markdown",
   "metadata": {},
   "source": [
    "The latest episodes have highest number of viewers."
   ]
  },
  {
   "cell_type": "markdown",
   "metadata": {},
   "source": [
    "### 3. Gender wise Average Rankings"
   ]
  },
  {
   "cell_type": "code",
   "execution_count": 30,
   "metadata": {},
   "outputs": [],
   "source": [
    "# Average rankings given by genders\n",
    "\n",
    "male_rows = star_wars[star_wars[\"Gender\"] == \"Male\"]\n",
    "female_rows = star_wars[star_wars[\"Gender\"]==\"Female\"]"
   ]
  },
  {
   "cell_type": "code",
   "execution_count": 31,
   "metadata": {},
   "outputs": [
    {
     "data": {
      "text/plain": [
       "Index(['ranking_1', 'ranking_2', 'ranking_3', 'ranking_4', 'ranking_5',\n",
       "       'ranking_6'],\n",
       "      dtype='object')"
      ]
     },
     "execution_count": 31,
     "metadata": {},
     "output_type": "execute_result"
    }
   ],
   "source": [
    "male_rows.columns[10:16]"
   ]
  },
  {
   "cell_type": "code",
   "execution_count": 32,
   "metadata": {},
   "outputs": [],
   "source": [
    "male_ranking_cols = male_rows[male_rows.columns[10:16]]\n",
    "male_ranking_cols = male_ranking_cols.dropna()"
   ]
  },
  {
   "cell_type": "code",
   "execution_count": 33,
   "metadata": {},
   "outputs": [],
   "source": [
    "female_ranking_cols = female_rows[female_rows.columns[10:16]]\n",
    "female_ranking_cols = female_ranking_cols.dropna()"
   ]
  },
  {
   "cell_type": "code",
   "execution_count": 34,
   "metadata": {},
   "outputs": [],
   "source": [
    "new_names\n",
    "male_ranking_cols = male_ranking_cols.rename(columns=new_names)\n",
    "female_ranking_cols = female_ranking_cols.rename(columns=new_names)"
   ]
  },
  {
   "cell_type": "code",
   "execution_count": 35,
   "metadata": {},
   "outputs": [
    {
     "data": {
      "text/html": [
       "<div>\n",
       "<style scoped>\n",
       "    .dataframe tbody tr th:only-of-type {\n",
       "        vertical-align: middle;\n",
       "    }\n",
       "\n",
       "    .dataframe tbody tr th {\n",
       "        vertical-align: top;\n",
       "    }\n",
       "\n",
       "    .dataframe thead th {\n",
       "        text-align: right;\n",
       "    }\n",
       "</style>\n",
       "<table border=\"1\" class=\"dataframe\">\n",
       "  <thead>\n",
       "    <tr style=\"text-align: right;\">\n",
       "      <th></th>\n",
       "      <th>Episode I</th>\n",
       "      <th>Episode II</th>\n",
       "      <th>Episode III</th>\n",
       "      <th>Episode IV</th>\n",
       "      <th>Episode V</th>\n",
       "      <th>Episode VI</th>\n",
       "    </tr>\n",
       "  </thead>\n",
       "  <tbody>\n",
       "    <tr>\n",
       "      <th>111</th>\n",
       "      <td>1.0</td>\n",
       "      <td>4.0</td>\n",
       "      <td>5.0</td>\n",
       "      <td>6.0</td>\n",
       "      <td>2.0</td>\n",
       "      <td>3.0</td>\n",
       "    </tr>\n",
       "    <tr>\n",
       "      <th>112</th>\n",
       "      <td>1.0</td>\n",
       "      <td>2.0</td>\n",
       "      <td>3.0</td>\n",
       "      <td>4.0</td>\n",
       "      <td>5.0</td>\n",
       "      <td>6.0</td>\n",
       "    </tr>\n",
       "    <tr>\n",
       "      <th>114</th>\n",
       "      <td>3.0</td>\n",
       "      <td>4.0</td>\n",
       "      <td>5.0</td>\n",
       "      <td>6.0</td>\n",
       "      <td>1.0</td>\n",
       "      <td>2.0</td>\n",
       "    </tr>\n",
       "    <tr>\n",
       "      <th>116</th>\n",
       "      <td>3.0</td>\n",
       "      <td>4.0</td>\n",
       "      <td>5.0</td>\n",
       "      <td>6.0</td>\n",
       "      <td>2.0</td>\n",
       "      <td>1.0</td>\n",
       "    </tr>\n",
       "    <tr>\n",
       "      <th>117</th>\n",
       "      <td>3.0</td>\n",
       "      <td>6.0</td>\n",
       "      <td>4.0</td>\n",
       "      <td>1.0</td>\n",
       "      <td>2.0</td>\n",
       "      <td>5.0</td>\n",
       "    </tr>\n",
       "    <tr>\n",
       "      <th>...</th>\n",
       "      <td>...</td>\n",
       "      <td>...</td>\n",
       "      <td>...</td>\n",
       "      <td>...</td>\n",
       "      <td>...</td>\n",
       "      <td>...</td>\n",
       "    </tr>\n",
       "    <tr>\n",
       "      <th>1180</th>\n",
       "      <td>3.0</td>\n",
       "      <td>4.0</td>\n",
       "      <td>5.0</td>\n",
       "      <td>2.0</td>\n",
       "      <td>1.0</td>\n",
       "      <td>6.0</td>\n",
       "    </tr>\n",
       "    <tr>\n",
       "      <th>1181</th>\n",
       "      <td>5.0</td>\n",
       "      <td>4.0</td>\n",
       "      <td>6.0</td>\n",
       "      <td>3.0</td>\n",
       "      <td>2.0</td>\n",
       "      <td>1.0</td>\n",
       "    </tr>\n",
       "    <tr>\n",
       "      <th>1182</th>\n",
       "      <td>4.0</td>\n",
       "      <td>5.0</td>\n",
       "      <td>6.0</td>\n",
       "      <td>2.0</td>\n",
       "      <td>3.0</td>\n",
       "      <td>1.0</td>\n",
       "    </tr>\n",
       "    <tr>\n",
       "      <th>1184</th>\n",
       "      <td>4.0</td>\n",
       "      <td>3.0</td>\n",
       "      <td>6.0</td>\n",
       "      <td>5.0</td>\n",
       "      <td>2.0</td>\n",
       "      <td>1.0</td>\n",
       "    </tr>\n",
       "    <tr>\n",
       "      <th>1185</th>\n",
       "      <td>6.0</td>\n",
       "      <td>1.0</td>\n",
       "      <td>2.0</td>\n",
       "      <td>3.0</td>\n",
       "      <td>4.0</td>\n",
       "      <td>5.0</td>\n",
       "    </tr>\n",
       "  </tbody>\n",
       "</table>\n",
       "<p>396 rows × 6 columns</p>\n",
       "</div>"
      ],
      "text/plain": [
       "      Episode I  Episode II  Episode III  Episode IV  Episode V  Episode VI\n",
       "111         1.0         4.0          5.0         6.0        2.0         3.0\n",
       "112         1.0         2.0          3.0         4.0        5.0         6.0\n",
       "114         3.0         4.0          5.0         6.0        1.0         2.0\n",
       "116         3.0         4.0          5.0         6.0        2.0         1.0\n",
       "117         3.0         6.0          4.0         1.0        2.0         5.0\n",
       "...         ...         ...          ...         ...        ...         ...\n",
       "1180        3.0         4.0          5.0         2.0        1.0         6.0\n",
       "1181        5.0         4.0          6.0         3.0        2.0         1.0\n",
       "1182        4.0         5.0          6.0         2.0        3.0         1.0\n",
       "1184        4.0         3.0          6.0         5.0        2.0         1.0\n",
       "1185        6.0         1.0          2.0         3.0        4.0         5.0\n",
       "\n",
       "[396 rows x 6 columns]"
      ]
     },
     "execution_count": 35,
     "metadata": {},
     "output_type": "execute_result"
    }
   ],
   "source": [
    "female_ranking_cols"
   ]
  },
  {
   "cell_type": "code",
   "execution_count": 36,
   "metadata": {},
   "outputs": [
    {
     "data": {
      "text/html": [
       "<div>\n",
       "<style scoped>\n",
       "    .dataframe tbody tr th:only-of-type {\n",
       "        vertical-align: middle;\n",
       "    }\n",
       "\n",
       "    .dataframe tbody tr th {\n",
       "        vertical-align: top;\n",
       "    }\n",
       "\n",
       "    .dataframe thead th {\n",
       "        text-align: right;\n",
       "    }\n",
       "</style>\n",
       "<table border=\"1\" class=\"dataframe\">\n",
       "  <thead>\n",
       "    <tr style=\"text-align: right;\">\n",
       "      <th></th>\n",
       "      <th>Episode I</th>\n",
       "      <th>Episode II</th>\n",
       "      <th>Episode III</th>\n",
       "      <th>Episode IV</th>\n",
       "      <th>Episode V</th>\n",
       "      <th>Episode VI</th>\n",
       "    </tr>\n",
       "  </thead>\n",
       "  <tbody>\n",
       "    <tr>\n",
       "      <th>0</th>\n",
       "      <td>3.0</td>\n",
       "      <td>2.0</td>\n",
       "      <td>1.0</td>\n",
       "      <td>4.0</td>\n",
       "      <td>5.0</td>\n",
       "      <td>6.0</td>\n",
       "    </tr>\n",
       "    <tr>\n",
       "      <th>2</th>\n",
       "      <td>1.0</td>\n",
       "      <td>2.0</td>\n",
       "      <td>3.0</td>\n",
       "      <td>4.0</td>\n",
       "      <td>5.0</td>\n",
       "      <td>6.0</td>\n",
       "    </tr>\n",
       "    <tr>\n",
       "      <th>3</th>\n",
       "      <td>5.0</td>\n",
       "      <td>6.0</td>\n",
       "      <td>1.0</td>\n",
       "      <td>2.0</td>\n",
       "      <td>4.0</td>\n",
       "      <td>3.0</td>\n",
       "    </tr>\n",
       "    <tr>\n",
       "      <th>4</th>\n",
       "      <td>5.0</td>\n",
       "      <td>4.0</td>\n",
       "      <td>6.0</td>\n",
       "      <td>2.0</td>\n",
       "      <td>1.0</td>\n",
       "      <td>3.0</td>\n",
       "    </tr>\n",
       "    <tr>\n",
       "      <th>5</th>\n",
       "      <td>1.0</td>\n",
       "      <td>4.0</td>\n",
       "      <td>3.0</td>\n",
       "      <td>6.0</td>\n",
       "      <td>5.0</td>\n",
       "      <td>2.0</td>\n",
       "    </tr>\n",
       "    <tr>\n",
       "      <th>...</th>\n",
       "      <td>...</td>\n",
       "      <td>...</td>\n",
       "      <td>...</td>\n",
       "      <td>...</td>\n",
       "      <td>...</td>\n",
       "      <td>...</td>\n",
       "    </tr>\n",
       "    <tr>\n",
       "      <th>1146</th>\n",
       "      <td>4.0</td>\n",
       "      <td>5.0</td>\n",
       "      <td>3.0</td>\n",
       "      <td>6.0</td>\n",
       "      <td>1.0</td>\n",
       "      <td>2.0</td>\n",
       "    </tr>\n",
       "    <tr>\n",
       "      <th>1148</th>\n",
       "      <td>5.0</td>\n",
       "      <td>3.0</td>\n",
       "      <td>4.0</td>\n",
       "      <td>6.0</td>\n",
       "      <td>1.0</td>\n",
       "      <td>2.0</td>\n",
       "    </tr>\n",
       "    <tr>\n",
       "      <th>1164</th>\n",
       "      <td>5.0</td>\n",
       "      <td>4.0</td>\n",
       "      <td>3.0</td>\n",
       "      <td>6.0</td>\n",
       "      <td>1.0</td>\n",
       "      <td>2.0</td>\n",
       "    </tr>\n",
       "    <tr>\n",
       "      <th>1169</th>\n",
       "      <td>4.0</td>\n",
       "      <td>5.0</td>\n",
       "      <td>6.0</td>\n",
       "      <td>3.0</td>\n",
       "      <td>1.0</td>\n",
       "      <td>2.0</td>\n",
       "    </tr>\n",
       "    <tr>\n",
       "      <th>1177</th>\n",
       "      <td>1.0</td>\n",
       "      <td>2.0</td>\n",
       "      <td>3.0</td>\n",
       "      <td>4.0</td>\n",
       "      <td>5.0</td>\n",
       "      <td>6.0</td>\n",
       "    </tr>\n",
       "  </tbody>\n",
       "</table>\n",
       "<p>422 rows × 6 columns</p>\n",
       "</div>"
      ],
      "text/plain": [
       "      Episode I  Episode II  Episode III  Episode IV  Episode V  Episode VI\n",
       "0           3.0         2.0          1.0         4.0        5.0         6.0\n",
       "2           1.0         2.0          3.0         4.0        5.0         6.0\n",
       "3           5.0         6.0          1.0         2.0        4.0         3.0\n",
       "4           5.0         4.0          6.0         2.0        1.0         3.0\n",
       "5           1.0         4.0          3.0         6.0        5.0         2.0\n",
       "...         ...         ...          ...         ...        ...         ...\n",
       "1146        4.0         5.0          3.0         6.0        1.0         2.0\n",
       "1148        5.0         3.0          4.0         6.0        1.0         2.0\n",
       "1164        5.0         4.0          3.0         6.0        1.0         2.0\n",
       "1169        4.0         5.0          6.0         3.0        1.0         2.0\n",
       "1177        1.0         2.0          3.0         4.0        5.0         6.0\n",
       "\n",
       "[422 rows x 6 columns]"
      ]
     },
     "execution_count": 36,
     "metadata": {},
     "output_type": "execute_result"
    }
   ],
   "source": [
    "male_ranking_cols"
   ]
  },
  {
   "cell_type": "code",
   "execution_count": 37,
   "metadata": {},
   "outputs": [],
   "source": [
    "male_ranking_mean = male_ranking_cols.mean()\n",
    "female_ranking_mean = female_ranking_cols.mean()"
   ]
  },
  {
   "cell_type": "code",
   "execution_count": 38,
   "metadata": {},
   "outputs": [
    {
     "data": {
      "text/plain": [
       "Episode I      4.045024\n",
       "Episode II     4.229858\n",
       "Episode III    4.274882\n",
       "Episode IV     2.995261\n",
       "Episode V      2.452607\n",
       "Episode VI     3.002370\n",
       "dtype: float64"
      ]
     },
     "execution_count": 38,
     "metadata": {},
     "output_type": "execute_result"
    }
   ],
   "source": [
    "male_ranking_mean"
   ]
  },
  {
   "cell_type": "code",
   "execution_count": 39,
   "metadata": {},
   "outputs": [
    {
     "data": {
      "text/plain": [
       "Episode I      3.429293\n",
       "Episode II     3.957071\n",
       "Episode III    4.424242\n",
       "Episode IV     3.540404\n",
       "Episode V      2.573232\n",
       "Episode VI     3.075758\n",
       "dtype: float64"
      ]
     },
     "execution_count": 39,
     "metadata": {},
     "output_type": "execute_result"
    }
   ],
   "source": [
    "female_ranking_mean"
   ]
  },
  {
   "cell_type": "code",
   "execution_count": 40,
   "metadata": {},
   "outputs": [
    {
     "data": {
      "application/vnd.plotly.v1+json": {
       "config": {
        "plotlyServerURL": "https://plot.ly"
       },
       "data": [
        {
         "bandwidth": 0.4,
         "box": {
          "visible": true
         },
         "meanline": {
          "visible": true
         },
         "name": "Episode I",
         "type": "violin",
         "y": [
          3,
          1,
          5,
          5,
          1,
          6,
          4,
          5,
          1,
          3,
          4,
          4,
          4,
          4,
          1,
          6,
          6,
          6,
          3,
          6,
          6,
          1,
          4,
          6,
          6,
          4,
          4,
          6,
          6,
          6,
          6,
          3,
          2,
          6,
          4,
          5,
          6,
          5,
          6,
          5,
          6,
          5,
          6,
          4,
          6,
          4,
          5,
          6,
          4,
          6,
          6,
          5,
          5,
          1,
          4,
          6,
          1,
          6,
          6,
          6,
          5,
          4,
          6,
          6,
          5,
          4,
          4,
          3,
          3,
          6,
          5,
          6,
          6,
          6,
          6,
          6,
          1,
          5,
          6,
          1,
          6,
          1,
          6,
          3,
          1,
          2,
          6,
          5,
          4,
          6,
          2,
          3,
          3,
          4,
          2,
          3,
          4,
          6,
          4,
          4,
          6,
          3,
          3,
          5,
          6,
          5,
          5,
          6,
          4,
          6,
          6,
          6,
          5,
          3,
          4,
          5,
          6,
          2,
          3,
          1,
          4,
          5,
          5,
          3,
          4,
          1,
          4,
          4,
          5,
          5,
          3,
          3,
          4,
          4,
          4,
          3,
          4,
          6,
          6,
          5,
          6,
          3,
          6,
          4,
          5,
          6,
          2,
          4,
          1,
          1,
          4,
          5,
          6,
          3,
          1,
          4,
          1,
          4,
          6,
          3,
          5,
          1,
          6,
          4,
          5,
          5,
          4,
          2,
          4,
          4,
          4,
          1,
          6,
          6,
          4,
          3,
          4,
          3,
          3,
          4,
          2,
          4,
          1,
          1,
          4,
          3,
          4,
          1,
          4,
          6,
          6,
          4,
          6,
          4,
          4,
          4,
          6,
          6,
          1,
          4,
          4,
          4,
          6,
          2,
          3,
          4,
          6,
          6,
          3,
          5,
          6,
          5,
          4,
          6,
          5,
          6,
          4,
          5,
          4,
          4,
          4,
          6,
          3,
          1,
          6,
          4,
          6,
          5,
          1,
          5,
          5,
          4,
          3,
          2,
          2,
          3,
          4,
          6,
          4,
          1,
          1,
          2,
          6,
          6,
          2,
          6,
          6,
          4,
          2,
          1,
          3,
          5,
          4,
          4,
          6,
          6,
          2,
          2,
          6,
          3,
          4,
          4,
          1,
          2,
          5,
          6,
          6,
          2,
          4,
          3,
          6,
          4,
          4,
          5,
          6,
          2,
          3,
          4,
          4,
          2,
          3,
          4,
          6,
          3,
          5,
          4,
          4,
          5,
          4,
          5,
          1,
          2,
          1,
          5,
          4,
          6,
          5,
          5,
          3,
          4,
          6,
          3,
          3,
          3,
          4,
          4,
          1,
          5,
          6,
          3,
          6,
          4,
          5,
          6,
          3,
          3,
          2,
          6,
          5,
          4,
          2,
          1,
          4,
          4,
          1,
          6,
          4,
          5,
          4,
          5,
          4,
          1,
          6,
          3,
          1,
          6,
          3,
          1,
          4,
          4,
          1,
          1,
          4,
          1,
          6,
          1,
          6,
          6,
          4,
          6,
          1,
          5,
          4,
          2,
          1,
          4,
          1,
          4,
          4,
          6,
          4,
          6,
          5,
          1,
          3,
          6,
          1,
          4,
          6,
          1,
          5,
          2,
          6,
          6,
          1,
          4,
          1,
          3,
          4,
          1,
          6,
          6,
          6,
          4,
          5,
          5,
          1,
          4,
          5,
          1,
          4,
          6,
          5,
          5,
          6,
          4,
          6,
          5,
          6,
          4,
          4,
          6,
          3,
          4,
          4,
          6,
          6,
          5,
          6,
          1,
          1,
          3,
          5,
          1,
          4,
          1,
          3,
          4,
          5,
          5,
          4,
          1
         ]
        },
        {
         "bandwidth": 0.4,
         "box": {
          "visible": true
         },
         "meanline": {
          "visible": true
         },
         "name": "Episode II",
         "type": "violin",
         "y": [
          2,
          2,
          6,
          4,
          4,
          5,
          5,
          4,
          2,
          4,
          5,
          2,
          6,
          1,
          2,
          5,
          5,
          5,
          4,
          5,
          1,
          2,
          6,
          5,
          5,
          6,
          3,
          5,
          1,
          1,
          3,
          2,
          4,
          3,
          5,
          6,
          5,
          6,
          5,
          6,
          5,
          4,
          5,
          6,
          4,
          5,
          6,
          5,
          6,
          4,
          4,
          4,
          6,
          2,
          5,
          5,
          2,
          5,
          1,
          5,
          6,
          5,
          4,
          5,
          6,
          5,
          5,
          4,
          4,
          5,
          4,
          5,
          5,
          4,
          5,
          5,
          4,
          4,
          5,
          2,
          5,
          4,
          5,
          5,
          2,
          3,
          5,
          3,
          5,
          5,
          3,
          4,
          5,
          5,
          3,
          4,
          3,
          5,
          5,
          6,
          5,
          5,
          1,
          6,
          5,
          6,
          6,
          5,
          5,
          5,
          5,
          5,
          6,
          4,
          5,
          3,
          2,
          3,
          4,
          2,
          5,
          1,
          2,
          1,
          5,
          6,
          5,
          5,
          6,
          6,
          6,
          4,
          5,
          5,
          6,
          4,
          5,
          2,
          4,
          6,
          5,
          4,
          4,
          3,
          6,
          5,
          3,
          5,
          2,
          6,
          5,
          4,
          4,
          5,
          2,
          2,
          2,
          3,
          5,
          1,
          6,
          5,
          4,
          3,
          3,
          3,
          6,
          3,
          5,
          6,
          5,
          2,
          5,
          5,
          5,
          2,
          3,
          4,
          4,
          5,
          4,
          5,
          2,
          2,
          5,
          4,
          5,
          2,
          5,
          4,
          5,
          6,
          5,
          5,
          5,
          5,
          4,
          3,
          2,
          5,
          6,
          5,
          2,
          3,
          4,
          5,
          4,
          5,
          4,
          6,
          4,
          6,
          5,
          5,
          2,
          5,
          5,
          6,
          6,
          5,
          2,
          4,
          1,
          2,
          1,
          5,
          4,
          4,
          2,
          4,
          3,
          5,
          6,
          5,
          3,
          1,
          5,
          4,
          6,
          5,
          3,
          1,
          4,
          4,
          5,
          5,
          4,
          5,
          3,
          4,
          4,
          3,
          5,
          5,
          5,
          4,
          3,
          5,
          5,
          4,
          6,
          6,
          2,
          3,
          6,
          1,
          4,
          3,
          5,
          4,
          4,
          5,
          5,
          4,
          5,
          3,
          4,
          5,
          5,
          4,
          4,
          5,
          3,
          4,
          6,
          5,
          5,
          2,
          5,
          6,
          2,
          3,
          2,
          6,
          6,
          5,
          6,
          4,
          4,
          5,
          5,
          4,
          4,
          5,
          5,
          5,
          5,
          2,
          3,
          6,
          4,
          5,
          6,
          4,
          4,
          4,
          4,
          2,
          6,
          5,
          3,
          2,
          5,
          5,
          3,
          5,
          5,
          6,
          5,
          6,
          5,
          6,
          3,
          4,
          2,
          4,
          6,
          2,
          5,
          5,
          4,
          2,
          6,
          2,
          2,
          2,
          5,
          4,
          5,
          5,
          2,
          2,
          5,
          3,
          2,
          5,
          3,
          5,
          6,
          5,
          6,
          5,
          6,
          2,
          4,
          1,
          2,
          6,
          5,
          3,
          6,
          5,
          4,
          3,
          2,
          5,
          4,
          5,
          5,
          5,
          5,
          4,
          4,
          5,
          6,
          6,
          2,
          5,
          6,
          2,
          6,
          5,
          6,
          2,
          5,
          6,
          5,
          6,
          5,
          5,
          5,
          5,
          4,
          5,
          3,
          5,
          5,
          3,
          5,
          2,
          5,
          4,
          6,
          5,
          5,
          2,
          5,
          5,
          3,
          4,
          5,
          2
         ]
        },
        {
         "bandwidth": 0.4,
         "box": {
          "visible": true
         },
         "meanline": {
          "visible": true
         },
         "name": "Episode III",
         "type": "violin",
         "y": [
          1,
          3,
          1,
          6,
          3,
          4,
          6,
          6,
          3,
          5,
          6,
          5,
          5,
          2,
          3,
          2,
          1,
          4,
          5,
          4,
          4,
          6,
          5,
          4,
          4,
          5,
          5,
          4,
          2,
          2,
          4,
          1,
          5,
          5,
          6,
          2,
          4,
          4,
          4,
          4,
          4,
          6,
          4,
          5,
          5,
          1,
          4,
          4,
          5,
          5,
          5,
          6,
          2,
          3,
          6,
          4,
          3,
          4,
          5,
          2,
          4,
          3,
          5,
          4,
          2,
          6,
          6,
          5,
          5,
          2,
          6,
          4,
          4,
          5,
          4,
          3,
          3,
          6,
          4,
          3,
          4,
          5,
          4,
          6,
          3,
          6,
          4,
          4,
          6,
          4,
          4,
          5,
          6,
          2,
          4,
          5,
          6,
          4,
          6,
          5,
          4,
          6,
          2,
          4,
          4,
          4,
          4,
          4,
          6,
          4,
          4,
          4,
          4,
          5,
          6,
          6,
          4,
          4,
          5,
          3,
          6,
          6,
          1,
          2,
          6,
          5,
          6,
          6,
          4,
          4,
          5,
          5,
          6,
          6,
          5,
          5,
          6,
          3,
          5,
          4,
          3,
          6,
          3,
          5,
          4,
          4,
          4,
          6,
          3,
          5,
          6,
          6,
          5,
          4,
          3,
          3,
          3,
          1,
          4,
          2,
          3,
          4,
          5,
          5,
          6,
          4,
          3,
          4,
          6,
          5,
          6,
          3,
          4,
          1,
          3,
          1,
          5,
          5,
          5,
          3,
          6,
          3,
          3,
          3,
          6,
          5,
          3,
          3,
          6,
          5,
          4,
          5,
          4,
          6,
          6,
          6,
          5,
          4,
          3,
          6,
          5,
          2,
          3,
          1,
          5,
          6,
          3,
          3,
          5,
          4,
          1,
          4,
          6,
          3,
          6,
          4,
          6,
          3,
          5,
          6,
          3,
          5,
          2,
          3,
          5,
          6,
          1,
          6,
          3,
          6,
          4,
          6,
          5,
          6,
          4,
          2,
          3,
          5,
          3,
          3,
          4,
          3,
          5,
          5,
          3,
          2,
          5,
          6,
          6,
          5,
          6,
          6,
          6,
          6,
          4,
          5,
          4,
          6,
          4,
          5,
          5,
          1,
          3,
          4,
          3,
          3,
          5,
          4,
          6,
          5,
          5,
          6,
          6,
          2,
          3,
          4,
          5,
          6,
          6,
          5,
          5,
          6,
          4,
          5,
          3,
          6,
          6,
          3,
          6,
          1,
          4,
          1,
          3,
          4,
          5,
          4,
          3,
          6,
          5,
          6,
          3,
          5,
          5,
          6,
          6,
          6,
          6,
          1,
          4,
          5,
          5,
          6,
          4,
          5,
          5,
          5,
          6,
          3,
          4,
          6,
          6,
          3,
          6,
          6,
          2,
          4,
          6,
          1,
          6,
          4,
          3,
          4,
          4,
          5,
          3,
          5,
          4,
          3,
          3,
          6,
          6,
          3,
          5,
          3,
          5,
          4,
          4,
          5,
          6,
          4,
          3,
          4,
          6,
          4,
          3,
          6,
          2,
          6,
          5,
          4,
          5,
          4,
          4,
          3,
          5,
          3,
          3,
          5,
          4,
          2,
          2,
          6,
          5,
          5,
          3,
          6,
          5,
          4,
          6,
          4,
          4,
          3,
          5,
          6,
          2,
          3,
          3,
          6,
          1,
          3,
          5,
          4,
          3,
          3,
          4,
          5,
          4,
          4,
          4,
          6,
          6,
          4,
          5,
          6,
          5,
          4,
          4,
          6,
          3,
          3,
          6,
          5,
          4,
          2,
          1,
          3,
          6,
          3,
          4,
          3,
          6,
          3
         ]
        },
        {
         "bandwidth": 0.4,
         "box": {
          "visible": true
         },
         "meanline": {
          "visible": true
         },
         "name": "Episode IV",
         "type": "violin",
         "y": [
          4,
          4,
          2,
          2,
          6,
          3,
          3,
          2,
          4,
          6,
          2,
          3,
          3,
          3,
          4,
          3,
          4,
          1,
          1,
          3,
          2,
          3,
          2,
          2,
          2,
          2,
          6,
          2,
          3,
          3,
          1,
          4,
          1,
          1,
          3,
          3,
          2,
          2,
          2,
          3,
          2,
          3,
          1,
          3,
          3,
          6,
          2,
          2,
          2,
          3,
          3,
          1,
          3,
          4,
          2,
          2,
          4,
          2,
          3,
          4,
          2,
          6,
          2,
          3,
          4,
          1,
          2,
          6,
          6,
          3,
          1,
          1,
          3,
          1,
          2,
          2,
          6,
          2,
          1,
          4,
          3,
          2,
          1,
          2,
          4,
          5,
          1,
          6,
          1,
          1,
          5,
          6,
          2,
          1,
          1,
          6,
          2,
          2,
          2,
          1,
          3,
          4,
          4,
          2,
          2,
          1,
          2,
          1,
          1,
          2,
          2,
          2,
          1,
          2,
          2,
          1,
          3,
          5,
          6,
          4,
          1,
          2,
          4,
          4,
          3,
          3,
          1,
          1,
          2,
          2,
          1,
          6,
          2,
          2,
          2,
          6,
          1,
          4,
          1,
          1,
          4,
          5,
          1,
          2,
          1,
          3,
          5,
          3,
          4,
          2,
          1,
          1,
          1,
          6,
          4,
          5,
          4,
          6,
          3,
          6,
          1,
          6,
          2,
          6,
          4,
          6,
          2,
          5,
          1,
          3,
          1,
          4,
          3,
          4,
          6,
          6,
          6,
          6,
          6,
          6,
          3,
          2,
          4,
          4,
          1,
          6,
          6,
          4,
          1,
          2,
          1,
          2,
          3,
          3,
          1,
          2,
          3,
          1,
          4,
          1,
          3,
          6,
          5,
          4,
          2,
          1,
          5,
          2,
          6,
          1,
          3,
          3,
          2,
          1,
          1,
          1,
          1,
          1,
          1,
          1,
          5,
          3,
          6,
          4,
          2,
          1,
          3,
          1,
          4,
          3,
          6,
          1,
          2,
          3,
          5,
          4,
          6,
          3,
          2,
          4,
          5,
          6,
          1,
          3,
          4,
          1,
          3,
          3,
          1,
          6,
          5,
          4,
          1,
          3,
          2,
          3,
          6,
          4,
          2,
          1,
          1,
          2,
          6,
          5,
          2,
          2,
          1,
          1,
          1,
          6,
          2,
          1,
          1,
          1,
          4,
          5,
          6,
          1,
          1,
          6,
          6,
          1,
          5,
          6,
          4,
          1,
          2,
          4,
          2,
          2,
          5,
          4,
          4,
          3,
          1,
          3,
          1,
          3,
          6,
          1,
          2,
          6,
          6,
          1,
          2,
          3,
          4,
          6,
          5,
          4,
          1,
          2,
          1,
          1,
          6,
          6,
          5,
          1,
          1,
          1,
          5,
          4,
          2,
          1,
          4,
          1,
          1,
          2,
          1,
          2,
          6,
          5,
          2,
          6,
          4,
          1,
          5,
          4,
          6,
          1,
          5,
          4,
          1,
          4,
          3,
          5,
          1,
          1,
          1,
          3,
          4,
          6,
          3,
          6,
          4,
          3,
          4,
          2,
          2,
          3,
          1,
          1,
          2,
          4,
          6,
          5,
          4,
          1,
          1,
          6,
          3,
          1,
          2,
          1,
          4,
          1,
          3,
          6,
          1,
          2,
          1,
          2,
          2,
          1,
          3,
          4,
          5,
          3,
          2,
          4,
          1,
          2,
          2,
          6,
          1,
          3,
          3,
          3,
          1,
          1,
          1,
          3,
          6,
          1,
          6,
          1,
          2,
          1,
          4,
          4,
          2,
          6,
          1,
          6,
          6,
          4,
          4,
          6,
          6,
          6,
          3,
          4
         ]
        },
        {
         "bandwidth": 0.4,
         "box": {
          "visible": true
         },
         "meanline": {
          "visible": true
         },
         "name": "Episode V",
         "type": "violin",
         "y": [
          5,
          5,
          4,
          1,
          5,
          1,
          2,
          1,
          5,
          1,
          3,
          1,
          1,
          5,
          5,
          1,
          3,
          2,
          2,
          1,
          3,
          4,
          3,
          3,
          1,
          1,
          2,
          1,
          4,
          4,
          2,
          6,
          6,
          4,
          2,
          4,
          1,
          1,
          1,
          2,
          1,
          1,
          2,
          1,
          1,
          2,
          1,
          1,
          1,
          1,
          1,
          3,
          1,
          5,
          1,
          1,
          5,
          1,
          4,
          3,
          1,
          2,
          1,
          2,
          1,
          2,
          3,
          1,
          1,
          4,
          2,
          2,
          2,
          2,
          3,
          1,
          5,
          3,
          3,
          5,
          2,
          3,
          3,
          1,
          5,
          1,
          3,
          2,
          2,
          3,
          1,
          2,
          4,
          3,
          5,
          1,
          5,
          3,
          3,
          2,
          1,
          1,
          5,
          1,
          1,
          2,
          1,
          3,
          2,
          1,
          1,
          1,
          2,
          6,
          1,
          2,
          1,
          6,
          1,
          5,
          3,
          3,
          3,
          5,
          2,
          2,
          2,
          2,
          3,
          1,
          4,
          1,
          3,
          1,
          3,
          1,
          2,
          1,
          2,
          3,
          1,
          1,
          2,
          1,
          2,
          1,
          1,
          1,
          5,
          4,
          2,
          3,
          2,
          1,
          5,
          6,
          5,
          5,
          1,
          5,
          4,
          2,
          1,
          2,
          2,
          2,
          5,
          1,
          2,
          2,
          2,
          5,
          1,
          3,
          1,
          4,
          1,
          1,
          1,
          1,
          5,
          6,
          5,
          5,
          2,
          2,
          1,
          5,
          2,
          1,
          2,
          1,
          1,
          1,
          2,
          1,
          1,
          2,
          5,
          2,
          1,
          3,
          4,
          5,
          1,
          3,
          2,
          1,
          1,
          2,
          2,
          1,
          1,
          4,
          3,
          2,
          2,
          2,
          3,
          2,
          6,
          2,
          5,
          5,
          4,
          2,
          5,
          2,
          5,
          1,
          1,
          2,
          4,
          1,
          1,
          5,
          2,
          2,
          1,
          6,
          2,
          4,
          2,
          1,
          6,
          4,
          1,
          1,
          4,
          2,
          1,
          1,
          2,
          1,
          1,
          1,
          5,
          1,
          1,
          2,
          2,
          5,
          4,
          1,
          1,
          4,
          2,
          5,
          2,
          2,
          1,
          2,
          2,
          3,
          1,
          6,
          1,
          2,
          2,
          1,
          1,
          2,
          1,
          1,
          2,
          3,
          3,
          6,
          3,
          4,
          6,
          5,
          5,
          2,
          2,
          2,
          4,
          1,
          1,
          2,
          1,
          1,
          2,
          2,
          1,
          1,
          2,
          3,
          1,
          1,
          2,
          1,
          2,
          2,
          1,
          1,
          3,
          4,
          2,
          2,
          1,
          5,
          3,
          2,
          6,
          2,
          3,
          3,
          3,
          1,
          1,
          2,
          1,
          2,
          5,
          2,
          1,
          5,
          2,
          3,
          2,
          5,
          3,
          6,
          1,
          6,
          2,
          2,
          3,
          1,
          5,
          1,
          1,
          5,
          5,
          1,
          5,
          3,
          1,
          1,
          2,
          2,
          1,
          5,
          1,
          4,
          5,
          2,
          3,
          4,
          1,
          3,
          1,
          2,
          5,
          2,
          2,
          1,
          3,
          6,
          3,
          1,
          1,
          2,
          1,
          1,
          6,
          1,
          3,
          5,
          2,
          3,
          1,
          1,
          2,
          2,
          2,
          1,
          2,
          3,
          2,
          2,
          1,
          3,
          1,
          3,
          1,
          2,
          1,
          5,
          4,
          1,
          2,
          4,
          2,
          5,
          1,
          1,
          1,
          1,
          1,
          5
         ]
        },
        {
         "bandwidth": 0.4,
         "box": {
          "visible": true
         },
         "meanline": {
          "visible": true
         },
         "name": "Episode VI",
         "type": "violin",
         "y": [
          6,
          6,
          3,
          3,
          2,
          2,
          1,
          3,
          6,
          2,
          1,
          6,
          2,
          6,
          6,
          4,
          2,
          3,
          6,
          2,
          5,
          5,
          1,
          1,
          3,
          3,
          1,
          3,
          5,
          5,
          5,
          5,
          3,
          2,
          1,
          1,
          3,
          3,
          3,
          1,
          3,
          2,
          3,
          2,
          2,
          3,
          3,
          3,
          3,
          2,
          2,
          2,
          4,
          6,
          3,
          3,
          6,
          3,
          2,
          1,
          3,
          1,
          3,
          1,
          3,
          3,
          1,
          2,
          2,
          1,
          3,
          3,
          1,
          3,
          1,
          4,
          2,
          1,
          2,
          6,
          1,
          6,
          2,
          4,
          6,
          4,
          2,
          1,
          3,
          2,
          6,
          1,
          1,
          6,
          6,
          2,
          1,
          1,
          1,
          3,
          2,
          2,
          6,
          3,
          3,
          3,
          3,
          2,
          3,
          3,
          3,
          3,
          3,
          1,
          3,
          4,
          5,
          1,
          2,
          6,
          2,
          4,
          6,
          6,
          1,
          4,
          3,
          3,
          1,
          3,
          2,
          2,
          1,
          3,
          1,
          2,
          3,
          5,
          3,
          2,
          2,
          2,
          5,
          6,
          3,
          2,
          6,
          2,
          6,
          3,
          3,
          2,
          3,
          2,
          6,
          1,
          6,
          2,
          2,
          4,
          2,
          3,
          3,
          1,
          1,
          1,
          1,
          6,
          3,
          1,
          3,
          6,
          2,
          2,
          2,
          5,
          2,
          2,
          2,
          2,
          1,
          1,
          6,
          6,
          3,
          1,
          2,
          6,
          3,
          3,
          3,
          3,
          2,
          2,
          3,
          3,
          2,
          5,
          6,
          3,
          2,
          1,
          1,
          6,
          6,
          2,
          1,
          4,
          2,
          3,
          5,
          2,
          3,
          2,
          4,
          3,
          3,
          4,
          2,
          3,
          1,
          1,
          4,
          6,
          3,
          3,
          2,
          3,
          6,
          2,
          2,
          3,
          1,
          4,
          6,
          6,
          1,
          1,
          5,
          2,
          6,
          5,
          3,
          2,
          1,
          3,
          2,
          2,
          5,
          3,
          2,
          2,
          3,
          2,
          3,
          2,
          1,
          3,
          3,
          6,
          3,
          3,
          5,
          6,
          4,
          5,
          3,
          6,
          3,
          1,
          3,
          3,
          3,
          6,
          2,
          1,
          2,
          3,
          3,
          3,
          2,
          3,
          2,
          2,
          1,
          2,
          1,
          1,
          1,
          3,
          3,
          6,
          6,
          1,
          3,
          1,
          2,
          2,
          2,
          3,
          4,
          2,
          1,
          4,
          3,
          2,
          3,
          4,
          2,
          2,
          3,
          3,
          3,
          3,
          2,
          2,
          1,
          5,
          3,
          3,
          4,
          6,
          1,
          3,
          5,
          3,
          2,
          4,
          2,
          3,
          2,
          3,
          5,
          1,
          6,
          3,
          2,
          6,
          1,
          2,
          3,
          6,
          2,
          5,
          4,
          3,
          3,
          3,
          2,
          2,
          6,
          3,
          2,
          1,
          6,
          2,
          6,
          1,
          3,
          2,
          3,
          3,
          3,
          6,
          2,
          2,
          6,
          3,
          2,
          5,
          4,
          4,
          3,
          4,
          6,
          3,
          6,
          2,
          2,
          3,
          2,
          5,
          3,
          3,
          4,
          2,
          4,
          2,
          4,
          6,
          3,
          1,
          4,
          4,
          3,
          1,
          1,
          2,
          3,
          2,
          3,
          1,
          2,
          2,
          2,
          2,
          3,
          4,
          2,
          6,
          3,
          2,
          3,
          3,
          3,
          6,
          2,
          2,
          2,
          2,
          2,
          6
         ]
        },
        {
         "marker": {
          "color": "black",
          "size": 7,
          "symbol": "x"
         },
         "mode": "markers",
         "name": "Mean Rankings",
         "type": "scatter",
         "x": [
          "Episode I",
          "Episode II",
          "Episode III",
          "Episode IV",
          "Episode V",
          "Episode VI"
         ],
         "y": [
          4.045023696682464,
          4.229857819905213,
          4.274881516587678,
          2.995260663507109,
          2.4526066350710902,
          3.0023696682464456
         ]
        }
       ],
       "layout": {
        "template": {
         "data": {
          "bar": [
           {
            "error_x": {
             "color": "#2a3f5f"
            },
            "error_y": {
             "color": "#2a3f5f"
            },
            "marker": {
             "line": {
              "color": "#E5ECF6",
              "width": 0.5
             },
             "pattern": {
              "fillmode": "overlay",
              "size": 10,
              "solidity": 0.2
             }
            },
            "type": "bar"
           }
          ],
          "barpolar": [
           {
            "marker": {
             "line": {
              "color": "#E5ECF6",
              "width": 0.5
             },
             "pattern": {
              "fillmode": "overlay",
              "size": 10,
              "solidity": 0.2
             }
            },
            "type": "barpolar"
           }
          ],
          "carpet": [
           {
            "aaxis": {
             "endlinecolor": "#2a3f5f",
             "gridcolor": "white",
             "linecolor": "white",
             "minorgridcolor": "white",
             "startlinecolor": "#2a3f5f"
            },
            "baxis": {
             "endlinecolor": "#2a3f5f",
             "gridcolor": "white",
             "linecolor": "white",
             "minorgridcolor": "white",
             "startlinecolor": "#2a3f5f"
            },
            "type": "carpet"
           }
          ],
          "choropleth": [
           {
            "colorbar": {
             "outlinewidth": 0,
             "ticks": ""
            },
            "type": "choropleth"
           }
          ],
          "contour": [
           {
            "colorbar": {
             "outlinewidth": 0,
             "ticks": ""
            },
            "colorscale": [
             [
              0,
              "#0d0887"
             ],
             [
              0.1111111111111111,
              "#46039f"
             ],
             [
              0.2222222222222222,
              "#7201a8"
             ],
             [
              0.3333333333333333,
              "#9c179e"
             ],
             [
              0.4444444444444444,
              "#bd3786"
             ],
             [
              0.5555555555555556,
              "#d8576b"
             ],
             [
              0.6666666666666666,
              "#ed7953"
             ],
             [
              0.7777777777777778,
              "#fb9f3a"
             ],
             [
              0.8888888888888888,
              "#fdca26"
             ],
             [
              1,
              "#f0f921"
             ]
            ],
            "type": "contour"
           }
          ],
          "contourcarpet": [
           {
            "colorbar": {
             "outlinewidth": 0,
             "ticks": ""
            },
            "type": "contourcarpet"
           }
          ],
          "heatmap": [
           {
            "colorbar": {
             "outlinewidth": 0,
             "ticks": ""
            },
            "colorscale": [
             [
              0,
              "#0d0887"
             ],
             [
              0.1111111111111111,
              "#46039f"
             ],
             [
              0.2222222222222222,
              "#7201a8"
             ],
             [
              0.3333333333333333,
              "#9c179e"
             ],
             [
              0.4444444444444444,
              "#bd3786"
             ],
             [
              0.5555555555555556,
              "#d8576b"
             ],
             [
              0.6666666666666666,
              "#ed7953"
             ],
             [
              0.7777777777777778,
              "#fb9f3a"
             ],
             [
              0.8888888888888888,
              "#fdca26"
             ],
             [
              1,
              "#f0f921"
             ]
            ],
            "type": "heatmap"
           }
          ],
          "heatmapgl": [
           {
            "colorbar": {
             "outlinewidth": 0,
             "ticks": ""
            },
            "colorscale": [
             [
              0,
              "#0d0887"
             ],
             [
              0.1111111111111111,
              "#46039f"
             ],
             [
              0.2222222222222222,
              "#7201a8"
             ],
             [
              0.3333333333333333,
              "#9c179e"
             ],
             [
              0.4444444444444444,
              "#bd3786"
             ],
             [
              0.5555555555555556,
              "#d8576b"
             ],
             [
              0.6666666666666666,
              "#ed7953"
             ],
             [
              0.7777777777777778,
              "#fb9f3a"
             ],
             [
              0.8888888888888888,
              "#fdca26"
             ],
             [
              1,
              "#f0f921"
             ]
            ],
            "type": "heatmapgl"
           }
          ],
          "histogram": [
           {
            "marker": {
             "pattern": {
              "fillmode": "overlay",
              "size": 10,
              "solidity": 0.2
             }
            },
            "type": "histogram"
           }
          ],
          "histogram2d": [
           {
            "colorbar": {
             "outlinewidth": 0,
             "ticks": ""
            },
            "colorscale": [
             [
              0,
              "#0d0887"
             ],
             [
              0.1111111111111111,
              "#46039f"
             ],
             [
              0.2222222222222222,
              "#7201a8"
             ],
             [
              0.3333333333333333,
              "#9c179e"
             ],
             [
              0.4444444444444444,
              "#bd3786"
             ],
             [
              0.5555555555555556,
              "#d8576b"
             ],
             [
              0.6666666666666666,
              "#ed7953"
             ],
             [
              0.7777777777777778,
              "#fb9f3a"
             ],
             [
              0.8888888888888888,
              "#fdca26"
             ],
             [
              1,
              "#f0f921"
             ]
            ],
            "type": "histogram2d"
           }
          ],
          "histogram2dcontour": [
           {
            "colorbar": {
             "outlinewidth": 0,
             "ticks": ""
            },
            "colorscale": [
             [
              0,
              "#0d0887"
             ],
             [
              0.1111111111111111,
              "#46039f"
             ],
             [
              0.2222222222222222,
              "#7201a8"
             ],
             [
              0.3333333333333333,
              "#9c179e"
             ],
             [
              0.4444444444444444,
              "#bd3786"
             ],
             [
              0.5555555555555556,
              "#d8576b"
             ],
             [
              0.6666666666666666,
              "#ed7953"
             ],
             [
              0.7777777777777778,
              "#fb9f3a"
             ],
             [
              0.8888888888888888,
              "#fdca26"
             ],
             [
              1,
              "#f0f921"
             ]
            ],
            "type": "histogram2dcontour"
           }
          ],
          "mesh3d": [
           {
            "colorbar": {
             "outlinewidth": 0,
             "ticks": ""
            },
            "type": "mesh3d"
           }
          ],
          "parcoords": [
           {
            "line": {
             "colorbar": {
              "outlinewidth": 0,
              "ticks": ""
             }
            },
            "type": "parcoords"
           }
          ],
          "pie": [
           {
            "automargin": true,
            "type": "pie"
           }
          ],
          "scatter": [
           {
            "fillpattern": {
             "fillmode": "overlay",
             "size": 10,
             "solidity": 0.2
            },
            "type": "scatter"
           }
          ],
          "scatter3d": [
           {
            "line": {
             "colorbar": {
              "outlinewidth": 0,
              "ticks": ""
             }
            },
            "marker": {
             "colorbar": {
              "outlinewidth": 0,
              "ticks": ""
             }
            },
            "type": "scatter3d"
           }
          ],
          "scattercarpet": [
           {
            "marker": {
             "colorbar": {
              "outlinewidth": 0,
              "ticks": ""
             }
            },
            "type": "scattercarpet"
           }
          ],
          "scattergeo": [
           {
            "marker": {
             "colorbar": {
              "outlinewidth": 0,
              "ticks": ""
             }
            },
            "type": "scattergeo"
           }
          ],
          "scattergl": [
           {
            "marker": {
             "colorbar": {
              "outlinewidth": 0,
              "ticks": ""
             }
            },
            "type": "scattergl"
           }
          ],
          "scattermapbox": [
           {
            "marker": {
             "colorbar": {
              "outlinewidth": 0,
              "ticks": ""
             }
            },
            "type": "scattermapbox"
           }
          ],
          "scatterpolar": [
           {
            "marker": {
             "colorbar": {
              "outlinewidth": 0,
              "ticks": ""
             }
            },
            "type": "scatterpolar"
           }
          ],
          "scatterpolargl": [
           {
            "marker": {
             "colorbar": {
              "outlinewidth": 0,
              "ticks": ""
             }
            },
            "type": "scatterpolargl"
           }
          ],
          "scatterternary": [
           {
            "marker": {
             "colorbar": {
              "outlinewidth": 0,
              "ticks": ""
             }
            },
            "type": "scatterternary"
           }
          ],
          "surface": [
           {
            "colorbar": {
             "outlinewidth": 0,
             "ticks": ""
            },
            "colorscale": [
             [
              0,
              "#0d0887"
             ],
             [
              0.1111111111111111,
              "#46039f"
             ],
             [
              0.2222222222222222,
              "#7201a8"
             ],
             [
              0.3333333333333333,
              "#9c179e"
             ],
             [
              0.4444444444444444,
              "#bd3786"
             ],
             [
              0.5555555555555556,
              "#d8576b"
             ],
             [
              0.6666666666666666,
              "#ed7953"
             ],
             [
              0.7777777777777778,
              "#fb9f3a"
             ],
             [
              0.8888888888888888,
              "#fdca26"
             ],
             [
              1,
              "#f0f921"
             ]
            ],
            "type": "surface"
           }
          ],
          "table": [
           {
            "cells": {
             "fill": {
              "color": "#EBF0F8"
             },
             "line": {
              "color": "white"
             }
            },
            "header": {
             "fill": {
              "color": "#C8D4E3"
             },
             "line": {
              "color": "white"
             }
            },
            "type": "table"
           }
          ]
         },
         "layout": {
          "annotationdefaults": {
           "arrowcolor": "#2a3f5f",
           "arrowhead": 0,
           "arrowwidth": 1
          },
          "autotypenumbers": "strict",
          "coloraxis": {
           "colorbar": {
            "outlinewidth": 0,
            "ticks": ""
           }
          },
          "colorscale": {
           "diverging": [
            [
             0,
             "#8e0152"
            ],
            [
             0.1,
             "#c51b7d"
            ],
            [
             0.2,
             "#de77ae"
            ],
            [
             0.3,
             "#f1b6da"
            ],
            [
             0.4,
             "#fde0ef"
            ],
            [
             0.5,
             "#f7f7f7"
            ],
            [
             0.6,
             "#e6f5d0"
            ],
            [
             0.7,
             "#b8e186"
            ],
            [
             0.8,
             "#7fbc41"
            ],
            [
             0.9,
             "#4d9221"
            ],
            [
             1,
             "#276419"
            ]
           ],
           "sequential": [
            [
             0,
             "#0d0887"
            ],
            [
             0.1111111111111111,
             "#46039f"
            ],
            [
             0.2222222222222222,
             "#7201a8"
            ],
            [
             0.3333333333333333,
             "#9c179e"
            ],
            [
             0.4444444444444444,
             "#bd3786"
            ],
            [
             0.5555555555555556,
             "#d8576b"
            ],
            [
             0.6666666666666666,
             "#ed7953"
            ],
            [
             0.7777777777777778,
             "#fb9f3a"
            ],
            [
             0.8888888888888888,
             "#fdca26"
            ],
            [
             1,
             "#f0f921"
            ]
           ],
           "sequentialminus": [
            [
             0,
             "#0d0887"
            ],
            [
             0.1111111111111111,
             "#46039f"
            ],
            [
             0.2222222222222222,
             "#7201a8"
            ],
            [
             0.3333333333333333,
             "#9c179e"
            ],
            [
             0.4444444444444444,
             "#bd3786"
            ],
            [
             0.5555555555555556,
             "#d8576b"
            ],
            [
             0.6666666666666666,
             "#ed7953"
            ],
            [
             0.7777777777777778,
             "#fb9f3a"
            ],
            [
             0.8888888888888888,
             "#fdca26"
            ],
            [
             1,
             "#f0f921"
            ]
           ]
          },
          "colorway": [
           "#636efa",
           "#EF553B",
           "#00cc96",
           "#ab63fa",
           "#FFA15A",
           "#19d3f3",
           "#FF6692",
           "#B6E880",
           "#FF97FF",
           "#FECB52"
          ],
          "font": {
           "color": "#2a3f5f"
          },
          "geo": {
           "bgcolor": "white",
           "lakecolor": "white",
           "landcolor": "#E5ECF6",
           "showlakes": true,
           "showland": true,
           "subunitcolor": "white"
          },
          "hoverlabel": {
           "align": "left"
          },
          "hovermode": "closest",
          "mapbox": {
           "style": "light"
          },
          "paper_bgcolor": "white",
          "plot_bgcolor": "#E5ECF6",
          "polar": {
           "angularaxis": {
            "gridcolor": "white",
            "linecolor": "white",
            "ticks": ""
           },
           "bgcolor": "#E5ECF6",
           "radialaxis": {
            "gridcolor": "white",
            "linecolor": "white",
            "ticks": ""
           }
          },
          "scene": {
           "xaxis": {
            "backgroundcolor": "#E5ECF6",
            "gridcolor": "white",
            "gridwidth": 2,
            "linecolor": "white",
            "showbackground": true,
            "ticks": "",
            "zerolinecolor": "white"
           },
           "yaxis": {
            "backgroundcolor": "#E5ECF6",
            "gridcolor": "white",
            "gridwidth": 2,
            "linecolor": "white",
            "showbackground": true,
            "ticks": "",
            "zerolinecolor": "white"
           },
           "zaxis": {
            "backgroundcolor": "#E5ECF6",
            "gridcolor": "white",
            "gridwidth": 2,
            "linecolor": "white",
            "showbackground": true,
            "ticks": "",
            "zerolinecolor": "white"
           }
          },
          "shapedefaults": {
           "line": {
            "color": "#2a3f5f"
           }
          },
          "ternary": {
           "aaxis": {
            "gridcolor": "white",
            "linecolor": "white",
            "ticks": ""
           },
           "baxis": {
            "gridcolor": "white",
            "linecolor": "white",
            "ticks": ""
           },
           "bgcolor": "#E5ECF6",
           "caxis": {
            "gridcolor": "white",
            "linecolor": "white",
            "ticks": ""
           }
          },
          "title": {
           "x": 0.05
          },
          "xaxis": {
           "automargin": true,
           "gridcolor": "white",
           "linecolor": "white",
           "ticks": "",
           "title": {
            "standoff": 15
           },
           "zerolinecolor": "white",
           "zerolinewidth": 2
          },
          "yaxis": {
           "automargin": true,
           "gridcolor": "white",
           "linecolor": "white",
           "ticks": "",
           "title": {
            "standoff": 15
           },
           "zerolinecolor": "white",
           "zerolinewidth": 2
          }
         }
        },
        "title": {
         "text": "Genderwise Distribution of Movie Rankings - Male"
        },
        "violingap": 0.1,
        "width": 1000,
        "xaxis": {
         "title": {
          "text": "Movie Episode"
         }
        },
        "yaxis": {
         "title": {
          "text": "Ranking"
         }
        }
       }
      }
     },
     "metadata": {},
     "output_type": "display_data"
    },
    {
     "data": {
      "application/vnd.plotly.v1+json": {
       "config": {
        "plotlyServerURL": "https://plot.ly"
       },
       "data": [
        {
         "box": {
          "visible": true
         },
         "meanline": {
          "visible": true
         },
         "name": "Episode I",
         "type": "violin",
         "y": [
          1,
          1,
          3,
          3,
          3,
          4,
          6,
          4,
          4,
          6,
          4,
          3,
          5,
          1,
          2,
          4,
          1,
          4,
          4,
          4,
          4,
          4,
          3,
          4,
          4,
          2,
          1,
          4,
          6,
          1,
          2,
          5,
          4,
          5,
          3,
          4,
          6,
          4,
          1,
          6,
          2,
          4,
          5,
          5,
          2,
          3,
          1,
          1,
          4,
          4,
          4,
          1,
          3,
          4,
          1,
          6,
          2,
          4,
          4,
          5,
          3,
          4,
          4,
          2,
          3,
          3,
          6,
          1,
          2,
          4,
          3,
          2,
          1,
          2,
          4,
          5,
          4,
          4,
          4,
          3,
          4,
          4,
          2,
          3,
          2,
          4,
          3,
          6,
          1,
          1,
          2,
          1,
          4,
          6,
          4,
          5,
          4,
          6,
          6,
          4,
          4,
          3,
          4,
          1,
          6,
          3,
          4,
          4,
          4,
          1,
          1,
          6,
          6,
          4,
          3,
          6,
          2,
          3,
          3,
          4,
          1,
          1,
          2,
          5,
          3,
          3,
          3,
          4,
          4,
          5,
          1,
          4,
          4,
          3,
          6,
          4,
          3,
          4,
          4,
          1,
          4,
          2,
          1,
          4,
          4,
          4,
          4,
          1,
          5,
          3,
          2,
          5,
          6,
          3,
          2,
          4,
          1,
          4,
          1,
          2,
          5,
          3,
          3,
          1,
          4,
          4,
          3,
          6,
          1,
          4,
          2,
          2,
          6,
          3,
          3,
          3,
          2,
          4,
          3,
          1,
          2,
          4,
          6,
          2,
          3,
          2,
          2,
          1,
          4,
          3,
          4,
          4,
          1,
          4,
          3,
          6,
          5,
          4,
          1,
          1,
          6,
          2,
          5,
          6,
          6,
          6,
          6,
          4,
          3,
          6,
          4,
          5,
          6,
          3,
          1,
          3,
          1,
          5,
          4,
          1,
          4,
          5,
          3,
          4,
          4,
          1,
          4,
          6,
          3,
          1,
          3,
          2,
          3,
          4,
          4,
          1,
          4,
          3,
          3,
          4,
          6,
          5,
          6,
          4,
          6,
          1,
          4,
          6,
          4,
          1,
          1,
          4,
          4,
          4,
          4,
          1,
          3,
          5,
          3,
          3,
          3,
          1,
          4,
          5,
          6,
          3,
          2,
          6,
          5,
          2,
          4,
          6,
          1,
          6,
          5,
          6,
          1,
          5,
          1,
          4,
          2,
          3,
          4,
          4,
          1,
          3,
          1,
          3,
          1,
          4,
          5,
          3,
          2,
          4,
          4,
          3,
          4,
          4,
          3,
          5,
          4,
          1,
          2,
          1,
          1,
          1,
          3,
          6,
          3,
          2,
          3,
          4,
          1,
          6,
          5,
          2,
          6,
          2,
          4,
          3,
          6,
          2,
          2,
          2,
          3,
          3,
          2,
          5,
          4,
          3,
          5,
          2,
          6,
          3,
          4,
          4,
          4,
          6,
          5,
          4,
          4,
          2,
          4,
          1,
          4,
          3,
          3,
          4,
          2,
          4,
          5,
          1,
          3,
          4,
          4,
          3,
          6,
          1,
          3,
          4,
          4,
          3,
          1,
          1,
          3,
          4,
          1,
          4,
          6,
          1,
          4,
          6,
          3,
          6,
          6,
          4,
          3,
          2,
          3,
          4,
          5,
          5,
          6,
          3,
          6,
          2,
          5,
          1,
          1,
          2,
          3,
          3,
          5,
          4,
          4,
          6
         ]
        },
        {
         "box": {
          "visible": true
         },
         "meanline": {
          "visible": true
         },
         "name": "Episode II",
         "type": "violin",
         "y": [
          4,
          2,
          4,
          4,
          6,
          5,
          4,
          5,
          5,
          5,
          5,
          6,
          6,
          2,
          3,
          5,
          2,
          2,
          5,
          5,
          5,
          3,
          1,
          5,
          5,
          3,
          2,
          5,
          4,
          3,
          1,
          6,
          5,
          6,
          4,
          5,
          2,
          3,
          5,
          3,
          3,
          5,
          4,
          6,
          1,
          4,
          2,
          2,
          5,
          3,
          5,
          3,
          4,
          6,
          2,
          5,
          3,
          5,
          5,
          6,
          4,
          5,
          5,
          3,
          4,
          4,
          5,
          2,
          4,
          5,
          4,
          3,
          3,
          3,
          5,
          4,
          1,
          5,
          5,
          4,
          5,
          5,
          3,
          4,
          3,
          5,
          4,
          3,
          2,
          2,
          3,
          2,
          6,
          5,
          5,
          4,
          5,
          5,
          1,
          5,
          5,
          4,
          5,
          2,
          5,
          4,
          5,
          5,
          5,
          2,
          2,
          3,
          1,
          5,
          4,
          4,
          3,
          5,
          4,
          6,
          4,
          2,
          4,
          6,
          4,
          4,
          4,
          5,
          3,
          3,
          5,
          5,
          3,
          4,
          3,
          5,
          4,
          5,
          5,
          2,
          5,
          3,
          4,
          2,
          5,
          6,
          2,
          5,
          3,
          4,
          3,
          6,
          4,
          4,
          1,
          5,
          3,
          1,
          2,
          1,
          4,
          4,
          4,
          2,
          5,
          5,
          4,
          4,
          2,
          6,
          3,
          3,
          5,
          4,
          4,
          2,
          3,
          6,
          4,
          2,
          6,
          3,
          4,
          3,
          4,
          3,
          3,
          2,
          5,
          2,
          5,
          5,
          2,
          5,
          4,
          5,
          4,
          5,
          4,
          2,
          5,
          3,
          4,
          5,
          5,
          4,
          4,
          5,
          4,
          5,
          6,
          4,
          5,
          4,
          2,
          4,
          4,
          4,
          5,
          4,
          5,
          6,
          4,
          5,
          5,
          2,
          5,
          5,
          6,
          2,
          4,
          1,
          4,
          5,
          5,
          2,
          2,
          4,
          4,
          5,
          5,
          6,
          5,
          5,
          4,
          2,
          5,
          5,
          5,
          2,
          2,
          5,
          5,
          5,
          5,
          3,
          6,
          6,
          4,
          4,
          4,
          5,
          5,
          6,
          2,
          5,
          1,
          5,
          6,
          3,
          5,
          4,
          4,
          1,
          3,
          4,
          2,
          6,
          3,
          5,
          3,
          5,
          5,
          5,
          2,
          4,
          2,
          5,
          3,
          5,
          6,
          2,
          1,
          5,
          5,
          5,
          5,
          5,
          4,
          4,
          6,
          2,
          3,
          2,
          2,
          2,
          5,
          2,
          4,
          3,
          5,
          5,
          2,
          3,
          6,
          6,
          5,
          5,
          5,
          1,
          4,
          4,
          3,
          4,
          6,
          4,
          5,
          3,
          5,
          4,
          4,
          3,
          3,
          2,
          3,
          5,
          5,
          5,
          4,
          5,
          6,
          3,
          5,
          2,
          1,
          4,
          4,
          5,
          3,
          5,
          6,
          4,
          4,
          5,
          5,
          4,
          5,
          2,
          5,
          6,
          5,
          2,
          4,
          5,
          4,
          5,
          2,
          5,
          4,
          4,
          5,
          4,
          2,
          5,
          4,
          5,
          4,
          3,
          4,
          5,
          6,
          6,
          5,
          4,
          2,
          3,
          3,
          2,
          3,
          1,
          4,
          4,
          4,
          5,
          3,
          1
         ]
        },
        {
         "box": {
          "visible": true
         },
         "meanline": {
          "visible": true
         },
         "name": "Episode III",
         "type": "violin",
         "y": [
          5,
          3,
          5,
          5,
          4,
          3,
          5,
          6,
          6,
          4,
          6,
          4,
          3,
          3,
          4,
          6,
          4,
          3,
          6,
          6,
          6,
          5,
          2,
          6,
          6,
          4,
          3,
          6,
          2,
          4,
          4,
          4,
          6,
          4,
          5,
          6,
          1,
          6,
          2,
          4,
          4,
          6,
          6,
          4,
          3,
          5,
          3,
          3,
          6,
          5,
          6,
          6,
          5,
          5,
          3,
          3,
          4,
          6,
          6,
          2,
          1,
          6,
          6,
          4,
          5,
          5,
          4,
          3,
          5,
          6,
          5,
          4,
          4,
          4,
          6,
          3,
          2,
          6,
          6,
          5,
          6,
          6,
          4,
          5,
          4,
          6,
          5,
          5,
          3,
          3,
          4,
          3,
          3,
          4,
          6,
          6,
          6,
          4,
          5,
          6,
          6,
          5,
          6,
          3,
          2,
          5,
          6,
          6,
          6,
          3,
          3,
          5,
          2,
          6,
          5,
          5,
          4,
          6,
          5,
          5,
          5,
          3,
          5,
          4,
          5,
          5,
          5,
          6,
          6,
          6,
          2,
          6,
          5,
          5,
          4,
          6,
          5,
          6,
          6,
          3,
          6,
          4,
          5,
          3,
          6,
          5,
          3,
          6,
          6,
          5,
          5,
          4,
          5,
          5,
          3,
          1,
          4,
          5,
          3,
          3,
          6,
          1,
          5,
          3,
          3,
          6,
          5,
          5,
          3,
          5,
          4,
          1,
          4,
          5,
          5,
          4,
          4,
          5,
          5,
          3,
          3,
          5,
          5,
          4,
          5,
          4,
          4,
          5,
          3,
          4,
          6,
          6,
          3,
          6,
          5,
          4,
          6,
          6,
          5,
          3,
          2,
          4,
          6,
          4,
          1,
          5,
          5,
          6,
          5,
          4,
          5,
          3,
          4,
          5,
          3,
          5,
          5,
          1,
          6,
          5,
          6,
          1,
          5,
          6,
          6,
          3,
          6,
          4,
          5,
          3,
          5,
          3,
          5,
          3,
          6,
          3,
          5,
          5,
          5,
          6,
          4,
          3,
          4,
          6,
          5,
          3,
          2,
          3,
          6,
          3,
          3,
          3,
          6,
          6,
          6,
          4,
          4,
          4,
          5,
          5,
          5,
          2,
          3,
          4,
          1,
          6,
          3,
          2,
          4,
          4,
          3,
          5,
          5,
          2,
          6,
          5,
          3,
          4,
          5,
          6,
          4,
          2,
          6,
          6,
          3,
          5,
          3,
          6,
          4,
          6,
          4,
          1,
          3,
          6,
          6,
          6,
          6,
          6,
          5,
          6,
          5,
          3,
          4,
          3,
          3,
          5,
          6,
          3,
          5,
          4,
          6,
          6,
          3,
          2,
          4,
          5,
          4,
          6,
          6,
          2,
          5,
          5,
          4,
          3,
          5,
          5,
          6,
          4,
          6,
          5,
          6,
          4,
          1,
          1,
          5,
          6,
          6,
          4,
          3,
          6,
          5,
          4,
          6,
          3,
          2,
          5,
          5,
          6,
          4,
          6,
          4,
          5,
          5,
          6,
          1,
          5,
          4,
          3,
          4,
          5,
          6,
          1,
          5,
          3,
          5,
          6,
          3,
          6,
          5,
          5,
          6,
          5,
          1,
          4,
          5,
          6,
          5,
          4,
          2,
          6,
          2,
          4,
          1,
          5,
          1,
          4,
          6,
          3,
          4,
          3,
          5,
          5,
          6,
          6,
          6,
          2
         ]
        },
        {
         "box": {
          "visible": true
         },
         "meanline": {
          "visible": true
         },
         "name": "Episode IV",
         "type": "violin",
         "y": [
          6,
          4,
          6,
          6,
          1,
          6,
          1,
          3,
          2,
          2,
          3,
          5,
          4,
          4,
          5,
          1,
          5,
          5,
          2,
          1,
          3,
          6,
          4,
          2,
          3,
          5,
          6,
          1,
          5,
          5,
          3,
          1,
          1,
          1,
          6,
          1,
          4,
          5,
          3,
          5,
          5,
          2,
          2,
          3,
          4,
          6,
          5,
          4,
          3,
          2,
          1,
          2,
          6,
          1,
          4,
          1,
          5,
          1,
          1,
          4,
          5,
          2,
          2,
          5,
          6,
          6,
          1,
          4,
          6,
          3,
          6,
          5,
          5,
          5,
          1,
          6,
          3,
          1,
          3,
          6,
          3,
          1,
          5,
          6,
          5,
          3,
          1,
          4,
          4,
          4,
          5,
          4,
          5,
          1,
          1,
          1,
          3,
          3,
          3,
          3,
          1,
          6,
          2,
          4,
          3,
          6,
          1,
          1,
          1,
          4,
          4,
          2,
          3,
          1,
          6,
          2,
          5,
          1,
          6,
          1,
          6,
          4,
          6,
          3,
          6,
          6,
          6,
          2,
          5,
          4,
          6,
          3,
          6,
          6,
          5,
          1,
          6,
          2,
          1,
          4,
          1,
          1,
          6,
          1,
          3,
          1,
          6,
          3,
          4,
          6,
          4,
          2,
          3,
          6,
          4,
          6,
          5,
          6,
          4,
          4,
          3,
          5,
          6,
          4,
          6,
          2,
          6,
          3,
          4,
          3,
          5,
          4,
          3,
          6,
          6,
          5,
          1,
          3,
          6,
          5,
          1,
          2,
          3,
          5,
          6,
          5,
          1,
          6,
          6,
          5,
          3,
          2,
          4,
          1,
          6,
          2,
          1,
          2,
          6,
          4,
          4,
          5,
          2,
          3,
          2,
          2,
          1,
          1,
          6,
          3,
          1,
          6,
          1,
          6,
          4,
          6,
          6,
          2,
          1,
          6,
          1,
          2,
          6,
          1,
          1,
          4,
          1,
          1,
          2,
          6,
          6,
          6,
          6,
          6,
          1,
          4,
          6,
          6,
          6,
          1,
          2,
          4,
          2,
          1,
          1,
          4,
          1,
          2,
          1,
          4,
          4,
          6,
          2,
          1,
          1,
          5,
          5,
          2,
          6,
          2,
          6,
          3,
          6,
          1,
          3,
          1,
          4,
          3,
          1,
          5,
          6,
          2,
          2,
          3,
          4,
          3,
          4,
          3,
          6,
          1,
          5,
          1,
          1,
          3,
          4,
          1,
          4,
          4,
          5,
          3,
          1,
          6,
          4,
          1,
          1,
          1,
          1,
          2,
          1,
          3,
          1,
          4,
          5,
          4,
          4,
          6,
          4,
          4,
          6,
          6,
          1,
          3,
          4,
          1,
          1,
          4,
          1,
          4,
          3,
          6,
          1,
          6,
          5,
          5,
          1,
          6,
          1,
          6,
          3,
          6,
          2,
          6,
          2,
          4,
          6,
          2,
          3,
          3,
          6,
          3,
          2,
          5,
          2,
          4,
          5,
          6,
          6,
          1,
          5,
          1,
          1,
          6,
          6,
          1,
          6,
          6,
          3,
          4,
          6,
          2,
          3,
          5,
          3,
          6,
          6,
          2,
          4,
          3,
          2,
          6,
          1,
          3,
          5,
          1,
          1,
          1,
          6,
          5,
          5,
          1,
          1,
          3,
          4,
          6,
          5,
          1,
          4,
          4,
          6,
          4,
          6,
          2,
          3,
          2,
          5,
          3
         ]
        },
        {
         "box": {
          "visible": true
         },
         "meanline": {
          "visible": true
         },
         "name": "Episode V",
         "type": "violin",
         "y": [
          2,
          5,
          1,
          2,
          2,
          1,
          2,
          2,
          3,
          3,
          2,
          1,
          1,
          5,
          6,
          2,
          6,
          1,
          3,
          3,
          1,
          1,
          5,
          1,
          1,
          6,
          5,
          3,
          3,
          6,
          5,
          2,
          3,
          2,
          1,
          2,
          5,
          1,
          4,
          2,
          1,
          1,
          3,
          1,
          5,
          1,
          6,
          5,
          2,
          6,
          3,
          4,
          1,
          2,
          5,
          4,
          6,
          2,
          2,
          1,
          6,
          1,
          1,
          1,
          1,
          1,
          2,
          5,
          3,
          1,
          2,
          6,
          2,
          1,
          2,
          1,
          5,
          2,
          1,
          1,
          2,
          3,
          6,
          1,
          1,
          1,
          2,
          1,
          5,
          5,
          1,
          5,
          1,
          2,
          2,
          3,
          2,
          1,
          4,
          1,
          2,
          1,
          3,
          5,
          1,
          1,
          2,
          2,
          2,
          5,
          5,
          4,
          4,
          2,
          1,
          3,
          1,
          2,
          1,
          2,
          3,
          5,
          3,
          1,
          2,
          1,
          1,
          1,
          1,
          1,
          3,
          2,
          2,
          1,
          1,
          2,
          1,
          1,
          2,
          5,
          2,
          5,
          2,
          5,
          1,
          2,
          5,
          2,
          1,
          2,
          1,
          1,
          2,
          2,
          5,
          2,
          2,
          3,
          5,
          5,
          2,
          6,
          1,
          5,
          1,
          1,
          1,
          2,
          5,
          2,
          1,
          5,
          2,
          1,
          1,
          6,
          5,
          1,
          1,
          6,
          5,
          6,
          2,
          1,
          1,
          1,
          5,
          4,
          2,
          6,
          1,
          3,
          5,
          2,
          1,
          1,
          2,
          1,
          3,
          5,
          3,
          1,
          1,
          1,
          3,
          1,
          2,
          2,
          2,
          2,
          2,
          1,
          3,
          1,
          5,
          1,
          2,
          3,
          2,
          2,
          2,
          3,
          2,
          2,
          2,
          5,
          2,
          2,
          1,
          5,
          2,
          4,
          1,
          1,
          2,
          5,
          3,
          1,
          1,
          3,
          1,
          1,
          1,
          3,
          3,
          5,
          6,
          1,
          2,
          5,
          5,
          1,
          3,
          2,
          3,
          2,
          1,
          3,
          1,
          1,
          1,
          4,
          1,
          3,
          4,
          2,
          5,
          1,
          2,
          6,
          2,
          3,
          6,
          4,
          1,
          1,
          5,
          1,
          2,
          2,
          1,
          4,
          2,
          1,
          5,
          2,
          5,
          1,
          2,
          2,
          3,
          4,
          5,
          2,
          3,
          2,
          3,
          1,
          2,
          2,
          2,
          5,
          1,
          5,
          5,
          3,
          1,
          1,
          1,
          5,
          4,
          2,
          5,
          5,
          2,
          3,
          2,
          1,
          2,
          5,
          2,
          3,
          1,
          6,
          2,
          1,
          3,
          1,
          1,
          2,
          1,
          1,
          4,
          5,
          1,
          3,
          2,
          2,
          2,
          1,
          3,
          6,
          3,
          5,
          6,
          1,
          1,
          3,
          1,
          2,
          3,
          2,
          1,
          2,
          2,
          1,
          2,
          5,
          1,
          3,
          1,
          6,
          2,
          2,
          1,
          3,
          5,
          1,
          1,
          2,
          2,
          1,
          4,
          2,
          2,
          2,
          2,
          1,
          6,
          2,
          4,
          1,
          3,
          1,
          3,
          6,
          2,
          5,
          2,
          5,
          1,
          1,
          2,
          3,
          2,
          4
         ]
        },
        {
         "box": {
          "visible": true
         },
         "meanline": {
          "visible": true
         },
         "name": "Episode VI",
         "type": "violin",
         "y": [
          3,
          6,
          2,
          1,
          5,
          2,
          3,
          1,
          1,
          1,
          1,
          2,
          2,
          6,
          1,
          3,
          3,
          6,
          1,
          2,
          2,
          2,
          6,
          3,
          2,
          1,
          4,
          2,
          1,
          2,
          6,
          3,
          2,
          3,
          2,
          3,
          3,
          2,
          6,
          1,
          6,
          3,
          1,
          2,
          6,
          2,
          4,
          6,
          1,
          1,
          2,
          5,
          2,
          3,
          6,
          2,
          1,
          3,
          3,
          3,
          2,
          3,
          3,
          6,
          2,
          2,
          3,
          6,
          1,
          2,
          1,
          1,
          6,
          6,
          3,
          2,
          6,
          3,
          2,
          2,
          1,
          2,
          1,
          2,
          6,
          2,
          6,
          2,
          6,
          6,
          6,
          6,
          2,
          3,
          3,
          2,
          1,
          2,
          2,
          2,
          3,
          2,
          1,
          6,
          4,
          2,
          3,
          3,
          3,
          6,
          6,
          1,
          5,
          3,
          2,
          1,
          6,
          4,
          2,
          3,
          2,
          6,
          1,
          2,
          1,
          2,
          2,
          3,
          2,
          2,
          4,
          1,
          1,
          2,
          2,
          3,
          2,
          3,
          3,
          6,
          3,
          6,
          3,
          6,
          2,
          3,
          1,
          4,
          2,
          1,
          6,
          3,
          1,
          1,
          6,
          3,
          6,
          2,
          6,
          6,
          1,
          2,
          2,
          6,
          2,
          3,
          2,
          1,
          6,
          1,
          6,
          6,
          1,
          2,
          2,
          1,
          6,
          2,
          2,
          4,
          4,
          1,
          1,
          6,
          2,
          6,
          6,
          3,
          1,
          1,
          2,
          1,
          6,
          3,
          2,
          3,
          3,
          3,
          2,
          6,
          1,
          6,
          3,
          2,
          4,
          3,
          3,
          3,
          1,
          1,
          3,
          2,
          2,
          2,
          6,
          2,
          3,
          6,
          3,
          3,
          3,
          4,
          1,
          3,
          3,
          6,
          3,
          3,
          4,
          4,
          1,
          5,
          2,
          2,
          3,
          6,
          1,
          2,
          2,
          2,
          3,
          2,
          3,
          2,
          2,
          6,
          3,
          4,
          3,
          6,
          6,
          2,
          1,
          3,
          2,
          6,
          2,
          1,
          2,
          6,
          2,
          6,
          2,
          2,
          5,
          4,
          6,
          4,
          3,
          1,
          1,
          1,
          3,
          5,
          2,
          2,
          6,
          2,
          4,
          3,
          6,
          6,
          3,
          2,
          6,
          6,
          6,
          2,
          6,
          1,
          2,
          5,
          6,
          3,
          2,
          4,
          2,
          3,
          6,
          1,
          3,
          6,
          6,
          6,
          6,
          4,
          2,
          5,
          2,
          1,
          2,
          1,
          6,
          4,
          3,
          1,
          3,
          3,
          1,
          4,
          3,
          1,
          6,
          1,
          4,
          2,
          4,
          2,
          2,
          1,
          3,
          5,
          5,
          6,
          2,
          1,
          1,
          1,
          1,
          2,
          1,
          1,
          1,
          6,
          3,
          2,
          2,
          2,
          6,
          3,
          2,
          3,
          2,
          3,
          3,
          2,
          1,
          6,
          2,
          1,
          2,
          4,
          6,
          4,
          2,
          1,
          6,
          2,
          3,
          3,
          3,
          2,
          6,
          3,
          3,
          3,
          1,
          6,
          1,
          3,
          3,
          2,
          2,
          2,
          4,
          5,
          1,
          6,
          5,
          6,
          2,
          6,
          1,
          1,
          1,
          5
         ]
        },
        {
         "marker": {
          "color": "black",
          "symbol": "x"
         },
         "mode": "markers",
         "name": "Mean",
         "type": "scatter",
         "x": [
          "Episode I",
          "Episode II",
          "Episode III",
          "Episode IV",
          "Episode V",
          "Episode VI"
         ],
         "y": [
          3.4292929292929295,
          3.957070707070707,
          4.424242424242424,
          3.54040404040404,
          2.573232323232323,
          3.0757575757575757
         ]
        }
       ],
       "layout": {
        "template": {
         "data": {
          "bar": [
           {
            "error_x": {
             "color": "#2a3f5f"
            },
            "error_y": {
             "color": "#2a3f5f"
            },
            "marker": {
             "line": {
              "color": "#E5ECF6",
              "width": 0.5
             },
             "pattern": {
              "fillmode": "overlay",
              "size": 10,
              "solidity": 0.2
             }
            },
            "type": "bar"
           }
          ],
          "barpolar": [
           {
            "marker": {
             "line": {
              "color": "#E5ECF6",
              "width": 0.5
             },
             "pattern": {
              "fillmode": "overlay",
              "size": 10,
              "solidity": 0.2
             }
            },
            "type": "barpolar"
           }
          ],
          "carpet": [
           {
            "aaxis": {
             "endlinecolor": "#2a3f5f",
             "gridcolor": "white",
             "linecolor": "white",
             "minorgridcolor": "white",
             "startlinecolor": "#2a3f5f"
            },
            "baxis": {
             "endlinecolor": "#2a3f5f",
             "gridcolor": "white",
             "linecolor": "white",
             "minorgridcolor": "white",
             "startlinecolor": "#2a3f5f"
            },
            "type": "carpet"
           }
          ],
          "choropleth": [
           {
            "colorbar": {
             "outlinewidth": 0,
             "ticks": ""
            },
            "type": "choropleth"
           }
          ],
          "contour": [
           {
            "colorbar": {
             "outlinewidth": 0,
             "ticks": ""
            },
            "colorscale": [
             [
              0,
              "#0d0887"
             ],
             [
              0.1111111111111111,
              "#46039f"
             ],
             [
              0.2222222222222222,
              "#7201a8"
             ],
             [
              0.3333333333333333,
              "#9c179e"
             ],
             [
              0.4444444444444444,
              "#bd3786"
             ],
             [
              0.5555555555555556,
              "#d8576b"
             ],
             [
              0.6666666666666666,
              "#ed7953"
             ],
             [
              0.7777777777777778,
              "#fb9f3a"
             ],
             [
              0.8888888888888888,
              "#fdca26"
             ],
             [
              1,
              "#f0f921"
             ]
            ],
            "type": "contour"
           }
          ],
          "contourcarpet": [
           {
            "colorbar": {
             "outlinewidth": 0,
             "ticks": ""
            },
            "type": "contourcarpet"
           }
          ],
          "heatmap": [
           {
            "colorbar": {
             "outlinewidth": 0,
             "ticks": ""
            },
            "colorscale": [
             [
              0,
              "#0d0887"
             ],
             [
              0.1111111111111111,
              "#46039f"
             ],
             [
              0.2222222222222222,
              "#7201a8"
             ],
             [
              0.3333333333333333,
              "#9c179e"
             ],
             [
              0.4444444444444444,
              "#bd3786"
             ],
             [
              0.5555555555555556,
              "#d8576b"
             ],
             [
              0.6666666666666666,
              "#ed7953"
             ],
             [
              0.7777777777777778,
              "#fb9f3a"
             ],
             [
              0.8888888888888888,
              "#fdca26"
             ],
             [
              1,
              "#f0f921"
             ]
            ],
            "type": "heatmap"
           }
          ],
          "heatmapgl": [
           {
            "colorbar": {
             "outlinewidth": 0,
             "ticks": ""
            },
            "colorscale": [
             [
              0,
              "#0d0887"
             ],
             [
              0.1111111111111111,
              "#46039f"
             ],
             [
              0.2222222222222222,
              "#7201a8"
             ],
             [
              0.3333333333333333,
              "#9c179e"
             ],
             [
              0.4444444444444444,
              "#bd3786"
             ],
             [
              0.5555555555555556,
              "#d8576b"
             ],
             [
              0.6666666666666666,
              "#ed7953"
             ],
             [
              0.7777777777777778,
              "#fb9f3a"
             ],
             [
              0.8888888888888888,
              "#fdca26"
             ],
             [
              1,
              "#f0f921"
             ]
            ],
            "type": "heatmapgl"
           }
          ],
          "histogram": [
           {
            "marker": {
             "pattern": {
              "fillmode": "overlay",
              "size": 10,
              "solidity": 0.2
             }
            },
            "type": "histogram"
           }
          ],
          "histogram2d": [
           {
            "colorbar": {
             "outlinewidth": 0,
             "ticks": ""
            },
            "colorscale": [
             [
              0,
              "#0d0887"
             ],
             [
              0.1111111111111111,
              "#46039f"
             ],
             [
              0.2222222222222222,
              "#7201a8"
             ],
             [
              0.3333333333333333,
              "#9c179e"
             ],
             [
              0.4444444444444444,
              "#bd3786"
             ],
             [
              0.5555555555555556,
              "#d8576b"
             ],
             [
              0.6666666666666666,
              "#ed7953"
             ],
             [
              0.7777777777777778,
              "#fb9f3a"
             ],
             [
              0.8888888888888888,
              "#fdca26"
             ],
             [
              1,
              "#f0f921"
             ]
            ],
            "type": "histogram2d"
           }
          ],
          "histogram2dcontour": [
           {
            "colorbar": {
             "outlinewidth": 0,
             "ticks": ""
            },
            "colorscale": [
             [
              0,
              "#0d0887"
             ],
             [
              0.1111111111111111,
              "#46039f"
             ],
             [
              0.2222222222222222,
              "#7201a8"
             ],
             [
              0.3333333333333333,
              "#9c179e"
             ],
             [
              0.4444444444444444,
              "#bd3786"
             ],
             [
              0.5555555555555556,
              "#d8576b"
             ],
             [
              0.6666666666666666,
              "#ed7953"
             ],
             [
              0.7777777777777778,
              "#fb9f3a"
             ],
             [
              0.8888888888888888,
              "#fdca26"
             ],
             [
              1,
              "#f0f921"
             ]
            ],
            "type": "histogram2dcontour"
           }
          ],
          "mesh3d": [
           {
            "colorbar": {
             "outlinewidth": 0,
             "ticks": ""
            },
            "type": "mesh3d"
           }
          ],
          "parcoords": [
           {
            "line": {
             "colorbar": {
              "outlinewidth": 0,
              "ticks": ""
             }
            },
            "type": "parcoords"
           }
          ],
          "pie": [
           {
            "automargin": true,
            "type": "pie"
           }
          ],
          "scatter": [
           {
            "fillpattern": {
             "fillmode": "overlay",
             "size": 10,
             "solidity": 0.2
            },
            "type": "scatter"
           }
          ],
          "scatter3d": [
           {
            "line": {
             "colorbar": {
              "outlinewidth": 0,
              "ticks": ""
             }
            },
            "marker": {
             "colorbar": {
              "outlinewidth": 0,
              "ticks": ""
             }
            },
            "type": "scatter3d"
           }
          ],
          "scattercarpet": [
           {
            "marker": {
             "colorbar": {
              "outlinewidth": 0,
              "ticks": ""
             }
            },
            "type": "scattercarpet"
           }
          ],
          "scattergeo": [
           {
            "marker": {
             "colorbar": {
              "outlinewidth": 0,
              "ticks": ""
             }
            },
            "type": "scattergeo"
           }
          ],
          "scattergl": [
           {
            "marker": {
             "colorbar": {
              "outlinewidth": 0,
              "ticks": ""
             }
            },
            "type": "scattergl"
           }
          ],
          "scattermapbox": [
           {
            "marker": {
             "colorbar": {
              "outlinewidth": 0,
              "ticks": ""
             }
            },
            "type": "scattermapbox"
           }
          ],
          "scatterpolar": [
           {
            "marker": {
             "colorbar": {
              "outlinewidth": 0,
              "ticks": ""
             }
            },
            "type": "scatterpolar"
           }
          ],
          "scatterpolargl": [
           {
            "marker": {
             "colorbar": {
              "outlinewidth": 0,
              "ticks": ""
             }
            },
            "type": "scatterpolargl"
           }
          ],
          "scatterternary": [
           {
            "marker": {
             "colorbar": {
              "outlinewidth": 0,
              "ticks": ""
             }
            },
            "type": "scatterternary"
           }
          ],
          "surface": [
           {
            "colorbar": {
             "outlinewidth": 0,
             "ticks": ""
            },
            "colorscale": [
             [
              0,
              "#0d0887"
             ],
             [
              0.1111111111111111,
              "#46039f"
             ],
             [
              0.2222222222222222,
              "#7201a8"
             ],
             [
              0.3333333333333333,
              "#9c179e"
             ],
             [
              0.4444444444444444,
              "#bd3786"
             ],
             [
              0.5555555555555556,
              "#d8576b"
             ],
             [
              0.6666666666666666,
              "#ed7953"
             ],
             [
              0.7777777777777778,
              "#fb9f3a"
             ],
             [
              0.8888888888888888,
              "#fdca26"
             ],
             [
              1,
              "#f0f921"
             ]
            ],
            "type": "surface"
           }
          ],
          "table": [
           {
            "cells": {
             "fill": {
              "color": "#EBF0F8"
             },
             "line": {
              "color": "white"
             }
            },
            "header": {
             "fill": {
              "color": "#C8D4E3"
             },
             "line": {
              "color": "white"
             }
            },
            "type": "table"
           }
          ]
         },
         "layout": {
          "annotationdefaults": {
           "arrowcolor": "#2a3f5f",
           "arrowhead": 0,
           "arrowwidth": 1
          },
          "autotypenumbers": "strict",
          "coloraxis": {
           "colorbar": {
            "outlinewidth": 0,
            "ticks": ""
           }
          },
          "colorscale": {
           "diverging": [
            [
             0,
             "#8e0152"
            ],
            [
             0.1,
             "#c51b7d"
            ],
            [
             0.2,
             "#de77ae"
            ],
            [
             0.3,
             "#f1b6da"
            ],
            [
             0.4,
             "#fde0ef"
            ],
            [
             0.5,
             "#f7f7f7"
            ],
            [
             0.6,
             "#e6f5d0"
            ],
            [
             0.7,
             "#b8e186"
            ],
            [
             0.8,
             "#7fbc41"
            ],
            [
             0.9,
             "#4d9221"
            ],
            [
             1,
             "#276419"
            ]
           ],
           "sequential": [
            [
             0,
             "#0d0887"
            ],
            [
             0.1111111111111111,
             "#46039f"
            ],
            [
             0.2222222222222222,
             "#7201a8"
            ],
            [
             0.3333333333333333,
             "#9c179e"
            ],
            [
             0.4444444444444444,
             "#bd3786"
            ],
            [
             0.5555555555555556,
             "#d8576b"
            ],
            [
             0.6666666666666666,
             "#ed7953"
            ],
            [
             0.7777777777777778,
             "#fb9f3a"
            ],
            [
             0.8888888888888888,
             "#fdca26"
            ],
            [
             1,
             "#f0f921"
            ]
           ],
           "sequentialminus": [
            [
             0,
             "#0d0887"
            ],
            [
             0.1111111111111111,
             "#46039f"
            ],
            [
             0.2222222222222222,
             "#7201a8"
            ],
            [
             0.3333333333333333,
             "#9c179e"
            ],
            [
             0.4444444444444444,
             "#bd3786"
            ],
            [
             0.5555555555555556,
             "#d8576b"
            ],
            [
             0.6666666666666666,
             "#ed7953"
            ],
            [
             0.7777777777777778,
             "#fb9f3a"
            ],
            [
             0.8888888888888888,
             "#fdca26"
            ],
            [
             1,
             "#f0f921"
            ]
           ]
          },
          "colorway": [
           "#636efa",
           "#EF553B",
           "#00cc96",
           "#ab63fa",
           "#FFA15A",
           "#19d3f3",
           "#FF6692",
           "#B6E880",
           "#FF97FF",
           "#FECB52"
          ],
          "font": {
           "color": "#2a3f5f"
          },
          "geo": {
           "bgcolor": "white",
           "lakecolor": "white",
           "landcolor": "#E5ECF6",
           "showlakes": true,
           "showland": true,
           "subunitcolor": "white"
          },
          "hoverlabel": {
           "align": "left"
          },
          "hovermode": "closest",
          "mapbox": {
           "style": "light"
          },
          "paper_bgcolor": "white",
          "plot_bgcolor": "#E5ECF6",
          "polar": {
           "angularaxis": {
            "gridcolor": "white",
            "linecolor": "white",
            "ticks": ""
           },
           "bgcolor": "#E5ECF6",
           "radialaxis": {
            "gridcolor": "white",
            "linecolor": "white",
            "ticks": ""
           }
          },
          "scene": {
           "xaxis": {
            "backgroundcolor": "#E5ECF6",
            "gridcolor": "white",
            "gridwidth": 2,
            "linecolor": "white",
            "showbackground": true,
            "ticks": "",
            "zerolinecolor": "white"
           },
           "yaxis": {
            "backgroundcolor": "#E5ECF6",
            "gridcolor": "white",
            "gridwidth": 2,
            "linecolor": "white",
            "showbackground": true,
            "ticks": "",
            "zerolinecolor": "white"
           },
           "zaxis": {
            "backgroundcolor": "#E5ECF6",
            "gridcolor": "white",
            "gridwidth": 2,
            "linecolor": "white",
            "showbackground": true,
            "ticks": "",
            "zerolinecolor": "white"
           }
          },
          "shapedefaults": {
           "line": {
            "color": "#2a3f5f"
           }
          },
          "ternary": {
           "aaxis": {
            "gridcolor": "white",
            "linecolor": "white",
            "ticks": ""
           },
           "baxis": {
            "gridcolor": "white",
            "linecolor": "white",
            "ticks": ""
           },
           "bgcolor": "#E5ECF6",
           "caxis": {
            "gridcolor": "white",
            "linecolor": "white",
            "ticks": ""
           }
          },
          "title": {
           "x": 0.05
          },
          "xaxis": {
           "automargin": true,
           "gridcolor": "white",
           "linecolor": "white",
           "ticks": "",
           "title": {
            "standoff": 15
           },
           "zerolinecolor": "white",
           "zerolinewidth": 2
          },
          "yaxis": {
           "automargin": true,
           "gridcolor": "white",
           "linecolor": "white",
           "ticks": "",
           "title": {
            "standoff": 15
           },
           "zerolinecolor": "white",
           "zerolinewidth": 2
          }
         }
        },
        "title": {
         "text": "Genderwise Distribution of Movie Rankings - Female"
        },
        "violingap": 0.1,
        "width": 1000,
        "xaxis": {
         "title": {
          "text": "Movie Episode"
         }
        },
        "yaxis": {
         "title": {
          "text": "Ranking"
         }
        }
       }
      }
     },
     "metadata": {},
     "output_type": "display_data"
    }
   ],
   "source": [
    "import plotly.graph_objects as go\n",
    "\n",
    "fig = go.Figure()\n",
    "\n",
    "for col in male_ranking_cols.columns:\n",
    "    fig.add_trace(go.Violin(\n",
    "        y=male_ranking_cols[col],\n",
    "        name= col,  # Name of episode\n",
    "        box_visible = True,  # To show box plot inside violin\n",
    "        meanline_visible=True, # To show mean line\n",
    "        bandwidth=0.4\n",
    "))\n",
    "    # Add the mean values as a separate trace (optional, to highlight the mean rankings)\n",
    "fig.add_trace(go.Scatter(\n",
    "    x=male_ranking_mean.index,\n",
    "    y=male_ranking_mean.values,\n",
    "    mode='markers',\n",
    "    name='Mean Rankings',\n",
    "    marker=dict(color='black', size=7, symbol='x')\n",
    "))\n",
    "\n",
    "fig.update_layout(\n",
    "    title = 'Genderwise Distribution of Movie Rankings - Male',\n",
    "    xaxis_title= 'Movie Episode',\n",
    "    yaxis_title = 'Ranking',\n",
    "    violingap=0.1,\n",
    "    width= 1000\n",
    ")\n",
    "fig.show()\n",
    "\n",
    "\n",
    "fig = go.Figure()\n",
    "\n",
    "for col in female_ranking_cols.columns:\n",
    "    fig.add_trace(go.Violin(\n",
    "        y = female_ranking_cols[col],\n",
    "        name=col,\n",
    "        box_visible=True,\n",
    "        meanline_visible=True,\n",
    "    ))\n",
    "\n",
    "fig.add_trace(go.Scatter(\n",
    "    x=female_ranking_mean.index,\n",
    "    y= female_ranking_mean.values,\n",
    "    mode='markers',\n",
    "    marker=dict(color='black', symbol='x'), \n",
    "    name='Mean'\n",
    "    \n",
    "))\n",
    "\n",
    "fig.update_layout(width=1000,\n",
    "    xaxis_title='Movie Episode',\n",
    "    yaxis_title='Ranking',\n",
    "    violingap=0.1,\n",
    "    title= 'Genderwise Distribution of Movie Rankings - Female'\n",
    ")\n",
    "\n",
    "fig.show()\n"
   ]
  },
  {
   "cell_type": "markdown",
   "metadata": {},
   "source": [
    "- The gender distribution in rankings for Episodes I and IV shows significant differences. Male respondents generally rated Episode I more favorably, while female viewers gave it an average rating. Episode IV had mixed reactions from female viewers, with a high IQR indicating either strong approval or disapproval. On the other hand, male viewers consistently rated Episode IV lower. For the other episodes, the ranking distributions appear similar across genders."
   ]
  },
  {
   "cell_type": "markdown",
   "metadata": {},
   "source": [
    "### 4. Gender wise View Counts"
   ]
  },
  {
   "cell_type": "code",
   "execution_count": 41,
   "metadata": {},
   "outputs": [
    {
     "data": {
      "text/plain": [
       "Episode I      361\n",
       "Episode II     323\n",
       "Episode III    317\n",
       "Episode IV     342\n",
       "Episode V      392\n",
       "Episode VI     387\n",
       "dtype: int64"
      ]
     },
     "execution_count": 41,
     "metadata": {},
     "output_type": "execute_result"
    }
   ],
   "source": [
    "# View counts by Gender\n",
    "male_view_counts = male_rows[male_rows.columns[4:10]].sum()\n",
    "male_view_counts = male_view_counts.rename(new_names)   # Renames index\n",
    "male_view_counts"
   ]
  },
  {
   "cell_type": "code",
   "execution_count": 42,
   "metadata": {},
   "outputs": [
    {
     "data": {
      "text/plain": [
       "Episode I      298\n",
       "Episode II     237\n",
       "Episode III    222\n",
       "Episode IV     255\n",
       "Episode V      353\n",
       "Episode VI     338\n",
       "dtype: int64"
      ]
     },
     "execution_count": 42,
     "metadata": {},
     "output_type": "execute_result"
    }
   ],
   "source": [
    "female_view_counts = female_rows[female_rows.columns[4:10]].sum()\n",
    "female_view_counts = female_view_counts.rename(new_names)\n",
    "female_view_counts"
   ]
  },
  {
   "cell_type": "code",
   "execution_count": 43,
   "metadata": {},
   "outputs": [
    {
     "data": {
      "application/vnd.plotly.v1+json": {
       "config": {
        "plotlyServerURL": "https://plot.ly"
       },
       "data": [
        {
         "name": "Male",
         "text": [
          361,
          323,
          317,
          342,
          392,
          387
         ],
         "type": "bar",
         "width": 0.35,
         "x": [
          "Episode I",
          "Episode II",
          "Episode III",
          "Episode IV",
          "Episode V",
          "Episode VI"
         ],
         "y": [
          361,
          323,
          317,
          342,
          392,
          387
         ]
        },
        {
         "name": "Female",
         "text": [
          298,
          237,
          222,
          255,
          353,
          338
         ],
         "type": "bar",
         "width": 0.35,
         "x": [
          "Episode I",
          "Episode II",
          "Episode III",
          "Episode IV",
          "Episode V",
          "Episode VI"
         ],
         "y": [
          298,
          237,
          222,
          255,
          353,
          338
         ]
        }
       ],
       "layout": {
        "barmode": "group",
        "template": {
         "data": {
          "bar": [
           {
            "error_x": {
             "color": "#2a3f5f"
            },
            "error_y": {
             "color": "#2a3f5f"
            },
            "marker": {
             "line": {
              "color": "#E5ECF6",
              "width": 0.5
             },
             "pattern": {
              "fillmode": "overlay",
              "size": 10,
              "solidity": 0.2
             }
            },
            "type": "bar"
           }
          ],
          "barpolar": [
           {
            "marker": {
             "line": {
              "color": "#E5ECF6",
              "width": 0.5
             },
             "pattern": {
              "fillmode": "overlay",
              "size": 10,
              "solidity": 0.2
             }
            },
            "type": "barpolar"
           }
          ],
          "carpet": [
           {
            "aaxis": {
             "endlinecolor": "#2a3f5f",
             "gridcolor": "white",
             "linecolor": "white",
             "minorgridcolor": "white",
             "startlinecolor": "#2a3f5f"
            },
            "baxis": {
             "endlinecolor": "#2a3f5f",
             "gridcolor": "white",
             "linecolor": "white",
             "minorgridcolor": "white",
             "startlinecolor": "#2a3f5f"
            },
            "type": "carpet"
           }
          ],
          "choropleth": [
           {
            "colorbar": {
             "outlinewidth": 0,
             "ticks": ""
            },
            "type": "choropleth"
           }
          ],
          "contour": [
           {
            "colorbar": {
             "outlinewidth": 0,
             "ticks": ""
            },
            "colorscale": [
             [
              0,
              "#0d0887"
             ],
             [
              0.1111111111111111,
              "#46039f"
             ],
             [
              0.2222222222222222,
              "#7201a8"
             ],
             [
              0.3333333333333333,
              "#9c179e"
             ],
             [
              0.4444444444444444,
              "#bd3786"
             ],
             [
              0.5555555555555556,
              "#d8576b"
             ],
             [
              0.6666666666666666,
              "#ed7953"
             ],
             [
              0.7777777777777778,
              "#fb9f3a"
             ],
             [
              0.8888888888888888,
              "#fdca26"
             ],
             [
              1,
              "#f0f921"
             ]
            ],
            "type": "contour"
           }
          ],
          "contourcarpet": [
           {
            "colorbar": {
             "outlinewidth": 0,
             "ticks": ""
            },
            "type": "contourcarpet"
           }
          ],
          "heatmap": [
           {
            "colorbar": {
             "outlinewidth": 0,
             "ticks": ""
            },
            "colorscale": [
             [
              0,
              "#0d0887"
             ],
             [
              0.1111111111111111,
              "#46039f"
             ],
             [
              0.2222222222222222,
              "#7201a8"
             ],
             [
              0.3333333333333333,
              "#9c179e"
             ],
             [
              0.4444444444444444,
              "#bd3786"
             ],
             [
              0.5555555555555556,
              "#d8576b"
             ],
             [
              0.6666666666666666,
              "#ed7953"
             ],
             [
              0.7777777777777778,
              "#fb9f3a"
             ],
             [
              0.8888888888888888,
              "#fdca26"
             ],
             [
              1,
              "#f0f921"
             ]
            ],
            "type": "heatmap"
           }
          ],
          "heatmapgl": [
           {
            "colorbar": {
             "outlinewidth": 0,
             "ticks": ""
            },
            "colorscale": [
             [
              0,
              "#0d0887"
             ],
             [
              0.1111111111111111,
              "#46039f"
             ],
             [
              0.2222222222222222,
              "#7201a8"
             ],
             [
              0.3333333333333333,
              "#9c179e"
             ],
             [
              0.4444444444444444,
              "#bd3786"
             ],
             [
              0.5555555555555556,
              "#d8576b"
             ],
             [
              0.6666666666666666,
              "#ed7953"
             ],
             [
              0.7777777777777778,
              "#fb9f3a"
             ],
             [
              0.8888888888888888,
              "#fdca26"
             ],
             [
              1,
              "#f0f921"
             ]
            ],
            "type": "heatmapgl"
           }
          ],
          "histogram": [
           {
            "marker": {
             "pattern": {
              "fillmode": "overlay",
              "size": 10,
              "solidity": 0.2
             }
            },
            "type": "histogram"
           }
          ],
          "histogram2d": [
           {
            "colorbar": {
             "outlinewidth": 0,
             "ticks": ""
            },
            "colorscale": [
             [
              0,
              "#0d0887"
             ],
             [
              0.1111111111111111,
              "#46039f"
             ],
             [
              0.2222222222222222,
              "#7201a8"
             ],
             [
              0.3333333333333333,
              "#9c179e"
             ],
             [
              0.4444444444444444,
              "#bd3786"
             ],
             [
              0.5555555555555556,
              "#d8576b"
             ],
             [
              0.6666666666666666,
              "#ed7953"
             ],
             [
              0.7777777777777778,
              "#fb9f3a"
             ],
             [
              0.8888888888888888,
              "#fdca26"
             ],
             [
              1,
              "#f0f921"
             ]
            ],
            "type": "histogram2d"
           }
          ],
          "histogram2dcontour": [
           {
            "colorbar": {
             "outlinewidth": 0,
             "ticks": ""
            },
            "colorscale": [
             [
              0,
              "#0d0887"
             ],
             [
              0.1111111111111111,
              "#46039f"
             ],
             [
              0.2222222222222222,
              "#7201a8"
             ],
             [
              0.3333333333333333,
              "#9c179e"
             ],
             [
              0.4444444444444444,
              "#bd3786"
             ],
             [
              0.5555555555555556,
              "#d8576b"
             ],
             [
              0.6666666666666666,
              "#ed7953"
             ],
             [
              0.7777777777777778,
              "#fb9f3a"
             ],
             [
              0.8888888888888888,
              "#fdca26"
             ],
             [
              1,
              "#f0f921"
             ]
            ],
            "type": "histogram2dcontour"
           }
          ],
          "mesh3d": [
           {
            "colorbar": {
             "outlinewidth": 0,
             "ticks": ""
            },
            "type": "mesh3d"
           }
          ],
          "parcoords": [
           {
            "line": {
             "colorbar": {
              "outlinewidth": 0,
              "ticks": ""
             }
            },
            "type": "parcoords"
           }
          ],
          "pie": [
           {
            "automargin": true,
            "type": "pie"
           }
          ],
          "scatter": [
           {
            "fillpattern": {
             "fillmode": "overlay",
             "size": 10,
             "solidity": 0.2
            },
            "type": "scatter"
           }
          ],
          "scatter3d": [
           {
            "line": {
             "colorbar": {
              "outlinewidth": 0,
              "ticks": ""
             }
            },
            "marker": {
             "colorbar": {
              "outlinewidth": 0,
              "ticks": ""
             }
            },
            "type": "scatter3d"
           }
          ],
          "scattercarpet": [
           {
            "marker": {
             "colorbar": {
              "outlinewidth": 0,
              "ticks": ""
             }
            },
            "type": "scattercarpet"
           }
          ],
          "scattergeo": [
           {
            "marker": {
             "colorbar": {
              "outlinewidth": 0,
              "ticks": ""
             }
            },
            "type": "scattergeo"
           }
          ],
          "scattergl": [
           {
            "marker": {
             "colorbar": {
              "outlinewidth": 0,
              "ticks": ""
             }
            },
            "type": "scattergl"
           }
          ],
          "scattermapbox": [
           {
            "marker": {
             "colorbar": {
              "outlinewidth": 0,
              "ticks": ""
             }
            },
            "type": "scattermapbox"
           }
          ],
          "scatterpolar": [
           {
            "marker": {
             "colorbar": {
              "outlinewidth": 0,
              "ticks": ""
             }
            },
            "type": "scatterpolar"
           }
          ],
          "scatterpolargl": [
           {
            "marker": {
             "colorbar": {
              "outlinewidth": 0,
              "ticks": ""
             }
            },
            "type": "scatterpolargl"
           }
          ],
          "scatterternary": [
           {
            "marker": {
             "colorbar": {
              "outlinewidth": 0,
              "ticks": ""
             }
            },
            "type": "scatterternary"
           }
          ],
          "surface": [
           {
            "colorbar": {
             "outlinewidth": 0,
             "ticks": ""
            },
            "colorscale": [
             [
              0,
              "#0d0887"
             ],
             [
              0.1111111111111111,
              "#46039f"
             ],
             [
              0.2222222222222222,
              "#7201a8"
             ],
             [
              0.3333333333333333,
              "#9c179e"
             ],
             [
              0.4444444444444444,
              "#bd3786"
             ],
             [
              0.5555555555555556,
              "#d8576b"
             ],
             [
              0.6666666666666666,
              "#ed7953"
             ],
             [
              0.7777777777777778,
              "#fb9f3a"
             ],
             [
              0.8888888888888888,
              "#fdca26"
             ],
             [
              1,
              "#f0f921"
             ]
            ],
            "type": "surface"
           }
          ],
          "table": [
           {
            "cells": {
             "fill": {
              "color": "#EBF0F8"
             },
             "line": {
              "color": "white"
             }
            },
            "header": {
             "fill": {
              "color": "#C8D4E3"
             },
             "line": {
              "color": "white"
             }
            },
            "type": "table"
           }
          ]
         },
         "layout": {
          "annotationdefaults": {
           "arrowcolor": "#2a3f5f",
           "arrowhead": 0,
           "arrowwidth": 1
          },
          "autotypenumbers": "strict",
          "coloraxis": {
           "colorbar": {
            "outlinewidth": 0,
            "ticks": ""
           }
          },
          "colorscale": {
           "diverging": [
            [
             0,
             "#8e0152"
            ],
            [
             0.1,
             "#c51b7d"
            ],
            [
             0.2,
             "#de77ae"
            ],
            [
             0.3,
             "#f1b6da"
            ],
            [
             0.4,
             "#fde0ef"
            ],
            [
             0.5,
             "#f7f7f7"
            ],
            [
             0.6,
             "#e6f5d0"
            ],
            [
             0.7,
             "#b8e186"
            ],
            [
             0.8,
             "#7fbc41"
            ],
            [
             0.9,
             "#4d9221"
            ],
            [
             1,
             "#276419"
            ]
           ],
           "sequential": [
            [
             0,
             "#0d0887"
            ],
            [
             0.1111111111111111,
             "#46039f"
            ],
            [
             0.2222222222222222,
             "#7201a8"
            ],
            [
             0.3333333333333333,
             "#9c179e"
            ],
            [
             0.4444444444444444,
             "#bd3786"
            ],
            [
             0.5555555555555556,
             "#d8576b"
            ],
            [
             0.6666666666666666,
             "#ed7953"
            ],
            [
             0.7777777777777778,
             "#fb9f3a"
            ],
            [
             0.8888888888888888,
             "#fdca26"
            ],
            [
             1,
             "#f0f921"
            ]
           ],
           "sequentialminus": [
            [
             0,
             "#0d0887"
            ],
            [
             0.1111111111111111,
             "#46039f"
            ],
            [
             0.2222222222222222,
             "#7201a8"
            ],
            [
             0.3333333333333333,
             "#9c179e"
            ],
            [
             0.4444444444444444,
             "#bd3786"
            ],
            [
             0.5555555555555556,
             "#d8576b"
            ],
            [
             0.6666666666666666,
             "#ed7953"
            ],
            [
             0.7777777777777778,
             "#fb9f3a"
            ],
            [
             0.8888888888888888,
             "#fdca26"
            ],
            [
             1,
             "#f0f921"
            ]
           ]
          },
          "colorway": [
           "#636efa",
           "#EF553B",
           "#00cc96",
           "#ab63fa",
           "#FFA15A",
           "#19d3f3",
           "#FF6692",
           "#B6E880",
           "#FF97FF",
           "#FECB52"
          ],
          "font": {
           "color": "#2a3f5f"
          },
          "geo": {
           "bgcolor": "white",
           "lakecolor": "white",
           "landcolor": "#E5ECF6",
           "showlakes": true,
           "showland": true,
           "subunitcolor": "white"
          },
          "hoverlabel": {
           "align": "left"
          },
          "hovermode": "closest",
          "mapbox": {
           "style": "light"
          },
          "paper_bgcolor": "white",
          "plot_bgcolor": "#E5ECF6",
          "polar": {
           "angularaxis": {
            "gridcolor": "white",
            "linecolor": "white",
            "ticks": ""
           },
           "bgcolor": "#E5ECF6",
           "radialaxis": {
            "gridcolor": "white",
            "linecolor": "white",
            "ticks": ""
           }
          },
          "scene": {
           "xaxis": {
            "backgroundcolor": "#E5ECF6",
            "gridcolor": "white",
            "gridwidth": 2,
            "linecolor": "white",
            "showbackground": true,
            "ticks": "",
            "zerolinecolor": "white"
           },
           "yaxis": {
            "backgroundcolor": "#E5ECF6",
            "gridcolor": "white",
            "gridwidth": 2,
            "linecolor": "white",
            "showbackground": true,
            "ticks": "",
            "zerolinecolor": "white"
           },
           "zaxis": {
            "backgroundcolor": "#E5ECF6",
            "gridcolor": "white",
            "gridwidth": 2,
            "linecolor": "white",
            "showbackground": true,
            "ticks": "",
            "zerolinecolor": "white"
           }
          },
          "shapedefaults": {
           "line": {
            "color": "#2a3f5f"
           }
          },
          "ternary": {
           "aaxis": {
            "gridcolor": "white",
            "linecolor": "white",
            "ticks": ""
           },
           "baxis": {
            "gridcolor": "white",
            "linecolor": "white",
            "ticks": ""
           },
           "bgcolor": "#E5ECF6",
           "caxis": {
            "gridcolor": "white",
            "linecolor": "white",
            "ticks": ""
           }
          },
          "title": {
           "x": 0.05
          },
          "xaxis": {
           "automargin": true,
           "gridcolor": "white",
           "linecolor": "white",
           "ticks": "",
           "title": {
            "standoff": 15
           },
           "zerolinecolor": "white",
           "zerolinewidth": 2
          },
          "yaxis": {
           "automargin": true,
           "gridcolor": "white",
           "linecolor": "white",
           "ticks": "",
           "title": {
            "standoff": 15
           },
           "zerolinecolor": "white",
           "zerolinewidth": 2
          }
         }
        },
        "title": {
         "text": "View Counts of Movies by Gender"
        },
        "width": 1000,
        "xaxis": {
         "title": {
          "text": "Movie Episode"
         }
        },
        "yaxis": {
         "title": {
          "text": "View Counts"
         }
        }
       }
      }
     },
     "metadata": {},
     "output_type": "display_data"
    }
   ],
   "source": [
    "fig = go.Figure()\n",
    "fig.add_trace(go.Bar(\n",
    "    x = male_view_counts.index,\n",
    "    y = male_view_counts.values,\n",
    "    name = 'Male',\n",
    "    width= 0.35,\n",
    "    text = male_view_counts.values\n",
    "))\n",
    "\n",
    "fig.add_trace(go.Bar(\n",
    "    x = female_view_counts.index,\n",
    "    y = female_view_counts.values,\n",
    "    name='Female',\n",
    "    width = 0.35, \n",
    "    text= female_view_counts.values\n",
    "))\n",
    "fig.update_layout(\n",
    "    barmode= 'group', \n",
    "    width = 1000,\n",
    "    title = 'View Counts of Movies by Gender',\n",
    "    xaxis_title= 'Movie Episode',\n",
    "    yaxis_title= 'View Counts'\n",
    "\n",
    "    )"
   ]
  },
  {
   "cell_type": "markdown",
   "metadata": {},
   "source": [
    "More males and females both have watched newer episodes more than older episodes. But ranking given to older movies is much higher than newer ones."
   ]
  },
  {
   "cell_type": "markdown",
   "metadata": {},
   "source": [
    "### 5. Most popular character"
   ]
  },
  {
   "cell_type": "code",
   "execution_count": 44,
   "metadata": {},
   "outputs": [
    {
     "data": {
      "text/html": [
       "<div>\n",
       "<style scoped>\n",
       "    .dataframe tbody tr th:only-of-type {\n",
       "        vertical-align: middle;\n",
       "    }\n",
       "\n",
       "    .dataframe tbody tr th {\n",
       "        vertical-align: top;\n",
       "    }\n",
       "\n",
       "    .dataframe thead th {\n",
       "        text-align: right;\n",
       "    }\n",
       "</style>\n",
       "<table border=\"1\" class=\"dataframe\">\n",
       "  <thead>\n",
       "    <tr style=\"text-align: right;\">\n",
       "      <th></th>\n",
       "      <th>Han Solo</th>\n",
       "      <th>Luke Skywalker</th>\n",
       "      <th>Princess Leia Organa</th>\n",
       "      <th>Anakin Skywalker</th>\n",
       "      <th>Obi Wan Kenobi</th>\n",
       "      <th>Emperor Palpatine</th>\n",
       "      <th>Darth Vader</th>\n",
       "      <th>Lando Calrissian</th>\n",
       "      <th>Boba Fett</th>\n",
       "      <th>C-3P0</th>\n",
       "      <th>R2 D2</th>\n",
       "      <th>Jar Jar Binks</th>\n",
       "      <th>Padme Amidala</th>\n",
       "      <th>Yoda</th>\n",
       "    </tr>\n",
       "  </thead>\n",
       "  <tbody>\n",
       "    <tr>\n",
       "      <th>0</th>\n",
       "      <td>Very favorably</td>\n",
       "      <td>Very favorably</td>\n",
       "      <td>Very favorably</td>\n",
       "      <td>Very favorably</td>\n",
       "      <td>Very favorably</td>\n",
       "      <td>Very favorably</td>\n",
       "      <td>Very favorably</td>\n",
       "      <td>Unfamiliar (N/A)</td>\n",
       "      <td>Unfamiliar (N/A)</td>\n",
       "      <td>Very favorably</td>\n",
       "      <td>Very favorably</td>\n",
       "      <td>Very favorably</td>\n",
       "      <td>Very favorably</td>\n",
       "      <td>Very favorably</td>\n",
       "    </tr>\n",
       "    <tr>\n",
       "      <th>1</th>\n",
       "      <td>NaN</td>\n",
       "      <td>NaN</td>\n",
       "      <td>NaN</td>\n",
       "      <td>NaN</td>\n",
       "      <td>NaN</td>\n",
       "      <td>NaN</td>\n",
       "      <td>NaN</td>\n",
       "      <td>NaN</td>\n",
       "      <td>NaN</td>\n",
       "      <td>NaN</td>\n",
       "      <td>NaN</td>\n",
       "      <td>NaN</td>\n",
       "      <td>NaN</td>\n",
       "      <td>NaN</td>\n",
       "    </tr>\n",
       "    <tr>\n",
       "      <th>2</th>\n",
       "      <td>Somewhat favorably</td>\n",
       "      <td>Somewhat favorably</td>\n",
       "      <td>Somewhat favorably</td>\n",
       "      <td>Somewhat favorably</td>\n",
       "      <td>Somewhat favorably</td>\n",
       "      <td>Unfamiliar (N/A)</td>\n",
       "      <td>Unfamiliar (N/A)</td>\n",
       "      <td>Unfamiliar (N/A)</td>\n",
       "      <td>Unfamiliar (N/A)</td>\n",
       "      <td>Unfamiliar (N/A)</td>\n",
       "      <td>Unfamiliar (N/A)</td>\n",
       "      <td>Unfamiliar (N/A)</td>\n",
       "      <td>Unfamiliar (N/A)</td>\n",
       "      <td>Unfamiliar (N/A)</td>\n",
       "    </tr>\n",
       "    <tr>\n",
       "      <th>3</th>\n",
       "      <td>Very favorably</td>\n",
       "      <td>Very favorably</td>\n",
       "      <td>Very favorably</td>\n",
       "      <td>Very favorably</td>\n",
       "      <td>Very favorably</td>\n",
       "      <td>Somewhat favorably</td>\n",
       "      <td>Very favorably</td>\n",
       "      <td>Somewhat favorably</td>\n",
       "      <td>Somewhat unfavorably</td>\n",
       "      <td>Very favorably</td>\n",
       "      <td>Very favorably</td>\n",
       "      <td>Very favorably</td>\n",
       "      <td>Very favorably</td>\n",
       "      <td>Very favorably</td>\n",
       "    </tr>\n",
       "    <tr>\n",
       "      <th>4</th>\n",
       "      <td>Very favorably</td>\n",
       "      <td>Somewhat favorably</td>\n",
       "      <td>Somewhat favorably</td>\n",
       "      <td>Somewhat unfavorably</td>\n",
       "      <td>Very favorably</td>\n",
       "      <td>Very unfavorably</td>\n",
       "      <td>Somewhat favorably</td>\n",
       "      <td>Neither favorably nor unfavorably (neutral)</td>\n",
       "      <td>Very favorably</td>\n",
       "      <td>Somewhat favorably</td>\n",
       "      <td>Somewhat favorably</td>\n",
       "      <td>Very unfavorably</td>\n",
       "      <td>Somewhat favorably</td>\n",
       "      <td>Somewhat favorably</td>\n",
       "    </tr>\n",
       "  </tbody>\n",
       "</table>\n",
       "</div>"
      ],
      "text/plain": [
       "             Han Solo      Luke Skywalker Princess Leia Organa  \\\n",
       "0      Very favorably      Very favorably       Very favorably   \n",
       "1                 NaN                 NaN                  NaN   \n",
       "2  Somewhat favorably  Somewhat favorably   Somewhat favorably   \n",
       "3      Very favorably      Very favorably       Very favorably   \n",
       "4      Very favorably  Somewhat favorably   Somewhat favorably   \n",
       "\n",
       "       Anakin Skywalker      Obi Wan Kenobi   Emperor Palpatine  \\\n",
       "0        Very favorably      Very favorably      Very favorably   \n",
       "1                   NaN                 NaN                 NaN   \n",
       "2    Somewhat favorably  Somewhat favorably    Unfamiliar (N/A)   \n",
       "3        Very favorably      Very favorably  Somewhat favorably   \n",
       "4  Somewhat unfavorably      Very favorably    Very unfavorably   \n",
       "\n",
       "          Darth Vader                             Lando Calrissian  \\\n",
       "0      Very favorably                             Unfamiliar (N/A)   \n",
       "1                 NaN                                          NaN   \n",
       "2    Unfamiliar (N/A)                             Unfamiliar (N/A)   \n",
       "3      Very favorably                           Somewhat favorably   \n",
       "4  Somewhat favorably  Neither favorably nor unfavorably (neutral)   \n",
       "\n",
       "              Boba Fett               C-3P0               R2 D2  \\\n",
       "0      Unfamiliar (N/A)      Very favorably      Very favorably   \n",
       "1                   NaN                 NaN                 NaN   \n",
       "2      Unfamiliar (N/A)    Unfamiliar (N/A)    Unfamiliar (N/A)   \n",
       "3  Somewhat unfavorably      Very favorably      Very favorably   \n",
       "4        Very favorably  Somewhat favorably  Somewhat favorably   \n",
       "\n",
       "      Jar Jar Binks       Padme Amidala                Yoda  \n",
       "0    Very favorably      Very favorably      Very favorably  \n",
       "1               NaN                 NaN                 NaN  \n",
       "2  Unfamiliar (N/A)    Unfamiliar (N/A)    Unfamiliar (N/A)  \n",
       "3    Very favorably      Very favorably      Very favorably  \n",
       "4  Very unfavorably  Somewhat favorably  Somewhat favorably  "
      ]
     },
     "execution_count": 44,
     "metadata": {},
     "output_type": "execute_result"
    }
   ],
   "source": [
    "characters = star_wars[star_wars.columns[16:30]]\n",
    "characters.head()"
   ]
  },
  {
   "cell_type": "code",
   "execution_count": 45,
   "metadata": {},
   "outputs": [
    {
     "data": {
      "text/plain": [
       "{'Neither favorably nor unfavorably (neutral)',\n",
       " 'Somewhat favorably',\n",
       " 'Somewhat unfavorably',\n",
       " 'Unfamiliar (N/A)',\n",
       " 'Very favorably',\n",
       " 'Very unfavorably',\n",
       " nan}"
      ]
     },
     "execution_count": 45,
     "metadata": {},
     "output_type": "execute_result"
    }
   ],
   "source": [
    "set(characters[characters.columns[0]])  # Unique set of entries for popularity"
   ]
  },
  {
   "cell_type": "code",
   "execution_count": 46,
   "metadata": {},
   "outputs": [
    {
     "data": {
      "text/plain": [
       "1186"
      ]
     },
     "execution_count": 46,
     "metadata": {},
     "output_type": "execute_result"
    }
   ],
   "source": [
    "len(characters)"
   ]
  },
  {
   "cell_type": "code",
   "execution_count": 47,
   "metadata": {},
   "outputs": [
    {
     "data": {
      "text/plain": [
       "Han Solo                357\n",
       "Luke Skywalker          355\n",
       "Princess Leia Organa    355\n",
       "Anakin Skywalker        363\n",
       "Obi Wan Kenobi          361\n",
       "Emperor Palpatine       372\n",
       "Darth Vader             360\n",
       "Lando Calrissian        366\n",
       "Boba Fett               374\n",
       "C-3P0                   359\n",
       "R2 D2                   356\n",
       "Jar Jar Binks           365\n",
       "Padme Amidala           372\n",
       "Yoda                    360\n",
       "dtype: int64"
      ]
     },
     "execution_count": 47,
     "metadata": {},
     "output_type": "execute_result"
    }
   ],
   "source": [
    "characters.isna().sum()"
   ]
  },
  {
   "cell_type": "markdown",
   "metadata": {},
   "source": [
    "- NaN response to these columns means: \n",
    "1. Either respondent dont like or dislike anyone: That means neutral towards all characters.\n",
    "2. Either respondent is not interested in individual charecters..that means he is neutral towards every character. \n",
    "\n",
    "- We will consider NaN entries as a separate segment: 'Review Unavailable'."
   ]
  },
  {
   "cell_type": "code",
   "execution_count": 48,
   "metadata": {},
   "outputs": [],
   "source": [
    "# map categories to main three categories\n",
    "popularity = {'Neither favorably nor unfavorably (neutral)':'neutral',\n",
    " 'Somewhat favorably': 'favorable',\n",
    " 'Somewhat unfavorably': 'unfavorable',\n",
    " 'Unfamiliar (N/A)': 'neutral',\n",
    " 'Very favorably': 'favorable',\n",
    " 'Very unfavorably': 'unfavorable',\n",
    " np.nan: 'review unavailable'}"
   ]
  },
  {
   "cell_type": "code",
   "execution_count": 49,
   "metadata": {},
   "outputs": [],
   "source": [
    "for col in characters.columns:\n",
    "    characters.loc[:, col]= characters[col].map(popularity)"
   ]
  },
  {
   "cell_type": "code",
   "execution_count": 50,
   "metadata": {},
   "outputs": [
    {
     "data": {
      "text/plain": [
       "Han Solo                0\n",
       "Luke Skywalker          0\n",
       "Princess Leia Organa    0\n",
       "Anakin Skywalker        0\n",
       "Obi Wan Kenobi          0\n",
       "Emperor Palpatine       0\n",
       "Darth Vader             0\n",
       "Lando Calrissian        0\n",
       "Boba Fett               0\n",
       "C-3P0                   0\n",
       "R2 D2                   0\n",
       "Jar Jar Binks           0\n",
       "Padme Amidala           0\n",
       "Yoda                    0\n",
       "dtype: int64"
      ]
     },
     "execution_count": 50,
     "metadata": {},
     "output_type": "execute_result"
    }
   ],
   "source": [
    "characters.isna().sum()"
   ]
  },
  {
   "cell_type": "code",
   "execution_count": 51,
   "metadata": {},
   "outputs": [
    {
     "data": {
      "text/html": [
       "<div>\n",
       "<style scoped>\n",
       "    .dataframe tbody tr th:only-of-type {\n",
       "        vertical-align: middle;\n",
       "    }\n",
       "\n",
       "    .dataframe tbody tr th {\n",
       "        vertical-align: top;\n",
       "    }\n",
       "\n",
       "    .dataframe thead th {\n",
       "        text-align: right;\n",
       "    }\n",
       "</style>\n",
       "<table border=\"1\" class=\"dataframe\">\n",
       "  <thead>\n",
       "    <tr style=\"text-align: right;\">\n",
       "      <th></th>\n",
       "      <th>Han Solo</th>\n",
       "      <th>Luke Skywalker</th>\n",
       "      <th>Princess Leia Organa</th>\n",
       "      <th>Anakin Skywalker</th>\n",
       "      <th>Obi Wan Kenobi</th>\n",
       "      <th>Emperor Palpatine</th>\n",
       "      <th>Darth Vader</th>\n",
       "      <th>Lando Calrissian</th>\n",
       "      <th>Boba Fett</th>\n",
       "      <th>C-3P0</th>\n",
       "      <th>R2 D2</th>\n",
       "      <th>Jar Jar Binks</th>\n",
       "      <th>Padme Amidala</th>\n",
       "      <th>Yoda</th>\n",
       "    </tr>\n",
       "  </thead>\n",
       "  <tbody>\n",
       "    <tr>\n",
       "      <th>0</th>\n",
       "      <td>favorable</td>\n",
       "      <td>favorable</td>\n",
       "      <td>favorable</td>\n",
       "      <td>favorable</td>\n",
       "      <td>favorable</td>\n",
       "      <td>favorable</td>\n",
       "      <td>favorable</td>\n",
       "      <td>neutral</td>\n",
       "      <td>neutral</td>\n",
       "      <td>favorable</td>\n",
       "      <td>favorable</td>\n",
       "      <td>favorable</td>\n",
       "      <td>favorable</td>\n",
       "      <td>favorable</td>\n",
       "    </tr>\n",
       "    <tr>\n",
       "      <th>1</th>\n",
       "      <td>review unavailable</td>\n",
       "      <td>review unavailable</td>\n",
       "      <td>review unavailable</td>\n",
       "      <td>review unavailable</td>\n",
       "      <td>review unavailable</td>\n",
       "      <td>review unavailable</td>\n",
       "      <td>review unavailable</td>\n",
       "      <td>review unavailable</td>\n",
       "      <td>review unavailable</td>\n",
       "      <td>review unavailable</td>\n",
       "      <td>review unavailable</td>\n",
       "      <td>review unavailable</td>\n",
       "      <td>review unavailable</td>\n",
       "      <td>review unavailable</td>\n",
       "    </tr>\n",
       "    <tr>\n",
       "      <th>2</th>\n",
       "      <td>favorable</td>\n",
       "      <td>favorable</td>\n",
       "      <td>favorable</td>\n",
       "      <td>favorable</td>\n",
       "      <td>favorable</td>\n",
       "      <td>neutral</td>\n",
       "      <td>neutral</td>\n",
       "      <td>neutral</td>\n",
       "      <td>neutral</td>\n",
       "      <td>neutral</td>\n",
       "      <td>neutral</td>\n",
       "      <td>neutral</td>\n",
       "      <td>neutral</td>\n",
       "      <td>neutral</td>\n",
       "    </tr>\n",
       "    <tr>\n",
       "      <th>3</th>\n",
       "      <td>favorable</td>\n",
       "      <td>favorable</td>\n",
       "      <td>favorable</td>\n",
       "      <td>favorable</td>\n",
       "      <td>favorable</td>\n",
       "      <td>favorable</td>\n",
       "      <td>favorable</td>\n",
       "      <td>favorable</td>\n",
       "      <td>unfavorable</td>\n",
       "      <td>favorable</td>\n",
       "      <td>favorable</td>\n",
       "      <td>favorable</td>\n",
       "      <td>favorable</td>\n",
       "      <td>favorable</td>\n",
       "    </tr>\n",
       "    <tr>\n",
       "      <th>4</th>\n",
       "      <td>favorable</td>\n",
       "      <td>favorable</td>\n",
       "      <td>favorable</td>\n",
       "      <td>unfavorable</td>\n",
       "      <td>favorable</td>\n",
       "      <td>unfavorable</td>\n",
       "      <td>favorable</td>\n",
       "      <td>neutral</td>\n",
       "      <td>favorable</td>\n",
       "      <td>favorable</td>\n",
       "      <td>favorable</td>\n",
       "      <td>unfavorable</td>\n",
       "      <td>favorable</td>\n",
       "      <td>favorable</td>\n",
       "    </tr>\n",
       "  </tbody>\n",
       "</table>\n",
       "</div>"
      ],
      "text/plain": [
       "             Han Solo      Luke Skywalker Princess Leia Organa  \\\n",
       "0           favorable           favorable            favorable   \n",
       "1  review unavailable  review unavailable   review unavailable   \n",
       "2           favorable           favorable            favorable   \n",
       "3           favorable           favorable            favorable   \n",
       "4           favorable           favorable            favorable   \n",
       "\n",
       "     Anakin Skywalker      Obi Wan Kenobi   Emperor Palpatine  \\\n",
       "0           favorable           favorable           favorable   \n",
       "1  review unavailable  review unavailable  review unavailable   \n",
       "2           favorable           favorable             neutral   \n",
       "3           favorable           favorable           favorable   \n",
       "4         unfavorable           favorable         unfavorable   \n",
       "\n",
       "          Darth Vader    Lando Calrissian           Boba Fett  \\\n",
       "0           favorable             neutral             neutral   \n",
       "1  review unavailable  review unavailable  review unavailable   \n",
       "2             neutral             neutral             neutral   \n",
       "3           favorable           favorable         unfavorable   \n",
       "4           favorable             neutral           favorable   \n",
       "\n",
       "                C-3P0               R2 D2       Jar Jar Binks  \\\n",
       "0           favorable           favorable           favorable   \n",
       "1  review unavailable  review unavailable  review unavailable   \n",
       "2             neutral             neutral             neutral   \n",
       "3           favorable           favorable           favorable   \n",
       "4           favorable           favorable         unfavorable   \n",
       "\n",
       "        Padme Amidala                Yoda  \n",
       "0           favorable           favorable  \n",
       "1  review unavailable  review unavailable  \n",
       "2             neutral             neutral  \n",
       "3           favorable           favorable  \n",
       "4           favorable           favorable  "
      ]
     },
     "execution_count": 51,
     "metadata": {},
     "output_type": "execute_result"
    }
   ],
   "source": [
    "characters.head()"
   ]
  },
  {
   "cell_type": "code",
   "execution_count": 52,
   "metadata": {},
   "outputs": [],
   "source": [
    "popularity_counts = characters.apply(pd.Series.value_counts) # This counts the unique values in each column"
   ]
  },
  {
   "cell_type": "code",
   "execution_count": 53,
   "metadata": {},
   "outputs": [
    {
     "data": {
      "text/html": [
       "<div>\n",
       "<style scoped>\n",
       "    .dataframe tbody tr th:only-of-type {\n",
       "        vertical-align: middle;\n",
       "    }\n",
       "\n",
       "    .dataframe tbody tr th {\n",
       "        vertical-align: top;\n",
       "    }\n",
       "\n",
       "    .dataframe thead th {\n",
       "        text-align: right;\n",
       "    }\n",
       "</style>\n",
       "<table border=\"1\" class=\"dataframe\">\n",
       "  <thead>\n",
       "    <tr style=\"text-align: right;\">\n",
       "      <th></th>\n",
       "      <th>Han Solo</th>\n",
       "      <th>Luke Skywalker</th>\n",
       "      <th>Princess Leia Organa</th>\n",
       "      <th>Anakin Skywalker</th>\n",
       "      <th>Obi Wan Kenobi</th>\n",
       "      <th>Emperor Palpatine</th>\n",
       "      <th>Darth Vader</th>\n",
       "      <th>Lando Calrissian</th>\n",
       "      <th>Boba Fett</th>\n",
       "      <th>C-3P0</th>\n",
       "      <th>R2 D2</th>\n",
       "      <th>Jar Jar Binks</th>\n",
       "      <th>Padme Amidala</th>\n",
       "      <th>Yoda</th>\n",
       "    </tr>\n",
       "  </thead>\n",
       "  <tbody>\n",
       "    <tr>\n",
       "      <th>favorable</th>\n",
       "      <td>761</td>\n",
       "      <td>771</td>\n",
       "      <td>757</td>\n",
       "      <td>514</td>\n",
       "      <td>750</td>\n",
       "      <td>253</td>\n",
       "      <td>481</td>\n",
       "      <td>365</td>\n",
       "      <td>291</td>\n",
       "      <td>703</td>\n",
       "      <td>747</td>\n",
       "      <td>242</td>\n",
       "      <td>351</td>\n",
       "      <td>749</td>\n",
       "    </tr>\n",
       "    <tr>\n",
       "      <th>neutral</th>\n",
       "      <td>59</td>\n",
       "      <td>44</td>\n",
       "      <td>56</td>\n",
       "      <td>187</td>\n",
       "      <td>60</td>\n",
       "      <td>369</td>\n",
       "      <td>94</td>\n",
       "      <td>384</td>\n",
       "      <td>380</td>\n",
       "      <td>94</td>\n",
       "      <td>67</td>\n",
       "      <td>273</td>\n",
       "      <td>371</td>\n",
       "      <td>61</td>\n",
       "    </tr>\n",
       "    <tr>\n",
       "      <th>review unavailable</th>\n",
       "      <td>357</td>\n",
       "      <td>355</td>\n",
       "      <td>355</td>\n",
       "      <td>363</td>\n",
       "      <td>361</td>\n",
       "      <td>372</td>\n",
       "      <td>360</td>\n",
       "      <td>366</td>\n",
       "      <td>374</td>\n",
       "      <td>359</td>\n",
       "      <td>356</td>\n",
       "      <td>365</td>\n",
       "      <td>372</td>\n",
       "      <td>360</td>\n",
       "    </tr>\n",
       "    <tr>\n",
       "      <th>unfavorable</th>\n",
       "      <td>9</td>\n",
       "      <td>16</td>\n",
       "      <td>18</td>\n",
       "      <td>122</td>\n",
       "      <td>15</td>\n",
       "      <td>192</td>\n",
       "      <td>251</td>\n",
       "      <td>71</td>\n",
       "      <td>141</td>\n",
       "      <td>30</td>\n",
       "      <td>16</td>\n",
       "      <td>306</td>\n",
       "      <td>92</td>\n",
       "      <td>16</td>\n",
       "    </tr>\n",
       "  </tbody>\n",
       "</table>\n",
       "</div>"
      ],
      "text/plain": [
       "                    Han Solo  Luke Skywalker  Princess Leia Organa  \\\n",
       "favorable                761             771                   757   \n",
       "neutral                   59              44                    56   \n",
       "review unavailable       357             355                   355   \n",
       "unfavorable                9              16                    18   \n",
       "\n",
       "                    Anakin Skywalker  Obi Wan Kenobi  Emperor Palpatine  \\\n",
       "favorable                        514             750                253   \n",
       "neutral                          187              60                369   \n",
       "review unavailable               363             361                372   \n",
       "unfavorable                      122              15                192   \n",
       "\n",
       "                    Darth Vader  Lando Calrissian  Boba Fett  C-3P0  R2 D2  \\\n",
       "favorable                   481               365        291    703    747   \n",
       "neutral                      94               384        380     94     67   \n",
       "review unavailable          360               366        374    359    356   \n",
       "unfavorable                 251                71        141     30     16   \n",
       "\n",
       "                    Jar Jar Binks  Padme Amidala  Yoda  \n",
       "favorable                     242            351   749  \n",
       "neutral                       273            371    61  \n",
       "review unavailable            365            372   360  \n",
       "unfavorable                   306             92    16  "
      ]
     },
     "execution_count": 53,
     "metadata": {},
     "output_type": "execute_result"
    }
   ],
   "source": [
    "popularity_counts"
   ]
  },
  {
   "cell_type": "code",
   "execution_count": 54,
   "metadata": {},
   "outputs": [
    {
     "data": {
      "text/plain": [
       "Index(['favorable', 'neutral', 'review unavailable', 'unfavorable'], dtype='object')"
      ]
     },
     "execution_count": 54,
     "metadata": {},
     "output_type": "execute_result"
    }
   ],
   "source": [
    "categories = popularity_counts.index\n",
    "categories\n"
   ]
  },
  {
   "cell_type": "code",
   "execution_count": 55,
   "metadata": {},
   "outputs": [
    {
     "data": {
      "application/vnd.plotly.v1+json": {
       "config": {
        "plotlyServerURL": "https://plot.ly"
       },
       "data": [
        {
         "name": "favorable",
         "orientation": "h",
         "type": "bar",
         "x": [
          761,
          771,
          757,
          514,
          750,
          253,
          481,
          365,
          291,
          703,
          747,
          242,
          351,
          749
         ],
         "y": [
          "Han Solo",
          "Luke Skywalker",
          "Princess Leia Organa",
          "Anakin Skywalker",
          "Obi Wan Kenobi",
          "Emperor Palpatine",
          "Darth Vader",
          "Lando Calrissian",
          "Boba Fett",
          "C-3P0",
          "R2 D2",
          "Jar Jar Binks",
          "Padme Amidala",
          "Yoda"
         ]
        },
        {
         "name": "neutral",
         "orientation": "h",
         "type": "bar",
         "x": [
          59,
          44,
          56,
          187,
          60,
          369,
          94,
          384,
          380,
          94,
          67,
          273,
          371,
          61
         ],
         "y": [
          "Han Solo",
          "Luke Skywalker",
          "Princess Leia Organa",
          "Anakin Skywalker",
          "Obi Wan Kenobi",
          "Emperor Palpatine",
          "Darth Vader",
          "Lando Calrissian",
          "Boba Fett",
          "C-3P0",
          "R2 D2",
          "Jar Jar Binks",
          "Padme Amidala",
          "Yoda"
         ]
        },
        {
         "name": "review unavailable",
         "orientation": "h",
         "type": "bar",
         "x": [
          357,
          355,
          355,
          363,
          361,
          372,
          360,
          366,
          374,
          359,
          356,
          365,
          372,
          360
         ],
         "y": [
          "Han Solo",
          "Luke Skywalker",
          "Princess Leia Organa",
          "Anakin Skywalker",
          "Obi Wan Kenobi",
          "Emperor Palpatine",
          "Darth Vader",
          "Lando Calrissian",
          "Boba Fett",
          "C-3P0",
          "R2 D2",
          "Jar Jar Binks",
          "Padme Amidala",
          "Yoda"
         ]
        },
        {
         "name": "unfavorable",
         "orientation": "h",
         "type": "bar",
         "x": [
          9,
          16,
          18,
          122,
          15,
          192,
          251,
          71,
          141,
          30,
          16,
          306,
          92,
          16
         ],
         "y": [
          "Han Solo",
          "Luke Skywalker",
          "Princess Leia Organa",
          "Anakin Skywalker",
          "Obi Wan Kenobi",
          "Emperor Palpatine",
          "Darth Vader",
          "Lando Calrissian",
          "Boba Fett",
          "C-3P0",
          "R2 D2",
          "Jar Jar Binks",
          "Padme Amidala",
          "Yoda"
         ]
        }
       ],
       "layout": {
        "barmode": "stack",
        "height": 400,
        "template": {
         "data": {
          "bar": [
           {
            "error_x": {
             "color": "#2a3f5f"
            },
            "error_y": {
             "color": "#2a3f5f"
            },
            "marker": {
             "line": {
              "color": "#E5ECF6",
              "width": 0.5
             },
             "pattern": {
              "fillmode": "overlay",
              "size": 10,
              "solidity": 0.2
             }
            },
            "type": "bar"
           }
          ],
          "barpolar": [
           {
            "marker": {
             "line": {
              "color": "#E5ECF6",
              "width": 0.5
             },
             "pattern": {
              "fillmode": "overlay",
              "size": 10,
              "solidity": 0.2
             }
            },
            "type": "barpolar"
           }
          ],
          "carpet": [
           {
            "aaxis": {
             "endlinecolor": "#2a3f5f",
             "gridcolor": "white",
             "linecolor": "white",
             "minorgridcolor": "white",
             "startlinecolor": "#2a3f5f"
            },
            "baxis": {
             "endlinecolor": "#2a3f5f",
             "gridcolor": "white",
             "linecolor": "white",
             "minorgridcolor": "white",
             "startlinecolor": "#2a3f5f"
            },
            "type": "carpet"
           }
          ],
          "choropleth": [
           {
            "colorbar": {
             "outlinewidth": 0,
             "ticks": ""
            },
            "type": "choropleth"
           }
          ],
          "contour": [
           {
            "colorbar": {
             "outlinewidth": 0,
             "ticks": ""
            },
            "colorscale": [
             [
              0,
              "#0d0887"
             ],
             [
              0.1111111111111111,
              "#46039f"
             ],
             [
              0.2222222222222222,
              "#7201a8"
             ],
             [
              0.3333333333333333,
              "#9c179e"
             ],
             [
              0.4444444444444444,
              "#bd3786"
             ],
             [
              0.5555555555555556,
              "#d8576b"
             ],
             [
              0.6666666666666666,
              "#ed7953"
             ],
             [
              0.7777777777777778,
              "#fb9f3a"
             ],
             [
              0.8888888888888888,
              "#fdca26"
             ],
             [
              1,
              "#f0f921"
             ]
            ],
            "type": "contour"
           }
          ],
          "contourcarpet": [
           {
            "colorbar": {
             "outlinewidth": 0,
             "ticks": ""
            },
            "type": "contourcarpet"
           }
          ],
          "heatmap": [
           {
            "colorbar": {
             "outlinewidth": 0,
             "ticks": ""
            },
            "colorscale": [
             [
              0,
              "#0d0887"
             ],
             [
              0.1111111111111111,
              "#46039f"
             ],
             [
              0.2222222222222222,
              "#7201a8"
             ],
             [
              0.3333333333333333,
              "#9c179e"
             ],
             [
              0.4444444444444444,
              "#bd3786"
             ],
             [
              0.5555555555555556,
              "#d8576b"
             ],
             [
              0.6666666666666666,
              "#ed7953"
             ],
             [
              0.7777777777777778,
              "#fb9f3a"
             ],
             [
              0.8888888888888888,
              "#fdca26"
             ],
             [
              1,
              "#f0f921"
             ]
            ],
            "type": "heatmap"
           }
          ],
          "heatmapgl": [
           {
            "colorbar": {
             "outlinewidth": 0,
             "ticks": ""
            },
            "colorscale": [
             [
              0,
              "#0d0887"
             ],
             [
              0.1111111111111111,
              "#46039f"
             ],
             [
              0.2222222222222222,
              "#7201a8"
             ],
             [
              0.3333333333333333,
              "#9c179e"
             ],
             [
              0.4444444444444444,
              "#bd3786"
             ],
             [
              0.5555555555555556,
              "#d8576b"
             ],
             [
              0.6666666666666666,
              "#ed7953"
             ],
             [
              0.7777777777777778,
              "#fb9f3a"
             ],
             [
              0.8888888888888888,
              "#fdca26"
             ],
             [
              1,
              "#f0f921"
             ]
            ],
            "type": "heatmapgl"
           }
          ],
          "histogram": [
           {
            "marker": {
             "pattern": {
              "fillmode": "overlay",
              "size": 10,
              "solidity": 0.2
             }
            },
            "type": "histogram"
           }
          ],
          "histogram2d": [
           {
            "colorbar": {
             "outlinewidth": 0,
             "ticks": ""
            },
            "colorscale": [
             [
              0,
              "#0d0887"
             ],
             [
              0.1111111111111111,
              "#46039f"
             ],
             [
              0.2222222222222222,
              "#7201a8"
             ],
             [
              0.3333333333333333,
              "#9c179e"
             ],
             [
              0.4444444444444444,
              "#bd3786"
             ],
             [
              0.5555555555555556,
              "#d8576b"
             ],
             [
              0.6666666666666666,
              "#ed7953"
             ],
             [
              0.7777777777777778,
              "#fb9f3a"
             ],
             [
              0.8888888888888888,
              "#fdca26"
             ],
             [
              1,
              "#f0f921"
             ]
            ],
            "type": "histogram2d"
           }
          ],
          "histogram2dcontour": [
           {
            "colorbar": {
             "outlinewidth": 0,
             "ticks": ""
            },
            "colorscale": [
             [
              0,
              "#0d0887"
             ],
             [
              0.1111111111111111,
              "#46039f"
             ],
             [
              0.2222222222222222,
              "#7201a8"
             ],
             [
              0.3333333333333333,
              "#9c179e"
             ],
             [
              0.4444444444444444,
              "#bd3786"
             ],
             [
              0.5555555555555556,
              "#d8576b"
             ],
             [
              0.6666666666666666,
              "#ed7953"
             ],
             [
              0.7777777777777778,
              "#fb9f3a"
             ],
             [
              0.8888888888888888,
              "#fdca26"
             ],
             [
              1,
              "#f0f921"
             ]
            ],
            "type": "histogram2dcontour"
           }
          ],
          "mesh3d": [
           {
            "colorbar": {
             "outlinewidth": 0,
             "ticks": ""
            },
            "type": "mesh3d"
           }
          ],
          "parcoords": [
           {
            "line": {
             "colorbar": {
              "outlinewidth": 0,
              "ticks": ""
             }
            },
            "type": "parcoords"
           }
          ],
          "pie": [
           {
            "automargin": true,
            "type": "pie"
           }
          ],
          "scatter": [
           {
            "fillpattern": {
             "fillmode": "overlay",
             "size": 10,
             "solidity": 0.2
            },
            "type": "scatter"
           }
          ],
          "scatter3d": [
           {
            "line": {
             "colorbar": {
              "outlinewidth": 0,
              "ticks": ""
             }
            },
            "marker": {
             "colorbar": {
              "outlinewidth": 0,
              "ticks": ""
             }
            },
            "type": "scatter3d"
           }
          ],
          "scattercarpet": [
           {
            "marker": {
             "colorbar": {
              "outlinewidth": 0,
              "ticks": ""
             }
            },
            "type": "scattercarpet"
           }
          ],
          "scattergeo": [
           {
            "marker": {
             "colorbar": {
              "outlinewidth": 0,
              "ticks": ""
             }
            },
            "type": "scattergeo"
           }
          ],
          "scattergl": [
           {
            "marker": {
             "colorbar": {
              "outlinewidth": 0,
              "ticks": ""
             }
            },
            "type": "scattergl"
           }
          ],
          "scattermapbox": [
           {
            "marker": {
             "colorbar": {
              "outlinewidth": 0,
              "ticks": ""
             }
            },
            "type": "scattermapbox"
           }
          ],
          "scatterpolar": [
           {
            "marker": {
             "colorbar": {
              "outlinewidth": 0,
              "ticks": ""
             }
            },
            "type": "scatterpolar"
           }
          ],
          "scatterpolargl": [
           {
            "marker": {
             "colorbar": {
              "outlinewidth": 0,
              "ticks": ""
             }
            },
            "type": "scatterpolargl"
           }
          ],
          "scatterternary": [
           {
            "marker": {
             "colorbar": {
              "outlinewidth": 0,
              "ticks": ""
             }
            },
            "type": "scatterternary"
           }
          ],
          "surface": [
           {
            "colorbar": {
             "outlinewidth": 0,
             "ticks": ""
            },
            "colorscale": [
             [
              0,
              "#0d0887"
             ],
             [
              0.1111111111111111,
              "#46039f"
             ],
             [
              0.2222222222222222,
              "#7201a8"
             ],
             [
              0.3333333333333333,
              "#9c179e"
             ],
             [
              0.4444444444444444,
              "#bd3786"
             ],
             [
              0.5555555555555556,
              "#d8576b"
             ],
             [
              0.6666666666666666,
              "#ed7953"
             ],
             [
              0.7777777777777778,
              "#fb9f3a"
             ],
             [
              0.8888888888888888,
              "#fdca26"
             ],
             [
              1,
              "#f0f921"
             ]
            ],
            "type": "surface"
           }
          ],
          "table": [
           {
            "cells": {
             "fill": {
              "color": "#EBF0F8"
             },
             "line": {
              "color": "white"
             }
            },
            "header": {
             "fill": {
              "color": "#C8D4E3"
             },
             "line": {
              "color": "white"
             }
            },
            "type": "table"
           }
          ]
         },
         "layout": {
          "annotationdefaults": {
           "arrowcolor": "#2a3f5f",
           "arrowhead": 0,
           "arrowwidth": 1
          },
          "autotypenumbers": "strict",
          "coloraxis": {
           "colorbar": {
            "outlinewidth": 0,
            "ticks": ""
           }
          },
          "colorscale": {
           "diverging": [
            [
             0,
             "#8e0152"
            ],
            [
             0.1,
             "#c51b7d"
            ],
            [
             0.2,
             "#de77ae"
            ],
            [
             0.3,
             "#f1b6da"
            ],
            [
             0.4,
             "#fde0ef"
            ],
            [
             0.5,
             "#f7f7f7"
            ],
            [
             0.6,
             "#e6f5d0"
            ],
            [
             0.7,
             "#b8e186"
            ],
            [
             0.8,
             "#7fbc41"
            ],
            [
             0.9,
             "#4d9221"
            ],
            [
             1,
             "#276419"
            ]
           ],
           "sequential": [
            [
             0,
             "#0d0887"
            ],
            [
             0.1111111111111111,
             "#46039f"
            ],
            [
             0.2222222222222222,
             "#7201a8"
            ],
            [
             0.3333333333333333,
             "#9c179e"
            ],
            [
             0.4444444444444444,
             "#bd3786"
            ],
            [
             0.5555555555555556,
             "#d8576b"
            ],
            [
             0.6666666666666666,
             "#ed7953"
            ],
            [
             0.7777777777777778,
             "#fb9f3a"
            ],
            [
             0.8888888888888888,
             "#fdca26"
            ],
            [
             1,
             "#f0f921"
            ]
           ],
           "sequentialminus": [
            [
             0,
             "#0d0887"
            ],
            [
             0.1111111111111111,
             "#46039f"
            ],
            [
             0.2222222222222222,
             "#7201a8"
            ],
            [
             0.3333333333333333,
             "#9c179e"
            ],
            [
             0.4444444444444444,
             "#bd3786"
            ],
            [
             0.5555555555555556,
             "#d8576b"
            ],
            [
             0.6666666666666666,
             "#ed7953"
            ],
            [
             0.7777777777777778,
             "#fb9f3a"
            ],
            [
             0.8888888888888888,
             "#fdca26"
            ],
            [
             1,
             "#f0f921"
            ]
           ]
          },
          "colorway": [
           "#636efa",
           "#EF553B",
           "#00cc96",
           "#ab63fa",
           "#FFA15A",
           "#19d3f3",
           "#FF6692",
           "#B6E880",
           "#FF97FF",
           "#FECB52"
          ],
          "font": {
           "color": "#2a3f5f"
          },
          "geo": {
           "bgcolor": "white",
           "lakecolor": "white",
           "landcolor": "#E5ECF6",
           "showlakes": true,
           "showland": true,
           "subunitcolor": "white"
          },
          "hoverlabel": {
           "align": "left"
          },
          "hovermode": "closest",
          "mapbox": {
           "style": "light"
          },
          "paper_bgcolor": "white",
          "plot_bgcolor": "#E5ECF6",
          "polar": {
           "angularaxis": {
            "gridcolor": "white",
            "linecolor": "white",
            "ticks": ""
           },
           "bgcolor": "#E5ECF6",
           "radialaxis": {
            "gridcolor": "white",
            "linecolor": "white",
            "ticks": ""
           }
          },
          "scene": {
           "xaxis": {
            "backgroundcolor": "#E5ECF6",
            "gridcolor": "white",
            "gridwidth": 2,
            "linecolor": "white",
            "showbackground": true,
            "ticks": "",
            "zerolinecolor": "white"
           },
           "yaxis": {
            "backgroundcolor": "#E5ECF6",
            "gridcolor": "white",
            "gridwidth": 2,
            "linecolor": "white",
            "showbackground": true,
            "ticks": "",
            "zerolinecolor": "white"
           },
           "zaxis": {
            "backgroundcolor": "#E5ECF6",
            "gridcolor": "white",
            "gridwidth": 2,
            "linecolor": "white",
            "showbackground": true,
            "ticks": "",
            "zerolinecolor": "white"
           }
          },
          "shapedefaults": {
           "line": {
            "color": "#2a3f5f"
           }
          },
          "ternary": {
           "aaxis": {
            "gridcolor": "white",
            "linecolor": "white",
            "ticks": ""
           },
           "baxis": {
            "gridcolor": "white",
            "linecolor": "white",
            "ticks": ""
           },
           "bgcolor": "#E5ECF6",
           "caxis": {
            "gridcolor": "white",
            "linecolor": "white",
            "ticks": ""
           }
          },
          "title": {
           "x": 0.05
          },
          "xaxis": {
           "automargin": true,
           "gridcolor": "white",
           "linecolor": "white",
           "ticks": "",
           "title": {
            "standoff": 15
           },
           "zerolinecolor": "white",
           "zerolinewidth": 2
          },
          "yaxis": {
           "automargin": true,
           "gridcolor": "white",
           "linecolor": "white",
           "ticks": "",
           "title": {
            "standoff": 15
           },
           "zerolinecolor": "white",
           "zerolinewidth": 2
          }
         }
        },
        "title": {
         "text": "Review of Star Wars Characters Based on Familiarity and Public Sentiment"
        },
        "width": 1000,
        "xaxis": {
         "title": {
          "text": "Count"
         }
        },
        "yaxis": {
         "title": {
          "text": "Character"
         }
        }
       }
      }
     },
     "metadata": {},
     "output_type": "display_data"
    }
   ],
   "source": [
    "fig = go.Figure()\n",
    "\n",
    "for category in popularity_counts.index:\n",
    "    fig.add_trace(go.Bar(\n",
    "        y = popularity_counts.columns,\n",
    "        x = popularity_counts.loc[category], \n",
    "        name = category, \n",
    "        orientation='h'\n",
    "    ))\n",
    "\n",
    "# Update layout for stacked bars\n",
    "fig.update_layout(\n",
    "    barmode='stack',\n",
    "    title='Review of Star Wars Characters Based on Familiarity and Public Sentiment',\n",
    "    xaxis_title='Count',\n",
    "    yaxis_title='Character',\n",
    "    width=1000,\n",
    "    height=400\n",
    ")\n",
    "fig.show()"
   ]
  },
  {
   "cell_type": "markdown",
   "metadata": {},
   "source": [
    "This chart says it all. Han solo, Luke Skywalker, Princess Leia Organa, Kenobi, R2 D2, and Yoda are veiwed most favourably. While more divisive characters like Jar Jar Binks and Emperor Palpatine receive mixed reactions. The absence of reviews for some characters may reflect generational gaps, varying levels of familiarity, or the complexity of the characters themselves."
   ]
  },
  {
   "cell_type": "markdown",
   "metadata": {},
   "source": [
    "#### Genderwise Popularity of Characters"
   ]
  },
  {
   "cell_type": "code",
   "execution_count": 56,
   "metadata": {},
   "outputs": [],
   "source": [
    "# Extract character columns genderwise\n",
    "\n",
    "characters_cols_males = male_rows[male_rows.columns[16:30]]\n",
    "characters_cols_females = female_rows[female_rows.columns[16:30]]"
   ]
  },
  {
   "cell_type": "code",
   "execution_count": 57,
   "metadata": {},
   "outputs": [
    {
     "data": {
      "text/html": [
       "<div>\n",
       "<style scoped>\n",
       "    .dataframe tbody tr th:only-of-type {\n",
       "        vertical-align: middle;\n",
       "    }\n",
       "\n",
       "    .dataframe tbody tr th {\n",
       "        vertical-align: top;\n",
       "    }\n",
       "\n",
       "    .dataframe thead th {\n",
       "        text-align: right;\n",
       "    }\n",
       "</style>\n",
       "<table border=\"1\" class=\"dataframe\">\n",
       "  <thead>\n",
       "    <tr style=\"text-align: right;\">\n",
       "      <th></th>\n",
       "      <th>Han Solo</th>\n",
       "      <th>Luke Skywalker</th>\n",
       "      <th>Princess Leia Organa</th>\n",
       "      <th>Anakin Skywalker</th>\n",
       "      <th>Obi Wan Kenobi</th>\n",
       "      <th>Emperor Palpatine</th>\n",
       "      <th>Darth Vader</th>\n",
       "      <th>Lando Calrissian</th>\n",
       "      <th>Boba Fett</th>\n",
       "      <th>C-3P0</th>\n",
       "      <th>R2 D2</th>\n",
       "      <th>Jar Jar Binks</th>\n",
       "      <th>Padme Amidala</th>\n",
       "      <th>Yoda</th>\n",
       "    </tr>\n",
       "  </thead>\n",
       "  <tbody>\n",
       "    <tr>\n",
       "      <th>0</th>\n",
       "      <td>favorable</td>\n",
       "      <td>favorable</td>\n",
       "      <td>favorable</td>\n",
       "      <td>favorable</td>\n",
       "      <td>favorable</td>\n",
       "      <td>favorable</td>\n",
       "      <td>favorable</td>\n",
       "      <td>neutral</td>\n",
       "      <td>neutral</td>\n",
       "      <td>favorable</td>\n",
       "      <td>favorable</td>\n",
       "      <td>favorable</td>\n",
       "      <td>favorable</td>\n",
       "      <td>favorable</td>\n",
       "    </tr>\n",
       "    <tr>\n",
       "      <th>1</th>\n",
       "      <td>review unavailable</td>\n",
       "      <td>review unavailable</td>\n",
       "      <td>review unavailable</td>\n",
       "      <td>review unavailable</td>\n",
       "      <td>review unavailable</td>\n",
       "      <td>review unavailable</td>\n",
       "      <td>review unavailable</td>\n",
       "      <td>review unavailable</td>\n",
       "      <td>review unavailable</td>\n",
       "      <td>review unavailable</td>\n",
       "      <td>review unavailable</td>\n",
       "      <td>review unavailable</td>\n",
       "      <td>review unavailable</td>\n",
       "      <td>review unavailable</td>\n",
       "    </tr>\n",
       "    <tr>\n",
       "      <th>2</th>\n",
       "      <td>favorable</td>\n",
       "      <td>favorable</td>\n",
       "      <td>favorable</td>\n",
       "      <td>favorable</td>\n",
       "      <td>favorable</td>\n",
       "      <td>neutral</td>\n",
       "      <td>neutral</td>\n",
       "      <td>neutral</td>\n",
       "      <td>neutral</td>\n",
       "      <td>neutral</td>\n",
       "      <td>neutral</td>\n",
       "      <td>neutral</td>\n",
       "      <td>neutral</td>\n",
       "      <td>neutral</td>\n",
       "    </tr>\n",
       "    <tr>\n",
       "      <th>3</th>\n",
       "      <td>favorable</td>\n",
       "      <td>favorable</td>\n",
       "      <td>favorable</td>\n",
       "      <td>favorable</td>\n",
       "      <td>favorable</td>\n",
       "      <td>favorable</td>\n",
       "      <td>favorable</td>\n",
       "      <td>favorable</td>\n",
       "      <td>unfavorable</td>\n",
       "      <td>favorable</td>\n",
       "      <td>favorable</td>\n",
       "      <td>favorable</td>\n",
       "      <td>favorable</td>\n",
       "      <td>favorable</td>\n",
       "    </tr>\n",
       "    <tr>\n",
       "      <th>4</th>\n",
       "      <td>favorable</td>\n",
       "      <td>favorable</td>\n",
       "      <td>favorable</td>\n",
       "      <td>unfavorable</td>\n",
       "      <td>favorable</td>\n",
       "      <td>unfavorable</td>\n",
       "      <td>favorable</td>\n",
       "      <td>neutral</td>\n",
       "      <td>favorable</td>\n",
       "      <td>favorable</td>\n",
       "      <td>favorable</td>\n",
       "      <td>unfavorable</td>\n",
       "      <td>favorable</td>\n",
       "      <td>favorable</td>\n",
       "    </tr>\n",
       "    <tr>\n",
       "      <th>...</th>\n",
       "      <td>...</td>\n",
       "      <td>...</td>\n",
       "      <td>...</td>\n",
       "      <td>...</td>\n",
       "      <td>...</td>\n",
       "      <td>...</td>\n",
       "      <td>...</td>\n",
       "      <td>...</td>\n",
       "      <td>...</td>\n",
       "      <td>...</td>\n",
       "      <td>...</td>\n",
       "      <td>...</td>\n",
       "      <td>...</td>\n",
       "      <td>...</td>\n",
       "    </tr>\n",
       "    <tr>\n",
       "      <th>1153</th>\n",
       "      <td>review unavailable</td>\n",
       "      <td>review unavailable</td>\n",
       "      <td>review unavailable</td>\n",
       "      <td>review unavailable</td>\n",
       "      <td>review unavailable</td>\n",
       "      <td>review unavailable</td>\n",
       "      <td>review unavailable</td>\n",
       "      <td>review unavailable</td>\n",
       "      <td>review unavailable</td>\n",
       "      <td>review unavailable</td>\n",
       "      <td>review unavailable</td>\n",
       "      <td>review unavailable</td>\n",
       "      <td>review unavailable</td>\n",
       "      <td>review unavailable</td>\n",
       "    </tr>\n",
       "    <tr>\n",
       "      <th>1157</th>\n",
       "      <td>review unavailable</td>\n",
       "      <td>review unavailable</td>\n",
       "      <td>review unavailable</td>\n",
       "      <td>review unavailable</td>\n",
       "      <td>review unavailable</td>\n",
       "      <td>review unavailable</td>\n",
       "      <td>review unavailable</td>\n",
       "      <td>review unavailable</td>\n",
       "      <td>review unavailable</td>\n",
       "      <td>review unavailable</td>\n",
       "      <td>review unavailable</td>\n",
       "      <td>review unavailable</td>\n",
       "      <td>review unavailable</td>\n",
       "      <td>review unavailable</td>\n",
       "    </tr>\n",
       "    <tr>\n",
       "      <th>1164</th>\n",
       "      <td>favorable</td>\n",
       "      <td>favorable</td>\n",
       "      <td>favorable</td>\n",
       "      <td>favorable</td>\n",
       "      <td>favorable</td>\n",
       "      <td>favorable</td>\n",
       "      <td>unfavorable</td>\n",
       "      <td>favorable</td>\n",
       "      <td>neutral</td>\n",
       "      <td>favorable</td>\n",
       "      <td>favorable</td>\n",
       "      <td>unfavorable</td>\n",
       "      <td>unfavorable</td>\n",
       "      <td>neutral</td>\n",
       "    </tr>\n",
       "    <tr>\n",
       "      <th>1169</th>\n",
       "      <td>favorable</td>\n",
       "      <td>favorable</td>\n",
       "      <td>favorable</td>\n",
       "      <td>neutral</td>\n",
       "      <td>favorable</td>\n",
       "      <td>favorable</td>\n",
       "      <td>favorable</td>\n",
       "      <td>favorable</td>\n",
       "      <td>favorable</td>\n",
       "      <td>favorable</td>\n",
       "      <td>favorable</td>\n",
       "      <td>unfavorable</td>\n",
       "      <td>unfavorable</td>\n",
       "      <td>favorable</td>\n",
       "    </tr>\n",
       "    <tr>\n",
       "      <th>1177</th>\n",
       "      <td>favorable</td>\n",
       "      <td>favorable</td>\n",
       "      <td>favorable</td>\n",
       "      <td>favorable</td>\n",
       "      <td>favorable</td>\n",
       "      <td>neutral</td>\n",
       "      <td>neutral</td>\n",
       "      <td>neutral</td>\n",
       "      <td>neutral</td>\n",
       "      <td>favorable</td>\n",
       "      <td>favorable</td>\n",
       "      <td>favorable</td>\n",
       "      <td>neutral</td>\n",
       "      <td>favorable</td>\n",
       "    </tr>\n",
       "  </tbody>\n",
       "</table>\n",
       "<p>497 rows × 14 columns</p>\n",
       "</div>"
      ],
      "text/plain": [
       "                Han Solo      Luke Skywalker Princess Leia Organa  \\\n",
       "0              favorable           favorable            favorable   \n",
       "1     review unavailable  review unavailable   review unavailable   \n",
       "2              favorable           favorable            favorable   \n",
       "3              favorable           favorable            favorable   \n",
       "4              favorable           favorable            favorable   \n",
       "...                  ...                 ...                  ...   \n",
       "1153  review unavailable  review unavailable   review unavailable   \n",
       "1157  review unavailable  review unavailable   review unavailable   \n",
       "1164           favorable           favorable            favorable   \n",
       "1169           favorable           favorable            favorable   \n",
       "1177           favorable           favorable            favorable   \n",
       "\n",
       "        Anakin Skywalker      Obi Wan Kenobi   Emperor Palpatine  \\\n",
       "0              favorable           favorable           favorable   \n",
       "1     review unavailable  review unavailable  review unavailable   \n",
       "2              favorable           favorable             neutral   \n",
       "3              favorable           favorable           favorable   \n",
       "4            unfavorable           favorable         unfavorable   \n",
       "...                  ...                 ...                 ...   \n",
       "1153  review unavailable  review unavailable  review unavailable   \n",
       "1157  review unavailable  review unavailable  review unavailable   \n",
       "1164           favorable           favorable           favorable   \n",
       "1169             neutral           favorable           favorable   \n",
       "1177           favorable           favorable             neutral   \n",
       "\n",
       "             Darth Vader    Lando Calrissian           Boba Fett  \\\n",
       "0              favorable             neutral             neutral   \n",
       "1     review unavailable  review unavailable  review unavailable   \n",
       "2                neutral             neutral             neutral   \n",
       "3              favorable           favorable         unfavorable   \n",
       "4              favorable             neutral           favorable   \n",
       "...                  ...                 ...                 ...   \n",
       "1153  review unavailable  review unavailable  review unavailable   \n",
       "1157  review unavailable  review unavailable  review unavailable   \n",
       "1164         unfavorable           favorable             neutral   \n",
       "1169           favorable           favorable           favorable   \n",
       "1177             neutral             neutral             neutral   \n",
       "\n",
       "                   C-3P0               R2 D2       Jar Jar Binks  \\\n",
       "0              favorable           favorable           favorable   \n",
       "1     review unavailable  review unavailable  review unavailable   \n",
       "2                neutral             neutral             neutral   \n",
       "3              favorable           favorable           favorable   \n",
       "4              favorable           favorable         unfavorable   \n",
       "...                  ...                 ...                 ...   \n",
       "1153  review unavailable  review unavailable  review unavailable   \n",
       "1157  review unavailable  review unavailable  review unavailable   \n",
       "1164           favorable           favorable         unfavorable   \n",
       "1169           favorable           favorable         unfavorable   \n",
       "1177           favorable           favorable           favorable   \n",
       "\n",
       "           Padme Amidala                Yoda  \n",
       "0              favorable           favorable  \n",
       "1     review unavailable  review unavailable  \n",
       "2                neutral             neutral  \n",
       "3              favorable           favorable  \n",
       "4              favorable           favorable  \n",
       "...                  ...                 ...  \n",
       "1153  review unavailable  review unavailable  \n",
       "1157  review unavailable  review unavailable  \n",
       "1164         unfavorable             neutral  \n",
       "1169         unfavorable           favorable  \n",
       "1177             neutral           favorable  \n",
       "\n",
       "[497 rows x 14 columns]"
      ]
     },
     "execution_count": 57,
     "metadata": {},
     "output_type": "execute_result"
    }
   ],
   "source": [
    "for col in characters_cols_males.columns:\n",
    "    characters_cols_males.loc[:, col] = characters_cols_males[col].map(popularity)\n",
    "    characters_cols_females.loc[:, col]=characters_cols_females[col].map(popularity)\n",
    "\n",
    "characters_cols_males"
   ]
  },
  {
   "cell_type": "code",
   "execution_count": 58,
   "metadata": {},
   "outputs": [
    {
     "data": {
      "text/html": [
       "<div>\n",
       "<style scoped>\n",
       "    .dataframe tbody tr th:only-of-type {\n",
       "        vertical-align: middle;\n",
       "    }\n",
       "\n",
       "    .dataframe tbody tr th {\n",
       "        vertical-align: top;\n",
       "    }\n",
       "\n",
       "    .dataframe thead th {\n",
       "        text-align: right;\n",
       "    }\n",
       "</style>\n",
       "<table border=\"1\" class=\"dataframe\">\n",
       "  <thead>\n",
       "    <tr style=\"text-align: right;\">\n",
       "      <th></th>\n",
       "      <th>Han Solo</th>\n",
       "      <th>Luke Skywalker</th>\n",
       "      <th>Princess Leia Organa</th>\n",
       "      <th>Anakin Skywalker</th>\n",
       "      <th>Obi Wan Kenobi</th>\n",
       "      <th>Emperor Palpatine</th>\n",
       "      <th>Darth Vader</th>\n",
       "      <th>Lando Calrissian</th>\n",
       "      <th>Boba Fett</th>\n",
       "      <th>C-3P0</th>\n",
       "      <th>R2 D2</th>\n",
       "      <th>Jar Jar Binks</th>\n",
       "      <th>Padme Amidala</th>\n",
       "      <th>Yoda</th>\n",
       "    </tr>\n",
       "  </thead>\n",
       "  <tbody>\n",
       "    <tr>\n",
       "      <th>111</th>\n",
       "      <td>favorable</td>\n",
       "      <td>favorable</td>\n",
       "      <td>favorable</td>\n",
       "      <td>review unavailable</td>\n",
       "      <td>favorable</td>\n",
       "      <td>neutral</td>\n",
       "      <td>unfavorable</td>\n",
       "      <td>neutral</td>\n",
       "      <td>neutral</td>\n",
       "      <td>favorable</td>\n",
       "      <td>favorable</td>\n",
       "      <td>unfavorable</td>\n",
       "      <td>neutral</td>\n",
       "      <td>favorable</td>\n",
       "    </tr>\n",
       "    <tr>\n",
       "      <th>112</th>\n",
       "      <td>favorable</td>\n",
       "      <td>favorable</td>\n",
       "      <td>favorable</td>\n",
       "      <td>neutral</td>\n",
       "      <td>favorable</td>\n",
       "      <td>neutral</td>\n",
       "      <td>unfavorable</td>\n",
       "      <td>neutral</td>\n",
       "      <td>neutral</td>\n",
       "      <td>favorable</td>\n",
       "      <td>favorable</td>\n",
       "      <td>neutral</td>\n",
       "      <td>neutral</td>\n",
       "      <td>favorable</td>\n",
       "    </tr>\n",
       "    <tr>\n",
       "      <th>114</th>\n",
       "      <td>favorable</td>\n",
       "      <td>favorable</td>\n",
       "      <td>favorable</td>\n",
       "      <td>favorable</td>\n",
       "      <td>favorable</td>\n",
       "      <td>neutral</td>\n",
       "      <td>favorable</td>\n",
       "      <td>neutral</td>\n",
       "      <td>neutral</td>\n",
       "      <td>favorable</td>\n",
       "      <td>favorable</td>\n",
       "      <td>neutral</td>\n",
       "      <td>neutral</td>\n",
       "      <td>favorable</td>\n",
       "    </tr>\n",
       "    <tr>\n",
       "      <th>116</th>\n",
       "      <td>favorable</td>\n",
       "      <td>favorable</td>\n",
       "      <td>favorable</td>\n",
       "      <td>favorable</td>\n",
       "      <td>favorable</td>\n",
       "      <td>neutral</td>\n",
       "      <td>favorable</td>\n",
       "      <td>neutral</td>\n",
       "      <td>neutral</td>\n",
       "      <td>favorable</td>\n",
       "      <td>favorable</td>\n",
       "      <td>favorable</td>\n",
       "      <td>neutral</td>\n",
       "      <td>unfavorable</td>\n",
       "    </tr>\n",
       "    <tr>\n",
       "      <th>117</th>\n",
       "      <td>favorable</td>\n",
       "      <td>favorable</td>\n",
       "      <td>favorable</td>\n",
       "      <td>favorable</td>\n",
       "      <td>favorable</td>\n",
       "      <td>favorable</td>\n",
       "      <td>favorable</td>\n",
       "      <td>favorable</td>\n",
       "      <td>favorable</td>\n",
       "      <td>favorable</td>\n",
       "      <td>favorable</td>\n",
       "      <td>favorable</td>\n",
       "      <td>favorable</td>\n",
       "      <td>favorable</td>\n",
       "    </tr>\n",
       "    <tr>\n",
       "      <th>...</th>\n",
       "      <td>...</td>\n",
       "      <td>...</td>\n",
       "      <td>...</td>\n",
       "      <td>...</td>\n",
       "      <td>...</td>\n",
       "      <td>...</td>\n",
       "      <td>...</td>\n",
       "      <td>...</td>\n",
       "      <td>...</td>\n",
       "      <td>...</td>\n",
       "      <td>...</td>\n",
       "      <td>...</td>\n",
       "      <td>...</td>\n",
       "      <td>...</td>\n",
       "    </tr>\n",
       "    <tr>\n",
       "      <th>1181</th>\n",
       "      <td>favorable</td>\n",
       "      <td>favorable</td>\n",
       "      <td>favorable</td>\n",
       "      <td>favorable</td>\n",
       "      <td>favorable</td>\n",
       "      <td>favorable</td>\n",
       "      <td>favorable</td>\n",
       "      <td>favorable</td>\n",
       "      <td>favorable</td>\n",
       "      <td>favorable</td>\n",
       "      <td>favorable</td>\n",
       "      <td>favorable</td>\n",
       "      <td>favorable</td>\n",
       "      <td>favorable</td>\n",
       "    </tr>\n",
       "    <tr>\n",
       "      <th>1182</th>\n",
       "      <td>favorable</td>\n",
       "      <td>favorable</td>\n",
       "      <td>favorable</td>\n",
       "      <td>unfavorable</td>\n",
       "      <td>favorable</td>\n",
       "      <td>neutral</td>\n",
       "      <td>unfavorable</td>\n",
       "      <td>favorable</td>\n",
       "      <td>neutral</td>\n",
       "      <td>favorable</td>\n",
       "      <td>favorable</td>\n",
       "      <td>unfavorable</td>\n",
       "      <td>unfavorable</td>\n",
       "      <td>favorable</td>\n",
       "    </tr>\n",
       "    <tr>\n",
       "      <th>1183</th>\n",
       "      <td>review unavailable</td>\n",
       "      <td>review unavailable</td>\n",
       "      <td>review unavailable</td>\n",
       "      <td>review unavailable</td>\n",
       "      <td>review unavailable</td>\n",
       "      <td>review unavailable</td>\n",
       "      <td>review unavailable</td>\n",
       "      <td>review unavailable</td>\n",
       "      <td>review unavailable</td>\n",
       "      <td>review unavailable</td>\n",
       "      <td>review unavailable</td>\n",
       "      <td>review unavailable</td>\n",
       "      <td>review unavailable</td>\n",
       "      <td>review unavailable</td>\n",
       "    </tr>\n",
       "    <tr>\n",
       "      <th>1184</th>\n",
       "      <td>favorable</td>\n",
       "      <td>neutral</td>\n",
       "      <td>favorable</td>\n",
       "      <td>favorable</td>\n",
       "      <td>favorable</td>\n",
       "      <td>neutral</td>\n",
       "      <td>favorable</td>\n",
       "      <td>favorable</td>\n",
       "      <td>favorable</td>\n",
       "      <td>favorable</td>\n",
       "      <td>favorable</td>\n",
       "      <td>favorable</td>\n",
       "      <td>favorable</td>\n",
       "      <td>favorable</td>\n",
       "    </tr>\n",
       "    <tr>\n",
       "      <th>1185</th>\n",
       "      <td>favorable</td>\n",
       "      <td>favorable</td>\n",
       "      <td>favorable</td>\n",
       "      <td>unfavorable</td>\n",
       "      <td>favorable</td>\n",
       "      <td>unfavorable</td>\n",
       "      <td>favorable</td>\n",
       "      <td>unfavorable</td>\n",
       "      <td>neutral</td>\n",
       "      <td>favorable</td>\n",
       "      <td>favorable</td>\n",
       "      <td>unfavorable</td>\n",
       "      <td>neutral</td>\n",
       "      <td>unfavorable</td>\n",
       "    </tr>\n",
       "  </tbody>\n",
       "</table>\n",
       "<p>549 rows × 14 columns</p>\n",
       "</div>"
      ],
      "text/plain": [
       "                Han Solo      Luke Skywalker Princess Leia Organa  \\\n",
       "111            favorable           favorable            favorable   \n",
       "112            favorable           favorable            favorable   \n",
       "114            favorable           favorable            favorable   \n",
       "116            favorable           favorable            favorable   \n",
       "117            favorable           favorable            favorable   \n",
       "...                  ...                 ...                  ...   \n",
       "1181           favorable           favorable            favorable   \n",
       "1182           favorable           favorable            favorable   \n",
       "1183  review unavailable  review unavailable   review unavailable   \n",
       "1184           favorable             neutral            favorable   \n",
       "1185           favorable           favorable            favorable   \n",
       "\n",
       "        Anakin Skywalker      Obi Wan Kenobi   Emperor Palpatine  \\\n",
       "111   review unavailable           favorable             neutral   \n",
       "112              neutral           favorable             neutral   \n",
       "114            favorable           favorable             neutral   \n",
       "116            favorable           favorable             neutral   \n",
       "117            favorable           favorable           favorable   \n",
       "...                  ...                 ...                 ...   \n",
       "1181           favorable           favorable           favorable   \n",
       "1182         unfavorable           favorable             neutral   \n",
       "1183  review unavailable  review unavailable  review unavailable   \n",
       "1184           favorable           favorable             neutral   \n",
       "1185         unfavorable           favorable         unfavorable   \n",
       "\n",
       "             Darth Vader    Lando Calrissian           Boba Fett  \\\n",
       "111          unfavorable             neutral             neutral   \n",
       "112          unfavorable             neutral             neutral   \n",
       "114            favorable             neutral             neutral   \n",
       "116            favorable             neutral             neutral   \n",
       "117            favorable           favorable           favorable   \n",
       "...                  ...                 ...                 ...   \n",
       "1181           favorable           favorable           favorable   \n",
       "1182         unfavorable           favorable             neutral   \n",
       "1183  review unavailable  review unavailable  review unavailable   \n",
       "1184           favorable           favorable           favorable   \n",
       "1185           favorable         unfavorable             neutral   \n",
       "\n",
       "                   C-3P0               R2 D2       Jar Jar Binks  \\\n",
       "111            favorable           favorable         unfavorable   \n",
       "112            favorable           favorable             neutral   \n",
       "114            favorable           favorable             neutral   \n",
       "116            favorable           favorable           favorable   \n",
       "117            favorable           favorable           favorable   \n",
       "...                  ...                 ...                 ...   \n",
       "1181           favorable           favorable           favorable   \n",
       "1182           favorable           favorable         unfavorable   \n",
       "1183  review unavailable  review unavailable  review unavailable   \n",
       "1184           favorable           favorable           favorable   \n",
       "1185           favorable           favorable         unfavorable   \n",
       "\n",
       "           Padme Amidala                Yoda  \n",
       "111              neutral           favorable  \n",
       "112              neutral           favorable  \n",
       "114              neutral           favorable  \n",
       "116              neutral         unfavorable  \n",
       "117            favorable           favorable  \n",
       "...                  ...                 ...  \n",
       "1181           favorable           favorable  \n",
       "1182         unfavorable           favorable  \n",
       "1183  review unavailable  review unavailable  \n",
       "1184           favorable           favorable  \n",
       "1185             neutral         unfavorable  \n",
       "\n",
       "[549 rows x 14 columns]"
      ]
     },
     "execution_count": 58,
     "metadata": {},
     "output_type": "execute_result"
    }
   ],
   "source": [
    "characters_cols_females"
   ]
  },
  {
   "cell_type": "markdown",
   "metadata": {},
   "source": [
    "Find Percentage of categories for each character. Let's define a function to plot the genderwise populairty. Because we will use this later again."
   ]
  },
  {
   "cell_type": "code",
   "execution_count": 59,
   "metadata": {},
   "outputs": [],
   "source": [
    "from typing import List\n",
    "\n",
    "def popularity_plot(characters_cols_males: pd.DataFrame, characters_cols_females:pd.DataFrame, categories: List):\n",
    "    popularity_among_males= characters_cols_males.apply(pd.Series.value_counts)\n",
    "    sum_m = popularity_among_males[popularity_among_males.columns[0]].sum()\n",
    "    for col in popularity_among_males.columns:\n",
    "        popularity_among_males[col]= popularity_among_males[col]/sum_m*100\n",
    "    print(f\"{popularity_among_males=}\")\n",
    "    \n",
    "    popularity_among_females= characters_cols_females.apply(pd.Series.value_counts)\n",
    "    sum_f = popularity_among_females[popularity_among_females.columns[0]].sum()\n",
    "    for col in popularity_among_females.columns:\n",
    "        popularity_among_females[col]= popularity_among_females[col]/sum_f*100\n",
    "    print(f\"{popularity_among_females=}\")\n",
    "\n",
    "    fig = go.Figure()\n",
    "\n",
    "    for category in categories:\n",
    "        # print(category)\n",
    "        fig.add_trace(go.Bar(\n",
    "            y = popularity_among_males.columns,\n",
    "            x = popularity_among_males.loc[category],\n",
    "            name=category,\n",
    "            orientation='h'\n",
    "            ))\n",
    "        fig.update_layout(\n",
    "            barmode='stack',\n",
    "            title='Popularity of Star Wars Characters Among Males',\n",
    "        xaxis_title='Count Percentage',\n",
    "        yaxis_title='Character',\n",
    "        width=1000,\n",
    "        height=400\n",
    "        )\n",
    "\n",
    "    fig.show()\n",
    "\n",
    "\n",
    "    fig = go.Figure()\n",
    "    for category in categories:\n",
    "        # print(category)\n",
    "        fig.add_trace(go.Bar(\n",
    "            y = popularity_among_females.columns,\n",
    "            x = popularity_among_females.loc[category],\n",
    "            name=category,\n",
    "            orientation='h'\n",
    "            ))\n",
    "        fig.update_layout(\n",
    "            barmode='stack',\n",
    "            title='Popularity of Star Wars Characters Among Females',\n",
    "        xaxis_title='Count Percentage',\n",
    "        yaxis_title='Character',\n",
    "        width=1000,\n",
    "        height=400\n",
    "        )\n",
    "    fig.show()"
   ]
  },
  {
   "cell_type": "code",
   "execution_count": 60,
   "metadata": {},
   "outputs": [
    {
     "name": "stdout",
     "output_type": "stream",
     "text": [
      "popularity_among_males=                     Han Solo  Luke Skywalker  Princess Leia Organa  \\\n",
      "favorable           77.867203       77.464789             76.659960   \n",
      "neutral              5.432596        5.231388              6.438632   \n",
      "review unavailable  15.694165       15.492958             15.291751   \n",
      "unfavorable          1.006036        1.810865              1.609658   \n",
      "\n",
      "                    Anakin Skywalker  Obi Wan Kenobi  Emperor Palpatine  \\\n",
      "favorable                  49.295775       76.458753          31.991952   \n",
      "neutral                    19.718310        5.835010          31.991952   \n",
      "review unavailable         16.498994       16.297787          16.700201   \n",
      "unfavorable                14.486922        1.408451          19.315895   \n",
      "\n",
      "                    Darth Vader  Lando Calrissian  Boba Fett      C-3P0  \\\n",
      "favorable             55.533199         41.247485  36.016097  68.209256   \n",
      "neutral                8.651911         34.607646  33.400402  11.267606   \n",
      "review unavailable    16.297787         16.498994  16.700201  15.895372   \n",
      "unfavorable           19.517103          7.645875  13.883300   4.627767   \n",
      "\n",
      "                        R2 D2  Jar Jar Binks  Padme Amidala       Yoda  \n",
      "favorable           73.440644      21.327968      36.418511  75.050302  \n",
      "neutral              8.853119      24.547284      35.412475   6.841046  \n",
      "review unavailable  15.492958      16.297787      16.901408  16.297787  \n",
      "unfavorable          2.213280      37.826962      11.267606   1.810865  \n",
      "popularity_among_females=                     Han Solo  Luke Skywalker  Princess Leia Organa  \\\n",
      "favorable           65.573770       67.759563             65.938069   \n",
      "neutral              5.646630        3.096539              4.189435   \n",
      "review unavailable  28.233151       28.051002             28.233151   \n",
      "unfavorable          0.546448        1.092896              1.639344   \n",
      "\n",
      "                    Anakin Skywalker  Obi Wan Kenobi  Emperor Palpatine  \\\n",
      "favorable                  46.812386       65.027322          15.664845   \n",
      "neutral                    15.846995        5.282332          37.158470   \n",
      "review unavailable         28.597450       28.415301          30.054645   \n",
      "unfavorable                 8.743169        1.275046          17.122040   \n",
      "\n",
      "                    Darth Vader  Lando Calrissian  Boba Fett      C-3P0  \\\n",
      "favorable             36.065574         27.868852  19.125683  63.752277   \n",
      "neutral                8.561020         37.158470  37.704918   6.739526   \n",
      "review unavailable    28.233151         29.143898  30.236794  28.415301   \n",
      "unfavorable           27.140255          5.828780  12.932605   1.092896   \n",
      "\n",
      "                        R2 D2  Jar Jar Binks  Padme Amidala       Yoda  \n",
      "favorable           67.030965      23.497268      29.326047  66.302368  \n",
      "neutral              4.007286      26.775956      34.608379   4.189435  \n",
      "review unavailable  28.233151      29.143898      29.872495  28.233151  \n",
      "unfavorable          0.728597      20.582878       6.193078   1.275046  \n"
     ]
    },
    {
     "data": {
      "application/vnd.plotly.v1+json": {
       "config": {
        "plotlyServerURL": "https://plot.ly"
       },
       "data": [
        {
         "name": "favorable",
         "orientation": "h",
         "type": "bar",
         "x": [
          77.8672032193159,
          77.46478873239437,
          76.65995975855131,
          49.29577464788733,
          76.45875251509054,
          31.991951710261567,
          55.53319919517102,
          41.24748490945674,
          36.016096579476866,
          68.2092555331992,
          73.44064386317908,
          21.32796780684105,
          36.41851106639839,
          75.0503018108652
         ],
         "y": [
          "Han Solo",
          "Luke Skywalker",
          "Princess Leia Organa",
          "Anakin Skywalker",
          "Obi Wan Kenobi",
          "Emperor Palpatine",
          "Darth Vader",
          "Lando Calrissian",
          "Boba Fett",
          "C-3P0",
          "R2 D2",
          "Jar Jar Binks",
          "Padme Amidala",
          "Yoda"
         ]
        },
        {
         "name": "neutral",
         "orientation": "h",
         "type": "bar",
         "x": [
          5.432595573440644,
          5.23138832997988,
          6.438631790744467,
          19.718309859154928,
          5.8350100603621735,
          31.991951710261567,
          8.651911468812877,
          34.60764587525151,
          33.400402414486926,
          11.267605633802818,
          8.853118712273641,
          24.547283702213278,
          35.412474849094565,
          6.841046277665996
         ],
         "y": [
          "Han Solo",
          "Luke Skywalker",
          "Princess Leia Organa",
          "Anakin Skywalker",
          "Obi Wan Kenobi",
          "Emperor Palpatine",
          "Darth Vader",
          "Lando Calrissian",
          "Boba Fett",
          "C-3P0",
          "R2 D2",
          "Jar Jar Binks",
          "Padme Amidala",
          "Yoda"
         ]
        },
        {
         "name": "unfavorable",
         "orientation": "h",
         "type": "bar",
         "x": [
          1.0060362173038229,
          1.8108651911468814,
          1.6096579476861168,
          14.486921529175051,
          1.4084507042253522,
          19.3158953722334,
          19.517102615694164,
          7.645875251509055,
          13.883299798792756,
          4.627766599597585,
          2.2132796780684103,
          37.82696177062374,
          11.267605633802818,
          1.8108651911468814
         ],
         "y": [
          "Han Solo",
          "Luke Skywalker",
          "Princess Leia Organa",
          "Anakin Skywalker",
          "Obi Wan Kenobi",
          "Emperor Palpatine",
          "Darth Vader",
          "Lando Calrissian",
          "Boba Fett",
          "C-3P0",
          "R2 D2",
          "Jar Jar Binks",
          "Padme Amidala",
          "Yoda"
         ]
        },
        {
         "name": "review unavailable",
         "orientation": "h",
         "type": "bar",
         "x": [
          15.694164989939638,
          15.492957746478872,
          15.29175050301811,
          16.498993963782695,
          16.297786720321934,
          16.700201207243463,
          16.297786720321934,
          16.498993963782695,
          16.700201207243463,
          15.895372233400401,
          15.492957746478872,
          16.297786720321934,
          16.901408450704224,
          16.297786720321934
         ],
         "y": [
          "Han Solo",
          "Luke Skywalker",
          "Princess Leia Organa",
          "Anakin Skywalker",
          "Obi Wan Kenobi",
          "Emperor Palpatine",
          "Darth Vader",
          "Lando Calrissian",
          "Boba Fett",
          "C-3P0",
          "R2 D2",
          "Jar Jar Binks",
          "Padme Amidala",
          "Yoda"
         ]
        }
       ],
       "layout": {
        "barmode": "stack",
        "height": 400,
        "template": {
         "data": {
          "bar": [
           {
            "error_x": {
             "color": "#2a3f5f"
            },
            "error_y": {
             "color": "#2a3f5f"
            },
            "marker": {
             "line": {
              "color": "#E5ECF6",
              "width": 0.5
             },
             "pattern": {
              "fillmode": "overlay",
              "size": 10,
              "solidity": 0.2
             }
            },
            "type": "bar"
           }
          ],
          "barpolar": [
           {
            "marker": {
             "line": {
              "color": "#E5ECF6",
              "width": 0.5
             },
             "pattern": {
              "fillmode": "overlay",
              "size": 10,
              "solidity": 0.2
             }
            },
            "type": "barpolar"
           }
          ],
          "carpet": [
           {
            "aaxis": {
             "endlinecolor": "#2a3f5f",
             "gridcolor": "white",
             "linecolor": "white",
             "minorgridcolor": "white",
             "startlinecolor": "#2a3f5f"
            },
            "baxis": {
             "endlinecolor": "#2a3f5f",
             "gridcolor": "white",
             "linecolor": "white",
             "minorgridcolor": "white",
             "startlinecolor": "#2a3f5f"
            },
            "type": "carpet"
           }
          ],
          "choropleth": [
           {
            "colorbar": {
             "outlinewidth": 0,
             "ticks": ""
            },
            "type": "choropleth"
           }
          ],
          "contour": [
           {
            "colorbar": {
             "outlinewidth": 0,
             "ticks": ""
            },
            "colorscale": [
             [
              0,
              "#0d0887"
             ],
             [
              0.1111111111111111,
              "#46039f"
             ],
             [
              0.2222222222222222,
              "#7201a8"
             ],
             [
              0.3333333333333333,
              "#9c179e"
             ],
             [
              0.4444444444444444,
              "#bd3786"
             ],
             [
              0.5555555555555556,
              "#d8576b"
             ],
             [
              0.6666666666666666,
              "#ed7953"
             ],
             [
              0.7777777777777778,
              "#fb9f3a"
             ],
             [
              0.8888888888888888,
              "#fdca26"
             ],
             [
              1,
              "#f0f921"
             ]
            ],
            "type": "contour"
           }
          ],
          "contourcarpet": [
           {
            "colorbar": {
             "outlinewidth": 0,
             "ticks": ""
            },
            "type": "contourcarpet"
           }
          ],
          "heatmap": [
           {
            "colorbar": {
             "outlinewidth": 0,
             "ticks": ""
            },
            "colorscale": [
             [
              0,
              "#0d0887"
             ],
             [
              0.1111111111111111,
              "#46039f"
             ],
             [
              0.2222222222222222,
              "#7201a8"
             ],
             [
              0.3333333333333333,
              "#9c179e"
             ],
             [
              0.4444444444444444,
              "#bd3786"
             ],
             [
              0.5555555555555556,
              "#d8576b"
             ],
             [
              0.6666666666666666,
              "#ed7953"
             ],
             [
              0.7777777777777778,
              "#fb9f3a"
             ],
             [
              0.8888888888888888,
              "#fdca26"
             ],
             [
              1,
              "#f0f921"
             ]
            ],
            "type": "heatmap"
           }
          ],
          "heatmapgl": [
           {
            "colorbar": {
             "outlinewidth": 0,
             "ticks": ""
            },
            "colorscale": [
             [
              0,
              "#0d0887"
             ],
             [
              0.1111111111111111,
              "#46039f"
             ],
             [
              0.2222222222222222,
              "#7201a8"
             ],
             [
              0.3333333333333333,
              "#9c179e"
             ],
             [
              0.4444444444444444,
              "#bd3786"
             ],
             [
              0.5555555555555556,
              "#d8576b"
             ],
             [
              0.6666666666666666,
              "#ed7953"
             ],
             [
              0.7777777777777778,
              "#fb9f3a"
             ],
             [
              0.8888888888888888,
              "#fdca26"
             ],
             [
              1,
              "#f0f921"
             ]
            ],
            "type": "heatmapgl"
           }
          ],
          "histogram": [
           {
            "marker": {
             "pattern": {
              "fillmode": "overlay",
              "size": 10,
              "solidity": 0.2
             }
            },
            "type": "histogram"
           }
          ],
          "histogram2d": [
           {
            "colorbar": {
             "outlinewidth": 0,
             "ticks": ""
            },
            "colorscale": [
             [
              0,
              "#0d0887"
             ],
             [
              0.1111111111111111,
              "#46039f"
             ],
             [
              0.2222222222222222,
              "#7201a8"
             ],
             [
              0.3333333333333333,
              "#9c179e"
             ],
             [
              0.4444444444444444,
              "#bd3786"
             ],
             [
              0.5555555555555556,
              "#d8576b"
             ],
             [
              0.6666666666666666,
              "#ed7953"
             ],
             [
              0.7777777777777778,
              "#fb9f3a"
             ],
             [
              0.8888888888888888,
              "#fdca26"
             ],
             [
              1,
              "#f0f921"
             ]
            ],
            "type": "histogram2d"
           }
          ],
          "histogram2dcontour": [
           {
            "colorbar": {
             "outlinewidth": 0,
             "ticks": ""
            },
            "colorscale": [
             [
              0,
              "#0d0887"
             ],
             [
              0.1111111111111111,
              "#46039f"
             ],
             [
              0.2222222222222222,
              "#7201a8"
             ],
             [
              0.3333333333333333,
              "#9c179e"
             ],
             [
              0.4444444444444444,
              "#bd3786"
             ],
             [
              0.5555555555555556,
              "#d8576b"
             ],
             [
              0.6666666666666666,
              "#ed7953"
             ],
             [
              0.7777777777777778,
              "#fb9f3a"
             ],
             [
              0.8888888888888888,
              "#fdca26"
             ],
             [
              1,
              "#f0f921"
             ]
            ],
            "type": "histogram2dcontour"
           }
          ],
          "mesh3d": [
           {
            "colorbar": {
             "outlinewidth": 0,
             "ticks": ""
            },
            "type": "mesh3d"
           }
          ],
          "parcoords": [
           {
            "line": {
             "colorbar": {
              "outlinewidth": 0,
              "ticks": ""
             }
            },
            "type": "parcoords"
           }
          ],
          "pie": [
           {
            "automargin": true,
            "type": "pie"
           }
          ],
          "scatter": [
           {
            "fillpattern": {
             "fillmode": "overlay",
             "size": 10,
             "solidity": 0.2
            },
            "type": "scatter"
           }
          ],
          "scatter3d": [
           {
            "line": {
             "colorbar": {
              "outlinewidth": 0,
              "ticks": ""
             }
            },
            "marker": {
             "colorbar": {
              "outlinewidth": 0,
              "ticks": ""
             }
            },
            "type": "scatter3d"
           }
          ],
          "scattercarpet": [
           {
            "marker": {
             "colorbar": {
              "outlinewidth": 0,
              "ticks": ""
             }
            },
            "type": "scattercarpet"
           }
          ],
          "scattergeo": [
           {
            "marker": {
             "colorbar": {
              "outlinewidth": 0,
              "ticks": ""
             }
            },
            "type": "scattergeo"
           }
          ],
          "scattergl": [
           {
            "marker": {
             "colorbar": {
              "outlinewidth": 0,
              "ticks": ""
             }
            },
            "type": "scattergl"
           }
          ],
          "scattermapbox": [
           {
            "marker": {
             "colorbar": {
              "outlinewidth": 0,
              "ticks": ""
             }
            },
            "type": "scattermapbox"
           }
          ],
          "scatterpolar": [
           {
            "marker": {
             "colorbar": {
              "outlinewidth": 0,
              "ticks": ""
             }
            },
            "type": "scatterpolar"
           }
          ],
          "scatterpolargl": [
           {
            "marker": {
             "colorbar": {
              "outlinewidth": 0,
              "ticks": ""
             }
            },
            "type": "scatterpolargl"
           }
          ],
          "scatterternary": [
           {
            "marker": {
             "colorbar": {
              "outlinewidth": 0,
              "ticks": ""
             }
            },
            "type": "scatterternary"
           }
          ],
          "surface": [
           {
            "colorbar": {
             "outlinewidth": 0,
             "ticks": ""
            },
            "colorscale": [
             [
              0,
              "#0d0887"
             ],
             [
              0.1111111111111111,
              "#46039f"
             ],
             [
              0.2222222222222222,
              "#7201a8"
             ],
             [
              0.3333333333333333,
              "#9c179e"
             ],
             [
              0.4444444444444444,
              "#bd3786"
             ],
             [
              0.5555555555555556,
              "#d8576b"
             ],
             [
              0.6666666666666666,
              "#ed7953"
             ],
             [
              0.7777777777777778,
              "#fb9f3a"
             ],
             [
              0.8888888888888888,
              "#fdca26"
             ],
             [
              1,
              "#f0f921"
             ]
            ],
            "type": "surface"
           }
          ],
          "table": [
           {
            "cells": {
             "fill": {
              "color": "#EBF0F8"
             },
             "line": {
              "color": "white"
             }
            },
            "header": {
             "fill": {
              "color": "#C8D4E3"
             },
             "line": {
              "color": "white"
             }
            },
            "type": "table"
           }
          ]
         },
         "layout": {
          "annotationdefaults": {
           "arrowcolor": "#2a3f5f",
           "arrowhead": 0,
           "arrowwidth": 1
          },
          "autotypenumbers": "strict",
          "coloraxis": {
           "colorbar": {
            "outlinewidth": 0,
            "ticks": ""
           }
          },
          "colorscale": {
           "diverging": [
            [
             0,
             "#8e0152"
            ],
            [
             0.1,
             "#c51b7d"
            ],
            [
             0.2,
             "#de77ae"
            ],
            [
             0.3,
             "#f1b6da"
            ],
            [
             0.4,
             "#fde0ef"
            ],
            [
             0.5,
             "#f7f7f7"
            ],
            [
             0.6,
             "#e6f5d0"
            ],
            [
             0.7,
             "#b8e186"
            ],
            [
             0.8,
             "#7fbc41"
            ],
            [
             0.9,
             "#4d9221"
            ],
            [
             1,
             "#276419"
            ]
           ],
           "sequential": [
            [
             0,
             "#0d0887"
            ],
            [
             0.1111111111111111,
             "#46039f"
            ],
            [
             0.2222222222222222,
             "#7201a8"
            ],
            [
             0.3333333333333333,
             "#9c179e"
            ],
            [
             0.4444444444444444,
             "#bd3786"
            ],
            [
             0.5555555555555556,
             "#d8576b"
            ],
            [
             0.6666666666666666,
             "#ed7953"
            ],
            [
             0.7777777777777778,
             "#fb9f3a"
            ],
            [
             0.8888888888888888,
             "#fdca26"
            ],
            [
             1,
             "#f0f921"
            ]
           ],
           "sequentialminus": [
            [
             0,
             "#0d0887"
            ],
            [
             0.1111111111111111,
             "#46039f"
            ],
            [
             0.2222222222222222,
             "#7201a8"
            ],
            [
             0.3333333333333333,
             "#9c179e"
            ],
            [
             0.4444444444444444,
             "#bd3786"
            ],
            [
             0.5555555555555556,
             "#d8576b"
            ],
            [
             0.6666666666666666,
             "#ed7953"
            ],
            [
             0.7777777777777778,
             "#fb9f3a"
            ],
            [
             0.8888888888888888,
             "#fdca26"
            ],
            [
             1,
             "#f0f921"
            ]
           ]
          },
          "colorway": [
           "#636efa",
           "#EF553B",
           "#00cc96",
           "#ab63fa",
           "#FFA15A",
           "#19d3f3",
           "#FF6692",
           "#B6E880",
           "#FF97FF",
           "#FECB52"
          ],
          "font": {
           "color": "#2a3f5f"
          },
          "geo": {
           "bgcolor": "white",
           "lakecolor": "white",
           "landcolor": "#E5ECF6",
           "showlakes": true,
           "showland": true,
           "subunitcolor": "white"
          },
          "hoverlabel": {
           "align": "left"
          },
          "hovermode": "closest",
          "mapbox": {
           "style": "light"
          },
          "paper_bgcolor": "white",
          "plot_bgcolor": "#E5ECF6",
          "polar": {
           "angularaxis": {
            "gridcolor": "white",
            "linecolor": "white",
            "ticks": ""
           },
           "bgcolor": "#E5ECF6",
           "radialaxis": {
            "gridcolor": "white",
            "linecolor": "white",
            "ticks": ""
           }
          },
          "scene": {
           "xaxis": {
            "backgroundcolor": "#E5ECF6",
            "gridcolor": "white",
            "gridwidth": 2,
            "linecolor": "white",
            "showbackground": true,
            "ticks": "",
            "zerolinecolor": "white"
           },
           "yaxis": {
            "backgroundcolor": "#E5ECF6",
            "gridcolor": "white",
            "gridwidth": 2,
            "linecolor": "white",
            "showbackground": true,
            "ticks": "",
            "zerolinecolor": "white"
           },
           "zaxis": {
            "backgroundcolor": "#E5ECF6",
            "gridcolor": "white",
            "gridwidth": 2,
            "linecolor": "white",
            "showbackground": true,
            "ticks": "",
            "zerolinecolor": "white"
           }
          },
          "shapedefaults": {
           "line": {
            "color": "#2a3f5f"
           }
          },
          "ternary": {
           "aaxis": {
            "gridcolor": "white",
            "linecolor": "white",
            "ticks": ""
           },
           "baxis": {
            "gridcolor": "white",
            "linecolor": "white",
            "ticks": ""
           },
           "bgcolor": "#E5ECF6",
           "caxis": {
            "gridcolor": "white",
            "linecolor": "white",
            "ticks": ""
           }
          },
          "title": {
           "x": 0.05
          },
          "xaxis": {
           "automargin": true,
           "gridcolor": "white",
           "linecolor": "white",
           "ticks": "",
           "title": {
            "standoff": 15
           },
           "zerolinecolor": "white",
           "zerolinewidth": 2
          },
          "yaxis": {
           "automargin": true,
           "gridcolor": "white",
           "linecolor": "white",
           "ticks": "",
           "title": {
            "standoff": 15
           },
           "zerolinecolor": "white",
           "zerolinewidth": 2
          }
         }
        },
        "title": {
         "text": "Popularity of Star Wars Characters Among Males"
        },
        "width": 1000,
        "xaxis": {
         "title": {
          "text": "Count Percentage"
         }
        },
        "yaxis": {
         "title": {
          "text": "Character"
         }
        }
       }
      }
     },
     "metadata": {},
     "output_type": "display_data"
    },
    {
     "data": {
      "application/vnd.plotly.v1+json": {
       "config": {
        "plotlyServerURL": "https://plot.ly"
       },
       "data": [
        {
         "name": "favorable",
         "orientation": "h",
         "type": "bar",
         "x": [
          65.57377049180327,
          67.75956284153006,
          65.93806921675774,
          46.81238615664845,
          65.02732240437157,
          15.664845173041893,
          36.0655737704918,
          27.86885245901639,
          19.12568306010929,
          63.752276867030965,
          67.03096539162114,
          23.497267759562842,
          29.326047358834245,
          66.3023679417122
         ],
         "y": [
          "Han Solo",
          "Luke Skywalker",
          "Princess Leia Organa",
          "Anakin Skywalker",
          "Obi Wan Kenobi",
          "Emperor Palpatine",
          "Darth Vader",
          "Lando Calrissian",
          "Boba Fett",
          "C-3P0",
          "R2 D2",
          "Jar Jar Binks",
          "Padme Amidala",
          "Yoda"
         ]
        },
        {
         "name": "neutral",
         "orientation": "h",
         "type": "bar",
         "x": [
          5.646630236794172,
          3.096539162112933,
          4.189435336976321,
          15.846994535519126,
          5.2823315118397085,
          37.15846994535519,
          8.561020036429873,
          37.15846994535519,
          37.704918032786885,
          6.739526411657559,
          4.007285974499089,
          26.775956284153008,
          34.60837887067395,
          4.189435336976321
         ],
         "y": [
          "Han Solo",
          "Luke Skywalker",
          "Princess Leia Organa",
          "Anakin Skywalker",
          "Obi Wan Kenobi",
          "Emperor Palpatine",
          "Darth Vader",
          "Lando Calrissian",
          "Boba Fett",
          "C-3P0",
          "R2 D2",
          "Jar Jar Binks",
          "Padme Amidala",
          "Yoda"
         ]
        },
        {
         "name": "unfavorable",
         "orientation": "h",
         "type": "bar",
         "x": [
          0.546448087431694,
          1.092896174863388,
          1.639344262295082,
          8.743169398907105,
          1.2750455373406193,
          17.122040072859747,
          27.140255009107467,
          5.828779599271402,
          12.932604735883423,
          1.092896174863388,
          0.7285974499089253,
          20.58287795992714,
          6.193078324225866,
          1.2750455373406193
         ],
         "y": [
          "Han Solo",
          "Luke Skywalker",
          "Princess Leia Organa",
          "Anakin Skywalker",
          "Obi Wan Kenobi",
          "Emperor Palpatine",
          "Darth Vader",
          "Lando Calrissian",
          "Boba Fett",
          "C-3P0",
          "R2 D2",
          "Jar Jar Binks",
          "Padme Amidala",
          "Yoda"
         ]
        },
        {
         "name": "review unavailable",
         "orientation": "h",
         "type": "bar",
         "x": [
          28.233151183970858,
          28.051001821493628,
          28.233151183970858,
          28.59744990892532,
          28.415300546448087,
          30.05464480874317,
          28.233151183970858,
          29.143897996357016,
          30.2367941712204,
          28.415300546448087,
          28.233151183970858,
          29.143897996357016,
          29.87249544626594,
          28.233151183970858
         ],
         "y": [
          "Han Solo",
          "Luke Skywalker",
          "Princess Leia Organa",
          "Anakin Skywalker",
          "Obi Wan Kenobi",
          "Emperor Palpatine",
          "Darth Vader",
          "Lando Calrissian",
          "Boba Fett",
          "C-3P0",
          "R2 D2",
          "Jar Jar Binks",
          "Padme Amidala",
          "Yoda"
         ]
        }
       ],
       "layout": {
        "barmode": "stack",
        "height": 400,
        "template": {
         "data": {
          "bar": [
           {
            "error_x": {
             "color": "#2a3f5f"
            },
            "error_y": {
             "color": "#2a3f5f"
            },
            "marker": {
             "line": {
              "color": "#E5ECF6",
              "width": 0.5
             },
             "pattern": {
              "fillmode": "overlay",
              "size": 10,
              "solidity": 0.2
             }
            },
            "type": "bar"
           }
          ],
          "barpolar": [
           {
            "marker": {
             "line": {
              "color": "#E5ECF6",
              "width": 0.5
             },
             "pattern": {
              "fillmode": "overlay",
              "size": 10,
              "solidity": 0.2
             }
            },
            "type": "barpolar"
           }
          ],
          "carpet": [
           {
            "aaxis": {
             "endlinecolor": "#2a3f5f",
             "gridcolor": "white",
             "linecolor": "white",
             "minorgridcolor": "white",
             "startlinecolor": "#2a3f5f"
            },
            "baxis": {
             "endlinecolor": "#2a3f5f",
             "gridcolor": "white",
             "linecolor": "white",
             "minorgridcolor": "white",
             "startlinecolor": "#2a3f5f"
            },
            "type": "carpet"
           }
          ],
          "choropleth": [
           {
            "colorbar": {
             "outlinewidth": 0,
             "ticks": ""
            },
            "type": "choropleth"
           }
          ],
          "contour": [
           {
            "colorbar": {
             "outlinewidth": 0,
             "ticks": ""
            },
            "colorscale": [
             [
              0,
              "#0d0887"
             ],
             [
              0.1111111111111111,
              "#46039f"
             ],
             [
              0.2222222222222222,
              "#7201a8"
             ],
             [
              0.3333333333333333,
              "#9c179e"
             ],
             [
              0.4444444444444444,
              "#bd3786"
             ],
             [
              0.5555555555555556,
              "#d8576b"
             ],
             [
              0.6666666666666666,
              "#ed7953"
             ],
             [
              0.7777777777777778,
              "#fb9f3a"
             ],
             [
              0.8888888888888888,
              "#fdca26"
             ],
             [
              1,
              "#f0f921"
             ]
            ],
            "type": "contour"
           }
          ],
          "contourcarpet": [
           {
            "colorbar": {
             "outlinewidth": 0,
             "ticks": ""
            },
            "type": "contourcarpet"
           }
          ],
          "heatmap": [
           {
            "colorbar": {
             "outlinewidth": 0,
             "ticks": ""
            },
            "colorscale": [
             [
              0,
              "#0d0887"
             ],
             [
              0.1111111111111111,
              "#46039f"
             ],
             [
              0.2222222222222222,
              "#7201a8"
             ],
             [
              0.3333333333333333,
              "#9c179e"
             ],
             [
              0.4444444444444444,
              "#bd3786"
             ],
             [
              0.5555555555555556,
              "#d8576b"
             ],
             [
              0.6666666666666666,
              "#ed7953"
             ],
             [
              0.7777777777777778,
              "#fb9f3a"
             ],
             [
              0.8888888888888888,
              "#fdca26"
             ],
             [
              1,
              "#f0f921"
             ]
            ],
            "type": "heatmap"
           }
          ],
          "heatmapgl": [
           {
            "colorbar": {
             "outlinewidth": 0,
             "ticks": ""
            },
            "colorscale": [
             [
              0,
              "#0d0887"
             ],
             [
              0.1111111111111111,
              "#46039f"
             ],
             [
              0.2222222222222222,
              "#7201a8"
             ],
             [
              0.3333333333333333,
              "#9c179e"
             ],
             [
              0.4444444444444444,
              "#bd3786"
             ],
             [
              0.5555555555555556,
              "#d8576b"
             ],
             [
              0.6666666666666666,
              "#ed7953"
             ],
             [
              0.7777777777777778,
              "#fb9f3a"
             ],
             [
              0.8888888888888888,
              "#fdca26"
             ],
             [
              1,
              "#f0f921"
             ]
            ],
            "type": "heatmapgl"
           }
          ],
          "histogram": [
           {
            "marker": {
             "pattern": {
              "fillmode": "overlay",
              "size": 10,
              "solidity": 0.2
             }
            },
            "type": "histogram"
           }
          ],
          "histogram2d": [
           {
            "colorbar": {
             "outlinewidth": 0,
             "ticks": ""
            },
            "colorscale": [
             [
              0,
              "#0d0887"
             ],
             [
              0.1111111111111111,
              "#46039f"
             ],
             [
              0.2222222222222222,
              "#7201a8"
             ],
             [
              0.3333333333333333,
              "#9c179e"
             ],
             [
              0.4444444444444444,
              "#bd3786"
             ],
             [
              0.5555555555555556,
              "#d8576b"
             ],
             [
              0.6666666666666666,
              "#ed7953"
             ],
             [
              0.7777777777777778,
              "#fb9f3a"
             ],
             [
              0.8888888888888888,
              "#fdca26"
             ],
             [
              1,
              "#f0f921"
             ]
            ],
            "type": "histogram2d"
           }
          ],
          "histogram2dcontour": [
           {
            "colorbar": {
             "outlinewidth": 0,
             "ticks": ""
            },
            "colorscale": [
             [
              0,
              "#0d0887"
             ],
             [
              0.1111111111111111,
              "#46039f"
             ],
             [
              0.2222222222222222,
              "#7201a8"
             ],
             [
              0.3333333333333333,
              "#9c179e"
             ],
             [
              0.4444444444444444,
              "#bd3786"
             ],
             [
              0.5555555555555556,
              "#d8576b"
             ],
             [
              0.6666666666666666,
              "#ed7953"
             ],
             [
              0.7777777777777778,
              "#fb9f3a"
             ],
             [
              0.8888888888888888,
              "#fdca26"
             ],
             [
              1,
              "#f0f921"
             ]
            ],
            "type": "histogram2dcontour"
           }
          ],
          "mesh3d": [
           {
            "colorbar": {
             "outlinewidth": 0,
             "ticks": ""
            },
            "type": "mesh3d"
           }
          ],
          "parcoords": [
           {
            "line": {
             "colorbar": {
              "outlinewidth": 0,
              "ticks": ""
             }
            },
            "type": "parcoords"
           }
          ],
          "pie": [
           {
            "automargin": true,
            "type": "pie"
           }
          ],
          "scatter": [
           {
            "fillpattern": {
             "fillmode": "overlay",
             "size": 10,
             "solidity": 0.2
            },
            "type": "scatter"
           }
          ],
          "scatter3d": [
           {
            "line": {
             "colorbar": {
              "outlinewidth": 0,
              "ticks": ""
             }
            },
            "marker": {
             "colorbar": {
              "outlinewidth": 0,
              "ticks": ""
             }
            },
            "type": "scatter3d"
           }
          ],
          "scattercarpet": [
           {
            "marker": {
             "colorbar": {
              "outlinewidth": 0,
              "ticks": ""
             }
            },
            "type": "scattercarpet"
           }
          ],
          "scattergeo": [
           {
            "marker": {
             "colorbar": {
              "outlinewidth": 0,
              "ticks": ""
             }
            },
            "type": "scattergeo"
           }
          ],
          "scattergl": [
           {
            "marker": {
             "colorbar": {
              "outlinewidth": 0,
              "ticks": ""
             }
            },
            "type": "scattergl"
           }
          ],
          "scattermapbox": [
           {
            "marker": {
             "colorbar": {
              "outlinewidth": 0,
              "ticks": ""
             }
            },
            "type": "scattermapbox"
           }
          ],
          "scatterpolar": [
           {
            "marker": {
             "colorbar": {
              "outlinewidth": 0,
              "ticks": ""
             }
            },
            "type": "scatterpolar"
           }
          ],
          "scatterpolargl": [
           {
            "marker": {
             "colorbar": {
              "outlinewidth": 0,
              "ticks": ""
             }
            },
            "type": "scatterpolargl"
           }
          ],
          "scatterternary": [
           {
            "marker": {
             "colorbar": {
              "outlinewidth": 0,
              "ticks": ""
             }
            },
            "type": "scatterternary"
           }
          ],
          "surface": [
           {
            "colorbar": {
             "outlinewidth": 0,
             "ticks": ""
            },
            "colorscale": [
             [
              0,
              "#0d0887"
             ],
             [
              0.1111111111111111,
              "#46039f"
             ],
             [
              0.2222222222222222,
              "#7201a8"
             ],
             [
              0.3333333333333333,
              "#9c179e"
             ],
             [
              0.4444444444444444,
              "#bd3786"
             ],
             [
              0.5555555555555556,
              "#d8576b"
             ],
             [
              0.6666666666666666,
              "#ed7953"
             ],
             [
              0.7777777777777778,
              "#fb9f3a"
             ],
             [
              0.8888888888888888,
              "#fdca26"
             ],
             [
              1,
              "#f0f921"
             ]
            ],
            "type": "surface"
           }
          ],
          "table": [
           {
            "cells": {
             "fill": {
              "color": "#EBF0F8"
             },
             "line": {
              "color": "white"
             }
            },
            "header": {
             "fill": {
              "color": "#C8D4E3"
             },
             "line": {
              "color": "white"
             }
            },
            "type": "table"
           }
          ]
         },
         "layout": {
          "annotationdefaults": {
           "arrowcolor": "#2a3f5f",
           "arrowhead": 0,
           "arrowwidth": 1
          },
          "autotypenumbers": "strict",
          "coloraxis": {
           "colorbar": {
            "outlinewidth": 0,
            "ticks": ""
           }
          },
          "colorscale": {
           "diverging": [
            [
             0,
             "#8e0152"
            ],
            [
             0.1,
             "#c51b7d"
            ],
            [
             0.2,
             "#de77ae"
            ],
            [
             0.3,
             "#f1b6da"
            ],
            [
             0.4,
             "#fde0ef"
            ],
            [
             0.5,
             "#f7f7f7"
            ],
            [
             0.6,
             "#e6f5d0"
            ],
            [
             0.7,
             "#b8e186"
            ],
            [
             0.8,
             "#7fbc41"
            ],
            [
             0.9,
             "#4d9221"
            ],
            [
             1,
             "#276419"
            ]
           ],
           "sequential": [
            [
             0,
             "#0d0887"
            ],
            [
             0.1111111111111111,
             "#46039f"
            ],
            [
             0.2222222222222222,
             "#7201a8"
            ],
            [
             0.3333333333333333,
             "#9c179e"
            ],
            [
             0.4444444444444444,
             "#bd3786"
            ],
            [
             0.5555555555555556,
             "#d8576b"
            ],
            [
             0.6666666666666666,
             "#ed7953"
            ],
            [
             0.7777777777777778,
             "#fb9f3a"
            ],
            [
             0.8888888888888888,
             "#fdca26"
            ],
            [
             1,
             "#f0f921"
            ]
           ],
           "sequentialminus": [
            [
             0,
             "#0d0887"
            ],
            [
             0.1111111111111111,
             "#46039f"
            ],
            [
             0.2222222222222222,
             "#7201a8"
            ],
            [
             0.3333333333333333,
             "#9c179e"
            ],
            [
             0.4444444444444444,
             "#bd3786"
            ],
            [
             0.5555555555555556,
             "#d8576b"
            ],
            [
             0.6666666666666666,
             "#ed7953"
            ],
            [
             0.7777777777777778,
             "#fb9f3a"
            ],
            [
             0.8888888888888888,
             "#fdca26"
            ],
            [
             1,
             "#f0f921"
            ]
           ]
          },
          "colorway": [
           "#636efa",
           "#EF553B",
           "#00cc96",
           "#ab63fa",
           "#FFA15A",
           "#19d3f3",
           "#FF6692",
           "#B6E880",
           "#FF97FF",
           "#FECB52"
          ],
          "font": {
           "color": "#2a3f5f"
          },
          "geo": {
           "bgcolor": "white",
           "lakecolor": "white",
           "landcolor": "#E5ECF6",
           "showlakes": true,
           "showland": true,
           "subunitcolor": "white"
          },
          "hoverlabel": {
           "align": "left"
          },
          "hovermode": "closest",
          "mapbox": {
           "style": "light"
          },
          "paper_bgcolor": "white",
          "plot_bgcolor": "#E5ECF6",
          "polar": {
           "angularaxis": {
            "gridcolor": "white",
            "linecolor": "white",
            "ticks": ""
           },
           "bgcolor": "#E5ECF6",
           "radialaxis": {
            "gridcolor": "white",
            "linecolor": "white",
            "ticks": ""
           }
          },
          "scene": {
           "xaxis": {
            "backgroundcolor": "#E5ECF6",
            "gridcolor": "white",
            "gridwidth": 2,
            "linecolor": "white",
            "showbackground": true,
            "ticks": "",
            "zerolinecolor": "white"
           },
           "yaxis": {
            "backgroundcolor": "#E5ECF6",
            "gridcolor": "white",
            "gridwidth": 2,
            "linecolor": "white",
            "showbackground": true,
            "ticks": "",
            "zerolinecolor": "white"
           },
           "zaxis": {
            "backgroundcolor": "#E5ECF6",
            "gridcolor": "white",
            "gridwidth": 2,
            "linecolor": "white",
            "showbackground": true,
            "ticks": "",
            "zerolinecolor": "white"
           }
          },
          "shapedefaults": {
           "line": {
            "color": "#2a3f5f"
           }
          },
          "ternary": {
           "aaxis": {
            "gridcolor": "white",
            "linecolor": "white",
            "ticks": ""
           },
           "baxis": {
            "gridcolor": "white",
            "linecolor": "white",
            "ticks": ""
           },
           "bgcolor": "#E5ECF6",
           "caxis": {
            "gridcolor": "white",
            "linecolor": "white",
            "ticks": ""
           }
          },
          "title": {
           "x": 0.05
          },
          "xaxis": {
           "automargin": true,
           "gridcolor": "white",
           "linecolor": "white",
           "ticks": "",
           "title": {
            "standoff": 15
           },
           "zerolinecolor": "white",
           "zerolinewidth": 2
          },
          "yaxis": {
           "automargin": true,
           "gridcolor": "white",
           "linecolor": "white",
           "ticks": "",
           "title": {
            "standoff": 15
           },
           "zerolinecolor": "white",
           "zerolinewidth": 2
          }
         }
        },
        "title": {
         "text": "Popularity of Star Wars Characters Among Females"
        },
        "width": 1000,
        "xaxis": {
         "title": {
          "text": "Count Percentage"
         }
        },
        "yaxis": {
         "title": {
          "text": "Character"
         }
        }
       }
      }
     },
     "metadata": {},
     "output_type": "display_data"
    }
   ],
   "source": [
    "popularity_plot(characters_cols_males, characters_cols_females, categories = ['favorable', 'neutral', 'unfavorable', 'review unavailable'])"
   ]
  },
  {
   "cell_type": "markdown",
   "metadata": {},
   "source": [
    "- From the two Figures, looking at 'review unavailable', it can be possible that the respondents are unfamiliar with these characters or have not responded for any of the character. However, the later seems correct.\n",
    "\n",
    "- Therefore, let's remove unavalaible reviews and replot the data.\n"
   ]
  },
  {
   "cell_type": "code",
   "execution_count": 61,
   "metadata": {},
   "outputs": [
    {
     "data": {
      "text/plain": [
       "Index([   0,    1,    2,    3,    4,    5,    6,    7,    8,    9,\n",
       "       ...\n",
       "       1138, 1144, 1145, 1146, 1148, 1153, 1157, 1164, 1169, 1177],\n",
       "      dtype='int64', length=497)"
      ]
     },
     "execution_count": 61,
     "metadata": {},
     "output_type": "execute_result"
    }
   ],
   "source": [
    "characters_cols_males.index"
   ]
  },
  {
   "cell_type": "code",
   "execution_count": 62,
   "metadata": {},
   "outputs": [
    {
     "data": {
      "text/html": [
       "<div>\n",
       "<style scoped>\n",
       "    .dataframe tbody tr th:only-of-type {\n",
       "        vertical-align: middle;\n",
       "    }\n",
       "\n",
       "    .dataframe tbody tr th {\n",
       "        vertical-align: top;\n",
       "    }\n",
       "\n",
       "    .dataframe thead th {\n",
       "        text-align: right;\n",
       "    }\n",
       "</style>\n",
       "<table border=\"1\" class=\"dataframe\">\n",
       "  <thead>\n",
       "    <tr style=\"text-align: right;\">\n",
       "      <th></th>\n",
       "      <th>Han Solo</th>\n",
       "      <th>Luke Skywalker</th>\n",
       "      <th>Princess Leia Organa</th>\n",
       "      <th>Anakin Skywalker</th>\n",
       "      <th>Obi Wan Kenobi</th>\n",
       "      <th>Emperor Palpatine</th>\n",
       "      <th>Darth Vader</th>\n",
       "      <th>Lando Calrissian</th>\n",
       "      <th>Boba Fett</th>\n",
       "      <th>C-3P0</th>\n",
       "      <th>R2 D2</th>\n",
       "      <th>Jar Jar Binks</th>\n",
       "      <th>Padme Amidala</th>\n",
       "      <th>Yoda</th>\n",
       "    </tr>\n",
       "  </thead>\n",
       "  <tbody>\n",
       "    <tr>\n",
       "      <th>0</th>\n",
       "      <td>favorable</td>\n",
       "      <td>favorable</td>\n",
       "      <td>favorable</td>\n",
       "      <td>favorable</td>\n",
       "      <td>favorable</td>\n",
       "      <td>favorable</td>\n",
       "      <td>favorable</td>\n",
       "      <td>neutral</td>\n",
       "      <td>neutral</td>\n",
       "      <td>favorable</td>\n",
       "      <td>favorable</td>\n",
       "      <td>favorable</td>\n",
       "      <td>favorable</td>\n",
       "      <td>favorable</td>\n",
       "    </tr>\n",
       "    <tr>\n",
       "      <th>1</th>\n",
       "      <td>review unavailable</td>\n",
       "      <td>review unavailable</td>\n",
       "      <td>review unavailable</td>\n",
       "      <td>review unavailable</td>\n",
       "      <td>review unavailable</td>\n",
       "      <td>review unavailable</td>\n",
       "      <td>review unavailable</td>\n",
       "      <td>review unavailable</td>\n",
       "      <td>review unavailable</td>\n",
       "      <td>review unavailable</td>\n",
       "      <td>review unavailable</td>\n",
       "      <td>review unavailable</td>\n",
       "      <td>review unavailable</td>\n",
       "      <td>review unavailable</td>\n",
       "    </tr>\n",
       "    <tr>\n",
       "      <th>2</th>\n",
       "      <td>favorable</td>\n",
       "      <td>favorable</td>\n",
       "      <td>favorable</td>\n",
       "      <td>favorable</td>\n",
       "      <td>favorable</td>\n",
       "      <td>neutral</td>\n",
       "      <td>neutral</td>\n",
       "      <td>neutral</td>\n",
       "      <td>neutral</td>\n",
       "      <td>neutral</td>\n",
       "      <td>neutral</td>\n",
       "      <td>neutral</td>\n",
       "      <td>neutral</td>\n",
       "      <td>neutral</td>\n",
       "    </tr>\n",
       "    <tr>\n",
       "      <th>3</th>\n",
       "      <td>favorable</td>\n",
       "      <td>favorable</td>\n",
       "      <td>favorable</td>\n",
       "      <td>favorable</td>\n",
       "      <td>favorable</td>\n",
       "      <td>favorable</td>\n",
       "      <td>favorable</td>\n",
       "      <td>favorable</td>\n",
       "      <td>unfavorable</td>\n",
       "      <td>favorable</td>\n",
       "      <td>favorable</td>\n",
       "      <td>favorable</td>\n",
       "      <td>favorable</td>\n",
       "      <td>favorable</td>\n",
       "    </tr>\n",
       "    <tr>\n",
       "      <th>4</th>\n",
       "      <td>favorable</td>\n",
       "      <td>favorable</td>\n",
       "      <td>favorable</td>\n",
       "      <td>unfavorable</td>\n",
       "      <td>favorable</td>\n",
       "      <td>unfavorable</td>\n",
       "      <td>favorable</td>\n",
       "      <td>neutral</td>\n",
       "      <td>favorable</td>\n",
       "      <td>favorable</td>\n",
       "      <td>favorable</td>\n",
       "      <td>unfavorable</td>\n",
       "      <td>favorable</td>\n",
       "      <td>favorable</td>\n",
       "    </tr>\n",
       "    <tr>\n",
       "      <th>...</th>\n",
       "      <td>...</td>\n",
       "      <td>...</td>\n",
       "      <td>...</td>\n",
       "      <td>...</td>\n",
       "      <td>...</td>\n",
       "      <td>...</td>\n",
       "      <td>...</td>\n",
       "      <td>...</td>\n",
       "      <td>...</td>\n",
       "      <td>...</td>\n",
       "      <td>...</td>\n",
       "      <td>...</td>\n",
       "      <td>...</td>\n",
       "      <td>...</td>\n",
       "    </tr>\n",
       "    <tr>\n",
       "      <th>1153</th>\n",
       "      <td>review unavailable</td>\n",
       "      <td>review unavailable</td>\n",
       "      <td>review unavailable</td>\n",
       "      <td>review unavailable</td>\n",
       "      <td>review unavailable</td>\n",
       "      <td>review unavailable</td>\n",
       "      <td>review unavailable</td>\n",
       "      <td>review unavailable</td>\n",
       "      <td>review unavailable</td>\n",
       "      <td>review unavailable</td>\n",
       "      <td>review unavailable</td>\n",
       "      <td>review unavailable</td>\n",
       "      <td>review unavailable</td>\n",
       "      <td>review unavailable</td>\n",
       "    </tr>\n",
       "    <tr>\n",
       "      <th>1157</th>\n",
       "      <td>review unavailable</td>\n",
       "      <td>review unavailable</td>\n",
       "      <td>review unavailable</td>\n",
       "      <td>review unavailable</td>\n",
       "      <td>review unavailable</td>\n",
       "      <td>review unavailable</td>\n",
       "      <td>review unavailable</td>\n",
       "      <td>review unavailable</td>\n",
       "      <td>review unavailable</td>\n",
       "      <td>review unavailable</td>\n",
       "      <td>review unavailable</td>\n",
       "      <td>review unavailable</td>\n",
       "      <td>review unavailable</td>\n",
       "      <td>review unavailable</td>\n",
       "    </tr>\n",
       "    <tr>\n",
       "      <th>1164</th>\n",
       "      <td>favorable</td>\n",
       "      <td>favorable</td>\n",
       "      <td>favorable</td>\n",
       "      <td>favorable</td>\n",
       "      <td>favorable</td>\n",
       "      <td>favorable</td>\n",
       "      <td>unfavorable</td>\n",
       "      <td>favorable</td>\n",
       "      <td>neutral</td>\n",
       "      <td>favorable</td>\n",
       "      <td>favorable</td>\n",
       "      <td>unfavorable</td>\n",
       "      <td>unfavorable</td>\n",
       "      <td>neutral</td>\n",
       "    </tr>\n",
       "    <tr>\n",
       "      <th>1169</th>\n",
       "      <td>favorable</td>\n",
       "      <td>favorable</td>\n",
       "      <td>favorable</td>\n",
       "      <td>neutral</td>\n",
       "      <td>favorable</td>\n",
       "      <td>favorable</td>\n",
       "      <td>favorable</td>\n",
       "      <td>favorable</td>\n",
       "      <td>favorable</td>\n",
       "      <td>favorable</td>\n",
       "      <td>favorable</td>\n",
       "      <td>unfavorable</td>\n",
       "      <td>unfavorable</td>\n",
       "      <td>favorable</td>\n",
       "    </tr>\n",
       "    <tr>\n",
       "      <th>1177</th>\n",
       "      <td>favorable</td>\n",
       "      <td>favorable</td>\n",
       "      <td>favorable</td>\n",
       "      <td>favorable</td>\n",
       "      <td>favorable</td>\n",
       "      <td>neutral</td>\n",
       "      <td>neutral</td>\n",
       "      <td>neutral</td>\n",
       "      <td>neutral</td>\n",
       "      <td>favorable</td>\n",
       "      <td>favorable</td>\n",
       "      <td>favorable</td>\n",
       "      <td>neutral</td>\n",
       "      <td>favorable</td>\n",
       "    </tr>\n",
       "  </tbody>\n",
       "</table>\n",
       "<p>497 rows × 14 columns</p>\n",
       "</div>"
      ],
      "text/plain": [
       "                Han Solo      Luke Skywalker Princess Leia Organa  \\\n",
       "0              favorable           favorable            favorable   \n",
       "1     review unavailable  review unavailable   review unavailable   \n",
       "2              favorable           favorable            favorable   \n",
       "3              favorable           favorable            favorable   \n",
       "4              favorable           favorable            favorable   \n",
       "...                  ...                 ...                  ...   \n",
       "1153  review unavailable  review unavailable   review unavailable   \n",
       "1157  review unavailable  review unavailable   review unavailable   \n",
       "1164           favorable           favorable            favorable   \n",
       "1169           favorable           favorable            favorable   \n",
       "1177           favorable           favorable            favorable   \n",
       "\n",
       "        Anakin Skywalker      Obi Wan Kenobi   Emperor Palpatine  \\\n",
       "0              favorable           favorable           favorable   \n",
       "1     review unavailable  review unavailable  review unavailable   \n",
       "2              favorable           favorable             neutral   \n",
       "3              favorable           favorable           favorable   \n",
       "4            unfavorable           favorable         unfavorable   \n",
       "...                  ...                 ...                 ...   \n",
       "1153  review unavailable  review unavailable  review unavailable   \n",
       "1157  review unavailable  review unavailable  review unavailable   \n",
       "1164           favorable           favorable           favorable   \n",
       "1169             neutral           favorable           favorable   \n",
       "1177           favorable           favorable             neutral   \n",
       "\n",
       "             Darth Vader    Lando Calrissian           Boba Fett  \\\n",
       "0              favorable             neutral             neutral   \n",
       "1     review unavailable  review unavailable  review unavailable   \n",
       "2                neutral             neutral             neutral   \n",
       "3              favorable           favorable         unfavorable   \n",
       "4              favorable             neutral           favorable   \n",
       "...                  ...                 ...                 ...   \n",
       "1153  review unavailable  review unavailable  review unavailable   \n",
       "1157  review unavailable  review unavailable  review unavailable   \n",
       "1164         unfavorable           favorable             neutral   \n",
       "1169           favorable           favorable           favorable   \n",
       "1177             neutral             neutral             neutral   \n",
       "\n",
       "                   C-3P0               R2 D2       Jar Jar Binks  \\\n",
       "0              favorable           favorable           favorable   \n",
       "1     review unavailable  review unavailable  review unavailable   \n",
       "2                neutral             neutral             neutral   \n",
       "3              favorable           favorable           favorable   \n",
       "4              favorable           favorable         unfavorable   \n",
       "...                  ...                 ...                 ...   \n",
       "1153  review unavailable  review unavailable  review unavailable   \n",
       "1157  review unavailable  review unavailable  review unavailable   \n",
       "1164           favorable           favorable         unfavorable   \n",
       "1169           favorable           favorable         unfavorable   \n",
       "1177           favorable           favorable           favorable   \n",
       "\n",
       "           Padme Amidala                Yoda  \n",
       "0              favorable           favorable  \n",
       "1     review unavailable  review unavailable  \n",
       "2                neutral             neutral  \n",
       "3              favorable           favorable  \n",
       "4              favorable           favorable  \n",
       "...                  ...                 ...  \n",
       "1153  review unavailable  review unavailable  \n",
       "1157  review unavailable  review unavailable  \n",
       "1164         unfavorable             neutral  \n",
       "1169         unfavorable           favorable  \n",
       "1177             neutral           favorable  \n",
       "\n",
       "[497 rows x 14 columns]"
      ]
     },
     "execution_count": 62,
     "metadata": {},
     "output_type": "execute_result"
    }
   ],
   "source": [
    "characters_cols_males "
   ]
  },
  {
   "cell_type": "code",
   "execution_count": 63,
   "metadata": {},
   "outputs": [],
   "source": [
    "# Remove rows with 'review unavailable'\n",
    "\n",
    "characters_cols_males = characters_cols_males[~characters_cols_males.isin(['review unavailable']).any(axis=1)]"
   ]
  },
  {
   "cell_type": "code",
   "execution_count": 64,
   "metadata": {},
   "outputs": [],
   "source": [
    "characters_cols_females = characters_cols_females[~characters_cols_females.isin(['review unavailable']).any(axis=1)]"
   ]
  },
  {
   "cell_type": "code",
   "execution_count": 65,
   "metadata": {},
   "outputs": [
    {
     "name": "stdout",
     "output_type": "stream",
     "text": [
      "popularity_among_males=              Han Solo  Luke Skywalker  Princess Leia Organa  \\\n",
      "favorable    92.838875       91.815857             91.304348   \n",
      "neutral       5.882353        6.393862              7.161125   \n",
      "unfavorable   1.278772        1.790281              1.534527   \n",
      "\n",
      "             Anakin Skywalker  Obi Wan Kenobi  Emperor Palpatine  Darth Vader  \\\n",
      "favorable           59.335038       91.815857          39.130435    66.496164   \n",
      "neutral             23.017903        6.649616          37.851662    10.230179   \n",
      "unfavorable         17.647059        1.534527          23.017903    23.273657   \n",
      "\n",
      "             Lando Calrissian  Boba Fett      C-3P0      R2 D2  Jar Jar Binks  \\\n",
      "favorable           50.895141  44.501279  81.074169  87.468031      25.063939   \n",
      "neutral             39.897698  39.386189  13.299233   9.974425      29.156010   \n",
      "unfavorable          9.207161  16.112532   5.626598   2.557545      45.780051   \n",
      "\n",
      "             Padme Amidala       Yoda  \n",
      "favorable        43.478261  90.025575  \n",
      "neutral          42.966752   7.928389  \n",
      "unfavorable      13.554987   2.046036  \n",
      "popularity_among_females=              Han Solo  Luke Skywalker  Princess Leia Organa  \\\n",
      "favorable    91.242938       94.067797             91.242938   \n",
      "neutral       8.474576        4.519774              6.497175   \n",
      "unfavorable   0.282486        1.412429              2.259887   \n",
      "\n",
      "             Anakin Skywalker  Obi Wan Kenobi  Emperor Palpatine  Darth Vader  \\\n",
      "favorable           67.231638       91.807910          22.598870    51.129944   \n",
      "neutral             20.338983        7.062147          52.542373    11.299435   \n",
      "unfavorable         12.429379        1.129944          24.858757    37.570621   \n",
      "\n",
      "             Lando Calrissian  Boba Fett      C-3P0      R2 D2  Jar Jar Binks  \\\n",
      "favorable           39.265537  27.966102  88.983051  92.937853      33.050847   \n",
      "neutral             52.542373  53.954802   9.604520   6.214689      36.723164   \n",
      "unfavorable          8.192090  18.079096   1.412429   0.847458      30.225989   \n",
      "\n",
      "             Padme Amidala       Yoda  \n",
      "favorable        42.372881  92.655367  \n",
      "neutral          49.435028   5.932203  \n",
      "unfavorable       8.192090   1.412429  \n"
     ]
    },
    {
     "data": {
      "application/vnd.plotly.v1+json": {
       "config": {
        "plotlyServerURL": "https://plot.ly"
       },
       "data": [
        {
         "name": "favorable",
         "orientation": "h",
         "type": "bar",
         "x": [
          92.8388746803069,
          91.81585677749361,
          91.30434782608695,
          59.33503836317136,
          91.81585677749361,
          39.130434782608695,
          66.49616368286445,
          50.89514066496164,
          44.50127877237852,
          81.07416879795396,
          87.46803069053708,
          25.063938618925828,
          43.47826086956522,
          90.02557544757033
         ],
         "y": [
          "Han Solo",
          "Luke Skywalker",
          "Princess Leia Organa",
          "Anakin Skywalker",
          "Obi Wan Kenobi",
          "Emperor Palpatine",
          "Darth Vader",
          "Lando Calrissian",
          "Boba Fett",
          "C-3P0",
          "R2 D2",
          "Jar Jar Binks",
          "Padme Amidala",
          "Yoda"
         ]
        },
        {
         "name": "neutral",
         "orientation": "h",
         "type": "bar",
         "x": [
          5.88235294117647,
          6.3938618925831205,
          7.161125319693094,
          23.017902813299234,
          6.649616368286446,
          37.851662404092075,
          10.230179028132993,
          39.89769820971867,
          39.38618925831202,
          13.299232736572892,
          9.974424552429667,
          29.15601023017903,
          42.96675191815857,
          7.928388746803069
         ],
         "y": [
          "Han Solo",
          "Luke Skywalker",
          "Princess Leia Organa",
          "Anakin Skywalker",
          "Obi Wan Kenobi",
          "Emperor Palpatine",
          "Darth Vader",
          "Lando Calrissian",
          "Boba Fett",
          "C-3P0",
          "R2 D2",
          "Jar Jar Binks",
          "Padme Amidala",
          "Yoda"
         ]
        },
        {
         "name": "unfavorable",
         "orientation": "h",
         "type": "bar",
         "x": [
          1.278772378516624,
          1.7902813299232736,
          1.5345268542199488,
          17.647058823529413,
          1.5345268542199488,
          23.017902813299234,
          23.273657289002557,
          9.207161125319693,
          16.11253196930946,
          5.626598465473146,
          2.557544757033248,
          45.78005115089514,
          13.554987212276215,
          2.0460358056265986
         ],
         "y": [
          "Han Solo",
          "Luke Skywalker",
          "Princess Leia Organa",
          "Anakin Skywalker",
          "Obi Wan Kenobi",
          "Emperor Palpatine",
          "Darth Vader",
          "Lando Calrissian",
          "Boba Fett",
          "C-3P0",
          "R2 D2",
          "Jar Jar Binks",
          "Padme Amidala",
          "Yoda"
         ]
        }
       ],
       "layout": {
        "barmode": "stack",
        "height": 400,
        "template": {
         "data": {
          "bar": [
           {
            "error_x": {
             "color": "#2a3f5f"
            },
            "error_y": {
             "color": "#2a3f5f"
            },
            "marker": {
             "line": {
              "color": "#E5ECF6",
              "width": 0.5
             },
             "pattern": {
              "fillmode": "overlay",
              "size": 10,
              "solidity": 0.2
             }
            },
            "type": "bar"
           }
          ],
          "barpolar": [
           {
            "marker": {
             "line": {
              "color": "#E5ECF6",
              "width": 0.5
             },
             "pattern": {
              "fillmode": "overlay",
              "size": 10,
              "solidity": 0.2
             }
            },
            "type": "barpolar"
           }
          ],
          "carpet": [
           {
            "aaxis": {
             "endlinecolor": "#2a3f5f",
             "gridcolor": "white",
             "linecolor": "white",
             "minorgridcolor": "white",
             "startlinecolor": "#2a3f5f"
            },
            "baxis": {
             "endlinecolor": "#2a3f5f",
             "gridcolor": "white",
             "linecolor": "white",
             "minorgridcolor": "white",
             "startlinecolor": "#2a3f5f"
            },
            "type": "carpet"
           }
          ],
          "choropleth": [
           {
            "colorbar": {
             "outlinewidth": 0,
             "ticks": ""
            },
            "type": "choropleth"
           }
          ],
          "contour": [
           {
            "colorbar": {
             "outlinewidth": 0,
             "ticks": ""
            },
            "colorscale": [
             [
              0,
              "#0d0887"
             ],
             [
              0.1111111111111111,
              "#46039f"
             ],
             [
              0.2222222222222222,
              "#7201a8"
             ],
             [
              0.3333333333333333,
              "#9c179e"
             ],
             [
              0.4444444444444444,
              "#bd3786"
             ],
             [
              0.5555555555555556,
              "#d8576b"
             ],
             [
              0.6666666666666666,
              "#ed7953"
             ],
             [
              0.7777777777777778,
              "#fb9f3a"
             ],
             [
              0.8888888888888888,
              "#fdca26"
             ],
             [
              1,
              "#f0f921"
             ]
            ],
            "type": "contour"
           }
          ],
          "contourcarpet": [
           {
            "colorbar": {
             "outlinewidth": 0,
             "ticks": ""
            },
            "type": "contourcarpet"
           }
          ],
          "heatmap": [
           {
            "colorbar": {
             "outlinewidth": 0,
             "ticks": ""
            },
            "colorscale": [
             [
              0,
              "#0d0887"
             ],
             [
              0.1111111111111111,
              "#46039f"
             ],
             [
              0.2222222222222222,
              "#7201a8"
             ],
             [
              0.3333333333333333,
              "#9c179e"
             ],
             [
              0.4444444444444444,
              "#bd3786"
             ],
             [
              0.5555555555555556,
              "#d8576b"
             ],
             [
              0.6666666666666666,
              "#ed7953"
             ],
             [
              0.7777777777777778,
              "#fb9f3a"
             ],
             [
              0.8888888888888888,
              "#fdca26"
             ],
             [
              1,
              "#f0f921"
             ]
            ],
            "type": "heatmap"
           }
          ],
          "heatmapgl": [
           {
            "colorbar": {
             "outlinewidth": 0,
             "ticks": ""
            },
            "colorscale": [
             [
              0,
              "#0d0887"
             ],
             [
              0.1111111111111111,
              "#46039f"
             ],
             [
              0.2222222222222222,
              "#7201a8"
             ],
             [
              0.3333333333333333,
              "#9c179e"
             ],
             [
              0.4444444444444444,
              "#bd3786"
             ],
             [
              0.5555555555555556,
              "#d8576b"
             ],
             [
              0.6666666666666666,
              "#ed7953"
             ],
             [
              0.7777777777777778,
              "#fb9f3a"
             ],
             [
              0.8888888888888888,
              "#fdca26"
             ],
             [
              1,
              "#f0f921"
             ]
            ],
            "type": "heatmapgl"
           }
          ],
          "histogram": [
           {
            "marker": {
             "pattern": {
              "fillmode": "overlay",
              "size": 10,
              "solidity": 0.2
             }
            },
            "type": "histogram"
           }
          ],
          "histogram2d": [
           {
            "colorbar": {
             "outlinewidth": 0,
             "ticks": ""
            },
            "colorscale": [
             [
              0,
              "#0d0887"
             ],
             [
              0.1111111111111111,
              "#46039f"
             ],
             [
              0.2222222222222222,
              "#7201a8"
             ],
             [
              0.3333333333333333,
              "#9c179e"
             ],
             [
              0.4444444444444444,
              "#bd3786"
             ],
             [
              0.5555555555555556,
              "#d8576b"
             ],
             [
              0.6666666666666666,
              "#ed7953"
             ],
             [
              0.7777777777777778,
              "#fb9f3a"
             ],
             [
              0.8888888888888888,
              "#fdca26"
             ],
             [
              1,
              "#f0f921"
             ]
            ],
            "type": "histogram2d"
           }
          ],
          "histogram2dcontour": [
           {
            "colorbar": {
             "outlinewidth": 0,
             "ticks": ""
            },
            "colorscale": [
             [
              0,
              "#0d0887"
             ],
             [
              0.1111111111111111,
              "#46039f"
             ],
             [
              0.2222222222222222,
              "#7201a8"
             ],
             [
              0.3333333333333333,
              "#9c179e"
             ],
             [
              0.4444444444444444,
              "#bd3786"
             ],
             [
              0.5555555555555556,
              "#d8576b"
             ],
             [
              0.6666666666666666,
              "#ed7953"
             ],
             [
              0.7777777777777778,
              "#fb9f3a"
             ],
             [
              0.8888888888888888,
              "#fdca26"
             ],
             [
              1,
              "#f0f921"
             ]
            ],
            "type": "histogram2dcontour"
           }
          ],
          "mesh3d": [
           {
            "colorbar": {
             "outlinewidth": 0,
             "ticks": ""
            },
            "type": "mesh3d"
           }
          ],
          "parcoords": [
           {
            "line": {
             "colorbar": {
              "outlinewidth": 0,
              "ticks": ""
             }
            },
            "type": "parcoords"
           }
          ],
          "pie": [
           {
            "automargin": true,
            "type": "pie"
           }
          ],
          "scatter": [
           {
            "fillpattern": {
             "fillmode": "overlay",
             "size": 10,
             "solidity": 0.2
            },
            "type": "scatter"
           }
          ],
          "scatter3d": [
           {
            "line": {
             "colorbar": {
              "outlinewidth": 0,
              "ticks": ""
             }
            },
            "marker": {
             "colorbar": {
              "outlinewidth": 0,
              "ticks": ""
             }
            },
            "type": "scatter3d"
           }
          ],
          "scattercarpet": [
           {
            "marker": {
             "colorbar": {
              "outlinewidth": 0,
              "ticks": ""
             }
            },
            "type": "scattercarpet"
           }
          ],
          "scattergeo": [
           {
            "marker": {
             "colorbar": {
              "outlinewidth": 0,
              "ticks": ""
             }
            },
            "type": "scattergeo"
           }
          ],
          "scattergl": [
           {
            "marker": {
             "colorbar": {
              "outlinewidth": 0,
              "ticks": ""
             }
            },
            "type": "scattergl"
           }
          ],
          "scattermapbox": [
           {
            "marker": {
             "colorbar": {
              "outlinewidth": 0,
              "ticks": ""
             }
            },
            "type": "scattermapbox"
           }
          ],
          "scatterpolar": [
           {
            "marker": {
             "colorbar": {
              "outlinewidth": 0,
              "ticks": ""
             }
            },
            "type": "scatterpolar"
           }
          ],
          "scatterpolargl": [
           {
            "marker": {
             "colorbar": {
              "outlinewidth": 0,
              "ticks": ""
             }
            },
            "type": "scatterpolargl"
           }
          ],
          "scatterternary": [
           {
            "marker": {
             "colorbar": {
              "outlinewidth": 0,
              "ticks": ""
             }
            },
            "type": "scatterternary"
           }
          ],
          "surface": [
           {
            "colorbar": {
             "outlinewidth": 0,
             "ticks": ""
            },
            "colorscale": [
             [
              0,
              "#0d0887"
             ],
             [
              0.1111111111111111,
              "#46039f"
             ],
             [
              0.2222222222222222,
              "#7201a8"
             ],
             [
              0.3333333333333333,
              "#9c179e"
             ],
             [
              0.4444444444444444,
              "#bd3786"
             ],
             [
              0.5555555555555556,
              "#d8576b"
             ],
             [
              0.6666666666666666,
              "#ed7953"
             ],
             [
              0.7777777777777778,
              "#fb9f3a"
             ],
             [
              0.8888888888888888,
              "#fdca26"
             ],
             [
              1,
              "#f0f921"
             ]
            ],
            "type": "surface"
           }
          ],
          "table": [
           {
            "cells": {
             "fill": {
              "color": "#EBF0F8"
             },
             "line": {
              "color": "white"
             }
            },
            "header": {
             "fill": {
              "color": "#C8D4E3"
             },
             "line": {
              "color": "white"
             }
            },
            "type": "table"
           }
          ]
         },
         "layout": {
          "annotationdefaults": {
           "arrowcolor": "#2a3f5f",
           "arrowhead": 0,
           "arrowwidth": 1
          },
          "autotypenumbers": "strict",
          "coloraxis": {
           "colorbar": {
            "outlinewidth": 0,
            "ticks": ""
           }
          },
          "colorscale": {
           "diverging": [
            [
             0,
             "#8e0152"
            ],
            [
             0.1,
             "#c51b7d"
            ],
            [
             0.2,
             "#de77ae"
            ],
            [
             0.3,
             "#f1b6da"
            ],
            [
             0.4,
             "#fde0ef"
            ],
            [
             0.5,
             "#f7f7f7"
            ],
            [
             0.6,
             "#e6f5d0"
            ],
            [
             0.7,
             "#b8e186"
            ],
            [
             0.8,
             "#7fbc41"
            ],
            [
             0.9,
             "#4d9221"
            ],
            [
             1,
             "#276419"
            ]
           ],
           "sequential": [
            [
             0,
             "#0d0887"
            ],
            [
             0.1111111111111111,
             "#46039f"
            ],
            [
             0.2222222222222222,
             "#7201a8"
            ],
            [
             0.3333333333333333,
             "#9c179e"
            ],
            [
             0.4444444444444444,
             "#bd3786"
            ],
            [
             0.5555555555555556,
             "#d8576b"
            ],
            [
             0.6666666666666666,
             "#ed7953"
            ],
            [
             0.7777777777777778,
             "#fb9f3a"
            ],
            [
             0.8888888888888888,
             "#fdca26"
            ],
            [
             1,
             "#f0f921"
            ]
           ],
           "sequentialminus": [
            [
             0,
             "#0d0887"
            ],
            [
             0.1111111111111111,
             "#46039f"
            ],
            [
             0.2222222222222222,
             "#7201a8"
            ],
            [
             0.3333333333333333,
             "#9c179e"
            ],
            [
             0.4444444444444444,
             "#bd3786"
            ],
            [
             0.5555555555555556,
             "#d8576b"
            ],
            [
             0.6666666666666666,
             "#ed7953"
            ],
            [
             0.7777777777777778,
             "#fb9f3a"
            ],
            [
             0.8888888888888888,
             "#fdca26"
            ],
            [
             1,
             "#f0f921"
            ]
           ]
          },
          "colorway": [
           "#636efa",
           "#EF553B",
           "#00cc96",
           "#ab63fa",
           "#FFA15A",
           "#19d3f3",
           "#FF6692",
           "#B6E880",
           "#FF97FF",
           "#FECB52"
          ],
          "font": {
           "color": "#2a3f5f"
          },
          "geo": {
           "bgcolor": "white",
           "lakecolor": "white",
           "landcolor": "#E5ECF6",
           "showlakes": true,
           "showland": true,
           "subunitcolor": "white"
          },
          "hoverlabel": {
           "align": "left"
          },
          "hovermode": "closest",
          "mapbox": {
           "style": "light"
          },
          "paper_bgcolor": "white",
          "plot_bgcolor": "#E5ECF6",
          "polar": {
           "angularaxis": {
            "gridcolor": "white",
            "linecolor": "white",
            "ticks": ""
           },
           "bgcolor": "#E5ECF6",
           "radialaxis": {
            "gridcolor": "white",
            "linecolor": "white",
            "ticks": ""
           }
          },
          "scene": {
           "xaxis": {
            "backgroundcolor": "#E5ECF6",
            "gridcolor": "white",
            "gridwidth": 2,
            "linecolor": "white",
            "showbackground": true,
            "ticks": "",
            "zerolinecolor": "white"
           },
           "yaxis": {
            "backgroundcolor": "#E5ECF6",
            "gridcolor": "white",
            "gridwidth": 2,
            "linecolor": "white",
            "showbackground": true,
            "ticks": "",
            "zerolinecolor": "white"
           },
           "zaxis": {
            "backgroundcolor": "#E5ECF6",
            "gridcolor": "white",
            "gridwidth": 2,
            "linecolor": "white",
            "showbackground": true,
            "ticks": "",
            "zerolinecolor": "white"
           }
          },
          "shapedefaults": {
           "line": {
            "color": "#2a3f5f"
           }
          },
          "ternary": {
           "aaxis": {
            "gridcolor": "white",
            "linecolor": "white",
            "ticks": ""
           },
           "baxis": {
            "gridcolor": "white",
            "linecolor": "white",
            "ticks": ""
           },
           "bgcolor": "#E5ECF6",
           "caxis": {
            "gridcolor": "white",
            "linecolor": "white",
            "ticks": ""
           }
          },
          "title": {
           "x": 0.05
          },
          "xaxis": {
           "automargin": true,
           "gridcolor": "white",
           "linecolor": "white",
           "ticks": "",
           "title": {
            "standoff": 15
           },
           "zerolinecolor": "white",
           "zerolinewidth": 2
          },
          "yaxis": {
           "automargin": true,
           "gridcolor": "white",
           "linecolor": "white",
           "ticks": "",
           "title": {
            "standoff": 15
           },
           "zerolinecolor": "white",
           "zerolinewidth": 2
          }
         }
        },
        "title": {
         "text": "Popularity of Star Wars Characters Among Males"
        },
        "width": 1000,
        "xaxis": {
         "title": {
          "text": "Count Percentage"
         }
        },
        "yaxis": {
         "title": {
          "text": "Character"
         }
        }
       }
      }
     },
     "metadata": {},
     "output_type": "display_data"
    },
    {
     "data": {
      "application/vnd.plotly.v1+json": {
       "config": {
        "plotlyServerURL": "https://plot.ly"
       },
       "data": [
        {
         "name": "favorable",
         "orientation": "h",
         "type": "bar",
         "x": [
          91.24293785310734,
          94.0677966101695,
          91.24293785310734,
          67.2316384180791,
          91.80790960451978,
          22.598870056497177,
          51.12994350282486,
          39.26553672316384,
          27.966101694915253,
          88.98305084745762,
          92.93785310734464,
          33.05084745762712,
          42.3728813559322,
          92.65536723163842
         ],
         "y": [
          "Han Solo",
          "Luke Skywalker",
          "Princess Leia Organa",
          "Anakin Skywalker",
          "Obi Wan Kenobi",
          "Emperor Palpatine",
          "Darth Vader",
          "Lando Calrissian",
          "Boba Fett",
          "C-3P0",
          "R2 D2",
          "Jar Jar Binks",
          "Padme Amidala",
          "Yoda"
         ]
        },
        {
         "name": "neutral",
         "orientation": "h",
         "type": "bar",
         "x": [
          8.47457627118644,
          4.519774011299435,
          6.497175141242938,
          20.33898305084746,
          7.062146892655368,
          52.54237288135594,
          11.299435028248588,
          52.54237288135594,
          53.954802259887,
          9.6045197740113,
          6.214689265536723,
          36.72316384180791,
          49.43502824858757,
          5.932203389830509
         ],
         "y": [
          "Han Solo",
          "Luke Skywalker",
          "Princess Leia Organa",
          "Anakin Skywalker",
          "Obi Wan Kenobi",
          "Emperor Palpatine",
          "Darth Vader",
          "Lando Calrissian",
          "Boba Fett",
          "C-3P0",
          "R2 D2",
          "Jar Jar Binks",
          "Padme Amidala",
          "Yoda"
         ]
        },
        {
         "name": "unfavorable",
         "orientation": "h",
         "type": "bar",
         "x": [
          0.2824858757062147,
          1.4124293785310735,
          2.2598870056497176,
          12.429378531073446,
          1.1299435028248588,
          24.858757062146893,
          37.570621468926554,
          8.192090395480225,
          18.07909604519774,
          1.4124293785310735,
          0.847457627118644,
          30.225988700564972,
          8.192090395480225,
          1.4124293785310735
         ],
         "y": [
          "Han Solo",
          "Luke Skywalker",
          "Princess Leia Organa",
          "Anakin Skywalker",
          "Obi Wan Kenobi",
          "Emperor Palpatine",
          "Darth Vader",
          "Lando Calrissian",
          "Boba Fett",
          "C-3P0",
          "R2 D2",
          "Jar Jar Binks",
          "Padme Amidala",
          "Yoda"
         ]
        }
       ],
       "layout": {
        "barmode": "stack",
        "height": 400,
        "template": {
         "data": {
          "bar": [
           {
            "error_x": {
             "color": "#2a3f5f"
            },
            "error_y": {
             "color": "#2a3f5f"
            },
            "marker": {
             "line": {
              "color": "#E5ECF6",
              "width": 0.5
             },
             "pattern": {
              "fillmode": "overlay",
              "size": 10,
              "solidity": 0.2
             }
            },
            "type": "bar"
           }
          ],
          "barpolar": [
           {
            "marker": {
             "line": {
              "color": "#E5ECF6",
              "width": 0.5
             },
             "pattern": {
              "fillmode": "overlay",
              "size": 10,
              "solidity": 0.2
             }
            },
            "type": "barpolar"
           }
          ],
          "carpet": [
           {
            "aaxis": {
             "endlinecolor": "#2a3f5f",
             "gridcolor": "white",
             "linecolor": "white",
             "minorgridcolor": "white",
             "startlinecolor": "#2a3f5f"
            },
            "baxis": {
             "endlinecolor": "#2a3f5f",
             "gridcolor": "white",
             "linecolor": "white",
             "minorgridcolor": "white",
             "startlinecolor": "#2a3f5f"
            },
            "type": "carpet"
           }
          ],
          "choropleth": [
           {
            "colorbar": {
             "outlinewidth": 0,
             "ticks": ""
            },
            "type": "choropleth"
           }
          ],
          "contour": [
           {
            "colorbar": {
             "outlinewidth": 0,
             "ticks": ""
            },
            "colorscale": [
             [
              0,
              "#0d0887"
             ],
             [
              0.1111111111111111,
              "#46039f"
             ],
             [
              0.2222222222222222,
              "#7201a8"
             ],
             [
              0.3333333333333333,
              "#9c179e"
             ],
             [
              0.4444444444444444,
              "#bd3786"
             ],
             [
              0.5555555555555556,
              "#d8576b"
             ],
             [
              0.6666666666666666,
              "#ed7953"
             ],
             [
              0.7777777777777778,
              "#fb9f3a"
             ],
             [
              0.8888888888888888,
              "#fdca26"
             ],
             [
              1,
              "#f0f921"
             ]
            ],
            "type": "contour"
           }
          ],
          "contourcarpet": [
           {
            "colorbar": {
             "outlinewidth": 0,
             "ticks": ""
            },
            "type": "contourcarpet"
           }
          ],
          "heatmap": [
           {
            "colorbar": {
             "outlinewidth": 0,
             "ticks": ""
            },
            "colorscale": [
             [
              0,
              "#0d0887"
             ],
             [
              0.1111111111111111,
              "#46039f"
             ],
             [
              0.2222222222222222,
              "#7201a8"
             ],
             [
              0.3333333333333333,
              "#9c179e"
             ],
             [
              0.4444444444444444,
              "#bd3786"
             ],
             [
              0.5555555555555556,
              "#d8576b"
             ],
             [
              0.6666666666666666,
              "#ed7953"
             ],
             [
              0.7777777777777778,
              "#fb9f3a"
             ],
             [
              0.8888888888888888,
              "#fdca26"
             ],
             [
              1,
              "#f0f921"
             ]
            ],
            "type": "heatmap"
           }
          ],
          "heatmapgl": [
           {
            "colorbar": {
             "outlinewidth": 0,
             "ticks": ""
            },
            "colorscale": [
             [
              0,
              "#0d0887"
             ],
             [
              0.1111111111111111,
              "#46039f"
             ],
             [
              0.2222222222222222,
              "#7201a8"
             ],
             [
              0.3333333333333333,
              "#9c179e"
             ],
             [
              0.4444444444444444,
              "#bd3786"
             ],
             [
              0.5555555555555556,
              "#d8576b"
             ],
             [
              0.6666666666666666,
              "#ed7953"
             ],
             [
              0.7777777777777778,
              "#fb9f3a"
             ],
             [
              0.8888888888888888,
              "#fdca26"
             ],
             [
              1,
              "#f0f921"
             ]
            ],
            "type": "heatmapgl"
           }
          ],
          "histogram": [
           {
            "marker": {
             "pattern": {
              "fillmode": "overlay",
              "size": 10,
              "solidity": 0.2
             }
            },
            "type": "histogram"
           }
          ],
          "histogram2d": [
           {
            "colorbar": {
             "outlinewidth": 0,
             "ticks": ""
            },
            "colorscale": [
             [
              0,
              "#0d0887"
             ],
             [
              0.1111111111111111,
              "#46039f"
             ],
             [
              0.2222222222222222,
              "#7201a8"
             ],
             [
              0.3333333333333333,
              "#9c179e"
             ],
             [
              0.4444444444444444,
              "#bd3786"
             ],
             [
              0.5555555555555556,
              "#d8576b"
             ],
             [
              0.6666666666666666,
              "#ed7953"
             ],
             [
              0.7777777777777778,
              "#fb9f3a"
             ],
             [
              0.8888888888888888,
              "#fdca26"
             ],
             [
              1,
              "#f0f921"
             ]
            ],
            "type": "histogram2d"
           }
          ],
          "histogram2dcontour": [
           {
            "colorbar": {
             "outlinewidth": 0,
             "ticks": ""
            },
            "colorscale": [
             [
              0,
              "#0d0887"
             ],
             [
              0.1111111111111111,
              "#46039f"
             ],
             [
              0.2222222222222222,
              "#7201a8"
             ],
             [
              0.3333333333333333,
              "#9c179e"
             ],
             [
              0.4444444444444444,
              "#bd3786"
             ],
             [
              0.5555555555555556,
              "#d8576b"
             ],
             [
              0.6666666666666666,
              "#ed7953"
             ],
             [
              0.7777777777777778,
              "#fb9f3a"
             ],
             [
              0.8888888888888888,
              "#fdca26"
             ],
             [
              1,
              "#f0f921"
             ]
            ],
            "type": "histogram2dcontour"
           }
          ],
          "mesh3d": [
           {
            "colorbar": {
             "outlinewidth": 0,
             "ticks": ""
            },
            "type": "mesh3d"
           }
          ],
          "parcoords": [
           {
            "line": {
             "colorbar": {
              "outlinewidth": 0,
              "ticks": ""
             }
            },
            "type": "parcoords"
           }
          ],
          "pie": [
           {
            "automargin": true,
            "type": "pie"
           }
          ],
          "scatter": [
           {
            "fillpattern": {
             "fillmode": "overlay",
             "size": 10,
             "solidity": 0.2
            },
            "type": "scatter"
           }
          ],
          "scatter3d": [
           {
            "line": {
             "colorbar": {
              "outlinewidth": 0,
              "ticks": ""
             }
            },
            "marker": {
             "colorbar": {
              "outlinewidth": 0,
              "ticks": ""
             }
            },
            "type": "scatter3d"
           }
          ],
          "scattercarpet": [
           {
            "marker": {
             "colorbar": {
              "outlinewidth": 0,
              "ticks": ""
             }
            },
            "type": "scattercarpet"
           }
          ],
          "scattergeo": [
           {
            "marker": {
             "colorbar": {
              "outlinewidth": 0,
              "ticks": ""
             }
            },
            "type": "scattergeo"
           }
          ],
          "scattergl": [
           {
            "marker": {
             "colorbar": {
              "outlinewidth": 0,
              "ticks": ""
             }
            },
            "type": "scattergl"
           }
          ],
          "scattermapbox": [
           {
            "marker": {
             "colorbar": {
              "outlinewidth": 0,
              "ticks": ""
             }
            },
            "type": "scattermapbox"
           }
          ],
          "scatterpolar": [
           {
            "marker": {
             "colorbar": {
              "outlinewidth": 0,
              "ticks": ""
             }
            },
            "type": "scatterpolar"
           }
          ],
          "scatterpolargl": [
           {
            "marker": {
             "colorbar": {
              "outlinewidth": 0,
              "ticks": ""
             }
            },
            "type": "scatterpolargl"
           }
          ],
          "scatterternary": [
           {
            "marker": {
             "colorbar": {
              "outlinewidth": 0,
              "ticks": ""
             }
            },
            "type": "scatterternary"
           }
          ],
          "surface": [
           {
            "colorbar": {
             "outlinewidth": 0,
             "ticks": ""
            },
            "colorscale": [
             [
              0,
              "#0d0887"
             ],
             [
              0.1111111111111111,
              "#46039f"
             ],
             [
              0.2222222222222222,
              "#7201a8"
             ],
             [
              0.3333333333333333,
              "#9c179e"
             ],
             [
              0.4444444444444444,
              "#bd3786"
             ],
             [
              0.5555555555555556,
              "#d8576b"
             ],
             [
              0.6666666666666666,
              "#ed7953"
             ],
             [
              0.7777777777777778,
              "#fb9f3a"
             ],
             [
              0.8888888888888888,
              "#fdca26"
             ],
             [
              1,
              "#f0f921"
             ]
            ],
            "type": "surface"
           }
          ],
          "table": [
           {
            "cells": {
             "fill": {
              "color": "#EBF0F8"
             },
             "line": {
              "color": "white"
             }
            },
            "header": {
             "fill": {
              "color": "#C8D4E3"
             },
             "line": {
              "color": "white"
             }
            },
            "type": "table"
           }
          ]
         },
         "layout": {
          "annotationdefaults": {
           "arrowcolor": "#2a3f5f",
           "arrowhead": 0,
           "arrowwidth": 1
          },
          "autotypenumbers": "strict",
          "coloraxis": {
           "colorbar": {
            "outlinewidth": 0,
            "ticks": ""
           }
          },
          "colorscale": {
           "diverging": [
            [
             0,
             "#8e0152"
            ],
            [
             0.1,
             "#c51b7d"
            ],
            [
             0.2,
             "#de77ae"
            ],
            [
             0.3,
             "#f1b6da"
            ],
            [
             0.4,
             "#fde0ef"
            ],
            [
             0.5,
             "#f7f7f7"
            ],
            [
             0.6,
             "#e6f5d0"
            ],
            [
             0.7,
             "#b8e186"
            ],
            [
             0.8,
             "#7fbc41"
            ],
            [
             0.9,
             "#4d9221"
            ],
            [
             1,
             "#276419"
            ]
           ],
           "sequential": [
            [
             0,
             "#0d0887"
            ],
            [
             0.1111111111111111,
             "#46039f"
            ],
            [
             0.2222222222222222,
             "#7201a8"
            ],
            [
             0.3333333333333333,
             "#9c179e"
            ],
            [
             0.4444444444444444,
             "#bd3786"
            ],
            [
             0.5555555555555556,
             "#d8576b"
            ],
            [
             0.6666666666666666,
             "#ed7953"
            ],
            [
             0.7777777777777778,
             "#fb9f3a"
            ],
            [
             0.8888888888888888,
             "#fdca26"
            ],
            [
             1,
             "#f0f921"
            ]
           ],
           "sequentialminus": [
            [
             0,
             "#0d0887"
            ],
            [
             0.1111111111111111,
             "#46039f"
            ],
            [
             0.2222222222222222,
             "#7201a8"
            ],
            [
             0.3333333333333333,
             "#9c179e"
            ],
            [
             0.4444444444444444,
             "#bd3786"
            ],
            [
             0.5555555555555556,
             "#d8576b"
            ],
            [
             0.6666666666666666,
             "#ed7953"
            ],
            [
             0.7777777777777778,
             "#fb9f3a"
            ],
            [
             0.8888888888888888,
             "#fdca26"
            ],
            [
             1,
             "#f0f921"
            ]
           ]
          },
          "colorway": [
           "#636efa",
           "#EF553B",
           "#00cc96",
           "#ab63fa",
           "#FFA15A",
           "#19d3f3",
           "#FF6692",
           "#B6E880",
           "#FF97FF",
           "#FECB52"
          ],
          "font": {
           "color": "#2a3f5f"
          },
          "geo": {
           "bgcolor": "white",
           "lakecolor": "white",
           "landcolor": "#E5ECF6",
           "showlakes": true,
           "showland": true,
           "subunitcolor": "white"
          },
          "hoverlabel": {
           "align": "left"
          },
          "hovermode": "closest",
          "mapbox": {
           "style": "light"
          },
          "paper_bgcolor": "white",
          "plot_bgcolor": "#E5ECF6",
          "polar": {
           "angularaxis": {
            "gridcolor": "white",
            "linecolor": "white",
            "ticks": ""
           },
           "bgcolor": "#E5ECF6",
           "radialaxis": {
            "gridcolor": "white",
            "linecolor": "white",
            "ticks": ""
           }
          },
          "scene": {
           "xaxis": {
            "backgroundcolor": "#E5ECF6",
            "gridcolor": "white",
            "gridwidth": 2,
            "linecolor": "white",
            "showbackground": true,
            "ticks": "",
            "zerolinecolor": "white"
           },
           "yaxis": {
            "backgroundcolor": "#E5ECF6",
            "gridcolor": "white",
            "gridwidth": 2,
            "linecolor": "white",
            "showbackground": true,
            "ticks": "",
            "zerolinecolor": "white"
           },
           "zaxis": {
            "backgroundcolor": "#E5ECF6",
            "gridcolor": "white",
            "gridwidth": 2,
            "linecolor": "white",
            "showbackground": true,
            "ticks": "",
            "zerolinecolor": "white"
           }
          },
          "shapedefaults": {
           "line": {
            "color": "#2a3f5f"
           }
          },
          "ternary": {
           "aaxis": {
            "gridcolor": "white",
            "linecolor": "white",
            "ticks": ""
           },
           "baxis": {
            "gridcolor": "white",
            "linecolor": "white",
            "ticks": ""
           },
           "bgcolor": "#E5ECF6",
           "caxis": {
            "gridcolor": "white",
            "linecolor": "white",
            "ticks": ""
           }
          },
          "title": {
           "x": 0.05
          },
          "xaxis": {
           "automargin": true,
           "gridcolor": "white",
           "linecolor": "white",
           "ticks": "",
           "title": {
            "standoff": 15
           },
           "zerolinecolor": "white",
           "zerolinewidth": 2
          },
          "yaxis": {
           "automargin": true,
           "gridcolor": "white",
           "linecolor": "white",
           "ticks": "",
           "title": {
            "standoff": 15
           },
           "zerolinecolor": "white",
           "zerolinewidth": 2
          }
         }
        },
        "title": {
         "text": "Popularity of Star Wars Characters Among Females"
        },
        "width": 1000,
        "xaxis": {
         "title": {
          "text": "Count Percentage"
         }
        },
        "yaxis": {
         "title": {
          "text": "Character"
         }
        }
       }
      }
     },
     "metadata": {},
     "output_type": "display_data"
    }
   ],
   "source": [
    "# Plot \n",
    "popularity_plot(characters_cols_males, characters_cols_females, categories = ['favorable', 'neutral', 'unfavorable'])"
   ]
  },
  {
   "cell_type": "markdown",
   "metadata": {},
   "source": [
    "From the above two plots:\n",
    "\n",
    "Among males:\n",
    "\n",
    "Protagonists like Han Solo, Luke Skywalker, and Obi-Wan Kenobi are overwhelmingly favored, with around 90% or more giving them favorable ratings.\n",
    "Antagonists like Emperor Palpatine and Darth Vader receive more mixed reactions. Darth Vader, for instance, has a 66.5% favorable rating but also a significant 23.3% unfavorable rating.\n",
    "Jar Jar Binks stands out with a very low favorability (25.1%) and the highest unfavorable rating (45.8%), indicating a strong dislike.\n",
    "\n",
    "Among females:\n",
    "\n",
    "Protagonists also fare well among females, with similar high favorability ratings. Luke Skywalker, for example, has an impressive 94% favorability.\n",
    "Antagonists like Emperor Palpatine and Darth Vader again have divided opinions. Darth Vader is less favored (51.1%) compared to males, with a notably higher unfavorable rating (37.6%).\n",
    "Jar Jar Binks is less disliked among females than males, but still receives a relatively low favorability (33.1%).\n",
    "\n",
    "Overall, males tend to have stronger opinions, with more polarized views on characters, especially the antagonists. Females show slightly higher favorability for major protagonists but display more neutrality towards some antagonists and side characters. Characters like Jar Jar Binks are generally disliked, but the intensity of this dislike varies significantly between genders."
   ]
  }
 ],
 "metadata": {
  "kernelspec": {
   "display_name": "Python 3 (ipykernel)",
   "language": "python",
   "name": "python3"
  },
  "language_info": {
   "codemirror_mode": {
    "name": "ipython",
    "version": 3
   },
   "file_extension": ".py",
   "mimetype": "text/x-python",
   "name": "python",
   "nbconvert_exporter": "python",
   "pygments_lexer": "ipython3",
   "version": "3.12.5"
  }
 },
 "nbformat": 4,
 "nbformat_minor": 2
}
